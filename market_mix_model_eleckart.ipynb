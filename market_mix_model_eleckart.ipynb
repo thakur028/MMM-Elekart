{
  "cells": [
    {
      "cell_type": "markdown",
      "metadata": {
        "id": "view-in-github",
        "colab_type": "text"
      },
      "source": [
        "<a href=\"https://colab.research.google.com/github/thakur028/MMM-Elekart/blob/main/market_mix_model_eleckart.ipynb\" target=\"_parent\"><img src=\"https://colab.research.google.com/assets/colab-badge.svg\" alt=\"Open In Colab\"/></a>"
      ]
    },
    {
      "cell_type": "markdown",
      "metadata": {
        "heading_collapsed": true,
        "id": "AufQ3dEjPi74"
      },
      "source": [
        "# Problem Statement"
      ]
    },
    {
      "cell_type": "markdown",
      "metadata": {
        "hidden": true,
        "id": "bhfoP54HPi7-"
      },
      "source": [
        "ElecKarts is an e-commerce firm based out of Ontario, Canada specialising in electronic products. Over the last one year, they had spent a significant amount of money on marketing. Occasionally, they had also offered big-ticket promotions (similar to the Big Billion Day). They are about to create a marketing budget for the next year, which includes spending on commercials, online campaigns, and pricing & promotion strategies. The CFO feels that the money spent over the last 12 months on marketing was not sufficiently impactful, and, that they can either cut on the budget or reallocate it optimally across marketing levers to improve the revenue response.\n",
        "\n",
        "\n",
        "\n",
        "Imagine that you are a part of the marketing team working on budget optimisation. You need to develop a market mix model to observe the actual impact of different marketing variables over the last year. Using your understanding of the model, you have to recommend the optimal budget allocation for different marketing levers for the next year."
      ]
    },
    {
      "cell_type": "markdown",
      "metadata": {
        "heading_collapsed": true,
        "id": "am-JGsqYPi8B"
      },
      "source": [
        "# 1. Data Reading And Understanding"
      ]
    },
    {
      "cell_type": "code",
      "execution_count": null,
      "metadata": {
        "hidden": true,
        "trusted": true,
        "id": "Vuye9T9YPi8D"
      },
      "outputs": [],
      "source": [
        "import warnings\n",
        "warnings.filterwarnings('ignore')\n",
        "\n",
        "#importing the libraries\n",
        "import numpy as np\n",
        "import pandas as pd\n",
        "import matplotlib.pyplot as plt\n",
        "import seaborn as sns\n",
        "from datetime import datetime\n",
        "pd.set_option('display.float_format', '{:0.3f}'.format)"
      ]
    },
    {
      "cell_type": "code",
      "execution_count": null,
      "metadata": {
        "hidden": true,
        "trusted": true,
        "id": "ds38ZFkJPi8F"
      },
      "outputs": [],
      "source": [
        "# Set ipython's max row display\n",
        "pd.set_option('display.max_row', 500)\n",
        "\n",
        "# Set iPython's max column width to 100\n",
        "pd.set_option('display.max_columns', 100)"
      ]
    },
    {
      "cell_type": "code",
      "execution_count": null,
      "metadata": {
        "hidden": true,
        "trusted": true,
        "id": "egOqf1oyPi8G"
      },
      "outputs": [],
      "source": [
        "# Read the file\n",
        "consumer = pd.read_csv('../input/eleckartdata/ConsumerElectronics.csv')"
      ]
    },
    {
      "cell_type": "code",
      "execution_count": null,
      "metadata": {
        "hidden": true,
        "trusted": true,
        "id": "C9viysifPi8I"
      },
      "outputs": [],
      "source": [
        "# Take a look at the first 5 rows\n",
        "consumer.head()"
      ]
    },
    {
      "cell_type": "code",
      "execution_count": null,
      "metadata": {
        "hidden": true,
        "trusted": false,
        "id": "ziAHHBmqPi8I"
      },
      "outputs": [],
      "source": [
        "# Get info about the dataset\n",
        "consumer.info()"
      ]
    },
    {
      "cell_type": "markdown",
      "metadata": {
        "hidden": true,
        "id": "rCFuiTjHPi8J"
      },
      "source": [
        "- There are no null values in the dataset!\n",
        "- Columns like order_date, gmv, deliverybdays, deliverycdays, pincode have incorrect data types and need to be changed."
      ]
    },
    {
      "cell_type": "code",
      "execution_count": null,
      "metadata": {
        "hidden": true,
        "trusted": false,
        "id": "r9abou1jPi8K"
      },
      "outputs": [],
      "source": [
        "# Let's take a look at the statistical info of the dataset\n",
        "consumer.describe(percentiles = [0.25, 0.5, 0.75, 0.90, 0.99, 0.999])"
      ]
    },
    {
      "cell_type": "markdown",
      "metadata": {
        "hidden": true,
        "id": "zfA3NIV2Pi8L"
      },
      "source": [
        "- All the numeric columns are almost normally distributed!\n",
        "- We need to cap the SLAs to max and min values."
      ]
    },
    {
      "cell_type": "markdown",
      "metadata": {
        "heading_collapsed": true,
        "id": "RzV25aYjPi8M"
      },
      "source": [
        "# 2. Data Cleaning And Preparation"
      ]
    },
    {
      "cell_type": "code",
      "execution_count": null,
      "metadata": {
        "hidden": true,
        "trusted": false,
        "id": "VFx_t7kfPi8N"
      },
      "outputs": [],
      "source": [
        "consumer.columns"
      ]
    },
    {
      "cell_type": "code",
      "execution_count": null,
      "metadata": {
        "hidden": true,
        "trusted": false,
        "id": "PggJPyGjPi8O"
      },
      "outputs": [],
      "source": [
        "consumer.replace(r'^\\s+$', np.nan, regex=True, inplace = True)\n",
        "consumer.replace('\\\\N', np.nan, inplace = True)"
      ]
    },
    {
      "cell_type": "code",
      "execution_count": null,
      "metadata": {
        "hidden": true,
        "trusted": false,
        "id": "19MUrvK-Pi8O"
      },
      "outputs": [],
      "source": [
        "# let's check the null percentage for each column\n",
        "round(100*(consumer.isnull().sum()/len(consumer.index)), 2)"
      ]
    },
    {
      "cell_type": "code",
      "execution_count": null,
      "metadata": {
        "hidden": true,
        "trusted": false,
        "id": "gr9HrEx_Pi8P"
      },
      "outputs": [],
      "source": [
        "#removing null valued GMV\n",
        "consumer = consumer.loc[~(consumer.gmv.isnull())]"
      ]
    },
    {
      "cell_type": "code",
      "execution_count": null,
      "metadata": {
        "hidden": true,
        "trusted": false,
        "id": "TtpjHdhMPi8Q"
      },
      "outputs": [],
      "source": [
        "# let's check the null percentage for each column again\n",
        "round(100*(consumer.isnull().sum()/len(consumer.index)), 2)"
      ]
    },
    {
      "cell_type": "markdown",
      "metadata": {
        "hidden": true,
        "id": "jV76O5BqPi8Q"
      },
      "source": [
        "#### 1. product_analytic_super_category, product_analytic_category, product_analytic_sub_category, product_analytic_vertical"
      ]
    },
    {
      "cell_type": "code",
      "execution_count": null,
      "metadata": {
        "hidden": true,
        "trusted": false,
        "id": "XRAb77n-Pi8R"
      },
      "outputs": [],
      "source": [
        "# Let's drop the rows that have product analytic vertical as null.\n",
        "consumer = consumer[~pd.isnull(consumer.product_analytic_vertical)]"
      ]
    },
    {
      "cell_type": "code",
      "execution_count": null,
      "metadata": {
        "hidden": true,
        "trusted": false,
        "id": "pMkuVZKZPi8R"
      },
      "outputs": [],
      "source": [
        "# Let's now check the product_analytic_super_category unique values\n",
        "consumer.product_analytic_super_category.unique()"
      ]
    },
    {
      "cell_type": "markdown",
      "metadata": {
        "hidden": true,
        "id": "ROyfT93XPi8S"
      },
      "source": [
        "- There is only one value for this column. Hence, we can remove the column."
      ]
    },
    {
      "cell_type": "code",
      "execution_count": null,
      "metadata": {
        "hidden": true,
        "trusted": false,
        "id": "vSYwLCkKPi8S"
      },
      "outputs": [],
      "source": [
        "consumer.drop('product_analytic_super_category',1, inplace = True)"
      ]
    },
    {
      "cell_type": "code",
      "execution_count": null,
      "metadata": {
        "hidden": true,
        "trusted": false,
        "id": "NwjFU5PrPi8S"
      },
      "outputs": [],
      "source": [
        "consumer.product_analytic_category.unique()"
      ]
    },
    {
      "cell_type": "code",
      "execution_count": null,
      "metadata": {
        "hidden": true,
        "trusted": false,
        "id": "z8NMu9oRPi8T"
      },
      "outputs": [],
      "source": [
        "consumer.product_analytic_sub_category.unique()"
      ]
    },
    {
      "cell_type": "code",
      "execution_count": null,
      "metadata": {
        "hidden": true,
        "trusted": false,
        "id": "CAZLma3bPi8T"
      },
      "outputs": [],
      "source": [
        "#The three product sub categories for the MMM are - camera accessory, home audio and gaming accessory.\n",
        "#Removing the rows with other sub categories\n",
        "\n",
        "consumer = consumer.loc[(consumer.product_analytic_sub_category=='CameraAccessory') |\n",
        "                       (consumer.product_analytic_sub_category=='GamingAccessory')|\n",
        "                       (consumer.product_analytic_sub_category=='HomeAudio')]"
      ]
    },
    {
      "cell_type": "code",
      "execution_count": null,
      "metadata": {
        "hidden": true,
        "scrolled": true,
        "trusted": false,
        "id": "nM1jJfOsPi8U"
      },
      "outputs": [],
      "source": [
        "consumer.product_analytic_vertical.unique()"
      ]
    },
    {
      "cell_type": "markdown",
      "metadata": {
        "hidden": true,
        "id": "Wxt7Z_pgPi8U"
      },
      "source": [
        "#### 2. gmv"
      ]
    },
    {
      "cell_type": "code",
      "execution_count": null,
      "metadata": {
        "hidden": true,
        "trusted": false,
        "id": "t5B36ZC6Pi8V"
      },
      "outputs": [],
      "source": [
        "#Let's convert the data type of GMV\n",
        "\n",
        "consumer['gmv'] = pd.to_numeric(consumer['gmv'])"
      ]
    },
    {
      "cell_type": "code",
      "execution_count": null,
      "metadata": {
        "hidden": true,
        "trusted": false,
        "id": "LKAZd8Y8Pi8V"
      },
      "outputs": [],
      "source": [
        "#Checking the minimum and maximum values of GMV\n",
        "print(consumer.gmv.min())\n",
        "print(consumer.gmv.max())"
      ]
    },
    {
      "cell_type": "markdown",
      "metadata": {
        "hidden": true,
        "id": "UKQi_vfiPi8V"
      },
      "source": [
        "gmv (Gross Merchendising Value - The cost price at which the item is sold multiplied by number of units) - Value at 0.0 seems odd.\n",
        "\n",
        "Assumption : It could be because of any promotional offers, hence not deleting them\n"
      ]
    },
    {
      "cell_type": "markdown",
      "metadata": {
        "hidden": true,
        "id": "326K6gn0Pi8W"
      },
      "source": [
        "Looks like a duplicated order. Let's check for duplicates"
      ]
    },
    {
      "cell_type": "code",
      "execution_count": null,
      "metadata": {
        "hidden": true,
        "trusted": false,
        "id": "AWBw5JijPi8W"
      },
      "outputs": [],
      "source": [
        "consumer[consumer.duplicated(['fsn_id','order_date','order_id','order_item_id',\n",
        "                              'gmv','cust_id','pincode',\n",
        "                              'product_analytic_category','product_analytic_sub_category',\n",
        "                             'product_analytic_vertical'])]\n",
        "#consumer.loc[consumer.duplicated()]"
      ]
    },
    {
      "cell_type": "code",
      "execution_count": null,
      "metadata": {
        "hidden": true,
        "trusted": false,
        "id": "ExqU7tCxPi8X"
      },
      "outputs": [],
      "source": [
        "len(consumer[consumer.duplicated(['fsn_id','order_date','order_id','order_item_id',\n",
        "                              'gmv','cust_id','pincode',\n",
        "                              'product_analytic_category','product_analytic_sub_category',\n",
        "                             'product_analytic_vertical'])])"
      ]
    },
    {
      "cell_type": "code",
      "execution_count": null,
      "metadata": {
        "hidden": true,
        "trusted": false,
        "id": "iyhdv6iPPi8X"
      },
      "outputs": [],
      "source": [
        "#Removing duplicated values\n",
        "consumer = consumer[~consumer.duplicated(['fsn_id','order_date','order_id','order_item_id',\n",
        "                              'gmv','cust_id','pincode',\n",
        "                              'product_analytic_category','product_analytic_sub_category',\n",
        "                             'product_analytic_vertical'])]"
      ]
    },
    {
      "cell_type": "code",
      "execution_count": null,
      "metadata": {
        "hidden": true,
        "trusted": false,
        "id": "keyQWy84Pi8Y"
      },
      "outputs": [],
      "source": [
        "consumer.loc[consumer.duplicated()]"
      ]
    },
    {
      "cell_type": "code",
      "execution_count": null,
      "metadata": {
        "hidden": true,
        "trusted": false,
        "id": "pv_fv63qPi8Y"
      },
      "outputs": [],
      "source": [
        "#Checking nulls in gmv value\n",
        "consumer.gmv.isnull().sum()"
      ]
    },
    {
      "cell_type": "code",
      "execution_count": null,
      "metadata": {
        "hidden": true,
        "trusted": false,
        "id": "n42ty7XoPi8Z"
      },
      "outputs": [],
      "source": [
        "consumer.shape"
      ]
    },
    {
      "cell_type": "markdown",
      "metadata": {
        "heading_collapsed": true,
        "hidden": true,
        "id": "y1GLwJNEPi8Z"
      },
      "source": [
        "#### 3. deliverybdays and deliverycdays"
      ]
    },
    {
      "cell_type": "code",
      "execution_count": null,
      "metadata": {
        "hidden": true,
        "trusted": false,
        "id": "T86Nd2P0Pi8a"
      },
      "outputs": [],
      "source": [
        "# The columns deliverybdays and deliverycdays are populated with \\N, which is incorrect.\n",
        "# Let's replace them with null.\n",
        "print(consumer.deliverybdays.value_counts().head())\n",
        "print(consumer.deliverycdays.value_counts().head())"
      ]
    },
    {
      "cell_type": "code",
      "execution_count": null,
      "metadata": {
        "hidden": true,
        "trusted": false,
        "id": "bls5cWUyPi8_"
      },
      "outputs": [],
      "source": [
        "print(consumer.deliverybdays.isnull().sum()/len(consumer))\n",
        "print(consumer.deliverycdays.isnull().sum()/len(consumer))"
      ]
    },
    {
      "cell_type": "code",
      "execution_count": null,
      "metadata": {
        "hidden": true,
        "trusted": false,
        "id": "5JY0W17dPi9A"
      },
      "outputs": [],
      "source": [
        "# We can drop delivercdays and deliverybdays column as it has 79% null values.\n",
        "consumer.drop(['deliverybdays', 'deliverycdays'],1, inplace = True)"
      ]
    },
    {
      "cell_type": "markdown",
      "metadata": {
        "heading_collapsed": true,
        "hidden": true,
        "id": "o51UtUDrPi9B"
      },
      "source": [
        "#### 4. order_date"
      ]
    },
    {
      "cell_type": "code",
      "execution_count": null,
      "metadata": {
        "hidden": true,
        "trusted": false,
        "id": "fSbmc18APi9D"
      },
      "outputs": [],
      "source": [
        "# Befor dealing with null values, let's first correct the data type of order_date\n",
        "consumer['order_date'] = pd.to_datetime(consumer['order_date'])"
      ]
    },
    {
      "cell_type": "code",
      "execution_count": null,
      "metadata": {
        "hidden": true,
        "trusted": false,
        "id": "Fhcq0IH6Pi9E"
      },
      "outputs": [],
      "source": [
        "# We now need to check if the dates are not outside July 2015 and June 2016.\n",
        "consumer.loc[(consumer.order_date < '2015-07-01') | (consumer.order_date >= '2016-07-01')]"
      ]
    },
    {
      "cell_type": "markdown",
      "metadata": {
        "hidden": true,
        "id": "Z6BhMrYYPi9E"
      },
      "source": [
        "- There is 608 records that lie outside the range. Let's delete those rows."
      ]
    },
    {
      "cell_type": "code",
      "execution_count": null,
      "metadata": {
        "hidden": true,
        "trusted": false,
        "id": "w9AO0cOPPi9F"
      },
      "outputs": [],
      "source": [
        "consumer = consumer.loc[(consumer.order_date >= '2015-07-01')]\n",
        "consumer = consumer.loc[(consumer.order_date < '2016-07-01')]"
      ]
    },
    {
      "cell_type": "markdown",
      "metadata": {
        "heading_collapsed": true,
        "hidden": true,
        "id": "8WOzdKIOPi9G"
      },
      "source": [
        "#### 5. s1_fact.order_payment_type"
      ]
    },
    {
      "cell_type": "code",
      "execution_count": null,
      "metadata": {
        "hidden": true,
        "trusted": false,
        "id": "07HlcKEVPi9G"
      },
      "outputs": [],
      "source": [
        "#Changing the name of the column s1_fact.order_payment_type\n",
        "consumer.rename(columns={'s1_fact.order_payment_type':'order_payment_type'}, inplace=True)"
      ]
    },
    {
      "cell_type": "code",
      "execution_count": null,
      "metadata": {
        "hidden": true,
        "scrolled": true,
        "trusted": false,
        "id": "VQKA5189Pi9H"
      },
      "outputs": [],
      "source": [
        "consumer.order_payment_type.value_counts()"
      ]
    },
    {
      "cell_type": "markdown",
      "metadata": {
        "hidden": true,
        "id": "uKooIG5NPi9H"
      },
      "source": [
        "Clearly COD is preferred more than Prepaid order payment type."
      ]
    },
    {
      "cell_type": "markdown",
      "metadata": {
        "heading_collapsed": true,
        "hidden": true,
        "id": "yxQQkBNlPi9H"
      },
      "source": [
        "#### 6. pincode, custid"
      ]
    },
    {
      "cell_type": "code",
      "execution_count": null,
      "metadata": {
        "hidden": true,
        "trusted": false,
        "id": "og1E2Wu_Pi9I"
      },
      "outputs": [],
      "source": [
        "#Converting the datatype\n",
        "consumer['pincode'] = pd.to_numeric(consumer['pincode'])"
      ]
    },
    {
      "cell_type": "code",
      "execution_count": null,
      "metadata": {
        "hidden": true,
        "trusted": false,
        "id": "h5BQRvUxPi9I"
      },
      "outputs": [],
      "source": [
        "#Let's see the values of pincode field\n",
        "consumer.pincode.min()"
      ]
    },
    {
      "cell_type": "code",
      "execution_count": null,
      "metadata": {
        "hidden": true,
        "trusted": false,
        "id": "QSeWy6TWPi9J"
      },
      "outputs": [],
      "source": [
        "consumer.pincode.isnull().sum()"
      ]
    },
    {
      "cell_type": "code",
      "execution_count": null,
      "metadata": {
        "hidden": true,
        "trusted": false,
        "id": "Y_6WWTOqPi9K"
      },
      "outputs": [],
      "source": [
        "# Before handling null values, there are negative values for pincode which we need to handle.\n",
        "# Let's make all the negative values as positive.\n",
        "consumer.pincode = consumer.pincode.abs()"
      ]
    },
    {
      "cell_type": "code",
      "execution_count": null,
      "metadata": {
        "hidden": true,
        "trusted": false,
        "id": "im4_2RcwPi9L"
      },
      "outputs": [],
      "source": [
        "# Let's now check the frequency of pincodes to decide whether we can impute the missing pincodes with the highest frequency one.\n",
        "consumer.pincode.value_counts()"
      ]
    },
    {
      "cell_type": "code",
      "execution_count": null,
      "metadata": {
        "hidden": true,
        "trusted": false,
        "id": "UpXwXsxHPi9L"
      },
      "outputs": [],
      "source": [
        "#pincode and cust_id doesn't seem to be of any use"
      ]
    },
    {
      "cell_type": "code",
      "execution_count": null,
      "metadata": {
        "hidden": true,
        "trusted": false,
        "id": "0uOlutfwPi9M"
      },
      "outputs": [],
      "source": [
        "consumer.drop(['cust_id','pincode'], axis = 1, inplace = True)"
      ]
    },
    {
      "cell_type": "markdown",
      "metadata": {
        "heading_collapsed": true,
        "hidden": true,
        "id": "1vYEWB2RPi9M"
      },
      "source": [
        "#### 7. product_mrp"
      ]
    },
    {
      "cell_type": "code",
      "execution_count": null,
      "metadata": {
        "hidden": true,
        "trusted": false,
        "id": "zkPfL8EoPi9N"
      },
      "outputs": [],
      "source": [
        "consumer[(consumer.product_mrp == 0)].head()"
      ]
    },
    {
      "cell_type": "code",
      "execution_count": null,
      "metadata": {
        "hidden": true,
        "trusted": false,
        "id": "PRV_Lj9JPi9N"
      },
      "outputs": [],
      "source": [
        "len(consumer[(consumer.product_mrp == 0)])"
      ]
    },
    {
      "cell_type": "code",
      "execution_count": null,
      "metadata": {
        "hidden": true,
        "trusted": false,
        "id": "JYvx1XwpPi9O"
      },
      "outputs": [],
      "source": [
        "#Removing values with 0 MRP, since that is not possible at all\n",
        "consumer = consumer.loc[~(consumer.product_mrp==0)]"
      ]
    },
    {
      "cell_type": "code",
      "execution_count": null,
      "metadata": {
        "hidden": true,
        "trusted": false,
        "id": "MKpwkDMtPi9O"
      },
      "outputs": [],
      "source": [
        "consumer['gmv_per_unit'] = consumer.gmv/consumer.units"
      ]
    },
    {
      "cell_type": "code",
      "execution_count": null,
      "metadata": {
        "hidden": true,
        "trusted": false,
        "id": "-kJ37bKCPi9P"
      },
      "outputs": [],
      "source": [
        "#Replacing the values of MRP with GMV per unit where the values of GMV/unit is greater than MRP\n",
        "consumer['product_mrp'].loc[consumer.gmv_per_unit>consumer.product_mrp] = consumer['gmv_per_unit']"
      ]
    },
    {
      "cell_type": "code",
      "execution_count": null,
      "metadata": {
        "hidden": true,
        "trusted": false,
        "id": "ZKGpCIN8Pi9Q"
      },
      "outputs": [],
      "source": [
        "consumer.loc[consumer.gmv_per_unit>consumer.product_mrp]"
      ]
    },
    {
      "cell_type": "code",
      "execution_count": null,
      "metadata": {
        "hidden": true,
        "trusted": false,
        "id": "x0pBsHeMPi9R"
      },
      "outputs": [],
      "source": [
        "consumer.drop(['gmv_per_unit'],1,inplace=True)"
      ]
    },
    {
      "cell_type": "markdown",
      "metadata": {
        "heading_collapsed": true,
        "hidden": true,
        "id": "ReOol-D1Pi9S"
      },
      "source": [
        "#### 8. sla and product_procurement_sla"
      ]
    },
    {
      "cell_type": "code",
      "execution_count": null,
      "metadata": {
        "hidden": true,
        "trusted": false,
        "id": "eu3qMXVmPi9S"
      },
      "outputs": [],
      "source": [
        "consumer.shape"
      ]
    },
    {
      "cell_type": "code",
      "execution_count": null,
      "metadata": {
        "hidden": true,
        "trusted": false,
        "id": "JrVR4RZVPi9T"
      },
      "outputs": [],
      "source": [
        "plt.figure(figsize=(20,8))\n",
        "\n",
        "plt.subplot(1,2,1)\n",
        "sns.boxplot(y=consumer.sla, palette=(\"cubehelix\"))\n",
        "\n",
        "plt.subplot(1,2,2)\n",
        "sns.boxplot(y=consumer.product_procurement_sla, palette=(\"cubehelix\"))"
      ]
    },
    {
      "cell_type": "code",
      "execution_count": null,
      "metadata": {
        "hidden": true,
        "trusted": false,
        "id": "0c7iy-joPi9T"
      },
      "outputs": [],
      "source": [
        "plt.figure(figsize=(20,8))\n",
        "\n",
        "plt.subplot(1,2,1)\n",
        "sns.distplot(consumer.sla)\n",
        "\n",
        "plt.subplot(1,2,2)\n",
        "sns.distplot(consumer.product_procurement_sla)"
      ]
    },
    {
      "cell_type": "code",
      "execution_count": null,
      "metadata": {
        "hidden": true,
        "scrolled": true,
        "trusted": false,
        "id": "WAbcH8DdPi9U"
      },
      "outputs": [],
      "source": [
        "consumer.sla.describe(percentiles=[0.0,0.25,0.5,0.75,0.9,0.95,0.99,1.0])"
      ]
    },
    {
      "cell_type": "code",
      "execution_count": null,
      "metadata": {
        "hidden": true,
        "trusted": false,
        "id": "Fko6nr6OPi9U"
      },
      "outputs": [],
      "source": [
        "consumer.product_procurement_sla.describe(percentiles=[0.0,0.25,0.5,0.75,0.9,0.95,0.99,1.0])"
      ]
    },
    {
      "cell_type": "code",
      "execution_count": null,
      "metadata": {
        "hidden": true,
        "trusted": false,
        "id": "kfAZQI18Pi9V"
      },
      "outputs": [],
      "source": [
        "#Converting negative values to the positive\n",
        "len(consumer.loc[consumer.product_procurement_sla<0])"
      ]
    },
    {
      "cell_type": "code",
      "execution_count": null,
      "metadata": {
        "hidden": true,
        "trusted": false,
        "id": "Ts7ayC0kPi9V"
      },
      "outputs": [],
      "source": [
        "consumer.product_procurement_sla = abs(consumer.product_procurement_sla)"
      ]
    },
    {
      "cell_type": "code",
      "execution_count": null,
      "metadata": {
        "hidden": true,
        "trusted": false,
        "id": "PDbajqoSPi9W"
      },
      "outputs": [],
      "source": [
        "consumer.sla.std()"
      ]
    },
    {
      "cell_type": "code",
      "execution_count": null,
      "metadata": {
        "hidden": true,
        "scrolled": true,
        "trusted": false,
        "id": "xrEgVQ2yPi9W"
      },
      "outputs": [],
      "source": [
        "#Taking three sigma values for outliers treatment\n",
        "print(consumer.sla.mean()+(3*(consumer.sla.std())))\n",
        "print(consumer.sla.mean()-(3*(consumer.sla.std())))"
      ]
    },
    {
      "cell_type": "code",
      "execution_count": null,
      "metadata": {
        "hidden": true,
        "trusted": false,
        "id": "8u4agRd5Pi9X"
      },
      "outputs": [],
      "source": [
        "consumer.product_procurement_sla.std()"
      ]
    },
    {
      "cell_type": "code",
      "execution_count": null,
      "metadata": {
        "hidden": true,
        "trusted": false,
        "id": "CfXjpD1PPi9X"
      },
      "outputs": [],
      "source": [
        "#Taking three sigma values for outliers treatment\n",
        "print(consumer.product_procurement_sla.mean()+(3*(consumer.product_procurement_sla.std())))\n",
        "print(consumer.product_procurement_sla.mean()-(3*(consumer.product_procurement_sla.std())))"
      ]
    },
    {
      "cell_type": "code",
      "execution_count": null,
      "metadata": {
        "hidden": true,
        "trusted": false,
        "id": "nMUJhTtDPi9Y"
      },
      "outputs": [],
      "source": [
        "# Capping the values at three sigma value\n",
        "len(consumer[consumer.sla > 14])"
      ]
    },
    {
      "cell_type": "code",
      "execution_count": null,
      "metadata": {
        "hidden": true,
        "trusted": false,
        "id": "5UNj7No4Pi9Y"
      },
      "outputs": [],
      "source": [
        "# Let's cap the SLAs.\n",
        "consumer.loc[consumer.sla > 14,'sla'] = 14"
      ]
    },
    {
      "cell_type": "code",
      "execution_count": null,
      "metadata": {
        "hidden": true,
        "trusted": false,
        "id": "pd5sRk9DPi9Z"
      },
      "outputs": [],
      "source": [
        "# Similarly, the min value of product procurement sla is 0 and the max value is 15. However, three sigma value is 7.\n",
        "print(len(consumer[consumer.product_procurement_sla > 7]))"
      ]
    },
    {
      "cell_type": "code",
      "execution_count": null,
      "metadata": {
        "hidden": true,
        "trusted": false,
        "id": "NfO97DZ-Pi9Z"
      },
      "outputs": [],
      "source": [
        "# Let's cap the product procuremtn SLAs.\n",
        "consumer.loc[consumer.product_procurement_sla > 7,'product_procurement_sla'] = 7"
      ]
    },
    {
      "cell_type": "code",
      "execution_count": null,
      "metadata": {
        "hidden": true,
        "trusted": false,
        "id": "97aXsALgPi9a"
      },
      "outputs": [],
      "source": [
        "consumer.shape"
      ]
    },
    {
      "cell_type": "code",
      "execution_count": null,
      "metadata": {
        "hidden": true,
        "trusted": false,
        "id": "n5BBXk0FPi9b"
      },
      "outputs": [],
      "source": [
        "consumer.loc[consumer.duplicated()]"
      ]
    },
    {
      "cell_type": "markdown",
      "metadata": {
        "hidden": true,
        "id": "HWeEeYhLPi9b"
      },
      "source": [
        "#### Duplicates removal"
      ]
    },
    {
      "cell_type": "code",
      "execution_count": null,
      "metadata": {
        "hidden": true,
        "scrolled": true,
        "trusted": false,
        "id": "Vh_cyBxAPi9c"
      },
      "outputs": [],
      "source": [
        "len(consumer[consumer.duplicated(['order_id','order_item_id'])])"
      ]
    },
    {
      "cell_type": "markdown",
      "metadata": {
        "hidden": true,
        "id": "VkELWS4uPi9c"
      },
      "source": [
        "- Clearly, there can't be two orders with the same combination of order id and order item id that were ordered at the same timestamp.\n",
        "- We can hence, drop the duplicates."
      ]
    },
    {
      "cell_type": "code",
      "execution_count": null,
      "metadata": {
        "hidden": true,
        "trusted": false,
        "id": "8wCQyPq_Pi9d"
      },
      "outputs": [],
      "source": [
        "consumer = consumer[~consumer.duplicated(['order_id','order_item_id'])]"
      ]
    },
    {
      "cell_type": "code",
      "execution_count": null,
      "metadata": {
        "hidden": true,
        "scrolled": true,
        "trusted": false,
        "id": "gCBMsBSgPi9d"
      },
      "outputs": [],
      "source": [
        "consumer.describe()"
      ]
    },
    {
      "cell_type": "code",
      "execution_count": null,
      "metadata": {
        "hidden": true,
        "trusted": false,
        "id": "ZOIN-8jgPi9e"
      },
      "outputs": [],
      "source": [
        "plt.figure(figsize=(20,8))\n",
        "\n",
        "plt.subplot(1,2,1)\n",
        "sns.distplot(consumer.gmv)\n",
        "\n",
        "plt.subplot(1,2,2)\n",
        "sns.distplot(consumer.product_mrp)\n",
        "\n",
        "plt.show()"
      ]
    },
    {
      "cell_type": "markdown",
      "metadata": {
        "heading_collapsed": true,
        "id": "Nr3QhZknPi9e"
      },
      "source": [
        "# 3. Feature Engineering and KPI"
      ]
    },
    {
      "cell_type": "markdown",
      "metadata": {
        "heading_collapsed": true,
        "hidden": true,
        "id": "TpyBqYMePi9f"
      },
      "source": [
        "### Pricing KPI"
      ]
    },
    {
      "cell_type": "markdown",
      "metadata": {
        "heading_collapsed": true,
        "hidden": true,
        "id": "SCVV3g-MPi9f"
      },
      "source": [
        "#### Listed Price"
      ]
    },
    {
      "cell_type": "code",
      "execution_count": null,
      "metadata": {
        "hidden": true,
        "trusted": false,
        "id": "mUjRdhAoPi9g"
      },
      "outputs": [],
      "source": [
        "#2. gmv (Gross Merchendising Value - The cost price at which the item is sold multiplied by number of units)\n",
        "\n",
        "# Let's derive listing price, which is nothing but gmv/units\n",
        "\n",
        "consumer['listing_price'] = round((consumer.gmv/consumer.units),2)"
      ]
    },
    {
      "cell_type": "code",
      "execution_count": null,
      "metadata": {
        "hidden": true,
        "trusted": false,
        "id": "fACZH885Pi9h"
      },
      "outputs": [],
      "source": [
        "#Let's check if there are any rows with listing price > MRP\n",
        "\n",
        "len(consumer.loc[consumer.listing_price>consumer.product_mrp])"
      ]
    },
    {
      "cell_type": "markdown",
      "metadata": {
        "heading_collapsed": true,
        "hidden": true,
        "id": "MfYNluLFPi9i"
      },
      "source": [
        "### Discount and Promotion related KPI"
      ]
    },
    {
      "cell_type": "markdown",
      "metadata": {
        "heading_collapsed": true,
        "hidden": true,
        "id": "nUSQ5fTsPi9i"
      },
      "source": [
        "#### Dicount"
      ]
    },
    {
      "cell_type": "code",
      "execution_count": null,
      "metadata": {
        "hidden": true,
        "trusted": false,
        "id": "1QgyGXQQPi9i"
      },
      "outputs": [],
      "source": [
        "# Let's now calculate the discount %, which is nothing but (mrp-list price)/mrp\n",
        "consumer['discount'] = round(((consumer.product_mrp - consumer.listing_price)/(consumer.product_mrp)),2)"
      ]
    },
    {
      "cell_type": "code",
      "execution_count": null,
      "metadata": {
        "hidden": true,
        "trusted": false,
        "id": "lYSJqe3hPi9j"
      },
      "outputs": [],
      "source": [
        "consumer['discount'].describe()"
      ]
    },
    {
      "cell_type": "markdown",
      "metadata": {
        "heading_collapsed": true,
        "hidden": true,
        "id": "Z5nDqCZePi9j"
      },
      "source": [
        "#### Total Price"
      ]
    },
    {
      "cell_type": "code",
      "execution_count": null,
      "metadata": {
        "hidden": true,
        "trusted": false,
        "id": "gzsEx86dPi9k"
      },
      "outputs": [],
      "source": [
        "consumer['Order_Item_Value'] = consumer['product_mrp'] * consumer['units']"
      ]
    },
    {
      "cell_type": "markdown",
      "metadata": {
        "heading_collapsed": true,
        "hidden": true,
        "id": "M6olO3aQPi9k"
      },
      "source": [
        "### Mapping Week into the Data"
      ]
    },
    {
      "cell_type": "code",
      "execution_count": null,
      "metadata": {
        "hidden": true,
        "trusted": false,
        "id": "Dwk3whU3Pi9l"
      },
      "outputs": [],
      "source": [
        "# We can create the week number\n",
        "consumer['week'] = np.where(consumer.Year == 2015, (consumer.order_date.dt.week - pd.to_datetime('2015-07-01').week + 1), consumer.order_date.dt.week+27)\n",
        "\n",
        "# Dates like 2016-01-01 will be 53rd week as per ISO standard, hence the week value would be 53+27=80.\n",
        "# We can make those values as week 27\n",
        "consumer.week.values[(consumer.Year == 2016) & (consumer.week == 80)] = 27"
      ]
    },
    {
      "cell_type": "markdown",
      "metadata": {
        "heading_collapsed": true,
        "hidden": true,
        "id": "YGsd6AnEPi9l"
      },
      "source": [
        "### Product assortment and quality related KPI"
      ]
    },
    {
      "cell_type": "markdown",
      "metadata": {
        "hidden": true,
        "id": "Hl7isxSZPi9m"
      },
      "source": [
        "#### Payment type"
      ]
    },
    {
      "cell_type": "code",
      "execution_count": null,
      "metadata": {
        "hidden": true,
        "trusted": false,
        "id": "5AHoHNVvPi9m"
      },
      "outputs": [],
      "source": [
        "### Prepaid = '1' or COD = '0'\n",
        "consumer['order_payment_type'] = np.where(consumer['order_payment_type'] == \"Prepaid\",1,0)"
      ]
    },
    {
      "cell_type": "markdown",
      "metadata": {
        "heading_collapsed": true,
        "hidden": true,
        "id": "5Y4rTc87Pi9n"
      },
      "source": [
        "### Seasonality and Trend related KPI"
      ]
    },
    {
      "cell_type": "markdown",
      "metadata": {
        "heading_collapsed": true,
        "hidden": true,
        "id": "Agnj6q1yPi9n"
      },
      "source": [
        "#### Calendar"
      ]
    },
    {
      "cell_type": "code",
      "execution_count": null,
      "metadata": {
        "hidden": true,
        "trusted": false,
        "id": "5WZ98vLsPi9n"
      },
      "outputs": [],
      "source": [
        "### Creating Calendar for the period\n",
        "calendar = pd.DataFrame(pd.date_range('2015-07-01','2016-06-30').tolist(), columns = ['Date'])\n",
        "### Mapping week in the calendar\n",
        "calendar['week'] = calendar.Date.dt.week\n",
        "### Jan 2016 should be week 54 ,not week 1.\n",
        "calendar['week'] = np.where((calendar['week'] <= 26) & (calendar.Date.dt.year == 2016), calendar['week']+53, calendar['week'])\n"
      ]
    },
    {
      "cell_type": "markdown",
      "metadata": {
        "heading_collapsed": true,
        "hidden": true,
        "id": "ooAEx9dUPi9o"
      },
      "source": [
        "#### Special Sale"
      ]
    },
    {
      "cell_type": "code",
      "execution_count": null,
      "metadata": {
        "hidden": true,
        "trusted": false,
        "id": "BBnTsJwgPi9o"
      },
      "outputs": [],
      "source": [
        "### Special Sales List\n",
        "\n",
        "special_sales_list = [\"2015-07-18\",\"2015-07-19\",\"2015-08-15\",\"2015-08-16\",\"2015-08-17\",\"2015-08-28\",\"2015-08-29\",\n",
        "                      \"2015-08-30\",\"2015-10-15\",\"2015-10-16\",\"2015-10-17\",\"2015-11-07\",\"2015-11-08\",\"2015-11-09\",\n",
        "                      \"2015-11-10\",\"2015-11-11\",\"2015-11-12\",\"2015-11-13\",\"2015-11-14\",\"2015-12-25\",\"2015-12-26\",\n",
        "                      \"2015-12-27\",\"2015-12-28\",\"2015-12-29\",\"2015-12-30\",\"2015-12-31\",\"2016-01-01\",\"2016-01-02\",\n",
        "                      \"2016-01-03\",\"2016-01-20\",\"2016-01-21\",\"2016-01-22\",\"2016-02-01\",\"2016-02-02\",\"2016-02-14\",\n",
        "                      \"2016-02-15\",\"2016-02-20\",\"2016-02-21\",\"2016-03-07\",\"2016-03-08\",\"2016-03-09\",\"2016-05-25\",\n",
        "                      \"2016-05-26\",\"2016-05-27\"]\n",
        "\n",
        "ss_list = pd.DataFrame(special_sales_list,columns = ['Date'])\n",
        "ss_list['Date'] = pd.to_datetime(ss_list['Date'])\n",
        "ss_list['Special_sales'] = True"
      ]
    },
    {
      "cell_type": "code",
      "execution_count": null,
      "metadata": {
        "hidden": true,
        "trusted": false,
        "id": "plH6rv9BPi9p"
      },
      "outputs": [],
      "source": [
        "calendar = calendar.merge(ss_list, 'left')\n",
        "calendar.fillna(False, inplace = True)"
      ]
    },
    {
      "cell_type": "code",
      "execution_count": null,
      "metadata": {
        "hidden": true,
        "trusted": false,
        "id": "nA3iwfzAPi9q"
      },
      "outputs": [],
      "source": [
        "calendar['Special_sales'] = calendar['Special_sales'].astype(int)"
      ]
    },
    {
      "cell_type": "code",
      "execution_count": null,
      "metadata": {
        "hidden": true,
        "trusted": false,
        "id": "RyfV2rW1Pi9q"
      },
      "outputs": [],
      "source": [
        "calendar.head()"
      ]
    },
    {
      "cell_type": "markdown",
      "metadata": {
        "heading_collapsed": true,
        "hidden": true,
        "id": "cr0Pt9aAPi9q"
      },
      "source": [
        "#### Payday"
      ]
    },
    {
      "cell_type": "code",
      "execution_count": null,
      "metadata": {
        "hidden": true,
        "trusted": false,
        "id": "7FkwoHBhPi9r"
      },
      "outputs": [],
      "source": [
        "calendar['Payday'] = ((calendar['Date'].dt.day == 1) | (calendar['Date'].dt.day == 15)).astype(int)"
      ]
    },
    {
      "cell_type": "markdown",
      "metadata": {
        "heading_collapsed": true,
        "hidden": true,
        "id": "L2wAIoWsPi9r"
      },
      "source": [
        "#### Climate Data"
      ]
    },
    {
      "cell_type": "code",
      "execution_count": null,
      "metadata": {
        "hidden": true,
        "trusted": true,
        "id": "LwXDrkVDPi9s"
      },
      "outputs": [],
      "source": [
        "### Ontario Climate data of year 2015-2016\n",
        "ontario_climate_2015 = pd.DataFrame(pd.read_csv('../input/eleckartdata/ONTARIO-2015.csv',encoding=\"ISO-8859-1\",skiprows=24))\n",
        "ontario_climate_2016 = pd.DataFrame(pd.read_csv('../input/eleckartdata/ONTARIO-2016.csv',encoding=\"ISO-8859-1\",skiprows=24))"
      ]
    },
    {
      "cell_type": "code",
      "execution_count": null,
      "metadata": {
        "hidden": true,
        "trusted": false,
        "id": "hFs06080Pi9s"
      },
      "outputs": [],
      "source": [
        "### Merge Calendar with dataset on week\n",
        "\n",
        "ontario_climate = ontario_climate_2015.append(ontario_climate_2016)\n",
        "ontario_climate = ontario_climate.reset_index()\n",
        "ontario_climate.head()"
      ]
    },
    {
      "cell_type": "code",
      "execution_count": null,
      "metadata": {
        "hidden": true,
        "scrolled": true,
        "trusted": false,
        "id": "qY0dx9E4Pi9t"
      },
      "outputs": [],
      "source": [
        "### Checking for any nan values\n",
        "\n",
        "round((ontario_climate.isnull().sum()/len(ontario_climate.index))*100,2)"
      ]
    },
    {
      "cell_type": "code",
      "execution_count": null,
      "metadata": {
        "hidden": true,
        "trusted": false,
        "id": "U32BayWyPi9t"
      },
      "outputs": [],
      "source": [
        "### Dropping columns we do not require in the analysis.\n",
        "ontario_climate.drop(['index','Data Quality','Max Temp Flag','Min Temp Flag','Mean Temp Flag',\n",
        "                      'Heat Deg Days Flag','Cool Deg Days Flag','Total Rain Flag','Total Snow Flag',\n",
        "                      'Total Precip Flag','Snow on Grnd Flag','Dir of Max Gust (10s deg)','Dir of Max Gust Flag',\n",
        "                      'Spd of Max Gust (km/h)','Spd of Max Gust Flag'], axis = 1, inplace = True)"
      ]
    },
    {
      "cell_type": "code",
      "execution_count": null,
      "metadata": {
        "hidden": true,
        "trusted": false,
        "id": "pPOs_E4rPi9u"
      },
      "outputs": [],
      "source": [
        "ontario_climate.columns = ['Date','Year','Month','Day','max_temp_C','min_temp_C','mean_temp_C','heat_deg_days','cool_deg_days','total_rain_mm','total_snow_cm','total_precip_mm','snow_on_grnd_cm']"
      ]
    },
    {
      "cell_type": "code",
      "execution_count": null,
      "metadata": {
        "hidden": true,
        "trusted": false,
        "id": "fjzqVLLbPi9u"
      },
      "outputs": [],
      "source": [
        "ontario_climate['Date'] = ontario_climate['Date'].apply(pd.to_datetime)"
      ]
    },
    {
      "cell_type": "code",
      "execution_count": null,
      "metadata": {
        "hidden": true,
        "trusted": false,
        "id": "R2xDa9FDPi9v"
      },
      "outputs": [],
      "source": [
        "### Keeping Climate data from July 15 to June 16\n",
        "\n",
        "ontario_climate=ontario_climate[(ontario_climate['Month'] >= 7) & (ontario_climate['Year'] == 2015)\n",
        "                               |(ontario_climate['Month'] <= 6) & (ontario_climate['Year'] == 2016)]"
      ]
    },
    {
      "cell_type": "code",
      "execution_count": null,
      "metadata": {
        "hidden": true,
        "trusted": false,
        "id": "ZG6tu6BRPi9v"
      },
      "outputs": [],
      "source": [
        "### Mapping week in the Climate data\n",
        "ontario_climate['week'] = ontario_climate.Date.dt.week\n",
        "\n",
        "### Jan 2016 should be week 54 ,not week 1.\n",
        "ontario_climate['week'] = np.where((ontario_climate['week'] <= 26) & (ontario_climate['Year'] == 2016), ontario_climate['week']+53, ontario_climate['week'])\n",
        "\n",
        "ontario_climate = ontario_climate.reset_index()\n",
        "ontario_climate.drop('index',axis=1,inplace=True)\n",
        "ontario_climate.head()"
      ]
    },
    {
      "cell_type": "code",
      "execution_count": null,
      "metadata": {
        "hidden": true,
        "trusted": false,
        "id": "0Pzqo5tnPi9w"
      },
      "outputs": [],
      "source": [
        "### Checking for any nan values\n",
        "\n",
        "round((ontario_climate.isnull().sum()/len(ontario_climate.index))*100,2)"
      ]
    },
    {
      "cell_type": "code",
      "execution_count": null,
      "metadata": {
        "hidden": true,
        "trusted": false,
        "id": "e2AHr6vIPi9x"
      },
      "outputs": [],
      "source": [
        "### Replacing Nan with mean value\n",
        "ontario_climate['max_temp_C'] = ontario_climate['max_temp_C'].fillna(ontario_climate['max_temp_C'].mean())\n",
        "ontario_climate['min_temp_C'] = ontario_climate['min_temp_C'].fillna(ontario_climate['min_temp_C'].mean())\n",
        "ontario_climate['mean_temp_C'] = ontario_climate['mean_temp_C'].fillna(ontario_climate['mean_temp_C'].mean())\n",
        "ontario_climate['heat_deg_days'] = ontario_climate['heat_deg_days'].fillna(ontario_climate['heat_deg_days'].mean())\n",
        "ontario_climate['cool_deg_days'] = ontario_climate['cool_deg_days'].fillna(ontario_climate['cool_deg_days'].mean())\n",
        "ontario_climate['total_rain_mm'] = ontario_climate['total_rain_mm'].fillna(ontario_climate['total_rain_mm'].mean())\n",
        "ontario_climate['total_snow_cm'] = ontario_climate['total_snow_cm'].fillna(ontario_climate['total_snow_cm'].mean())\n",
        "ontario_climate['total_precip_mm'] = ontario_climate['total_precip_mm'].fillna(ontario_climate['total_precip_mm'].mean())\n",
        "ontario_climate['snow_on_grnd_cm'] = ontario_climate['snow_on_grnd_cm'].fillna(ontario_climate['snow_on_grnd_cm'].mean())\n"
      ]
    },
    {
      "cell_type": "code",
      "execution_count": null,
      "metadata": {
        "hidden": true,
        "scrolled": true,
        "trusted": false,
        "id": "h_11VwcePi9y"
      },
      "outputs": [],
      "source": [
        "ontario_climate.head()"
      ]
    },
    {
      "cell_type": "markdown",
      "metadata": {
        "heading_collapsed": true,
        "hidden": true,
        "id": "2W-vNOFhPi9z"
      },
      "source": [
        "### Other KPI"
      ]
    },
    {
      "cell_type": "markdown",
      "metadata": {
        "heading_collapsed": true,
        "hidden": true,
        "id": "eAafcv7fPi90"
      },
      "source": [
        "#### Net Promoters Score & Stock_Index"
      ]
    },
    {
      "cell_type": "code",
      "execution_count": null,
      "metadata": {
        "hidden": true,
        "trusted": true,
        "id": "bJ1xTRxmPi91"
      },
      "outputs": [],
      "source": [
        "nps_score = pd.read_excel(\"../input/eleckartdata/Media data and other information.xlsx\", sheet_name='Monthly NPS Score', skiprows=1)"
      ]
    },
    {
      "cell_type": "code",
      "execution_count": null,
      "metadata": {
        "hidden": true,
        "trusted": false,
        "id": "sHk5EaE1Pi92"
      },
      "outputs": [],
      "source": [
        "### Transforming NPS and Stock_index\n",
        "nps_score = nps_score.T.reset_index(drop=True)\n",
        "nps_score.columns = ['NPS','Stock_Index']\n",
        "nps_score = nps_score.drop(nps_score.index[[0]]).reset_index(drop=True)"
      ]
    },
    {
      "cell_type": "code",
      "execution_count": null,
      "metadata": {
        "hidden": true,
        "trusted": false,
        "id": "GOgTvHtEPi92"
      },
      "outputs": [],
      "source": [
        "### Adding Month and Year\n",
        "nps_score['Month'] = pd.Series([7,8,9,10,11,12,1,2,3,4,5,6])\n",
        "nps_score['Year'] = pd.Series([2015,2015,2015,2015,2015,2015,2016,2016,2016,2016,2016,2016])"
      ]
    },
    {
      "cell_type": "code",
      "execution_count": null,
      "metadata": {
        "hidden": true,
        "trusted": false,
        "id": "m3TYyUbiPi93"
      },
      "outputs": [],
      "source": [
        "nps_score['NPS'] = nps_score['NPS'].astype(float)\n",
        "nps_score['Stock_Index'] = nps_score['Stock_Index'].astype(float)"
      ]
    },
    {
      "cell_type": "code",
      "execution_count": null,
      "metadata": {
        "hidden": true,
        "trusted": false,
        "id": "Sk_3eSQ-Pi93"
      },
      "outputs": [],
      "source": [
        "nps_score.head()"
      ]
    },
    {
      "cell_type": "markdown",
      "metadata": {
        "heading_collapsed": true,
        "hidden": true,
        "id": "0j0sCCQ5Pi94"
      },
      "source": [
        "### Mapping KPI on Calendar"
      ]
    },
    {
      "cell_type": "code",
      "execution_count": null,
      "metadata": {
        "hidden": true,
        "trusted": false,
        "id": "8AzEOd3xPi95"
      },
      "outputs": [],
      "source": [
        "calendar = calendar.merge(ontario_climate, 'left')"
      ]
    },
    {
      "cell_type": "code",
      "execution_count": null,
      "metadata": {
        "hidden": true,
        "trusted": false,
        "id": "Cj2-XvlvPi95"
      },
      "outputs": [],
      "source": [
        "calendar = calendar.merge(nps_score, 'left')"
      ]
    },
    {
      "cell_type": "code",
      "execution_count": null,
      "metadata": {
        "hidden": true,
        "trusted": false,
        "id": "mt2j0GWsPi95"
      },
      "outputs": [],
      "source": [
        "# We can create the week number\n",
        "calendar['week'] = np.where(calendar.Date.dt.year == 2015, (calendar.Date.dt.week - pd.to_datetime('2015-07-01').week + 1), calendar.Date.dt.week+27)\n",
        "\n",
        "# Dates like 2016-01-01 will be 53rd week as per ISO standard, hence the week value would be 53+27=80.\n",
        "# We can make those values as week 27\n",
        "calendar.week.values[(calendar.Date.dt.year == 2016) & (calendar.week == 80)] = 27"
      ]
    },
    {
      "cell_type": "code",
      "execution_count": null,
      "metadata": {
        "hidden": true,
        "trusted": false,
        "id": "aZWJbX5qPi96"
      },
      "outputs": [],
      "source": [
        "calendar.head()"
      ]
    },
    {
      "cell_type": "code",
      "execution_count": null,
      "metadata": {
        "hidden": true,
        "trusted": false,
        "id": "6CrIuYYZPi96"
      },
      "outputs": [],
      "source": [
        "calendar = pd.DataFrame(calendar.groupby('week').agg({'NPS':'mean','Stock_Index':'mean',\n",
        "                                                             'Special_sales':'mean','Payday':'mean',\n",
        "                                                             'max_temp_C':'mean','min_temp_C':'mean',\n",
        "                                                             'mean_temp_C':'mean','heat_deg_days':'mean',\n",
        "                                                             'cool_deg_days':'mean','total_rain_mm':'mean',\n",
        "                                                             'total_snow_cm':'mean','total_precip_mm':'mean',\n",
        "                                                             'snow_on_grnd_cm':'mean'}))"
      ]
    },
    {
      "cell_type": "code",
      "execution_count": null,
      "metadata": {
        "hidden": true,
        "trusted": false,
        "id": "MQzECHe_Pi97"
      },
      "outputs": [],
      "source": [
        "calendar.reset_index(inplace = True)"
      ]
    },
    {
      "cell_type": "code",
      "execution_count": null,
      "metadata": {
        "hidden": true,
        "trusted": false,
        "id": "_1oqIwApPi98"
      },
      "outputs": [],
      "source": [
        "calendar.head()"
      ]
    },
    {
      "cell_type": "markdown",
      "metadata": {
        "heading_collapsed": true,
        "hidden": true,
        "id": "OL6gzfn5Pi98"
      },
      "source": [
        "### Advertisement Related KPI"
      ]
    },
    {
      "cell_type": "markdown",
      "metadata": {
        "heading_collapsed": true,
        "hidden": true,
        "id": "p_LR1RNXPi98"
      },
      "source": [
        "#### Marketing"
      ]
    },
    {
      "cell_type": "code",
      "execution_count": null,
      "metadata": {
        "hidden": true,
        "trusted": true,
        "id": "SJ2n6u91Pi99"
      },
      "outputs": [],
      "source": [
        "### Marketing Investment Data\n",
        "marketing = pd.read_excel(\"../input/eleckartdata/Media data and other information.xlsx\", sheet_name='Media Investment', skipfooter = 4, skiprows=2)"
      ]
    },
    {
      "cell_type": "code",
      "execution_count": null,
      "metadata": {
        "hidden": true,
        "trusted": false,
        "id": "sRk_BMUYPi9-"
      },
      "outputs": [],
      "source": [
        "marketing.drop('Unnamed: 0', axis = 1, inplace = True)\n",
        "marketing.replace(np.nan,0,inplace = True)\n",
        "marketing['Date'] = pd.to_datetime(marketing[['Year', 'Month']].assign(DAY=1))\n",
        "marketing.set_index('Date', inplace = True)\n",
        "marketing"
      ]
    },
    {
      "cell_type": "code",
      "execution_count": null,
      "metadata": {
        "hidden": true,
        "trusted": false,
        "id": "IFDuxbtcPi9_"
      },
      "outputs": [],
      "source": [
        "### Renaming the columns\n",
        "\n",
        "marketing.columns = ['Year','Month','Total_Investment','TV','Digital','Sponsorship','Content_marketing',\n",
        "                     'Online_marketing','Affiliates','SEM','Radio','Other']"
      ]
    },
    {
      "cell_type": "code",
      "execution_count": null,
      "metadata": {
        "hidden": true,
        "trusted": false,
        "id": "iq1IcV5IPi9_"
      },
      "outputs": [],
      "source": [
        "### convert to datetimeindex\n",
        "marketing.index = pd.to_datetime(marketing.index)"
      ]
    },
    {
      "cell_type": "code",
      "execution_count": null,
      "metadata": {
        "hidden": true,
        "trusted": false,
        "id": "p3NpJqM7Pi-A"
      },
      "outputs": [],
      "source": [
        "marketing"
      ]
    },
    {
      "cell_type": "code",
      "execution_count": null,
      "metadata": {
        "hidden": true,
        "trusted": false,
        "id": "WOet5paUPi-C"
      },
      "outputs": [],
      "source": [
        "### add new next month for correct resample\n",
        "idx = marketing.index[-1] + pd.offsets.MonthBegin(1)\n",
        "idx"
      ]
    },
    {
      "cell_type": "code",
      "execution_count": null,
      "metadata": {
        "hidden": true,
        "trusted": false,
        "id": "n_Xip3R8Pi-D"
      },
      "outputs": [],
      "source": [
        "marketing = marketing.append(marketing.iloc[[-1]].rename({marketing.index[-1]: idx}))\n",
        "marketing"
      ]
    },
    {
      "cell_type": "code",
      "execution_count": null,
      "metadata": {
        "hidden": true,
        "trusted": false,
        "id": "FBLIAQzFPi-F"
      },
      "outputs": [],
      "source": [
        "#Resampling the data on weekly frequency\n",
        "marketing = marketing.resample('W').ffill().iloc[:-1]\n",
        "marketing"
      ]
    },
    {
      "cell_type": "code",
      "execution_count": null,
      "metadata": {
        "hidden": true,
        "trusted": false,
        "id": "-eN8D6I3Pi-G"
      },
      "outputs": [],
      "source": [
        "### divide by size of months\n",
        "marketing['Total_Investment'] /= marketing.resample('MS')['Total_Investment'].transform('size')\n",
        "marketing['TV'] /= marketing.resample('MS')['TV'].transform('size')\n",
        "marketing['Digital'] /= marketing.resample('MS')['Digital'].transform('size')\n",
        "marketing['Sponsorship'] /= marketing.resample('MS')['Sponsorship'].transform('size')\n",
        "marketing['Content_marketing'] /= marketing.resample('MS')['Content_marketing'].transform('size')\n",
        "marketing['Online_marketing'] /= marketing.resample('MS')['Online_marketing'].transform('size')\n",
        "marketing['Affiliates'] /= marketing.resample('MS')['Affiliates'].transform('size')\n",
        "marketing['SEM'] /= marketing.resample('MS')['SEM'].transform('size')\n",
        "marketing['Radio'] /= marketing.resample('MS')['Radio'].transform('size')\n",
        "marketing['Other'] /= marketing.resample('MS')['Other'].transform('size')"
      ]
    },
    {
      "cell_type": "code",
      "execution_count": null,
      "metadata": {
        "hidden": true,
        "trusted": false,
        "id": "JL8jYRN4Pi-G"
      },
      "outputs": [],
      "source": [
        "marketing.head()"
      ]
    },
    {
      "cell_type": "code",
      "execution_count": null,
      "metadata": {
        "hidden": true,
        "trusted": false,
        "id": "7jtGucDFPi-H"
      },
      "outputs": [],
      "source": [
        "marketing.reset_index(inplace = True)\n",
        "\n",
        "###  Mapping week in the marketing\n",
        "\n",
        "marketing['Date'] = pd.to_datetime(marketing['Date'])\n",
        "# We can create the week number\n",
        "marketing['week'] = np.where(marketing.Date.dt.year == 2015, (marketing.Date.dt.week - pd.to_datetime('2015-07-01').week + 1), marketing.Date.dt.week+27)\n",
        "\n",
        "marketing.week.values[(marketing.Date.dt.year == 2016) & (marketing.week == 80)] = 27\n",
        "marketing.sort_values('week', inplace = True)"
      ]
    },
    {
      "cell_type": "code",
      "execution_count": null,
      "metadata": {
        "hidden": true,
        "trusted": false,
        "id": "fjeyFnCXPi-I"
      },
      "outputs": [],
      "source": [
        "marketing.head()"
      ]
    },
    {
      "cell_type": "markdown",
      "metadata": {
        "heading_collapsed": true,
        "hidden": true,
        "id": "LSfZVjoKPi-I"
      },
      "source": [
        "#### Adstock"
      ]
    },
    {
      "cell_type": "code",
      "execution_count": null,
      "metadata": {
        "hidden": true,
        "trusted": false,
        "id": "JyDmTu2XPi-J"
      },
      "outputs": [],
      "source": [
        "def adstocked_advertising(adstock_rate=0.5, advertising = marketing):\n",
        "\n",
        "    adstocked_advertising = []\n",
        "    for i in range(len(advertising)):\n",
        "        if i == 0:\n",
        "            adstocked_advertising.append(advertising.iloc[i])\n",
        "        else:\n",
        "            adstocked_advertising.append(advertising.iloc[i] + adstock_rate * advertising.iloc[i-1])\n",
        "    return adstocked_advertising\n",
        ""
      ]
    },
    {
      "cell_type": "code",
      "execution_count": null,
      "metadata": {
        "hidden": true,
        "trusted": false,
        "id": "8sK6VijuPi-J"
      },
      "outputs": [],
      "source": [
        "adstock = pd.DataFrame()"
      ]
    },
    {
      "cell_type": "code",
      "execution_count": null,
      "metadata": {
        "hidden": true,
        "trusted": false,
        "id": "BDCrDGUvPi-K"
      },
      "outputs": [],
      "source": [
        "adstock['TV_ads'] = adstocked_advertising(adstock_rate=0.5, advertising = marketing['TV'])\n",
        "\n",
        "adstock['Digital_ads'] = adstocked_advertising(adstock_rate=0.5, advertising = marketing['Digital'])\n",
        "\n",
        "adstock['Sponsorship_ads'] = adstocked_advertising(adstock_rate=0.5, advertising = marketing['Sponsorship'])\n",
        "\n",
        "adstock['Content_marketing_ads'] = adstocked_advertising(adstock_rate=0.5, advertising = marketing['Content_marketing'])\n",
        "\n",
        "adstock['Online_marketing_ads'] = adstocked_advertising(adstock_rate=0.5, advertising = marketing['Online_marketing'])\n",
        "\n",
        "adstock['Affiliates_ads'] = adstocked_advertising(adstock_rate=0.5, advertising = marketing['Affiliates'])\n",
        "\n",
        "adstock['SEM_ads'] = adstocked_advertising(adstock_rate=0.5, advertising = marketing['SEM'])\n",
        "\n",
        "adstock['Radio_ads'] = adstocked_advertising(adstock_rate=0.5, advertising = marketing['Radio'])\n",
        "\n",
        "adstock['Other_ads'] = adstocked_advertising(adstock_rate=0.5, advertising = marketing['Other'])"
      ]
    },
    {
      "cell_type": "code",
      "execution_count": null,
      "metadata": {
        "hidden": true,
        "scrolled": true,
        "trusted": false,
        "id": "1tQLMo5nPi-K"
      },
      "outputs": [],
      "source": [
        "adstock.head()"
      ]
    },
    {
      "cell_type": "markdown",
      "metadata": {
        "heading_collapsed": true,
        "hidden": true,
        "id": "YbXeVclQPi-L"
      },
      "source": [
        "#### Mapping marketing and adstock"
      ]
    },
    {
      "cell_type": "code",
      "execution_count": null,
      "metadata": {
        "hidden": true,
        "trusted": false,
        "id": "X0lF01fkPi-L"
      },
      "outputs": [],
      "source": [
        "marketing = pd.concat([marketing,adstock] ,axis=1)"
      ]
    },
    {
      "cell_type": "code",
      "execution_count": null,
      "metadata": {
        "hidden": true,
        "trusted": false,
        "id": "VM4meKtTPi-M"
      },
      "outputs": [],
      "source": [
        "marketing.head()"
      ]
    },
    {
      "cell_type": "markdown",
      "metadata": {
        "heading_collapsed": true,
        "hidden": true,
        "id": "qnX3MQ8PPi-M"
      },
      "source": [
        "### Product premium-ness"
      ]
    },
    {
      "cell_type": "code",
      "execution_count": null,
      "metadata": {
        "hidden": true,
        "trusted": false,
        "id": "vQg-c3WkPi-N"
      },
      "outputs": [],
      "source": [
        "# The premium-ness of the product depends on the MRP. Higher the MRP, more premium is the product.\n",
        "# Let's check the percentiles of MRP in the dataset.\n",
        "\n",
        "consumer.product_mrp.describe(percentiles=[0.25,0.5,0.75,0.8,0.9,0.95,0.99])"
      ]
    },
    {
      "cell_type": "code",
      "execution_count": null,
      "metadata": {
        "hidden": true,
        "trusted": false,
        "id": "_iPHSec3Pi-N"
      },
      "outputs": [],
      "source": [
        "# Let's assume that products with MRP greater than 90 percentile to be premium products.\n",
        "# Create a dataframe with mrp, number of units sold and gmv against each product vertical to analyse better.\n",
        "prod_cat = pd.DataFrame(pd.pivot_table(consumer, values = ['units','product_mrp', 'gmv'], index = ['product_analytic_vertical'],\n",
        "               aggfunc={'units':np.sum, 'product_mrp':np.mean, 'gmv':np.sum}).to_records())"
      ]
    },
    {
      "cell_type": "code",
      "execution_count": null,
      "metadata": {
        "hidden": true,
        "trusted": false,
        "id": "aYiOa1KRPi-O"
      },
      "outputs": [],
      "source": [
        "# Marking products with MRP greater than 90th percentile with 1 and rest with 0\n",
        "prod_cat['premium_product'] = np.where((prod_cat.product_mrp>consumer.product_mrp.quantile(0.9)),1,0)"
      ]
    },
    {
      "cell_type": "code",
      "execution_count": null,
      "metadata": {
        "hidden": true,
        "trusted": false,
        "id": "OgyKG_I0Pi-P"
      },
      "outputs": [],
      "source": [
        "prod_cat.loc[prod_cat.premium_product==1]"
      ]
    },
    {
      "cell_type": "markdown",
      "metadata": {
        "hidden": true,
        "id": "ALb43ahzPi-Q"
      },
      "source": [
        "- Clearly, Teleconverter, SoundMixer, SlingBox, MotionController, KaraokePlayer, DJController are premium products. All other products are mass products.\n",
        "- Let's visualise how the premium products contribute towards the GMV."
      ]
    },
    {
      "cell_type": "code",
      "execution_count": null,
      "metadata": {
        "hidden": true,
        "trusted": false,
        "id": "aQjJ5ku4Pi-Q"
      },
      "outputs": [],
      "source": [
        "plt.figure(figsize=(15,5))\n",
        "sns.barplot(x = prod_cat.product_analytic_vertical, y=prod_cat.gmv, hue=prod_cat.premium_product)\n",
        "plt.xticks(rotation=90)\n",
        "plt.show()"
      ]
    },
    {
      "cell_type": "markdown",
      "metadata": {
        "hidden": true,
        "id": "GLQzQEXlPi-R"
      },
      "source": [
        "- We can clearly see that, maximum revenue is generated through mass producs like HomeAudioSpeaker, Lens, GamingPad, etc and not premium products that contibute quite less towards revenue.\n",
        "- The company hence should focus more on mass products than premium products."
      ]
    },
    {
      "cell_type": "code",
      "execution_count": null,
      "metadata": {
        "hidden": true,
        "trusted": false,
        "id": "4VVT2PJjPi-R"
      },
      "outputs": [],
      "source": [
        "consumer = consumer.merge(prod_cat[['product_analytic_vertical', 'premium_product']] , left_on='product_analytic_vertical',\n",
        "            right_on='product_analytic_vertical',\n",
        "                   how = 'inner')"
      ]
    },
    {
      "cell_type": "code",
      "execution_count": null,
      "metadata": {
        "hidden": true,
        "trusted": false,
        "id": "_Z5RItI_Pi-S"
      },
      "outputs": [],
      "source": [
        "sales = consumer.copy()"
      ]
    },
    {
      "cell_type": "code",
      "execution_count": null,
      "metadata": {
        "hidden": true,
        "trusted": false,
        "id": "atcoyvnSPi-T"
      },
      "outputs": [],
      "source": [
        "consumer.drop(['product_analytic_vertical'],1,inplace=True)"
      ]
    },
    {
      "cell_type": "code",
      "execution_count": null,
      "metadata": {
        "hidden": true,
        "trusted": false,
        "id": "BVStN1r4Pi-U"
      },
      "outputs": [],
      "source": [
        "consumer.head()"
      ]
    },
    {
      "cell_type": "markdown",
      "metadata": {
        "heading_collapsed": true,
        "id": "EZvNUujHPi-U"
      },
      "source": [
        "# 4. Aggregation"
      ]
    },
    {
      "cell_type": "markdown",
      "metadata": {
        "heading_collapsed": true,
        "hidden": true,
        "id": "g3hF4PIWPi-U"
      },
      "source": [
        "## 1. Camera Sub Category"
      ]
    },
    {
      "cell_type": "code",
      "execution_count": null,
      "metadata": {
        "hidden": true,
        "trusted": false,
        "id": "CDRtUEYpPi-V"
      },
      "outputs": [],
      "source": [
        "camera_df = consumer[consumer['product_analytic_sub_category'] == 'CameraAccessory']"
      ]
    },
    {
      "cell_type": "code",
      "execution_count": null,
      "metadata": {
        "hidden": true,
        "trusted": false,
        "id": "YKtWeqv9Pi-V"
      },
      "outputs": [],
      "source": [
        "###  Removing outliers is important as\n",
        "###  1. There may be some garbage value.\n",
        "###  2. Bulk orders can skew the analysis"
      ]
    },
    {
      "cell_type": "code",
      "execution_count": null,
      "metadata": {
        "hidden": true,
        "trusted": false,
        "id": "pQx1QaTlPi-W"
      },
      "outputs": [],
      "source": [
        "### Outlier Analysis\n",
        "fig, axs = plt.subplots(1,3, figsize = (20,4))\n",
        "plt1 = sns.boxplot(camera_df['gmv'], ax = axs[0])\n",
        "plt2 = sns.boxplot(camera_df['units'], ax = axs[2])\n",
        "plt4 = sns.boxplot(camera_df['product_mrp'], ax = axs[1])\n",
        "plt.tight_layout()"
      ]
    },
    {
      "cell_type": "code",
      "execution_count": null,
      "metadata": {
        "hidden": true,
        "trusted": false,
        "id": "KGkucFxFPi-W"
      },
      "outputs": [],
      "source": [
        "### Treating outliers\n",
        "### Outlier treatment for gmv & product_mrp\n",
        "Q1 = camera_df.gmv.quantile(0.25)\n",
        "Q3 = camera_df.gmv.quantile(0.75)\n",
        "IQR = Q3 - Q1\n",
        "camera_df = camera_df[(camera_df.gmv >= Q1 - 1.5*IQR) & (camera_df.gmv <= Q3 + 1.5*IQR)]\n",
        "Q1 = camera_df.product_mrp.quantile(0.25)\n",
        "Q3 = camera_df.product_mrp.quantile(0.75)\n",
        "IQR = Q3 - Q1\n",
        "camera_df = camera_df[(camera_df.product_mrp >= Q1 - 1.5*IQR) & (camera_df.product_mrp <= Q3 + 1.5*IQR)]"
      ]
    },
    {
      "cell_type": "code",
      "execution_count": null,
      "metadata": {
        "hidden": true,
        "trusted": false,
        "id": "RNQQbDAQPi-X"
      },
      "outputs": [],
      "source": [
        "### Outlier Analysis\n",
        "fig, axs = plt.subplots(1,3, figsize = (20,4))\n",
        "plt1 = sns.boxplot(camera_df['gmv'], ax = axs[0])\n",
        "plt2 = sns.boxplot(camera_df['units'], ax = axs[2])\n",
        "plt4 = sns.boxplot(camera_df['product_mrp'], ax = axs[1])\n",
        "plt.tight_layout()"
      ]
    },
    {
      "cell_type": "code",
      "execution_count": null,
      "metadata": {
        "hidden": true,
        "trusted": false,
        "id": "Hmft5AD6Pi-X"
      },
      "outputs": [],
      "source": [
        "camera_df.columns"
      ]
    },
    {
      "cell_type": "code",
      "execution_count": null,
      "metadata": {
        "hidden": true,
        "trusted": false,
        "id": "U5lW0cT-Pi-Y"
      },
      "outputs": [],
      "source": [
        "camera_df.head()"
      ]
    },
    {
      "cell_type": "code",
      "execution_count": null,
      "metadata": {
        "hidden": true,
        "trusted": false,
        "id": "iXVHPyLVPi-Y"
      },
      "outputs": [],
      "source": [
        "### Aggregating dataset on weekly level\n",
        "\n",
        "ca_week = pd.DataFrame(camera_df.groupby('week').agg({'gmv':'sum','listing_price':'mean',\n",
        "                                                             'product_mrp':'mean','discount':'mean',\n",
        "                                                             'sla':'mean','product_procurement_sla':'mean',\n",
        "                                                             'fsn_id':pd.Series.nunique,'order_item_id':pd.Series.nunique,\n",
        "                                                             'order_id': pd.Series.nunique,\n",
        "                                                             'order_payment_type':'sum',\n",
        "                                                            'premium_product':'sum'}))\n",
        "\n",
        "ca_week.reset_index( inplace = True)"
      ]
    },
    {
      "cell_type": "code",
      "execution_count": null,
      "metadata": {
        "hidden": true,
        "trusted": false,
        "id": "nsl21Yo_Pi-Z"
      },
      "outputs": [],
      "source": [
        "ca_week.head()"
      ]
    },
    {
      "cell_type": "code",
      "execution_count": null,
      "metadata": {
        "hidden": true,
        "trusted": false,
        "id": "despJcdnPi-Z"
      },
      "outputs": [],
      "source": [
        "### Sum of GMV / No of unique Orders\n",
        "\n",
        "ca_week['AOV'] = ca_week['gmv']/ca_week['order_id']"
      ]
    },
    {
      "cell_type": "code",
      "execution_count": null,
      "metadata": {
        "hidden": true,
        "trusted": false,
        "id": "Wtt1hT8rPi-a"
      },
      "outputs": [],
      "source": [
        "ca_week['online_order_perc'] = ca_week['order_payment_type']*100/ca_week['order_item_id']"
      ]
    },
    {
      "cell_type": "code",
      "execution_count": null,
      "metadata": {
        "hidden": true,
        "scrolled": true,
        "trusted": false,
        "id": "IDgfLedPPi-a"
      },
      "outputs": [],
      "source": [
        "ca_week.week.unique()"
      ]
    },
    {
      "cell_type": "code",
      "execution_count": null,
      "metadata": {
        "hidden": true,
        "trusted": false,
        "id": "2mvYK-jOPi-b"
      },
      "outputs": [],
      "source": [
        "calendar.week.unique()"
      ]
    },
    {
      "cell_type": "code",
      "execution_count": null,
      "metadata": {
        "hidden": true,
        "trusted": false,
        "id": "ijgcD91IPi-b"
      },
      "outputs": [],
      "source": [
        "ca_week['week'] = ca_week['week'].astype(int)\n",
        "calendar['week'] = calendar['week'].astype(int)"
      ]
    },
    {
      "cell_type": "code",
      "execution_count": null,
      "metadata": {
        "hidden": true,
        "trusted": false,
        "id": "YYMRQMxkPi-c"
      },
      "outputs": [],
      "source": [
        "ca_week = ca_week.merge(marketing, how = 'left', on = 'week')"
      ]
    },
    {
      "cell_type": "code",
      "execution_count": null,
      "metadata": {
        "hidden": true,
        "trusted": false,
        "id": "_mBWmWzzPi-c"
      },
      "outputs": [],
      "source": [
        "ca_week = ca_week.merge(calendar, how = 'left', on = 'week')"
      ]
    },
    {
      "cell_type": "code",
      "execution_count": null,
      "metadata": {
        "hidden": true,
        "scrolled": true,
        "trusted": false,
        "id": "wAjwwObAPi-d"
      },
      "outputs": [],
      "source": [
        "ca_week.head()"
      ]
    },
    {
      "cell_type": "markdown",
      "metadata": {
        "hidden": true,
        "id": "4R-kFiHpPi-e"
      },
      "source": [
        "### Exploratory Data Analysis"
      ]
    },
    {
      "cell_type": "code",
      "execution_count": null,
      "metadata": {
        "hidden": true,
        "trusted": false,
        "id": "BjoMK7WsPi-e"
      },
      "outputs": [],
      "source": [
        "ca_week_viz = ca_week.round(2)"
      ]
    },
    {
      "cell_type": "markdown",
      "metadata": {
        "hidden": true,
        "id": "XJwiMCOxPi-f"
      },
      "source": [
        "#### Univariate Analysis"
      ]
    },
    {
      "cell_type": "markdown",
      "metadata": {
        "hidden": true,
        "id": "tDhAbFY8Pi-g"
      },
      "source": [
        "Target Variable"
      ]
    },
    {
      "cell_type": "code",
      "execution_count": null,
      "metadata": {
        "hidden": true,
        "trusted": false,
        "id": "PD2seIIuPi-h"
      },
      "outputs": [],
      "source": [
        "sns.distplot(ca_week_viz['gmv'],kde=True)"
      ]
    },
    {
      "cell_type": "code",
      "execution_count": null,
      "metadata": {
        "hidden": true,
        "trusted": false,
        "id": "7QgxBvMXPi-h"
      },
      "outputs": [],
      "source": [
        "plt.figure(figsize=(15, 5))\n",
        "sns.barplot(ca_week_viz['week'],ca_week_viz['gmv'])"
      ]
    },
    {
      "cell_type": "markdown",
      "metadata": {
        "hidden": true,
        "id": "rjrBkboJPi-i"
      },
      "source": [
        "Marketing KPI"
      ]
    },
    {
      "cell_type": "code",
      "execution_count": null,
      "metadata": {
        "hidden": true,
        "trusted": false,
        "id": "f1UqkdzuPi-j"
      },
      "outputs": [],
      "source": [
        "ca_week_viz.columns"
      ]
    },
    {
      "cell_type": "code",
      "execution_count": null,
      "metadata": {
        "hidden": true,
        "trusted": false,
        "id": "gctGTqCxPi-k"
      },
      "outputs": [],
      "source": [
        "fig, axs = plt.subplots(2,4,figsize=(16,8))\n",
        "\n",
        "plt1 = sns.scatterplot(x = 'Total_Investment', y = 'gmv', data = ca_week_viz, ax = axs[0,0])\n",
        "\n",
        "plt2 = sns.scatterplot(x = 'TV', y = 'gmv', data = ca_week_viz, ax = axs[0,1])\n",
        "\n",
        "plt3 = sns.scatterplot(x = 'Digital', y = 'gmv', data = ca_week_viz, ax = axs[0,2])\n",
        "\n",
        "plt4 = sns.scatterplot(x = 'Sponsorship', y = 'gmv', data = ca_week_viz, ax = axs[0,3])\n",
        "\n",
        "plt5 = sns.scatterplot(x = 'Content_marketing', y = 'gmv', data = ca_week_viz, ax = axs[1,0])\n",
        "\n",
        "plt6 = sns.scatterplot(x = 'Online_marketing', y = 'gmv', data = ca_week_viz, ax = axs[1,1])\n",
        "\n",
        "plt7 = sns.scatterplot(x = 'Affiliates', y = 'gmv', data = ca_week_viz, ax = axs[1,2])\n",
        "\n",
        "plt8 = sns.scatterplot(x = 'SEM', y = 'gmv', data = ca_week_viz, ax = axs[1,3])\n",
        "\n",
        "plt.tight_layout()"
      ]
    },
    {
      "cell_type": "markdown",
      "metadata": {
        "hidden": true,
        "id": "A8gdEYuDPi-l"
      },
      "source": [
        "#### Bivariate Analysis"
      ]
    },
    {
      "cell_type": "markdown",
      "metadata": {
        "hidden": true,
        "id": "xBQ1NMEIPi-l"
      },
      "source": [
        "GMV and Holiday weekly"
      ]
    },
    {
      "cell_type": "code",
      "execution_count": null,
      "metadata": {
        "hidden": true,
        "trusted": false,
        "id": "3DDDhC8MPi-m"
      },
      "outputs": [],
      "source": [
        "plt.figure(figsize=(20, 5))\n",
        "sns.barplot(x= ca_week_viz['week'], y =ca_week_viz['gmv'], hue = ca_week_viz['Special_sales'], dodge = False)\n",
        "plt.show()"
      ]
    },
    {
      "cell_type": "markdown",
      "metadata": {
        "hidden": true,
        "id": "WFcPXZB1Pi-m"
      },
      "source": [
        "GMV and Dicount weekly"
      ]
    },
    {
      "cell_type": "code",
      "execution_count": null,
      "metadata": {
        "hidden": true,
        "scrolled": true,
        "trusted": false,
        "id": "C71ECeVGPi-n"
      },
      "outputs": [],
      "source": [
        "plt.figure(figsize=(20, 5))\n",
        "sns.barplot(x= ca_week_viz['week'], y =ca_week_viz['gmv'], hue = pd.cut(ca_week_viz['discount'],3), dodge = False)\n",
        "plt.show()"
      ]
    },
    {
      "cell_type": "markdown",
      "metadata": {
        "hidden": true,
        "id": "pXCvTdJmPi-n"
      },
      "source": [
        "#### Camera Accessory - Moving Average"
      ]
    },
    {
      "cell_type": "code",
      "execution_count": null,
      "metadata": {
        "hidden": true,
        "trusted": false,
        "id": "-IcvVlLZPi-o"
      },
      "outputs": [],
      "source": [
        "### ca_week\n",
        "\n",
        "### Moving Average for listing_price and discount\n",
        "\n",
        "### ca_week = ca_week.sort_values('order_date')\n",
        "\n",
        "ca_week[['MA2_LP','MA2_Discount']] = ca_week[['listing_price','discount']].rolling(window=2,min_periods=1).mean()\n",
        "ca_week[['MA3_LP','MA3_Discount']] = ca_week[['listing_price','discount']].rolling(window=3,min_periods=1).mean()\n",
        "ca_week[['MA4_LP','MA4_Discount']] = ca_week[['listing_price','discount']].rolling(window=4,min_periods=1).mean()\n",
        "\n",
        "### Reference listed price Inflation\n",
        "\n",
        "ca_week['MA2_listed_price'] = (ca_week['listing_price']-ca_week['MA2_LP'])/ca_week['MA2_LP']\n",
        "ca_week['MA3_listed_price'] = (ca_week['listing_price']-ca_week['MA3_LP'])/ca_week['MA3_LP']\n",
        "ca_week['MA4_listed_price'] = (ca_week['listing_price']-ca_week['MA4_LP'])/ca_week['MA4_LP']\n",
        "\n",
        "### Reference discount Inflation\n",
        "\n",
        "ca_week['MA2_discount_offer'] = (ca_week['discount']-ca_week['MA2_Discount'])/ca_week['MA2_Discount']\n",
        "ca_week['MA3_discount_offer'] = (ca_week['discount']-ca_week['MA3_Discount'])/ca_week['MA3_Discount']\n",
        "ca_week['MA4_discount_offer'] = (ca_week['discount']-ca_week['MA4_Discount'])/ca_week['MA4_Discount']\n",
        "\n",
        "\n",
        "ca_week.drop(['MA2_LP','MA3_LP','MA4_LP','MA2_Discount','MA3_Discount','MA4_Discount'], axis = 1, inplace = True)\n",
        "ca_week.head()\n",
        "\n"
      ]
    },
    {
      "cell_type": "markdown",
      "metadata": {
        "hidden": true,
        "id": "VpDA5rAZPi-o"
      },
      "source": [
        "#### Camera Accessory - Data Profiling to see multicollinearity and variable distributions"
      ]
    },
    {
      "cell_type": "code",
      "execution_count": null,
      "metadata": {
        "hidden": true,
        "trusted": false,
        "id": "fIQWcD1EPi-p"
      },
      "outputs": [],
      "source": [
        "# ### To identify multicollinearity between variable\n",
        "plt.figure(figsize=(20,20))\n",
        "sns.heatmap(ca_week.corr(),annot = True, cmap=\"YlGnBu\")\n",
        "plt.show()"
      ]
    },
    {
      "cell_type": "code",
      "execution_count": null,
      "metadata": {
        "hidden": true,
        "trusted": false,
        "id": "xkt_ZUCcPi-p"
      },
      "outputs": [],
      "source": [
        "### Highly Correlated Columns should be dropped\n",
        "\n",
        "ca_week.drop(['TV', 'Digital', 'Sponsorship', 'Content_marketing','Online_marketing', 'Affiliates', 'SEM','Radio',\n",
        "              'Other'], axis = 1, inplace = True)"
      ]
    },
    {
      "cell_type": "code",
      "execution_count": null,
      "metadata": {
        "hidden": true,
        "trusted": false,
        "id": "mGsp2cxmPi-q"
      },
      "outputs": [],
      "source": [
        "plt.figure(figsize=(25,20))\n",
        "sns.heatmap(ca_week.corr(), cmap=\"coolwarm\", annot=True)\n",
        "plt.show()"
      ]
    },
    {
      "cell_type": "code",
      "execution_count": null,
      "metadata": {
        "hidden": true,
        "trusted": false,
        "id": "ecPcxsPDPi-q"
      },
      "outputs": [],
      "source": [
        "ca_week.drop(['Affiliates_ads','SEM_ads','Digital_ads','Radio_ads','Other_ads','mean_temp_C','min_temp_C',\n",
        "              'order_id','order_item_id','total_precip_mm','Total_Investment','MA3_discount_offer',\n",
        "               'MA3_listed_price','AOV','max_temp_C','MA2_listed_price','MA4_discount_offer'],1,inplace=True)"
      ]
    },
    {
      "cell_type": "code",
      "execution_count": null,
      "metadata": {
        "hidden": true,
        "trusted": false,
        "id": "bRdtpp4oPi-r"
      },
      "outputs": [],
      "source": [
        "#Successfully removed more than 90% correlation"
      ]
    },
    {
      "cell_type": "markdown",
      "metadata": {
        "hidden": true,
        "id": "HfBNuZbsPi-r"
      },
      "source": [
        "#### Camera Accessory -  Lag Variable Functions"
      ]
    },
    {
      "cell_type": "code",
      "execution_count": null,
      "metadata": {
        "hidden": true,
        "trusted": false,
        "id": "5KaZv3TvPi-s"
      },
      "outputs": [],
      "source": [
        "### Lag of listed_price, discount_offer, NPS, Special_sales\n",
        "\n",
        "ca_week['lag_1_listed_price'] = ca_week['listing_price'].shift(-1).fillna(0)\n",
        "ca_week['lag_2_listed_price'] = ca_week['listing_price'].shift(-2).fillna(0)\n",
        "ca_week['lag_3_listed_price'] = ca_week['listing_price'].shift(-3).fillna(0)\n",
        "\n",
        "ca_week['lag_1_discount'] = ca_week['discount'].shift(-1).fillna(0)\n",
        "ca_week['lag_2_discount'] = ca_week['discount'].shift(-2).fillna(0)\n",
        "ca_week['lag_3_discount'] = ca_week['discount'].shift(-3).fillna(0)\n",
        "\n",
        "ca_week['lag_1_Stock_Index'] = ca_week['Stock_Index'].shift(-1).fillna(0)\n",
        "ca_week['lag_2_Stock_Index'] = ca_week['Stock_Index'].shift(-2).fillna(0)\n",
        "ca_week['lag_3_Stock_Index'] = ca_week['Stock_Index'].shift(-3).fillna(0)\n",
        "\n",
        "ca_week['lag_1_Special_sales'] = ca_week['Special_sales'].shift(-1).fillna(0)\n",
        "ca_week['lag_2_Special_sales'] = ca_week['Special_sales'].shift(-2).fillna(0)\n",
        "ca_week['lag_3_Special_sales'] = ca_week['Special_sales'].shift(-3).fillna(0)\n",
        "\n",
        "ca_week['lag_1_Payday'] = ca_week['Payday'].shift(-1).fillna(0)\n",
        "ca_week['lag_2_Payday'] = ca_week['Payday'].shift(-2).fillna(0)\n",
        "ca_week['lag_3_Payday'] = ca_week['Payday'].shift(-3).fillna(0)\n",
        "\n",
        "ca_week['lag_1_NPS'] = ca_week['NPS'].shift(-1).fillna(0)\n",
        "ca_week['lag_2_NPS'] = ca_week['NPS'].shift(-2).fillna(0)\n",
        "ca_week['lag_3_NPS'] = ca_week['NPS'].shift(-3).fillna(0)"
      ]
    },
    {
      "cell_type": "code",
      "execution_count": null,
      "metadata": {
        "hidden": true,
        "scrolled": true,
        "trusted": false,
        "id": "bc7cPdVnPi-s"
      },
      "outputs": [],
      "source": [
        "ca_week.head()"
      ]
    },
    {
      "cell_type": "markdown",
      "metadata": {
        "heading_collapsed": true,
        "hidden": true,
        "id": "HkquM-zYPi-t"
      },
      "source": [
        "## 2. Gaming Sub Category"
      ]
    },
    {
      "cell_type": "code",
      "execution_count": null,
      "metadata": {
        "hidden": true,
        "trusted": false,
        "id": "duZ01h9VPi-t"
      },
      "outputs": [],
      "source": [
        "gaming_accessory = consumer[consumer['product_analytic_sub_category'] == 'GamingAccessory']"
      ]
    },
    {
      "cell_type": "code",
      "execution_count": null,
      "metadata": {
        "hidden": true,
        "trusted": false,
        "id": "_aQunt0KPi-u"
      },
      "outputs": [],
      "source": [
        "###  Removing outliers is important as\n",
        "###  1. There may be some garbage value.\n",
        "###  2. Bulk orders can skew the analysis"
      ]
    },
    {
      "cell_type": "code",
      "execution_count": null,
      "metadata": {
        "hidden": true,
        "trusted": false,
        "id": "WePgOtKqPi-u"
      },
      "outputs": [],
      "source": [
        "### Outlier Analysis\n",
        "fig, axs = plt.subplots(1,3, figsize = (20,4))\n",
        "plt1 = sns.boxplot(gaming_accessory['gmv'], ax = axs[0])\n",
        "plt2 = sns.boxplot(gaming_accessory['units'], ax = axs[2])\n",
        "plt4 = sns.boxplot(gaming_accessory['product_mrp'], ax = axs[1])\n",
        "plt.tight_layout()"
      ]
    },
    {
      "cell_type": "code",
      "execution_count": null,
      "metadata": {
        "hidden": true,
        "trusted": false,
        "id": "POSplXfAPi-v"
      },
      "outputs": [],
      "source": [
        "### Treating outliers\n",
        "### Outlier treatment for gmv & product_mrp\n",
        "Q1 = gaming_accessory.gmv.quantile(0.25)\n",
        "Q3 = gaming_accessory.gmv.quantile(0.75)\n",
        "IQR = Q3 - Q1\n",
        "gaming_accessory = gaming_accessory[(gaming_accessory.gmv >= Q1 - 1.5*IQR) & (gaming_accessory.gmv <= Q3 + 1.5*IQR)]\n",
        "Q1 = gaming_accessory.product_mrp.quantile(0.25)\n",
        "Q3 = gaming_accessory.product_mrp.quantile(0.75)\n",
        "IQR = Q3 - Q1\n",
        "gaming_accessory = gaming_accessory[(gaming_accessory.product_mrp >= Q1 - 1.5*IQR) & (gaming_accessory.product_mrp <= Q3 + 1.5*IQR)]"
      ]
    },
    {
      "cell_type": "code",
      "execution_count": null,
      "metadata": {
        "hidden": true,
        "trusted": false,
        "id": "HXhKMMHWPi-v"
      },
      "outputs": [],
      "source": [
        "### Outlier Analysis\n",
        "fig, axs = plt.subplots(1,3, figsize = (20,4))\n",
        "plt1 = sns.boxplot(gaming_accessory['gmv'], ax = axs[0])\n",
        "plt2 = sns.boxplot(gaming_accessory['units'], ax = axs[2])\n",
        "plt4 = sns.boxplot(gaming_accessory['product_mrp'], ax = axs[1])\n",
        "plt.tight_layout()"
      ]
    },
    {
      "cell_type": "code",
      "execution_count": null,
      "metadata": {
        "hidden": true,
        "trusted": false,
        "id": "7kvlqtbQPi-w"
      },
      "outputs": [],
      "source": [
        "gaming_accessory.columns"
      ]
    },
    {
      "cell_type": "code",
      "execution_count": null,
      "metadata": {
        "hidden": true,
        "trusted": false,
        "id": "g2DGZMtIPi-w"
      },
      "outputs": [],
      "source": [
        "### Aggregating dataset on weekly level\n",
        "\n",
        "ga_week = pd.DataFrame(gaming_accessory.groupby('week').agg({'gmv':'sum','listing_price':'mean',\n",
        "                                                             'product_mrp':'mean','discount':'mean',\n",
        "                                                             'sla':'mean','product_procurement_sla':'mean',\n",
        "                                                             'fsn_id':pd.Series.nunique,'order_item_id':pd.Series.nunique,\n",
        "                                                             'order_id': pd.Series.nunique,\n",
        "                                                             'order_payment_type':'sum'}))\n",
        "\n",
        "ga_week.reset_index( inplace = True)"
      ]
    },
    {
      "cell_type": "code",
      "execution_count": null,
      "metadata": {
        "hidden": true,
        "trusted": false,
        "id": "pDCzC9wxPi-x"
      },
      "outputs": [],
      "source": [
        "ga_week.head()"
      ]
    },
    {
      "cell_type": "code",
      "execution_count": null,
      "metadata": {
        "hidden": true,
        "trusted": false,
        "id": "BgcQnxH-Pi-x"
      },
      "outputs": [],
      "source": [
        "### Sum of GMV / No of unique Orders\n",
        "\n",
        "ga_week['AOV'] = ga_week['gmv']/ga_week['order_id']"
      ]
    },
    {
      "cell_type": "code",
      "execution_count": null,
      "metadata": {
        "hidden": true,
        "trusted": false,
        "id": "tVEmWmPVPi-y"
      },
      "outputs": [],
      "source": [
        "ga_week['online_order_perc'] = ga_week['order_payment_type']*100/ga_week['order_item_id']"
      ]
    },
    {
      "cell_type": "code",
      "execution_count": null,
      "metadata": {
        "hidden": true,
        "trusted": false,
        "id": "YIfk-PdlPi-y"
      },
      "outputs": [],
      "source": [
        "ga_week.head()"
      ]
    },
    {
      "cell_type": "code",
      "execution_count": null,
      "metadata": {
        "hidden": true,
        "trusted": false,
        "id": "IvrvS_QqPi-0"
      },
      "outputs": [],
      "source": [
        "ga_week = ga_week.merge(marketing, how = 'left', on = 'week')"
      ]
    },
    {
      "cell_type": "code",
      "execution_count": null,
      "metadata": {
        "hidden": true,
        "trusted": false,
        "id": "L0BnwEn0Pi-0"
      },
      "outputs": [],
      "source": [
        "ga_week = ga_week.merge(calendar, how = 'left', on = 'week')"
      ]
    },
    {
      "cell_type": "code",
      "execution_count": null,
      "metadata": {
        "hidden": true,
        "trusted": false,
        "id": "FRx5tj5rPi-2"
      },
      "outputs": [],
      "source": [
        "ga_week.head()"
      ]
    },
    {
      "cell_type": "markdown",
      "metadata": {
        "hidden": true,
        "id": "8Z1NXKOEPi-3"
      },
      "source": [
        "### Exploratory Data Analysis"
      ]
    },
    {
      "cell_type": "code",
      "execution_count": null,
      "metadata": {
        "hidden": true,
        "trusted": false,
        "id": "tNNlp5QUPi-4"
      },
      "outputs": [],
      "source": [
        "ga_week_viz = ga_week.round(2)"
      ]
    },
    {
      "cell_type": "markdown",
      "metadata": {
        "hidden": true,
        "id": "GTZySLOsPi-5"
      },
      "source": [
        "#### Univariate Analysis"
      ]
    },
    {
      "cell_type": "markdown",
      "metadata": {
        "hidden": true,
        "id": "6vpc44UkPi-5"
      },
      "source": [
        "Target Variable"
      ]
    },
    {
      "cell_type": "code",
      "execution_count": null,
      "metadata": {
        "hidden": true,
        "trusted": false,
        "id": "aZ57MWUuPi-5"
      },
      "outputs": [],
      "source": [
        "sns.distplot(ga_week_viz['gmv'],kde=True)"
      ]
    },
    {
      "cell_type": "code",
      "execution_count": null,
      "metadata": {
        "hidden": true,
        "trusted": false,
        "id": "5BtCfgidPi-6"
      },
      "outputs": [],
      "source": [
        "plt.figure(figsize=(15, 5))\n",
        "sns.barplot(ga_week_viz['week'],ga_week_viz['gmv'])"
      ]
    },
    {
      "cell_type": "markdown",
      "metadata": {
        "hidden": true,
        "id": "ICmDtjDuPi-7"
      },
      "source": [
        "Marketing KPI"
      ]
    },
    {
      "cell_type": "code",
      "execution_count": null,
      "metadata": {
        "hidden": true,
        "trusted": false,
        "id": "JjZcH1jxPi-7"
      },
      "outputs": [],
      "source": [
        "ga_week_viz.columns"
      ]
    },
    {
      "cell_type": "code",
      "execution_count": null,
      "metadata": {
        "hidden": true,
        "trusted": false,
        "id": "_rRXFRBePi-8"
      },
      "outputs": [],
      "source": [
        "fig, axs = plt.subplots(2,4,figsize=(16,8))\n",
        "\n",
        "plt1 = sns.scatterplot(x = 'Total_Investment', y = 'gmv', data = ga_week_viz, ax = axs[0,0])\n",
        "\n",
        "plt2 = sns.scatterplot(x = 'TV', y = 'gmv', data = ga_week_viz, ax = axs[0,1])\n",
        "\n",
        "plt3 = sns.scatterplot(x = 'Digital', y = 'gmv', data = ga_week_viz, ax = axs[0,2])\n",
        "\n",
        "plt4 = sns.scatterplot(x = 'Sponsorship', y = 'gmv', data = ga_week_viz, ax = axs[0,3])\n",
        "\n",
        "plt5 = sns.scatterplot(x = 'Content_marketing', y = 'gmv', data = ga_week_viz, ax = axs[1,0])\n",
        "\n",
        "plt6 = sns.scatterplot(x = 'Online_marketing', y = 'gmv', data = ga_week_viz, ax = axs[1,1])\n",
        "\n",
        "plt7 = sns.scatterplot(x = 'Affiliates', y = 'gmv', data = ga_week_viz, ax = axs[1,2])\n",
        "\n",
        "plt8 = sns.scatterplot(x = 'SEM', y = 'gmv', data = ga_week_viz, ax = axs[1,3])\n",
        "\n",
        "plt.tight_layout()"
      ]
    },
    {
      "cell_type": "markdown",
      "metadata": {
        "hidden": true,
        "id": "kggBa7aFPi-8"
      },
      "source": [
        "#### Bivariate Analysis"
      ]
    },
    {
      "cell_type": "markdown",
      "metadata": {
        "hidden": true,
        "id": "u7dVRa34Pi-9"
      },
      "source": [
        "GMV and Holiday weekly"
      ]
    },
    {
      "cell_type": "code",
      "execution_count": null,
      "metadata": {
        "hidden": true,
        "trusted": false,
        "id": "-LkSzSyLPi-9"
      },
      "outputs": [],
      "source": [
        "plt.figure(figsize=(20, 5))\n",
        "sns.barplot(x= ga_week_viz['week'], y =ga_week_viz['gmv'], hue = ga_week_viz['Special_sales'], dodge = False)\n",
        "plt.show()"
      ]
    },
    {
      "cell_type": "markdown",
      "metadata": {
        "hidden": true,
        "id": "3AEIu_JSPi--"
      },
      "source": [
        "GMV and Holiday weekly"
      ]
    },
    {
      "cell_type": "code",
      "execution_count": null,
      "metadata": {
        "hidden": true,
        "trusted": false,
        "id": "DFzwGAkhPi--"
      },
      "outputs": [],
      "source": [
        "plt.figure(figsize=(20, 5))\n",
        "sns.barplot(x= ga_week_viz['week'], y =ga_week_viz['gmv'], hue = pd.cut(ga_week_viz['discount'],3), dodge = False)\n",
        "plt.show()"
      ]
    },
    {
      "cell_type": "markdown",
      "metadata": {
        "hidden": true,
        "id": "y8YPqXaFPi-_"
      },
      "source": [
        "#### Gaming Accessory - Moving Average"
      ]
    },
    {
      "cell_type": "code",
      "execution_count": null,
      "metadata": {
        "hidden": true,
        "trusted": false,
        "id": "1k1tVx_9Pi-_"
      },
      "outputs": [],
      "source": [
        "### ga_week\n",
        "\n",
        "### Moving Average for listed_price and discount_offer\n",
        "\n",
        "### ga_week = ga_week.sort_values('order_date')\n",
        "\n",
        "ga_week[['MA2_LP','MA2_Discount']] = ga_week[['listing_price','discount']].rolling(window=2,min_periods=1).mean()\n",
        "ga_week[['MA3_LP','MA3_Discount']] = ga_week[['listing_price','discount']].rolling(window=3,min_periods=1).mean()\n",
        "ga_week[['MA4_LP','MA4_Discount']] = ga_week[['listing_price','discount']].rolling(window=4,min_periods=1).mean()\n",
        "\n",
        "### Reference listed price Inflation\n",
        "\n",
        "ga_week['MA2_listed_price'] = (ga_week['listing_price']-ga_week['MA2_LP'])/ga_week['MA2_LP']\n",
        "ga_week['MA3_listed_price'] = (ga_week['listing_price']-ga_week['MA3_LP'])/ga_week['MA3_LP']\n",
        "ga_week['MA4_listed_price'] = (ga_week['listing_price']-ga_week['MA4_LP'])/ga_week['MA4_LP']\n",
        "\n",
        "### Reference discount Inflation\n",
        "\n",
        "ga_week['MA2_discount'] = (ga_week['discount']-ga_week['MA2_Discount'])/ga_week['MA2_Discount']\n",
        "ga_week['MA3_discount'] = (ga_week['discount']-ga_week['MA3_Discount'])/ga_week['MA3_Discount']\n",
        "ga_week['MA4_discount'] = (ga_week['discount']-ga_week['MA4_Discount'])/ga_week['MA4_Discount']\n",
        "\n",
        "\n",
        "ga_week.drop(['MA2_LP','MA3_LP','MA4_LP','MA2_Discount','MA3_Discount','MA4_Discount'], axis = 1, inplace = True)\n",
        "ga_week\n",
        "\n"
      ]
    },
    {
      "cell_type": "markdown",
      "metadata": {
        "hidden": true,
        "id": "UGBAho6TPi_B"
      },
      "source": [
        "#### Heatmap to see multicollinearity"
      ]
    },
    {
      "cell_type": "code",
      "execution_count": null,
      "metadata": {
        "hidden": true,
        "trusted": false,
        "id": "grRfS66tPi_B"
      },
      "outputs": [],
      "source": [
        "plt.figure(figsize=(25,20))\n",
        "\n",
        "### Heatmap\n",
        "sns.heatmap(ga_week.corr(), cmap=\"coolwarm\", annot=True)\n",
        "plt.show()"
      ]
    },
    {
      "cell_type": "code",
      "execution_count": null,
      "metadata": {
        "hidden": true,
        "trusted": false,
        "id": "945uE2lGPi_C"
      },
      "outputs": [],
      "source": [
        "\n",
        "ga_week.drop(['TV', 'Digital', 'Sponsorship', 'Content_marketing','Online_marketing', 'Affiliates', 'SEM','Radio',\n",
        "              'Other','Affiliates_ads','SEM_ads','Digital_ads','Radio_ads','Other_ads','mean_temp_C','min_temp_C',\n",
        "              'order_id','order_item_id','total_precip_mm','Total_Investment','MA3_discount',\n",
        "              'MA3_listed_price','AOV','MA4_listed_price'], axis = 1, inplace = True)"
      ]
    },
    {
      "cell_type": "code",
      "execution_count": null,
      "metadata": {
        "hidden": true,
        "trusted": false,
        "id": "nCgX8tjIPi_D"
      },
      "outputs": [],
      "source": [
        "ga_week.drop(['max_temp_C'], axis = 1, inplace = True)"
      ]
    },
    {
      "cell_type": "code",
      "execution_count": null,
      "metadata": {
        "hidden": true,
        "trusted": false,
        "id": "i-20KrY9Pi_E"
      },
      "outputs": [],
      "source": [
        "###  Successfully removed more than 90% highly correlated variables from dataset.\n"
      ]
    },
    {
      "cell_type": "markdown",
      "metadata": {
        "hidden": true,
        "id": "T8qWc6p3Pi_G"
      },
      "source": [
        "#### Gaming Accessory - Lag Variable Functions"
      ]
    },
    {
      "cell_type": "code",
      "execution_count": null,
      "metadata": {
        "hidden": true,
        "trusted": false,
        "id": "_vec-IWYPi_H"
      },
      "outputs": [],
      "source": [
        "### Lag of listed_price, discount_offer, NPS, Special_sales\n",
        "\n",
        "ga_week['lag_1_listed_price'] = ga_week['listing_price'].shift(-1).fillna(0)\n",
        "ga_week['lag_2_listed_price'] = ga_week['listing_price'].shift(-2).fillna(0)\n",
        "ga_week['lag_3_listed_price'] = ga_week['listing_price'].shift(-3).fillna(0)\n",
        "\n",
        "ga_week['lag_1_discount_offer'] = ga_week['discount'].shift(-1).fillna(0)\n",
        "ga_week['lag_2_discount_offer'] = ga_week['discount'].shift(-2).fillna(0)\n",
        "ga_week['lag_3_discount_offer'] = ga_week['discount'].shift(-3).fillna(0)\n",
        "\n",
        "ga_week['lag_1_NPS'] = ga_week['NPS'].shift(-1).fillna(0)\n",
        "ga_week['lag_2_NPS'] = ga_week['NPS'].shift(-2).fillna(0)\n",
        "ga_week['lag_3_NPS'] = ga_week['NPS'].shift(-3).fillna(0)\n",
        "\n",
        "ga_week['lag_1_Stock_Index'] = ga_week['Stock_Index'].shift(-1).fillna(0)\n",
        "ga_week['lag_2_Stock_Index'] = ga_week['Stock_Index'].shift(-2).fillna(0)\n",
        "ga_week['lag_3_Stock_Index'] = ga_week['Stock_Index'].shift(-3).fillna(0)\n",
        "\n",
        "ga_week['lag_1_Special_sales'] = ga_week['Special_sales'].shift(-1).fillna(0)\n",
        "ga_week['lag_2_Special_sales'] = ga_week['Special_sales'].shift(-2).fillna(0)\n",
        "ga_week['lag_3_Special_sales'] = ga_week['Special_sales'].shift(-3).fillna(0)\n",
        "\n",
        "ga_week['lag_1_Payday'] = ga_week['Payday'].shift(-1).fillna(0)\n",
        "ga_week['lag_2_Payday'] = ga_week['Payday'].shift(-2).fillna(0)\n",
        "ga_week['lag_3_Payday'] = ga_week['Payday'].shift(-3).fillna(0)\n"
      ]
    },
    {
      "cell_type": "code",
      "execution_count": null,
      "metadata": {
        "hidden": true,
        "trusted": false,
        "id": "JPwShMLQPi_J"
      },
      "outputs": [],
      "source": [
        "ga_week.head()"
      ]
    },
    {
      "cell_type": "markdown",
      "metadata": {
        "heading_collapsed": true,
        "hidden": true,
        "id": "JfSzt0r7Pi_J"
      },
      "source": [
        "## 3. Home Audio Sub Category"
      ]
    },
    {
      "cell_type": "code",
      "execution_count": null,
      "metadata": {
        "hidden": true,
        "trusted": false,
        "id": "o3zO1nHmPi_K"
      },
      "outputs": [],
      "source": [
        "home_audio = consumer[consumer['product_analytic_sub_category'] == 'HomeAudio']"
      ]
    },
    {
      "cell_type": "code",
      "execution_count": null,
      "metadata": {
        "hidden": true,
        "trusted": false,
        "id": "ixHpeCUfPi_K"
      },
      "outputs": [],
      "source": [
        "###  Removing outliers is important as\n",
        "###  1. There may be some garbage value.\n",
        "###  2. Bulk orders can skew the analysis"
      ]
    },
    {
      "cell_type": "code",
      "execution_count": null,
      "metadata": {
        "hidden": true,
        "trusted": false,
        "id": "eERDe8RQPi_L"
      },
      "outputs": [],
      "source": [
        "### Outlier Analysis\n",
        "fig, axs = plt.subplots(1,3, figsize = (20,4))\n",
        "plt1 = sns.boxplot(home_audio['gmv'], ax = axs[0])\n",
        "plt2 = sns.boxplot(home_audio['units'], ax = axs[2])\n",
        "plt4 = sns.boxplot(home_audio['product_mrp'], ax = axs[1])\n",
        "plt.tight_layout()"
      ]
    },
    {
      "cell_type": "code",
      "execution_count": null,
      "metadata": {
        "hidden": true,
        "trusted": false,
        "id": "T9835yKLPi_M"
      },
      "outputs": [],
      "source": [
        "### Treating outliers\n",
        "### Outlier treatment for gmv & product_mrp\n",
        "Q1 = home_audio.gmv.quantile(0.25)\n",
        "Q3 = home_audio.gmv.quantile(0.75)\n",
        "IQR = Q3 - Q1\n",
        "home_audio = home_audio[(home_audio.gmv >= Q1 - 1.5*IQR) & (home_audio.gmv <= Q3 + 1.5*IQR)]\n",
        "Q1 = home_audio.product_mrp.quantile(0.25)\n",
        "Q3 = home_audio.product_mrp.quantile(0.75)\n",
        "IQR = Q3 - Q1\n",
        "home_audio = home_audio[(home_audio.product_mrp >= Q1 - 1.5*IQR) & (home_audio.product_mrp <= Q3 + 1.5*IQR)]"
      ]
    },
    {
      "cell_type": "code",
      "execution_count": null,
      "metadata": {
        "hidden": true,
        "trusted": false,
        "id": "ofU8z2GMPi_M"
      },
      "outputs": [],
      "source": [
        "### Outlier Analysis\n",
        "fig, axs = plt.subplots(1,3, figsize = (20,4))\n",
        "plt1 = sns.boxplot(home_audio['gmv'], ax = axs[0])\n",
        "plt2 = sns.boxplot(home_audio['units'], ax = axs[2])\n",
        "plt4 = sns.boxplot(home_audio['product_mrp'], ax = axs[1])\n",
        "plt.tight_layout()"
      ]
    },
    {
      "cell_type": "code",
      "execution_count": null,
      "metadata": {
        "hidden": true,
        "trusted": false,
        "id": "LAglURiTPi_N"
      },
      "outputs": [],
      "source": [
        "home_audio.columns"
      ]
    },
    {
      "cell_type": "code",
      "execution_count": null,
      "metadata": {
        "hidden": true,
        "trusted": false,
        "id": "9oLG6G3dPi_N"
      },
      "outputs": [],
      "source": [
        "### Aggregating dataset on weekly level\n",
        "\n",
        "ha_week = pd.DataFrame(home_audio.groupby('week').agg({'gmv':'sum','listing_price':'mean',\n",
        "                                                             'product_mrp':'mean','discount':'mean',\n",
        "                                                             'sla':'mean','product_procurement_sla':'mean',\n",
        "                                                             'fsn_id':pd.Series.nunique,'order_item_id':pd.Series.nunique,\n",
        "                                                             'order_id': pd.Series.nunique,\n",
        "                                                             'order_payment_type':'sum'}))\n",
        "\n",
        "ha_week.reset_index( inplace = True)"
      ]
    },
    {
      "cell_type": "code",
      "execution_count": null,
      "metadata": {
        "hidden": true,
        "trusted": false,
        "id": "C9CjqvETPi_O"
      },
      "outputs": [],
      "source": [
        "ha_week.head()"
      ]
    },
    {
      "cell_type": "code",
      "execution_count": null,
      "metadata": {
        "hidden": true,
        "trusted": false,
        "id": "gquUHp23Pi_O"
      },
      "outputs": [],
      "source": [
        "### Sum of GMV / No of unique Orders\n",
        "\n",
        "ha_week['AOV'] = ha_week['gmv']/ha_week['order_id']"
      ]
    },
    {
      "cell_type": "code",
      "execution_count": null,
      "metadata": {
        "hidden": true,
        "trusted": false,
        "id": "x5qwe4jyPi_P"
      },
      "outputs": [],
      "source": [
        "ha_week['online_order_perc'] = ha_week['order_payment_type']*100/ha_week['order_item_id']"
      ]
    },
    {
      "cell_type": "code",
      "execution_count": null,
      "metadata": {
        "hidden": true,
        "trusted": false,
        "id": "kdOtzhKpPi_P"
      },
      "outputs": [],
      "source": [
        "ha_week.head()"
      ]
    },
    {
      "cell_type": "code",
      "execution_count": null,
      "metadata": {
        "hidden": true,
        "trusted": false,
        "id": "f2_elcImPi_P"
      },
      "outputs": [],
      "source": [
        "ha_week = ha_week.merge(marketing, how = 'left', on = 'week')"
      ]
    },
    {
      "cell_type": "code",
      "execution_count": null,
      "metadata": {
        "hidden": true,
        "trusted": false,
        "id": "Pt6WTgiaPi_Q"
      },
      "outputs": [],
      "source": [
        "ha_week = ha_week.merge(calendar, how = 'left', on = 'week')"
      ]
    },
    {
      "cell_type": "code",
      "execution_count": null,
      "metadata": {
        "hidden": true,
        "trusted": false,
        "id": "KppgJauUPi_Q"
      },
      "outputs": [],
      "source": [
        "ha_week.head()"
      ]
    },
    {
      "cell_type": "markdown",
      "metadata": {
        "hidden": true,
        "id": "tcjUU8e8Pi_R"
      },
      "source": [
        "### Exploratory Data Analysis"
      ]
    },
    {
      "cell_type": "code",
      "execution_count": null,
      "metadata": {
        "hidden": true,
        "trusted": false,
        "id": "VqZev4xePi_R"
      },
      "outputs": [],
      "source": [
        "ha_week_viz = ha_week.round(2)"
      ]
    },
    {
      "cell_type": "markdown",
      "metadata": {
        "hidden": true,
        "id": "TXPehwdaPi_S"
      },
      "source": [
        "#### Univariate Analysis"
      ]
    },
    {
      "cell_type": "markdown",
      "metadata": {
        "hidden": true,
        "id": "oQc7bwwXPi_S"
      },
      "source": [
        "Target Variable"
      ]
    },
    {
      "cell_type": "code",
      "execution_count": null,
      "metadata": {
        "hidden": true,
        "trusted": false,
        "id": "AaAFJdQfPi_T"
      },
      "outputs": [],
      "source": [
        "sns.distplot(ha_week_viz['gmv'],kde=True)"
      ]
    },
    {
      "cell_type": "code",
      "execution_count": null,
      "metadata": {
        "hidden": true,
        "trusted": false,
        "id": "O0vPP3WjPi_T"
      },
      "outputs": [],
      "source": [
        "plt.figure(figsize=(15, 5))\n",
        "sns.barplot(ha_week_viz['week'],ha_week_viz['gmv'])"
      ]
    },
    {
      "cell_type": "markdown",
      "metadata": {
        "hidden": true,
        "id": "OiwijMfEPi_T"
      },
      "source": [
        "Marketing KPI"
      ]
    },
    {
      "cell_type": "code",
      "execution_count": null,
      "metadata": {
        "hidden": true,
        "trusted": false,
        "id": "JHruqL7YPi_V"
      },
      "outputs": [],
      "source": [
        "ha_week_viz.columns"
      ]
    },
    {
      "cell_type": "code",
      "execution_count": null,
      "metadata": {
        "hidden": true,
        "trusted": false,
        "id": "s4sCknarPi_W"
      },
      "outputs": [],
      "source": [
        "fig, axs = plt.subplots(2,4,figsize=(16,8))\n",
        "\n",
        "plt1 = sns.scatterplot(x = 'Total_Investment', y = 'gmv', data = ha_week_viz, ax = axs[0,0])\n",
        "\n",
        "plt2 = sns.scatterplot(x = 'TV', y = 'gmv', data = ha_week_viz, ax = axs[0,1])\n",
        "\n",
        "plt3 = sns.scatterplot(x = 'Digital', y = 'gmv', data = ha_week_viz, ax = axs[0,2])\n",
        "\n",
        "plt4 = sns.scatterplot(x = 'Sponsorship', y = 'gmv', data = ha_week_viz, ax = axs[0,3])\n",
        "\n",
        "plt5 = sns.scatterplot(x = 'Content_marketing', y = 'gmv', data = ha_week_viz, ax = axs[1,0])\n",
        "\n",
        "plt6 = sns.scatterplot(x = 'Online_marketing', y = 'gmv', data = ha_week_viz, ax = axs[1,1])\n",
        "\n",
        "plt7 = sns.scatterplot(x = 'Affiliates', y = 'gmv', data = ha_week_viz, ax = axs[1,2])\n",
        "\n",
        "plt8 = sns.scatterplot(x = 'SEM', y = 'gmv', data = ha_week_viz, ax = axs[1,3])\n",
        "\n",
        "plt.tight_layout()"
      ]
    },
    {
      "cell_type": "markdown",
      "metadata": {
        "hidden": true,
        "id": "G50zdnCZPi_W"
      },
      "source": [
        "#### Bivariate Analysis"
      ]
    },
    {
      "cell_type": "markdown",
      "metadata": {
        "hidden": true,
        "id": "8HsoNQU5Pi_X"
      },
      "source": [
        "GMV and Holiday weekly"
      ]
    },
    {
      "cell_type": "code",
      "execution_count": null,
      "metadata": {
        "hidden": true,
        "trusted": false,
        "id": "Y-LIDGWcPi_X"
      },
      "outputs": [],
      "source": [
        "plt.figure(figsize=(20, 5))\n",
        "sns.barplot(x= ha_week_viz['week'], y =ha_week_viz['gmv'], hue = ha_week_viz['Special_sales'], dodge = False)\n",
        "plt.show()"
      ]
    },
    {
      "cell_type": "markdown",
      "metadata": {
        "hidden": true,
        "id": "6XuBJ1xAPi_Y"
      },
      "source": [
        "GMV and discount weekly"
      ]
    },
    {
      "cell_type": "code",
      "execution_count": null,
      "metadata": {
        "hidden": true,
        "scrolled": true,
        "trusted": false,
        "id": "etjJkk52Pi_Y"
      },
      "outputs": [],
      "source": [
        "plt.figure(figsize=(20, 5))\n",
        "sns.barplot(x= ha_week_viz['week'], y =ha_week_viz['gmv'], hue = pd.cut(ha_week_viz['discount'],3), dodge = False)\n",
        "plt.show()"
      ]
    },
    {
      "cell_type": "markdown",
      "metadata": {
        "hidden": true,
        "id": "I9zKu_eaPi_Z"
      },
      "source": [
        "#### Home Audio - Moving Average"
      ]
    },
    {
      "cell_type": "code",
      "execution_count": null,
      "metadata": {
        "hidden": true,
        "trusted": false,
        "id": "ei3K0hpNPi_Z"
      },
      "outputs": [],
      "source": [
        "### ha_week\n",
        "\n",
        "### Moving Average for listed_price and discount_offer\n",
        "\n",
        "### ha_week = ha_week.sort_values('order_date')\n",
        "\n",
        "ha_week[['MA2_LP','MA2_Discount']] = ha_week[['listing_price','discount']].rolling(window=2,min_periods=1).mean()\n",
        "ha_week[['MA3_LP','MA3_Discount']] = ha_week[['listing_price','discount']].rolling(window=3,min_periods=1).mean()\n",
        "ha_week[['MA4_LP','MA4_Discount']] = ha_week[['listing_price','discount']].rolling(window=4,min_periods=1).mean()\n",
        "\n",
        "### Reference listed price Inflation\n",
        "\n",
        "ha_week['MA2_listed_price'] = (ha_week['listing_price']-ha_week['MA2_LP'])/ha_week['MA2_LP']\n",
        "ha_week['MA3_listed_price'] = (ha_week['listing_price']-ha_week['MA3_LP'])/ha_week['MA3_LP']\n",
        "ha_week['MA4_listed_price'] = (ha_week['listing_price']-ha_week['MA4_LP'])/ha_week['MA4_LP']\n",
        "\n",
        "### Reference discount Inflation\n",
        "\n",
        "ha_week['MA2_discount'] = (ha_week['discount']-ha_week['MA2_Discount'])/ha_week['MA2_Discount']\n",
        "ha_week['MA3_discount'] = (ha_week['discount']-ha_week['MA3_Discount'])/ha_week['MA3_Discount']\n",
        "ha_week['MA4_discount'] = (ha_week['discount']-ha_week['MA4_Discount'])/ha_week['MA4_Discount']\n",
        "\n",
        "\n",
        "ha_week.drop(['MA2_LP','MA3_LP','MA4_LP','MA2_Discount','MA3_Discount','MA4_Discount'], axis = 1, inplace = True)\n",
        "ha_week\n",
        "\n"
      ]
    },
    {
      "cell_type": "markdown",
      "metadata": {
        "hidden": true,
        "id": "KgU1q1R-Pi_a"
      },
      "source": [
        "#### Heatmap to see multicollinearity"
      ]
    },
    {
      "cell_type": "code",
      "execution_count": null,
      "metadata": {
        "hidden": true,
        "trusted": false,
        "id": "2G4ib-NCPi_b"
      },
      "outputs": [],
      "source": [
        "plt.figure(figsize=(25,20))\n",
        "\n",
        "### Heatmap\n",
        "sns.heatmap(ha_week.corr(), cmap=\"coolwarm\", annot=True)\n",
        "plt.show()"
      ]
    },
    {
      "cell_type": "code",
      "execution_count": null,
      "metadata": {
        "hidden": true,
        "trusted": false,
        "id": "ZHOQCxOQPi_b"
      },
      "outputs": [],
      "source": [
        "ha_week.drop(['TV', 'Digital', 'Sponsorship', 'Content_marketing','Online_marketing', 'Affiliates', 'SEM','Radio',\n",
        "              'Other','Affiliates_ads','SEM_ads','Digital_ads','Radio_ads','Other_ads','mean_temp_C','min_temp_C',\n",
        "              'order_id','order_item_id','total_precip_mm','Total_Investment','MA3_discount',\n",
        "              'MA3_listed_price','AOV'], axis = 1, inplace = True)"
      ]
    },
    {
      "cell_type": "code",
      "execution_count": null,
      "metadata": {
        "hidden": true,
        "trusted": false,
        "id": "Y-W5YnYnPi_c"
      },
      "outputs": [],
      "source": [
        "ha_week.drop(['max_temp_C'], axis = 1, inplace = True)"
      ]
    },
    {
      "cell_type": "code",
      "execution_count": null,
      "metadata": {
        "hidden": true,
        "trusted": false,
        "id": "L9qyAlPQPi_c"
      },
      "outputs": [],
      "source": [
        "###  Successfully removed more than 90% highly correlated variables from dataset."
      ]
    },
    {
      "cell_type": "markdown",
      "metadata": {
        "hidden": true,
        "id": "nAYtWoA7Pi_d"
      },
      "source": [
        "#### Home Audio - Lag Variable Functions"
      ]
    },
    {
      "cell_type": "code",
      "execution_count": null,
      "metadata": {
        "hidden": true,
        "trusted": false,
        "id": "bwLo-spUPi_d"
      },
      "outputs": [],
      "source": [
        "### Lag of listed_price, discount_offer, NPS, Special_sales\n",
        "\n",
        "ha_week['lag_1_listed_price'] = ha_week['listing_price'].shift(-1).fillna(0)\n",
        "ha_week['lag_2_listed_price'] = ha_week['listing_price'].shift(-2).fillna(0)\n",
        "ha_week['lag_3_listed_price'] = ha_week['listing_price'].shift(-3).fillna(0)\n",
        "\n",
        "ha_week['lag_1_discount_offer'] = ha_week['discount'].shift(-1).fillna(0)\n",
        "ha_week['lag_2_discount_offer'] = ha_week['discount'].shift(-2).fillna(0)\n",
        "ha_week['lag_3_discount_offer'] = ha_week['discount'].shift(-3).fillna(0)\n",
        "\n",
        "ha_week['lag_1_NPS'] = ha_week['NPS'].shift(-1).fillna(0)\n",
        "ha_week['lag_2_NPS'] = ha_week['NPS'].shift(-2).fillna(0)\n",
        "ha_week['lag_3_NPS'] = ha_week['NPS'].shift(-3).fillna(0)\n",
        "\n",
        "ha_week['lag_1_Stock_Index'] = ha_week['Stock_Index'].shift(-1).fillna(0)\n",
        "ha_week['lag_2_Stock_Index'] = ha_week['Stock_Index'].shift(-2).fillna(0)\n",
        "ha_week['lag_3_Stock_Index'] = ha_week['Stock_Index'].shift(-3).fillna(0)\n",
        "\n",
        "ha_week['lag_1_Special_sales'] = ha_week['Special_sales'].shift(-1).fillna(0)\n",
        "ha_week['lag_2_Special_sales'] = ha_week['Special_sales'].shift(-2).fillna(0)\n",
        "ha_week['lag_3_Special_sales'] = ha_week['Special_sales'].shift(-3).fillna(0)\n",
        "\n",
        "ha_week['lag_1_Payday'] = ha_week['Payday'].shift(-1).fillna(0)\n",
        "ha_week['lag_2_Payday'] = ha_week['Payday'].shift(-2).fillna(0)\n",
        "ha_week['lag_3_Payday'] = ha_week['Payday'].shift(-3).fillna(0)\n"
      ]
    },
    {
      "cell_type": "code",
      "execution_count": null,
      "metadata": {
        "hidden": true,
        "scrolled": true,
        "trusted": false,
        "id": "rsVdikpDPi_e"
      },
      "outputs": [],
      "source": [
        "ha_week.head(10)"
      ]
    },
    {
      "cell_type": "markdown",
      "metadata": {
        "heading_collapsed": true,
        "id": "Rg2u0qqBPi_f"
      },
      "source": [
        "# 5. Modeling - Camera Accessory"
      ]
    },
    {
      "cell_type": "markdown",
      "metadata": {
        "heading_collapsed": true,
        "hidden": true,
        "id": "WX06iTbjPi_g"
      },
      "source": [
        "### 1. Linear Model"
      ]
    },
    {
      "cell_type": "code",
      "execution_count": null,
      "metadata": {
        "hidden": true,
        "trusted": false,
        "id": "9vJzh7qePi_g"
      },
      "outputs": [],
      "source": [
        "###  Importing RFE and LinearRegression\n",
        "from sklearn.feature_selection import RFE\n",
        "from sklearn.linear_model import LinearRegression"
      ]
    },
    {
      "cell_type": "code",
      "execution_count": null,
      "metadata": {
        "hidden": true,
        "scrolled": true,
        "trusted": false,
        "id": "cVBGNCg6Pi_h"
      },
      "outputs": [],
      "source": [
        "ca_week.columns"
      ]
    },
    {
      "cell_type": "code",
      "execution_count": null,
      "metadata": {
        "hidden": true,
        "scrolled": true,
        "trusted": false,
        "id": "6WI-mwCnPi_h"
      },
      "outputs": [],
      "source": [
        "camera_lm = ca_week[['gmv', 'discount', 'sla','product_procurement_sla', 'order_payment_type',\n",
        "       'online_order_perc', 'TV_ads','Sponsorship_ads', 'Content_marketing_ads', 'Online_marketing_ads',\n",
        "       'NPS', 'Stock_Index', 'Special_sales', 'Payday', 'heat_deg_days', 'cool_deg_days',\n",
        "       'total_rain_mm', 'total_snow_cm','snow_on_grnd_cm', 'MA4_listed_price',\n",
        "       'MA2_discount_offer','premium_product']]\n",
        "\n",
        "\n",
        "camera_lm.head()"
      ]
    },
    {
      "cell_type": "code",
      "execution_count": null,
      "metadata": {
        "hidden": true,
        "trusted": false,
        "id": "HFOTQSFSPi_i"
      },
      "outputs": [],
      "source": [
        "### Checking NaN\n",
        "\n",
        "camera_lm.isnull().sum()"
      ]
    },
    {
      "cell_type": "code",
      "execution_count": null,
      "metadata": {
        "hidden": true,
        "trusted": false,
        "id": "g09hi7cVPi_i"
      },
      "outputs": [],
      "source": [
        "camera_lm.fillna(0, inplace = True)"
      ]
    },
    {
      "cell_type": "code",
      "execution_count": null,
      "metadata": {
        "hidden": true,
        "trusted": false,
        "id": "oyfRT7mSPi_j"
      },
      "outputs": [],
      "source": [
        "from sklearn.model_selection import train_test_split\n",
        "\n",
        "\n",
        "np.random.seed(0)\n",
        "df_train, df_test = train_test_split(camera_lm, train_size = 0.7, test_size = 0.3, random_state = 100)"
      ]
    },
    {
      "cell_type": "code",
      "execution_count": null,
      "metadata": {
        "hidden": true,
        "trusted": false,
        "id": "2igrpCGcPi_j"
      },
      "outputs": [],
      "source": [
        "### Import the StandardScaler()\n",
        "# from sklearn.preprocessing import StandardScaler\n",
        "from sklearn.preprocessing import MinMaxScaler\n",
        "\n",
        "### Create a scaling object\n",
        "# scaler = StandardScaler()\n",
        "scaler = MinMaxScaler()\n",
        "\n",
        "\n",
        "### Create a list of the variables that you need to scale\n",
        "varlist = ['gmv', 'discount', 'sla','product_procurement_sla', 'order_payment_type',\n",
        "       'online_order_perc', 'TV_ads','Sponsorship_ads', 'Content_marketing_ads', 'Online_marketing_ads',\n",
        "       'NPS', 'Stock_Index', 'Special_sales', 'Payday', 'heat_deg_days', 'cool_deg_days',\n",
        "       'total_rain_mm', 'total_snow_cm','snow_on_grnd_cm', 'MA4_listed_price',\n",
        "       'MA2_discount_offer','premium_product']\n",
        "\n",
        "\n",
        "### Scale these variables using 'fit_transform'\n",
        "df_train[varlist] = scaler.fit_transform(df_train[varlist])"
      ]
    },
    {
      "cell_type": "code",
      "execution_count": null,
      "metadata": {
        "hidden": true,
        "scrolled": true,
        "trusted": false,
        "id": "gzr882XNPi_k"
      },
      "outputs": [],
      "source": [
        "df_train.head()"
      ]
    },
    {
      "cell_type": "code",
      "execution_count": null,
      "metadata": {
        "hidden": true,
        "trusted": false,
        "id": "XQBWJ1krPi_k"
      },
      "outputs": [],
      "source": [
        "### Split the train dataset into X and y\n",
        "from sklearn.model_selection import train_test_split\n",
        "X_train = df_train.drop('gmv',axis=1)\n",
        "y_train = df_train['gmv']\n"
      ]
    },
    {
      "cell_type": "code",
      "execution_count": null,
      "metadata": {
        "hidden": true,
        "trusted": false,
        "id": "OpFF7DraPi_3"
      },
      "outputs": [],
      "source": [
        "#RFE\n",
        "from sklearn.feature_selection import RFE\n",
        "from sklearn.linear_model import LinearRegression\n",
        "import statsmodels.api as sm\n",
        "from statsmodels.stats.outliers_influence import variance_inflation_factor"
      ]
    },
    {
      "cell_type": "code",
      "execution_count": null,
      "metadata": {
        "hidden": true,
        "trusted": false,
        "id": "W5kJ6M7XPi_6"
      },
      "outputs": [],
      "source": [
        "lm = LinearRegression()\n",
        "lm.fit(X_train,y_train)\n",
        "rfe = RFE(lm, 10)\n",
        "rfe = rfe.fit(X_train, y_train)"
      ]
    },
    {
      "cell_type": "code",
      "execution_count": null,
      "metadata": {
        "hidden": true,
        "trusted": false,
        "id": "feFJjFvjPi_7"
      },
      "outputs": [],
      "source": [
        "list(zip(X_train.columns,rfe.support_,rfe.ranking_))"
      ]
    },
    {
      "cell_type": "code",
      "execution_count": null,
      "metadata": {
        "hidden": true,
        "trusted": false,
        "id": "9XTO7z7jPi_8"
      },
      "outputs": [],
      "source": [
        "X_train.columns[rfe.support_]"
      ]
    },
    {
      "cell_type": "markdown",
      "metadata": {
        "hidden": true,
        "id": "WOydimfmPi_9"
      },
      "source": [
        "#### Building model using statsmodel, for the detailed statistics"
      ]
    },
    {
      "cell_type": "code",
      "execution_count": null,
      "metadata": {
        "hidden": true,
        "trusted": false,
        "id": "tjaY4cuVPi_9"
      },
      "outputs": [],
      "source": [
        "X_train_rfe = X_train[X_train.columns[rfe.support_]]\n",
        "X_train_rfe.head()"
      ]
    },
    {
      "cell_type": "code",
      "execution_count": null,
      "metadata": {
        "hidden": true,
        "trusted": false,
        "id": "PvYWYSY-Pi_-"
      },
      "outputs": [],
      "source": [
        "def build_model(X,y):\n",
        "    X = sm.add_constant(X) #Adding the constant\n",
        "    lm = sm.OLS(y,X).fit() # fitting the model\n",
        "    print(lm.summary()) # model summary\n",
        "    return X\n",
        "\n",
        "def checkVIF(X):\n",
        "    vif = pd.DataFrame()\n",
        "    vif['Features'] = X.columns\n",
        "    vif['VIF'] = [variance_inflation_factor(X.values, i) for i in range(X.shape[1])]\n",
        "    vif['VIF'] = round(vif['VIF'], 2)\n",
        "    vif = vif.sort_values(by = \"VIF\", ascending = False)\n",
        "    return(vif)"
      ]
    },
    {
      "cell_type": "markdown",
      "metadata": {
        "hidden": true,
        "id": "vpsm8dZgPi_-"
      },
      "source": [
        "#### MODEL 1"
      ]
    },
    {
      "cell_type": "code",
      "execution_count": null,
      "metadata": {
        "hidden": true,
        "trusted": false,
        "id": "ZSJYOjdSPi__"
      },
      "outputs": [],
      "source": [
        "X_train_new = build_model(X_train_rfe,y_train)"
      ]
    },
    {
      "cell_type": "code",
      "execution_count": null,
      "metadata": {
        "hidden": true,
        "trusted": false,
        "id": "bBlH7QP9PjAA"
      },
      "outputs": [],
      "source": [
        "checkVIF(X_train_new)"
      ]
    },
    {
      "cell_type": "code",
      "execution_count": null,
      "metadata": {
        "hidden": true,
        "trusted": false,
        "id": "8ycDoFlFPjAA"
      },
      "outputs": [],
      "source": [
        "X_train_new = X_train_rfe.drop([\"discount\"], axis = 1)"
      ]
    },
    {
      "cell_type": "markdown",
      "metadata": {
        "hidden": true,
        "id": "B5VgM9ZBPjAB"
      },
      "source": [
        "#### MODEL 2"
      ]
    },
    {
      "cell_type": "code",
      "execution_count": null,
      "metadata": {
        "hidden": true,
        "trusted": false,
        "id": "SclVF8TGPjAB"
      },
      "outputs": [],
      "source": [
        "X_train_new = build_model(X_train_new,y_train)"
      ]
    },
    {
      "cell_type": "code",
      "execution_count": null,
      "metadata": {
        "hidden": true,
        "trusted": false,
        "id": "nlg4ZGkKPjAC"
      },
      "outputs": [],
      "source": [
        "checkVIF(X_train_new)"
      ]
    },
    {
      "cell_type": "code",
      "execution_count": null,
      "metadata": {
        "hidden": true,
        "trusted": false,
        "id": "-1OlyXFEPjAC"
      },
      "outputs": [],
      "source": [
        "X_train_new = X_train_new.drop([\"heat_deg_days\"], axis = 1)"
      ]
    },
    {
      "cell_type": "markdown",
      "metadata": {
        "hidden": true,
        "id": "s_gQahFQPjAD"
      },
      "source": [
        "#### MODEL 3"
      ]
    },
    {
      "cell_type": "code",
      "execution_count": null,
      "metadata": {
        "hidden": true,
        "trusted": false,
        "id": "qRSGrLjQPjAD"
      },
      "outputs": [],
      "source": [
        "X_train_new = build_model(X_train_new,y_train)"
      ]
    },
    {
      "cell_type": "code",
      "execution_count": null,
      "metadata": {
        "hidden": true,
        "trusted": false,
        "id": "Eb1xd_eoPjAE"
      },
      "outputs": [],
      "source": [
        "X_train_new = X_train_new.drop([\"snow_on_grnd_cm\"], axis = 1)"
      ]
    },
    {
      "cell_type": "markdown",
      "metadata": {
        "hidden": true,
        "id": "CCxaUD6NPjAF"
      },
      "source": [
        "#### MODEL 4"
      ]
    },
    {
      "cell_type": "code",
      "execution_count": null,
      "metadata": {
        "hidden": true,
        "trusted": false,
        "id": "SZ8l571sPjAF"
      },
      "outputs": [],
      "source": [
        "X_train_new = build_model(X_train_new,y_train)"
      ]
    },
    {
      "cell_type": "code",
      "execution_count": null,
      "metadata": {
        "hidden": true,
        "trusted": false,
        "id": "gnz9oCZTPjAG"
      },
      "outputs": [],
      "source": [
        "checkVIF(X_train_new)"
      ]
    },
    {
      "cell_type": "code",
      "execution_count": null,
      "metadata": {
        "hidden": true,
        "trusted": false,
        "id": "kx0uEAcEPjAH"
      },
      "outputs": [],
      "source": [
        "X_train_new = X_train_new.drop([\"sla\"], axis = 1)"
      ]
    },
    {
      "cell_type": "markdown",
      "metadata": {
        "hidden": true,
        "id": "Q7RDc0HbPjAJ"
      },
      "source": [
        "#### MODEL 5"
      ]
    },
    {
      "cell_type": "code",
      "execution_count": null,
      "metadata": {
        "hidden": true,
        "trusted": false,
        "id": "eB52aUUZPjAK"
      },
      "outputs": [],
      "source": [
        "X_train_new = build_model(X_train_new,y_train)"
      ]
    },
    {
      "cell_type": "code",
      "execution_count": null,
      "metadata": {
        "hidden": true,
        "trusted": false,
        "id": "c2YAfOt5PjAL"
      },
      "outputs": [],
      "source": [
        "checkVIF(X_train_new)"
      ]
    },
    {
      "cell_type": "code",
      "execution_count": null,
      "metadata": {
        "hidden": true,
        "trusted": false,
        "id": "MCFlauSNPjAM"
      },
      "outputs": [],
      "source": [
        "X_train_new = X_train_new.drop([\"MA2_discount_offer\"], axis = 1)"
      ]
    },
    {
      "cell_type": "markdown",
      "metadata": {
        "hidden": true,
        "id": "Mp0ga4vLPjAO"
      },
      "source": [
        "#### MODEL 6"
      ]
    },
    {
      "cell_type": "code",
      "execution_count": null,
      "metadata": {
        "hidden": true,
        "trusted": false,
        "id": "4lgjNEatPjAP"
      },
      "outputs": [],
      "source": [
        "X_train_new = build_model(X_train_new,y_train)"
      ]
    },
    {
      "cell_type": "code",
      "execution_count": null,
      "metadata": {
        "hidden": true,
        "trusted": false,
        "id": "eimqpdEZPjAQ"
      },
      "outputs": [],
      "source": [
        "checkVIF(X_train_new)"
      ]
    },
    {
      "cell_type": "code",
      "execution_count": null,
      "metadata": {
        "hidden": true,
        "trusted": false,
        "id": "bRJAgdxqPjAR"
      },
      "outputs": [],
      "source": [
        "X_train_new = X_train_new.drop([\"product_procurement_sla\"], axis = 1)"
      ]
    },
    {
      "cell_type": "markdown",
      "metadata": {
        "hidden": true,
        "id": "qhz2fU8TPjAR"
      },
      "source": [
        "#### MODEL 7"
      ]
    },
    {
      "cell_type": "code",
      "execution_count": null,
      "metadata": {
        "hidden": true,
        "trusted": false,
        "id": "4SubJw4FPjAS"
      },
      "outputs": [],
      "source": [
        "X_train_new = build_model(X_train_new,y_train)"
      ]
    },
    {
      "cell_type": "code",
      "execution_count": null,
      "metadata": {
        "hidden": true,
        "trusted": false,
        "id": "vn5DYwO7PjAT"
      },
      "outputs": [],
      "source": [
        "checkVIF(X_train_new)"
      ]
    },
    {
      "cell_type": "code",
      "execution_count": null,
      "metadata": {
        "hidden": true,
        "trusted": false,
        "id": "Vsk_r9hDPjAT"
      },
      "outputs": [],
      "source": [
        "X_train_new = X_train_new.drop([\"MA4_listed_price\"], axis = 1)"
      ]
    },
    {
      "cell_type": "markdown",
      "metadata": {
        "hidden": true,
        "id": "onGP6r6APjAT"
      },
      "source": [
        "#### MODEL 8"
      ]
    },
    {
      "cell_type": "code",
      "execution_count": null,
      "metadata": {
        "hidden": true,
        "trusted": false,
        "id": "CZz5XtjDPjAU"
      },
      "outputs": [],
      "source": [
        "X_train_new = build_model(X_train_new,y_train)"
      ]
    },
    {
      "cell_type": "code",
      "execution_count": null,
      "metadata": {
        "hidden": true,
        "trusted": false,
        "id": "iPVoeVVuPjAU"
      },
      "outputs": [],
      "source": [
        "checkVIF(X_train_new)"
      ]
    },
    {
      "cell_type": "markdown",
      "metadata": {
        "hidden": true,
        "id": "fdiWV7guPjAV"
      },
      "source": [
        "#### Residual Analysis of Model"
      ]
    },
    {
      "cell_type": "code",
      "execution_count": null,
      "metadata": {
        "hidden": true,
        "trusted": false,
        "id": "TM2_WBaoPjAV"
      },
      "outputs": [],
      "source": [
        "lm = sm.OLS(y_train,X_train_new).fit()\n",
        "y_train_price = lm.predict(X_train_new)"
      ]
    },
    {
      "cell_type": "code",
      "execution_count": null,
      "metadata": {
        "hidden": true,
        "trusted": false,
        "id": "iJf-01h2PjAW"
      },
      "outputs": [],
      "source": [
        "# Plot the histogram of the error terms\n",
        "fig = plt.figure()\n",
        "sns.distplot((y_train - y_train_price), bins = 20)\n",
        "fig.suptitle('Error Terms', fontsize = 20)                  # Plot heading\n",
        "plt.xlabel('Errors', fontsize = 18)"
      ]
    },
    {
      "cell_type": "markdown",
      "metadata": {
        "hidden": true,
        "id": "3EN-OM8KPjAW"
      },
      "source": [
        "Error terms seem to be approximately normally distributed, so the assumption on the linear modeling seems to be fulfilled."
      ]
    },
    {
      "cell_type": "markdown",
      "metadata": {
        "hidden": true,
        "id": "Et4KkyzRPjAX"
      },
      "source": [
        "#### Prediction and Evaluation"
      ]
    },
    {
      "cell_type": "code",
      "execution_count": null,
      "metadata": {
        "hidden": true,
        "trusted": false,
        "id": "TU_kyd-kPjAY"
      },
      "outputs": [],
      "source": [
        "#Scaling the test set\n",
        "num_vars = ['gmv', 'discount', 'sla','product_procurement_sla', 'order_payment_type',\n",
        "       'online_order_perc', 'TV_ads','Sponsorship_ads', 'Content_marketing_ads', 'Online_marketing_ads',\n",
        "       'NPS', 'Stock_Index', 'Special_sales', 'Payday', 'heat_deg_days', 'cool_deg_days',\n",
        "       'total_rain_mm', 'total_snow_cm','snow_on_grnd_cm', 'MA4_listed_price',\n",
        "       'MA2_discount_offer','premium_product']\n",
        "df_test[num_vars] = scaler.fit_transform(df_test[num_vars])\n"
      ]
    },
    {
      "cell_type": "code",
      "execution_count": null,
      "metadata": {
        "hidden": true,
        "trusted": false,
        "id": "8T2hu7wiPjAZ"
      },
      "outputs": [],
      "source": [
        "#Dividing into X and y\n",
        "y_test = df_test.pop('gmv')\n",
        "X_test = df_test"
      ]
    },
    {
      "cell_type": "code",
      "execution_count": null,
      "metadata": {
        "hidden": true,
        "trusted": false,
        "id": "kne02NPbPjAZ"
      },
      "outputs": [],
      "source": [
        "# Now let's use our model to make predictions.\n",
        "X_train_new = X_train_new.drop('const',axis=1)\n",
        "# Creating X_test_new dataframe by dropping variables from X_test\n",
        "X_test_new = X_test[X_train_new.columns]\n",
        "\n",
        "# Adding a constant variable\n",
        "X_test_new = sm.add_constant(X_test_new)"
      ]
    },
    {
      "cell_type": "code",
      "execution_count": null,
      "metadata": {
        "hidden": true,
        "trusted": false,
        "id": "kDbR2nztPjAZ"
      },
      "outputs": [],
      "source": [
        "# Making predictions\n",
        "y_pred = lm.predict(X_test_new)"
      ]
    },
    {
      "cell_type": "markdown",
      "metadata": {
        "hidden": true,
        "id": "8CKQHsgGPjAa"
      },
      "source": [
        "#### Evaluation of test via comparison of y_pred and y_test"
      ]
    },
    {
      "cell_type": "code",
      "execution_count": null,
      "metadata": {
        "hidden": true,
        "trusted": false,
        "id": "pVjGjyyUPjAa"
      },
      "outputs": [],
      "source": [
        "from sklearn.metrics import r2_score\n",
        "r2_score(y_test, y_pred)"
      ]
    },
    {
      "cell_type": "code",
      "execution_count": null,
      "metadata": {
        "hidden": true,
        "trusted": false,
        "id": "xZdNEujNPjAb"
      },
      "outputs": [],
      "source": [
        "#EVALUATION OF THE MODEL\n",
        "# Plotting y_test and y_pred to understand the spread.\n",
        "fig = plt.figure()\n",
        "plt.scatter(y_test,y_pred)\n",
        "fig.suptitle('y_test vs y_pred', fontsize=20)              # Plot heading\n",
        "plt.xlabel('y_test', fontsize=18)                          # X-label\n",
        "plt.ylabel('y_pred', fontsize=16)"
      ]
    },
    {
      "cell_type": "markdown",
      "metadata": {
        "hidden": true,
        "id": "NchUEjJ-PjAb"
      },
      "source": [
        "#### Evaluation of the model using Statistics"
      ]
    },
    {
      "cell_type": "code",
      "execution_count": null,
      "metadata": {
        "hidden": true,
        "trusted": false,
        "id": "Ko3akTm0PjAc"
      },
      "outputs": [],
      "source": [
        "print(lm.summary())"
      ]
    },
    {
      "cell_type": "markdown",
      "metadata": {
        "heading_collapsed": true,
        "hidden": true,
        "id": "ojW_3JGlPjAc"
      },
      "source": [
        "### 1.1 Linear Model - Stepwise Selection for feature selection"
      ]
    },
    {
      "cell_type": "code",
      "execution_count": null,
      "metadata": {
        "hidden": true,
        "trusted": false,
        "id": "Gh04pA_1PjAc"
      },
      "outputs": [],
      "source": [
        "###  Importing RFE and LinearRegression\n",
        "from sklearn.feature_selection import RFE\n",
        "from sklearn.linear_model import LinearRegression"
      ]
    },
    {
      "cell_type": "code",
      "execution_count": null,
      "metadata": {
        "hidden": true,
        "scrolled": true,
        "trusted": false,
        "id": "nU0P4x5cPjAd"
      },
      "outputs": [],
      "source": [
        "ca_week.columns"
      ]
    },
    {
      "cell_type": "code",
      "execution_count": null,
      "metadata": {
        "hidden": true,
        "scrolled": true,
        "trusted": false,
        "id": "3caWD-qiPjAd"
      },
      "outputs": [],
      "source": [
        "camera_lm = ca_week[['gmv', 'discount', 'sla','product_procurement_sla', 'order_payment_type',\n",
        "       'online_order_perc', 'TV_ads','Sponsorship_ads', 'Content_marketing_ads', 'Online_marketing_ads',\n",
        "       'NPS', 'Stock_Index', 'Special_sales', 'Payday', 'heat_deg_days', 'cool_deg_days',\n",
        "       'total_rain_mm', 'total_snow_cm','snow_on_grnd_cm', 'MA4_listed_price',\n",
        "       'MA2_discount_offer']]\n",
        "\n",
        "\n",
        "camera_lm.head()"
      ]
    },
    {
      "cell_type": "code",
      "execution_count": null,
      "metadata": {
        "hidden": true,
        "trusted": false,
        "id": "A1WEL4aQPjAe"
      },
      "outputs": [],
      "source": [
        "### Checking NaN\n",
        "camera_lm.isnull().sum()"
      ]
    },
    {
      "cell_type": "code",
      "execution_count": null,
      "metadata": {
        "hidden": true,
        "trusted": false,
        "id": "LMuCNlwYPjAe"
      },
      "outputs": [],
      "source": [
        "camera_lm.fillna(0, inplace = True)"
      ]
    },
    {
      "cell_type": "code",
      "execution_count": null,
      "metadata": {
        "hidden": true,
        "trusted": false,
        "id": "_0PBChGsPjAf"
      },
      "outputs": [],
      "source": [
        "### Import the StandardScaler()\n",
        "# from sklearn.preprocessing import StandardScaler\n",
        "from sklearn.preprocessing import MinMaxScaler\n",
        "\n",
        "### Create a scaling object\n",
        "# scaler = StandardScaler()\n",
        "scaler = MinMaxScaler()\n",
        "\n",
        "\n",
        "### Create a list of the variables that you need to scale\n",
        "varlist = ['gmv', 'discount', 'sla','product_procurement_sla', 'order_payment_type',\n",
        "       'online_order_perc', 'TV_ads','Sponsorship_ads', 'Content_marketing_ads', 'Online_marketing_ads',\n",
        "       'NPS', 'Stock_Index', 'Special_sales', 'Payday', 'heat_deg_days', 'cool_deg_days',\n",
        "       'total_rain_mm', 'total_snow_cm','snow_on_grnd_cm', 'MA4_listed_price',\n",
        "       'MA2_discount_offer']\n",
        "\n",
        "\n",
        "### Scale these variables using 'fit_transform'\n",
        "camera_lm[varlist] = scaler.fit_transform(camera_lm[varlist])"
      ]
    },
    {
      "cell_type": "code",
      "execution_count": null,
      "metadata": {
        "hidden": true,
        "scrolled": true,
        "trusted": false,
        "id": "qwce7n6FPjAf"
      },
      "outputs": [],
      "source": [
        "camera_lm.head()"
      ]
    },
    {
      "cell_type": "code",
      "execution_count": null,
      "metadata": {
        "hidden": true,
        "trusted": false,
        "id": "P5EsAINuPjAf"
      },
      "outputs": [],
      "source": [
        "### Split the train dataset into X and y\n",
        "from sklearn.model_selection import train_test_split\n",
        "x = camera_lm.drop('gmv',axis=1)\n",
        "y = camera_lm['gmv']\n",
        "\n",
        "camera_train_lm = camera_lm"
      ]
    },
    {
      "cell_type": "code",
      "execution_count": null,
      "metadata": {
        "hidden": true,
        "trusted": false,
        "id": "QFyqVWRYPjAg"
      },
      "outputs": [],
      "source": [
        "print(\"x dataset: \",x.shape)\n",
        "print(\"y dataset: \",y.shape)"
      ]
    },
    {
      "cell_type": "code",
      "execution_count": null,
      "metadata": {
        "hidden": true,
        "trusted": false,
        "id": "32ZC838mPjAg"
      },
      "outputs": [],
      "source": [
        "###  Instantiate\n",
        "lm = LinearRegression()\n",
        "\n",
        "###  Fit a line\n",
        "lm.fit(x,y)\n"
      ]
    },
    {
      "cell_type": "code",
      "execution_count": null,
      "metadata": {
        "hidden": true,
        "trusted": false,
        "id": "FeTPLST3PjAh"
      },
      "outputs": [],
      "source": [
        "###  Coefficient values\n",
        "\n",
        "coef = pd.DataFrame(x.columns)\n",
        "coef['Coefficient'] = pd.Series(lm.coef_)\n",
        "coef\n"
      ]
    },
    {
      "cell_type": "code",
      "execution_count": null,
      "metadata": {
        "hidden": true,
        "trusted": false,
        "id": "cQLGh1eFPjAh"
      },
      "outputs": [],
      "source": [
        "col = x.columns\n",
        "col"
      ]
    },
    {
      "cell_type": "markdown",
      "metadata": {
        "hidden": true,
        "id": "clDMwcgqPjAi"
      },
      "source": [
        "#### Model Building - Stepwise selection for feature selection"
      ]
    },
    {
      "cell_type": "code",
      "execution_count": null,
      "metadata": {
        "hidden": true,
        "trusted": false,
        "id": "7nQn6t15PjAi"
      },
      "outputs": [],
      "source": [
        "import statsmodels.api as sm\n",
        "from statsmodels.stats.outliers_influence import variance_inflation_factor\n",
        "from sklearn.model_selection import KFold\n",
        "from sklearn.model_selection import cross_val_score"
      ]
    },
    {
      "cell_type": "code",
      "execution_count": null,
      "metadata": {
        "hidden": true,
        "trusted": false,
        "id": "F7Bpam-oPjAj"
      },
      "outputs": [],
      "source": [
        "def stepwise_selection(x, y,\n",
        "                       initial_list=[ 'discount', 'sla','product_procurement_sla', 'order_payment_type',\n",
        "       'online_order_perc', 'TV_ads','Sponsorship_ads', 'Content_marketing_ads', 'Online_marketing_ads',\n",
        "       'NPS', 'Stock_Index', 'Special_sales', 'Payday', 'heat_deg_days', 'cool_deg_days',\n",
        "       'total_rain_mm', 'total_snow_cm','snow_on_grnd_cm', 'MA4_listed_price',\n",
        "       'MA2_discount_offer'],\n",
        "                       threshold_in=0.01,threshold_out = 0.05, verbose=True):\n",
        "\n",
        "    included = list(initial_list)\n",
        "    while True:\n",
        "        changed=False\n",
        "        ###forward step\n",
        "        excluded = list(set(x.columns)-set(included))\n",
        "        new_pval = pd.Series(index=excluded)\n",
        "        for new_column in excluded:\n",
        "            model = sm.OLS(y, sm.add_constant(pd.DataFrame(x[included+[new_column]]))).fit()\n",
        "            new_pval[new_column] = model.pvalues[new_column]\n",
        "        best_pval = new_pval.min()\n",
        "        if best_pval < threshold_in:\n",
        "            best_feature = new_pval.argmin()\n",
        "            included.append(best_feature)\n",
        "            changed=True\n",
        "            if verbose:\n",
        "                print('Add  {:30} with p-value {:.6}'.format(best_feature, best_pval))\n",
        "\n",
        "\n",
        "        ###backward step\n",
        "        model = sm.OLS(y, sm.add_constant(pd.DataFrame(x[included]))).fit()\n",
        "        ###use all coefs except intercept\n",
        "        pvalues = model.pvalues.iloc[1:]\n",
        "        worst_pval = pvalues.max() ###null if pvalues is empty\n",
        "        if worst_pval > threshold_out:\n",
        "            changed=True\n",
        "            worst_feature = pvalues.argmax()\n",
        "            included.remove(worst_feature)\n",
        "            if verbose:\n",
        "                print('Drop {:30} with p-value {:.6}'.format(worst_feature, worst_pval))\n",
        "        if not changed:\n",
        "            break\n",
        "    return included\n"
      ]
    },
    {
      "cell_type": "code",
      "execution_count": null,
      "metadata": {
        "hidden": true,
        "trusted": false,
        "id": "idwJxi5sPjAj"
      },
      "outputs": [],
      "source": [
        "import statsmodels.api as sm\n",
        "\n",
        "final_features = stepwise_selection(x, y)\n",
        "\n",
        "print(\"\\n\",\"final_selected_features:\",final_features)"
      ]
    },
    {
      "cell_type": "code",
      "execution_count": null,
      "metadata": {
        "hidden": true,
        "trusted": false,
        "id": "yuLymJfQPjAk"
      },
      "outputs": [],
      "source": [
        "###  Import statsmodels\n",
        "import statsmodels.api as sm\n",
        "\n",
        "###  Subsetting training data for 15 selected columns\n",
        "x_rfe1 = x[final_features]\n",
        "\n",
        "x_rfe1 = sm.add_constant(x_rfe1)\n",
        "\n",
        "###  Fitting the model with selected variables\n",
        "lm1 = sm.OLS(y, x_rfe1).fit()\n",
        "\n",
        "print(lm1.params)"
      ]
    },
    {
      "cell_type": "code",
      "execution_count": null,
      "metadata": {
        "hidden": true,
        "trusted": false,
        "id": "Fbv9XbfTPjAk"
      },
      "outputs": [],
      "source": [
        "print(lm1.summary())"
      ]
    },
    {
      "cell_type": "code",
      "execution_count": null,
      "metadata": {
        "hidden": true,
        "trusted": false,
        "id": "0T-JHImePjAk"
      },
      "outputs": [],
      "source": [
        "###  Create a dataframe that will contain the names of all the feature variables and their respective VIFs\n",
        "vif = pd.DataFrame()\n",
        "\n",
        "vif['Features'] = x_rfe1.columns\n",
        "vif['VIF'] = [variance_inflation_factor(x_rfe1.values, i) for i in range(x_rfe1.shape[1])]\n",
        "\n",
        "vif['VIF'] = round(vif['VIF'], 2)\n",
        "vif = vif.sort_values(by = \"VIF\", ascending = False)\n",
        "vif"
      ]
    },
    {
      "cell_type": "code",
      "execution_count": null,
      "metadata": {
        "hidden": true,
        "trusted": false,
        "id": "czxDUY2rPjAl"
      },
      "outputs": [],
      "source": [
        "features = list(x_rfe1.columns)\n",
        "features.remove('const')\n",
        "features"
      ]
    },
    {
      "cell_type": "code",
      "execution_count": null,
      "metadata": {
        "hidden": true,
        "trusted": false,
        "id": "03BwpDjePjAl"
      },
      "outputs": [],
      "source": [
        "###  Model Evaluation on testing data\n",
        "x_2 = x[features]\n",
        "\n",
        "\n",
        "###  Predicition with selected features on the test data\n",
        "y_pred = lm1.predict(sm.add_constant(x_2))\n"
      ]
    },
    {
      "cell_type": "code",
      "execution_count": null,
      "metadata": {
        "hidden": true,
        "trusted": false,
        "id": "2D16xMvIPjAm"
      },
      "outputs": [],
      "source": [
        "###  Mean square error (MSE)\n",
        "\n",
        "mse = np.mean((y_pred - y)**2)\n",
        "mse"
      ]
    },
    {
      "cell_type": "code",
      "execution_count": null,
      "metadata": {
        "hidden": true,
        "trusted": false,
        "id": "vy4Bj7ZuPjAm"
      },
      "outputs": [],
      "source": [
        "###  Coefficient values\n",
        "\n",
        "coef = pd.DataFrame(x_rfe1.columns)\n",
        "coef['Coefficient'] = pd.Series(lm.coef_)\n",
        "coef\n"
      ]
    },
    {
      "cell_type": "code",
      "execution_count": null,
      "metadata": {
        "hidden": true,
        "trusted": false,
        "id": "xGK_G5K3PjAn"
      },
      "outputs": [],
      "source": [
        "### Mean Square Error\n",
        "###  Using K-Fold Cross validation evaluating on selected dataset\n",
        "\n",
        "# lm = LinearRegression()\n",
        "fold = KFold(10,shuffle = True, random_state = 100)\n",
        "\n",
        "cv_scores = -cross_val_score(lm,x[features],y,cv=fold,scoring='neg_mean_squared_error')\n",
        "\n",
        "print(\"Neg. of MSE:\",cv_scores,\"\\n\")\n",
        "print(\"Mean of 5 KFold CV - MSE:\",cv_scores.mean())"
      ]
    },
    {
      "cell_type": "code",
      "execution_count": null,
      "metadata": {
        "hidden": true,
        "trusted": false,
        "id": "WP3UFDeEPjAn"
      },
      "outputs": [],
      "source": [
        "def elasticity(model,x):\n",
        "\n",
        "    features_df = pd.DataFrame(model.params)\n",
        "    features_df = features_df.rename(columns={0:'coef'})\n",
        "\n",
        "    features_df['imp_feature'] = model.params.index\n",
        "    features_df = features_df[features_df.imp_feature != 'const'][['imp_feature','coef']]\n",
        "    features_df.index = range(len(features_df))\n",
        "#    features\n",
        "\n",
        "    elasticity_list = list()\n",
        "\n",
        "    for i in range(len(features_df)):\n",
        "        elasticity_list.append(((features_df.coef[i] * np.mean(x[features_df.imp_feature[i]])) / np.mean(x['gmv'])))\n",
        "\n",
        "    features_df['elasticity'] = np.round(elasticity_list,3)\n",
        "\n",
        "    sns.barplot(x='elasticity',y='imp_feature',data=features_df)\n",
        "    plt.show()\n",
        "\n",
        "    return features_df\n",
        ""
      ]
    },
    {
      "cell_type": "code",
      "execution_count": null,
      "metadata": {
        "hidden": true,
        "trusted": false,
        "id": "ER2WOt-sPjAp"
      },
      "outputs": [],
      "source": [
        "elasticity(lm1,camera_train_lm)"
      ]
    },
    {
      "cell_type": "code",
      "execution_count": null,
      "metadata": {
        "hidden": true,
        "trusted": false,
        "id": "KLfU2kFUPjAp"
      },
      "outputs": [],
      "source": [
        "# Plotting y and y_pred to understand the spread\n",
        "\n",
        "fig = plt.figure()\n",
        "plt.scatter(y, y_pred)\n",
        "fig.suptitle('y vs y_pred', fontsize = 20)              # Plot heading\n",
        "plt.xlabel('y', fontsize = 18)                          # X-label\n",
        "plt.ylabel('y_pred', fontsize = 16)"
      ]
    },
    {
      "cell_type": "code",
      "execution_count": null,
      "metadata": {
        "hidden": true,
        "trusted": false,
        "id": "F6YGhFpoPjAq"
      },
      "outputs": [],
      "source": [
        "# Figure size\n",
        "plt.figure(figsize=(8,5))\n",
        "\n",
        "# Heatmap\n",
        "sns.heatmap(camera_train_lm[features].corr(), cmap=\"YlGnBu\", annot=True)\n",
        "plt.show()"
      ]
    },
    {
      "cell_type": "markdown",
      "metadata": {
        "heading_collapsed": true,
        "hidden": true,
        "id": "nsMy36h4PjAq"
      },
      "source": [
        "### 2. Multiplicative Model"
      ]
    },
    {
      "cell_type": "code",
      "execution_count": null,
      "metadata": {
        "hidden": true,
        "trusted": false,
        "id": "bzVT7RUEPjAr"
      },
      "outputs": [],
      "source": [
        "ca_week.columns"
      ]
    },
    {
      "cell_type": "code",
      "execution_count": null,
      "metadata": {
        "hidden": true,
        "trusted": false,
        "id": "TfWCoPqXPjAr"
      },
      "outputs": [],
      "source": [
        "camera_mm = ca_week[['gmv', 'discount', 'sla','product_procurement_sla', 'order_payment_type',\n",
        "       'online_order_perc', 'TV_ads','Sponsorship_ads', 'Content_marketing_ads', 'Online_marketing_ads',\n",
        "       'NPS', 'Stock_Index', 'Special_sales', 'Payday', 'heat_deg_days', 'cool_deg_days',\n",
        "       'total_rain_mm', 'total_snow_cm','snow_on_grnd_cm', 'MA4_listed_price',\n",
        "       'MA2_discount_offer']]\n",
        "\n",
        "camera_mm.head()\n"
      ]
    },
    {
      "cell_type": "code",
      "execution_count": null,
      "metadata": {
        "hidden": true,
        "trusted": false,
        "id": "01JsOAdmPjAs"
      },
      "outputs": [],
      "source": [
        "### Applying Log\n",
        "camera_mm=np.log(camera_mm)\n",
        "\n",
        "camera_mm = camera_mm.fillna(0)\n",
        "camera_mm = camera_mm.replace([np.inf, -np.inf], 0)"
      ]
    },
    {
      "cell_type": "code",
      "execution_count": null,
      "metadata": {
        "hidden": true,
        "trusted": false,
        "id": "5EwI-inRPjAs"
      },
      "outputs": [],
      "source": [
        "camera_mm.head()"
      ]
    },
    {
      "cell_type": "code",
      "execution_count": null,
      "metadata": {
        "hidden": true,
        "trusted": false,
        "id": "vkUvnpklPjAt"
      },
      "outputs": [],
      "source": [
        "###  Import the StandardScaler()\n",
        "# from sklearn.preprocessing import StandardScaler\n",
        "from sklearn.preprocessing import MinMaxScaler\n",
        "\n",
        "###  Create a scaling object\n",
        "# scaler = StandardScaler()\n",
        "scaler = MinMaxScaler()\n",
        "\n",
        "###  Create a list of the variables that you need to scale\n",
        "varlist = ['gmv', 'discount', 'sla','product_procurement_sla', 'order_payment_type',\n",
        "       'online_order_perc', 'TV_ads','Sponsorship_ads', 'Content_marketing_ads', 'Online_marketing_ads',\n",
        "       'NPS', 'Stock_Index', 'Special_sales', 'Payday', 'heat_deg_days', 'cool_deg_days',\n",
        "       'total_rain_mm', 'total_snow_cm','snow_on_grnd_cm', 'MA4_listed_price',\n",
        "       'MA2_discount_offer']\n",
        "\n",
        "\n",
        "\n",
        "### Scale these variables using 'fit_transform'\n",
        "camera_mm[varlist] = scaler.fit_transform(camera_mm[varlist])"
      ]
    },
    {
      "cell_type": "code",
      "execution_count": null,
      "metadata": {
        "hidden": true,
        "scrolled": true,
        "trusted": false,
        "id": "O40tlvVXPjAt"
      },
      "outputs": [],
      "source": [
        "camera_mm.head()"
      ]
    },
    {
      "cell_type": "code",
      "execution_count": null,
      "metadata": {
        "hidden": true,
        "trusted": false,
        "id": "XffHxDNzPjAu"
      },
      "outputs": [],
      "source": [
        "### Split the train dataset into X and y\n",
        "from sklearn.model_selection import train_test_split\n",
        "\n",
        "x = camera_mm.drop('gmv',axis=1)\n",
        "y = camera_mm['gmv']\n",
        "\n",
        "camera_train_mm = camera_mm"
      ]
    },
    {
      "cell_type": "code",
      "execution_count": null,
      "metadata": {
        "hidden": true,
        "trusted": false,
        "id": "aZNcidaDPjAu"
      },
      "outputs": [],
      "source": [
        "print(\"X = Independent variable & Y = Target variable\")\n",
        "print(x.shape,y.shape)\n"
      ]
    },
    {
      "cell_type": "code",
      "execution_count": null,
      "metadata": {
        "hidden": true,
        "trusted": false,
        "id": "bFCx-5EnPjAv"
      },
      "outputs": [],
      "source": [
        "### Instantiate\n",
        "mm = LinearRegression()\n",
        "\n",
        "### Fit a line\n",
        "mm.fit(x,y)\n"
      ]
    },
    {
      "cell_type": "code",
      "execution_count": null,
      "metadata": {
        "hidden": true,
        "trusted": false,
        "id": "aOPoPLG0PjAw"
      },
      "outputs": [],
      "source": [
        "### Coefficient values\n",
        "\n",
        "coef = pd.DataFrame(x.columns)\n",
        "coef['Coefficient'] = pd.Series(mm.coef_)\n",
        "coef\n"
      ]
    },
    {
      "cell_type": "code",
      "execution_count": null,
      "metadata": {
        "hidden": true,
        "trusted": false,
        "id": "kkKEDnp8PjAw"
      },
      "outputs": [],
      "source": [
        "col = x.columns\n",
        "col"
      ]
    },
    {
      "cell_type": "markdown",
      "metadata": {
        "hidden": true,
        "id": "anqVqiThPjAx"
      },
      "source": [
        "#### Model Building - Stepwise selection for feature selection"
      ]
    },
    {
      "cell_type": "code",
      "execution_count": null,
      "metadata": {
        "hidden": true,
        "trusted": false,
        "id": "cTRpUXX3PjAx"
      },
      "outputs": [],
      "source": [
        "import statsmodels.api as sm\n",
        "from statsmodels.stats.outliers_influence import variance_inflation_factor\n",
        "from sklearn.model_selection import KFold\n",
        "from sklearn.model_selection import cross_val_score"
      ]
    },
    {
      "cell_type": "code",
      "execution_count": null,
      "metadata": {
        "hidden": true,
        "trusted": false,
        "id": "gdSzMWgTPjAx"
      },
      "outputs": [],
      "source": [
        "def stepwise_selection(x, y,\n",
        "                       initial_list=['discount', 'sla','product_procurement_sla', 'order_payment_type',\n",
        "       'online_order_perc', 'TV_ads','Sponsorship_ads', 'Content_marketing_ads', 'Online_marketing_ads',\n",
        "       'NPS', 'Stock_Index', 'Special_sales', 'Payday', 'heat_deg_days', 'cool_deg_days',\n",
        "       'total_rain_mm', 'total_snow_cm','snow_on_grnd_cm', 'MA4_listed_price',\n",
        "       'MA2_discount_offer'],\n",
        "                       threshold_in=0.01,threshold_out = 0.05, verbose=True):\n",
        "\n",
        "    included = list(initial_list)\n",
        "    while True:\n",
        "        changed=False\n",
        "        ###forward step\n",
        "        excluded = list(set(x.columns)-set(included))\n",
        "        new_pval = pd.Series(index=excluded)\n",
        "        for new_column in excluded:\n",
        "            model = sm.OLS(y, sm.add_constant(pd.DataFrame(x[included+[new_column]]))).fit()\n",
        "            new_pval[new_column] = model.pvalues[new_column]\n",
        "        best_pval = new_pval.min()\n",
        "        if best_pval < threshold_in:\n",
        "            best_feature = new_pval.argmin()\n",
        "            included.append(best_feature)\n",
        "            changed=True\n",
        "            if verbose:\n",
        "                print('Add  {:30} with p-value {:.6}'.format(best_feature, best_pval))\n",
        "\n",
        "\n",
        "        ###backward step\n",
        "        model = sm.OLS(y, sm.add_constant(pd.DataFrame(x[included]))).fit()\n",
        "        ###use all coefs except intercept\n",
        "        pvalues = model.pvalues.iloc[1:]\n",
        "        worst_pval = pvalues.max() ###null if pvalues is empty\n",
        "        if worst_pval > threshold_out:\n",
        "            changed=True\n",
        "            worst_feature = pvalues.argmax()\n",
        "            included.remove(worst_feature)\n",
        "            if verbose:\n",
        "                print('Drop {:30} with p-value {:.6}'.format(worst_feature, worst_pval))\n",
        "        if not changed:\n",
        "            break\n",
        "    return included\n"
      ]
    },
    {
      "cell_type": "code",
      "execution_count": null,
      "metadata": {
        "hidden": true,
        "trusted": false,
        "id": "V6nx3q6YPjAy"
      },
      "outputs": [],
      "source": [
        "import statsmodels.api as sm\n",
        "\n",
        "final_features = stepwise_selection(x, y)\n",
        "\n",
        "print(\"\\n\",\"final_selected_features:\",final_features)"
      ]
    },
    {
      "cell_type": "code",
      "execution_count": null,
      "metadata": {
        "hidden": true,
        "trusted": false,
        "id": "UifaHq3FPjAy"
      },
      "outputs": [],
      "source": [
        "### Import statsmodels\n",
        "import statsmodels.api as sm\n",
        "\n",
        "### Subsetting training data for 15 selected columns\n",
        "x_rfe1 = x[final_features]\n",
        "\n",
        "x_rfe1 = sm.add_constant(x_rfe1)\n",
        "\n",
        "\n",
        "### Fitting the model with selected variables\n",
        "mm1 = sm.OLS(y, x_rfe1).fit()\n",
        "\n",
        "print(mm1.params)"
      ]
    },
    {
      "cell_type": "code",
      "execution_count": null,
      "metadata": {
        "hidden": true,
        "trusted": false,
        "id": "salMJKnBPjAz"
      },
      "outputs": [],
      "source": [
        "print(mm1.summary())"
      ]
    },
    {
      "cell_type": "code",
      "execution_count": null,
      "metadata": {
        "hidden": true,
        "trusted": false,
        "id": "7FoMMS-1PjAz"
      },
      "outputs": [],
      "source": [
        "x_rfe1.drop('TV_ads',1,inplace=True)\n",
        "\n",
        "x_rfe1 = sm.add_constant(x_rfe1)\n",
        "\n",
        "\n",
        "### Fitting the model with selected variables\n",
        "mm1 = sm.OLS(y, x_rfe1).fit()\n",
        "\n",
        "print(mm1.params)"
      ]
    },
    {
      "cell_type": "code",
      "execution_count": null,
      "metadata": {
        "hidden": true,
        "trusted": false,
        "id": "EIdCEZb2PjA0"
      },
      "outputs": [],
      "source": [
        "print(mm1.summary())"
      ]
    },
    {
      "cell_type": "code",
      "execution_count": null,
      "metadata": {
        "hidden": true,
        "trusted": false,
        "id": "DU9vODI5PjA0"
      },
      "outputs": [],
      "source": [
        "### Create a dataframe that will contain the names of all the feature variables and their respective VIFs\n",
        "vif = pd.DataFrame()\n",
        "\n",
        "vif['Features'] = x_rfe1.columns\n",
        "vif['VIF'] = [variance_inflation_factor(x_rfe1.values, i) for i in range(x_rfe1.shape[1])]\n",
        "\n",
        "vif['VIF'] = round(vif['VIF'], 2)\n",
        "vif = vif.sort_values(by = \"VIF\", ascending = False)\n",
        "vif"
      ]
    },
    {
      "cell_type": "code",
      "execution_count": null,
      "metadata": {
        "hidden": true,
        "trusted": false,
        "id": "nHUJDFPMPjA1"
      },
      "outputs": [],
      "source": [
        "features = list(x_rfe1.columns)\n",
        "features.remove('const')\n",
        "features"
      ]
    },
    {
      "cell_type": "code",
      "execution_count": null,
      "metadata": {
        "hidden": true,
        "trusted": false,
        "id": "xju02hX7PjA1"
      },
      "outputs": [],
      "source": [
        "### Model Evaluation on testing data\n",
        "x_2 = x[features]\n",
        "\n",
        "\n",
        "### Predicition with selected features on the test data\n",
        "y_pred = mm1.predict(sm.add_constant(x_2))\n"
      ]
    },
    {
      "cell_type": "code",
      "execution_count": null,
      "metadata": {
        "hidden": true,
        "trusted": false,
        "id": "-q34SYHTPjA2"
      },
      "outputs": [],
      "source": [
        "### Mean square error (MSE)\n",
        "mse = np.mean((y_pred - y)**2)\n",
        "mse"
      ]
    },
    {
      "cell_type": "code",
      "execution_count": null,
      "metadata": {
        "hidden": true,
        "trusted": false,
        "id": "_TYGUojWPjA2"
      },
      "outputs": [],
      "source": [
        "### Coefficient values\n",
        "\n",
        "coef = pd.DataFrame(x_rfe1.columns)\n",
        "coef['Coefficient'] = pd.Series(mm.coef_)\n",
        "coef\n"
      ]
    },
    {
      "cell_type": "code",
      "execution_count": null,
      "metadata": {
        "hidden": true,
        "trusted": false,
        "id": "Dq6Hgd_ePjA3"
      },
      "outputs": [],
      "source": [
        "### Mean Square Error\n",
        "###  Using K-Fold Cross validation evaluating on selected dataset\n",
        "\n",
        "# lm = LinearRegression()\n",
        "fold = KFold(10,shuffle = True, random_state = 100)\n",
        "\n",
        "cv_scores = -cross_val_score(mm,x[features],y,cv=fold,scoring='neg_mean_squared_error')\n",
        "\n",
        "print(\"Neg. of MSE:\",cv_scores,\"\\n\")\n",
        "print(\"Mean of 5 KFold CV - MSE:\",cv_scores.mean())"
      ]
    },
    {
      "cell_type": "code",
      "execution_count": null,
      "metadata": {
        "hidden": true,
        "trusted": false,
        "id": "aSYeQaozPjA3"
      },
      "outputs": [],
      "source": [
        "def elasticity(model,x):\n",
        "\n",
        "    features_df = pd.DataFrame(model.params)\n",
        "    features_df = features_df.rename(columns={0:'coef'})\n",
        "\n",
        "    features_df['imp_feature'] = model.params.index\n",
        "    features_df = features_df[features_df.imp_feature != 'const'][['imp_feature','coef']]\n",
        "    features_df.index = range(len(features_df))\n",
        "#     features\n",
        "\n",
        "    elasticity_list = list()\n",
        "\n",
        "    for i in range(len(features_df)):\n",
        "        elasticity_list.append(((features_df.coef[i] * np.mean(x[features_df.imp_feature[i]])) / np.mean(x['gmv'])))\n",
        "\n",
        "    features_df['elasticity'] = np.round(elasticity_list,3)\n",
        "\n",
        "    sns.barplot(x='elasticity',y='imp_feature',data=features_df)\n",
        "    plt.show()\n",
        "\n",
        "    return features_df\n",
        ""
      ]
    },
    {
      "cell_type": "code",
      "execution_count": null,
      "metadata": {
        "hidden": true,
        "trusted": false,
        "id": "vFuoooI1PjA4"
      },
      "outputs": [],
      "source": [
        "elasticity(mm1,camera_train_mm)"
      ]
    },
    {
      "cell_type": "code",
      "execution_count": null,
      "metadata": {
        "hidden": true,
        "trusted": false,
        "id": "2fQeUcoXPjA5"
      },
      "outputs": [],
      "source": [
        "# Plotting y and y_pred to understand the spread\n",
        "\n",
        "fig = plt.figure()\n",
        "plt.scatter(y, y_pred)\n",
        "fig.suptitle('y vs y_pred', fontsize = 20)              # Plot heading\n",
        "plt.xlabel('y', fontsize = 18)                          # X-label\n",
        "plt.ylabel('y_pred', fontsize = 16)"
      ]
    },
    {
      "cell_type": "markdown",
      "metadata": {
        "heading_collapsed": true,
        "hidden": true,
        "id": "mZyfQkUbPjA7"
      },
      "source": [
        "### 3. Kyock Model"
      ]
    },
    {
      "cell_type": "code",
      "execution_count": null,
      "metadata": {
        "hidden": true,
        "trusted": false,
        "id": "u5j5TrMIPjA8"
      },
      "outputs": [],
      "source": [
        "ca_week.columns"
      ]
    },
    {
      "cell_type": "code",
      "execution_count": null,
      "metadata": {
        "hidden": true,
        "trusted": false,
        "id": "ZWh0pJvyPjA9"
      },
      "outputs": [],
      "source": [
        "camera_km = ca_week[['gmv', 'discount', 'sla','product_procurement_sla', 'order_payment_type',\n",
        "       'online_order_perc', 'TV_ads','Sponsorship_ads', 'Content_marketing_ads', 'Online_marketing_ads',\n",
        "       'NPS', 'Stock_Index', 'Special_sales', 'Payday', 'heat_deg_days', 'cool_deg_days',\n",
        "       'total_rain_mm', 'total_snow_cm','snow_on_grnd_cm', 'MA4_listed_price',\n",
        "       'MA2_discount_offer']]\n",
        "\n",
        "\n",
        "camera_km.head()\n"
      ]
    },
    {
      "cell_type": "code",
      "execution_count": null,
      "metadata": {
        "hidden": true,
        "trusted": false,
        "id": "M1gGq34VPjA-"
      },
      "outputs": [],
      "source": [
        "camera_km['lag_1_gmv'] = camera_km['gmv'].shift(-1)"
      ]
    },
    {
      "cell_type": "code",
      "execution_count": null,
      "metadata": {
        "hidden": true,
        "trusted": false,
        "id": "PoW3oL3CPjA_"
      },
      "outputs": [],
      "source": [
        "### Checking NaN\n",
        "\n",
        "camera_km.isnull().sum()"
      ]
    },
    {
      "cell_type": "code",
      "execution_count": null,
      "metadata": {
        "hidden": true,
        "trusted": false,
        "id": "o3SiDt8ZPjBA"
      },
      "outputs": [],
      "source": [
        "camera_km = camera_km.fillna(0)"
      ]
    },
    {
      "cell_type": "code",
      "execution_count": null,
      "metadata": {
        "hidden": true,
        "trusted": false,
        "id": "PDUGs3eDPjBA"
      },
      "outputs": [],
      "source": [
        "camera_km.head()"
      ]
    },
    {
      "cell_type": "code",
      "execution_count": null,
      "metadata": {
        "hidden": true,
        "trusted": false,
        "id": "8TD9gX-fPjBB"
      },
      "outputs": [],
      "source": [
        "###  Import the StandardScaler()\n",
        "# from sklearn.preprocessing import StandardScaler\n",
        "from sklearn.preprocessing import MinMaxScaler\n",
        "\n",
        "### Create a scaling object\n",
        "# scaler = StandardScaler()\n",
        "scaler = MinMaxScaler()\n",
        "\n",
        "### Create a list of the variables that you need to scale\n",
        "varlist = ['gmv', 'discount', 'sla','product_procurement_sla', 'order_payment_type',\n",
        "       'online_order_perc', 'TV_ads','Sponsorship_ads', 'Content_marketing_ads', 'Online_marketing_ads',\n",
        "       'NPS', 'Stock_Index', 'Special_sales', 'Payday', 'heat_deg_days', 'cool_deg_days',\n",
        "       'total_rain_mm', 'total_snow_cm','snow_on_grnd_cm', 'MA4_listed_price',\n",
        "       'MA2_discount_offer','lag_1_gmv']\n",
        "\n",
        "### Scale these variables using 'fit_transform'\n",
        "camera_km[varlist] = scaler.fit_transform(camera_km[varlist])"
      ]
    },
    {
      "cell_type": "code",
      "execution_count": null,
      "metadata": {
        "hidden": true,
        "scrolled": true,
        "trusted": false,
        "id": "HTpi-wh9PjBC"
      },
      "outputs": [],
      "source": [
        "camera_km.head()"
      ]
    },
    {
      "cell_type": "code",
      "execution_count": null,
      "metadata": {
        "hidden": true,
        "trusted": false,
        "id": "3XXkU3KLPjBC"
      },
      "outputs": [],
      "source": [
        "### Split the train dataset into X and y\n",
        "from sklearn.model_selection import train_test_split\n",
        "x = camera_km.drop('gmv',axis=1)\n",
        "y = camera_km['gmv']\n",
        "\n",
        "camera_train_km = camera_km"
      ]
    },
    {
      "cell_type": "code",
      "execution_count": null,
      "metadata": {
        "hidden": true,
        "trusted": false,
        "id": "oIGE36WFPjBC"
      },
      "outputs": [],
      "source": [
        "print(\"X = Independent variable & Y = Target variable\")\n",
        "print(x.shape,y.shape)"
      ]
    },
    {
      "cell_type": "code",
      "execution_count": null,
      "metadata": {
        "hidden": true,
        "trusted": false,
        "id": "jPkbVY9cPjBD"
      },
      "outputs": [],
      "source": [
        "###  Instantiate\n",
        "km = LinearRegression()\n",
        "\n",
        "###  Fit a line\n",
        "km.fit(x,y)\n"
      ]
    },
    {
      "cell_type": "code",
      "execution_count": null,
      "metadata": {
        "hidden": true,
        "trusted": false,
        "id": "fuddbRX4PjBD"
      },
      "outputs": [],
      "source": [
        "###  Coefficient values\n",
        "\n",
        "coef = pd.DataFrame(x.columns)\n",
        "coef['Coefficient'] = pd.Series(km.coef_)\n",
        "coef\n"
      ]
    },
    {
      "cell_type": "code",
      "execution_count": null,
      "metadata": {
        "hidden": true,
        "trusted": false,
        "id": "lxaznN2xPjBE"
      },
      "outputs": [],
      "source": [
        "col = x.columns\n",
        "col"
      ]
    },
    {
      "cell_type": "markdown",
      "metadata": {
        "hidden": true,
        "id": "1Y6_ptCVPjBE"
      },
      "source": [
        "#### Model Building - Stepwise selection for feature selection"
      ]
    },
    {
      "cell_type": "code",
      "execution_count": null,
      "metadata": {
        "hidden": true,
        "trusted": false,
        "id": "1xa6oPnUPjBF"
      },
      "outputs": [],
      "source": [
        "import statsmodels.api as sm\n",
        "from statsmodels.stats.outliers_influence import variance_inflation_factor\n",
        "from sklearn.model_selection import KFold\n",
        "from sklearn.model_selection import cross_val_score"
      ]
    },
    {
      "cell_type": "code",
      "execution_count": null,
      "metadata": {
        "hidden": true,
        "trusted": false,
        "id": "1vKArAnoPjBF"
      },
      "outputs": [],
      "source": [
        "def stepwise_selection(x, y,\n",
        "                       initial_list=['discount', 'sla','product_procurement_sla', 'order_payment_type',\n",
        "       'online_order_perc', 'TV_ads','Sponsorship_ads', 'Content_marketing_ads', 'Online_marketing_ads',\n",
        "       'NPS', 'Stock_Index', 'Special_sales', 'Payday', 'heat_deg_days', 'cool_deg_days',\n",
        "       'total_rain_mm', 'total_snow_cm','snow_on_grnd_cm', 'MA4_listed_price',\n",
        "       'MA2_discount_offer', 'lag_1_gmv'],\n",
        "                       threshold_in=0.01,threshold_out = 0.05, verbose=True):\n",
        "\n",
        "    included = list(initial_list)\n",
        "    while True:\n",
        "        changed=False\n",
        "        ### forward step\n",
        "        excluded = list(set(x.columns)-set(included))\n",
        "        new_pval = pd.Series(index=excluded)\n",
        "        for new_column in excluded:\n",
        "            model = sm.OLS(y, sm.add_constant(pd.DataFrame(x[included+[new_column]]))).fit()\n",
        "            new_pval[new_column] = model.pvalues[new_column]\n",
        "        best_pval = new_pval.min()\n",
        "        if best_pval < threshold_in:\n",
        "            best_feature = new_pval.argmin()\n",
        "            included.append(best_feature)\n",
        "            changed=True\n",
        "            if verbose:\n",
        "                print('Add  {:30} with p-value {:.6}'.format(best_feature, best_pval))\n",
        "\n",
        "\n",
        "        ###backward step\n",
        "        model = sm.OLS(y, sm.add_constant(pd.DataFrame(x[included]))).fit()\n",
        "        ###use all coefs except intercept\n",
        "        pvalues = model.pvalues.iloc[1:]\n",
        "        worst_pval = pvalues.max() ###null if pvalues is empty\n",
        "        if worst_pval > threshold_out:\n",
        "            changed=True\n",
        "            worst_feature = pvalues.argmax()\n",
        "            included.remove(worst_feature)\n",
        "            if verbose:\n",
        "                print('Drop {:30} with p-value {:.6}'.format(worst_feature, worst_pval))\n",
        "        if not changed:\n",
        "            break\n",
        "    return included\n"
      ]
    },
    {
      "cell_type": "code",
      "execution_count": null,
      "metadata": {
        "hidden": true,
        "trusted": false,
        "id": "8raIdVmmPjBF"
      },
      "outputs": [],
      "source": [
        "import statsmodels.api as sm\n",
        "\n",
        "final_features = stepwise_selection(x, y)\n",
        "\n",
        "print(\"\\n\",\"final_selected_features:\",final_features)"
      ]
    },
    {
      "cell_type": "code",
      "execution_count": null,
      "metadata": {
        "hidden": true,
        "trusted": false,
        "id": "tdJpNvH2PjBG"
      },
      "outputs": [],
      "source": [
        "### Import statsmodels\n",
        "import statsmodels.api as sm\n",
        "\n",
        "### Subsetting training data for 15 selected columns\n",
        "x_rfe1 = x[final_features]\n",
        "\n",
        "x_rfe1 = sm.add_constant(x_rfe1)\n",
        "\n",
        "### Fitting the model with selected variables\n",
        "km1 = sm.OLS(y, x_rfe1).fit()\n",
        "\n",
        "print(km1.params)"
      ]
    },
    {
      "cell_type": "code",
      "execution_count": null,
      "metadata": {
        "hidden": true,
        "trusted": false,
        "id": "eXcf069LPjBG"
      },
      "outputs": [],
      "source": [
        "print(km1.summary())"
      ]
    },
    {
      "cell_type": "code",
      "execution_count": null,
      "metadata": {
        "hidden": true,
        "trusted": false,
        "id": "tmwBXX2iPjBH"
      },
      "outputs": [],
      "source": [
        "### Create a dataframe that will contain the names of all the feature variables and their respective VIFs\n",
        "vif = pd.DataFrame()\n",
        "\n",
        "vif['Features'] = x_rfe1.columns\n",
        "vif['VIF'] = [variance_inflation_factor(x_rfe1.values, i) for i in range(x_rfe1.shape[1])]\n",
        "\n",
        "vif['VIF'] = round(vif['VIF'], 2)\n",
        "vif = vif.sort_values(by = \"VIF\", ascending = False)\n",
        "vif"
      ]
    },
    {
      "cell_type": "code",
      "execution_count": null,
      "metadata": {
        "hidden": true,
        "trusted": false,
        "id": "CyfN7s3ePjBH"
      },
      "outputs": [],
      "source": [
        "features = list(x_rfe1.columns)\n",
        "features.remove('const')\n",
        "features"
      ]
    },
    {
      "cell_type": "code",
      "execution_count": null,
      "metadata": {
        "hidden": true,
        "trusted": false,
        "id": "Z0Jqz3B3PjBI"
      },
      "outputs": [],
      "source": [
        "### Model Evaluation on testing data\n",
        "x_2 = x[features]\n",
        "\n",
        "\n",
        "### Predicition with selected features on the test data\n",
        "y_pred = km1.predict(sm.add_constant(x_2))\n"
      ]
    },
    {
      "cell_type": "code",
      "execution_count": null,
      "metadata": {
        "hidden": true,
        "trusted": false,
        "id": "1xwXKEYCPjBI"
      },
      "outputs": [],
      "source": [
        "### Mean square error (MSE)\n",
        "mse = np.mean((y_pred - y)**2)\n",
        "mse"
      ]
    },
    {
      "cell_type": "code",
      "execution_count": null,
      "metadata": {
        "hidden": true,
        "trusted": false,
        "id": "wqf7rYJCPjBJ"
      },
      "outputs": [],
      "source": [
        "### Coefficient values\n",
        "\n",
        "coef = pd.DataFrame(x_rfe1.columns)\n",
        "coef['Coefficient'] = pd.Series(km.coef_)\n",
        "coef\n"
      ]
    },
    {
      "cell_type": "code",
      "execution_count": null,
      "metadata": {
        "hidden": true,
        "trusted": false,
        "id": "GInEzvJlPjBK"
      },
      "outputs": [],
      "source": [
        "### Using K-Fold Cross validation evaluating on whole dataset\n",
        "\n",
        "# lm = LinearRegression()\n",
        "fold = KFold(10,shuffle = True, random_state = 100)\n",
        "\n",
        "cv_scores = -cross_val_score(km,x[features],y,cv=fold,scoring='neg_mean_squared_error')\n",
        "\n",
        "print(\"Neg. of MSE:\",cv_scores,\"\\n\")\n",
        "print(\"Mean of 5 KFold CV - MSE:\",cv_scores.mean())"
      ]
    },
    {
      "cell_type": "code",
      "execution_count": null,
      "metadata": {
        "hidden": true,
        "trusted": false,
        "id": "iMctc_a-PjBL"
      },
      "outputs": [],
      "source": [
        "def elasticity(model,x):\n",
        "\n",
        "    features_df = pd.DataFrame(model.params)\n",
        "    features_df = features_df.rename(columns={0:'coef'})\n",
        "\n",
        "    features_df['imp_feature'] = model.params.index\n",
        "    features_df = features_df[features_df.imp_feature != 'const'][['imp_feature','coef']]\n",
        "    features_df.index = range(len(features_df))\n",
        "#      features\n",
        "\n",
        "    elasticity_list = list()\n",
        "\n",
        "    for i in range(len(features_df)):\n",
        "        elasticity_list.append(((features_df.coef[i] * np.mean(x[features_df.imp_feature[i]])) / np.mean(x['gmv'])))\n",
        "\n",
        "    features_df['elasticity'] = np.round(elasticity_list,3)\n",
        "\n",
        "    sns.barplot(x='elasticity',y='imp_feature',data=features_df)\n",
        "    plt.show()\n",
        "\n",
        "    return features_df\n",
        ""
      ]
    },
    {
      "cell_type": "code",
      "execution_count": null,
      "metadata": {
        "hidden": true,
        "trusted": false,
        "id": "NYcRGGaKPjBM"
      },
      "outputs": [],
      "source": [
        "elasticity(km1,camera_train_km)"
      ]
    },
    {
      "cell_type": "code",
      "execution_count": null,
      "metadata": {
        "hidden": true,
        "trusted": false,
        "id": "ZDGthm1KPjBN"
      },
      "outputs": [],
      "source": [
        "# Plotting y and y_pred to understand the spread\n",
        "\n",
        "fig = plt.figure()\n",
        "plt.scatter(y, y_pred)\n",
        "fig.suptitle('y vs y_pred', fontsize = 20)              # Plot heading\n",
        "plt.xlabel('y', fontsize = 18)                          # X-label\n",
        "plt.ylabel('y_pred', fontsize = 16)"
      ]
    },
    {
      "cell_type": "code",
      "execution_count": null,
      "metadata": {
        "hidden": true,
        "trusted": false,
        "id": "eR5M29XvPjBO"
      },
      "outputs": [],
      "source": [
        "# Figure size\n",
        "plt.figure(figsize=(8,5))\n",
        "\n",
        "# Heatmap\n",
        "sns.heatmap(camera_train_km[features].corr(), cmap=\"YlGnBu\", annot=True)\n",
        "plt.show()"
      ]
    },
    {
      "cell_type": "markdown",
      "metadata": {
        "heading_collapsed": true,
        "hidden": true,
        "id": "z5jSRtA7PjBP"
      },
      "source": [
        "### 4. Distributed Lag Model"
      ]
    },
    {
      "cell_type": "code",
      "execution_count": null,
      "metadata": {
        "hidden": true,
        "trusted": false,
        "id": "IIARp3GHPjBP"
      },
      "outputs": [],
      "source": [
        "ca_week.columns"
      ]
    },
    {
      "cell_type": "code",
      "execution_count": null,
      "metadata": {
        "hidden": true,
        "trusted": false,
        "id": "nY2X7oV4PjBQ"
      },
      "outputs": [],
      "source": [
        "camera_dlm = ca_week[['gmv', 'discount', 'sla','product_procurement_sla', 'order_payment_type',\n",
        "       'online_order_perc', 'TV_ads','Sponsorship_ads', 'Content_marketing_ads', 'Online_marketing_ads',\n",
        "       'NPS', 'Stock_Index', 'Special_sales', 'Payday','heat_deg_days', 'cool_deg_days',\n",
        "       'total_rain_mm', 'total_snow_cm','snow_on_grnd_cm',  'MA4_listed_price',\n",
        "       'MA2_discount_offer', 'lag_1_listed_price','lag_1_discount',\n",
        "       'lag_2_discount','lag_3_discount','lag_2_NPS','lag_3_NPS','lag_1_Stock_Index',\n",
        "       'lag_2_Stock_Index','lag_3_Stock_Index','lag_1_Special_sales','lag_2_Special_sales','lag_3_Special_sales',\n",
        "       'lag_1_Payday','lag_2_Payday','lag_3_Payday']]\n",
        "\n",
        "\n",
        "camera_dlm.head()\n"
      ]
    },
    {
      "cell_type": "code",
      "execution_count": null,
      "metadata": {
        "hidden": true,
        "trusted": false,
        "id": "Ntnt4jlnPjBQ"
      },
      "outputs": [],
      "source": [
        "camera_dlm['lag_1_gmv'] = camera_dlm['gmv'].shift(-1)\n",
        "camera_dlm['lag_2_gmv'] = camera_dlm['gmv'].shift(-2)\n",
        "camera_dlm['lag_3_gmv'] = camera_dlm['gmv'].shift(-3)\n"
      ]
    },
    {
      "cell_type": "code",
      "execution_count": null,
      "metadata": {
        "hidden": true,
        "trusted": false,
        "id": "z-ZreTXVPjBR"
      },
      "outputs": [],
      "source": [
        "### Checking NaN\n",
        "\n",
        "camera_dlm.isnull().sum()"
      ]
    },
    {
      "cell_type": "code",
      "execution_count": null,
      "metadata": {
        "hidden": true,
        "trusted": false,
        "id": "UdVNUWJlPjBR"
      },
      "outputs": [],
      "source": [
        "camera_dlm = camera_dlm.fillna(0)"
      ]
    },
    {
      "cell_type": "code",
      "execution_count": null,
      "metadata": {
        "hidden": true,
        "trusted": false,
        "id": "m_TneuHQPjBS"
      },
      "outputs": [],
      "source": [
        "camera_dlm.head()"
      ]
    },
    {
      "cell_type": "code",
      "execution_count": null,
      "metadata": {
        "hidden": true,
        "trusted": false,
        "id": "1t1BowMjPjBS"
      },
      "outputs": [],
      "source": [
        "camera_dlm.columns"
      ]
    },
    {
      "cell_type": "code",
      "execution_count": null,
      "metadata": {
        "hidden": true,
        "trusted": false,
        "id": "wGJpWSAgPjBS"
      },
      "outputs": [],
      "source": [
        "###  Import the StandardScaler()\n",
        "# from sklearn.preprocessing import StandardScaler\n",
        "from sklearn.preprocessing import MinMaxScaler\n",
        "\n",
        "###  Create a scaling object\n",
        "# scaler = StandardScaler()\n",
        "scaler = MinMaxScaler()\n",
        "\n",
        "\n",
        "###  Create a list of the variables that you need to scale\n",
        "varlist = ['gmv', 'discount', 'sla','product_procurement_sla', 'order_payment_type',\n",
        "       'online_order_perc', 'TV_ads','Sponsorship_ads', 'Content_marketing_ads', 'Online_marketing_ads',\n",
        "       'NPS', 'Stock_Index', 'Special_sales', 'Payday','heat_deg_days', 'cool_deg_days',\n",
        "       'total_rain_mm', 'total_snow_cm','snow_on_grnd_cm',  'MA4_listed_price',\n",
        "       'MA2_discount_offer', 'lag_1_listed_price','lag_1_discount',\n",
        "       'lag_2_discount','lag_3_discount','lag_2_NPS','lag_3_NPS','lag_1_Stock_Index',\n",
        "       'lag_2_Stock_Index','lag_3_Stock_Index','lag_1_Special_sales','lag_2_Special_sales','lag_3_Special_sales',\n",
        "       'lag_1_Payday','lag_2_Payday','lag_3_Payday']\n",
        "\n",
        "\n",
        "###  Scale these variables using 'fit_transform'\n",
        "camera_dlm[varlist] = scaler.fit_transform(camera_dlm[varlist])"
      ]
    },
    {
      "cell_type": "code",
      "execution_count": null,
      "metadata": {
        "hidden": true,
        "trusted": false,
        "id": "f-_ZniD3PjBT"
      },
      "outputs": [],
      "source": [
        "camera_dlm.head()"
      ]
    },
    {
      "cell_type": "code",
      "execution_count": null,
      "metadata": {
        "hidden": true,
        "trusted": false,
        "id": "Y1rn0xdLPjBT"
      },
      "outputs": [],
      "source": [
        "###  Split the train dataset into X and y\n",
        "from sklearn.model_selection import train_test_split\n",
        "x = camera_dlm.drop('gmv',axis=1)\n",
        "y = camera_dlm['gmv']\n",
        "\n",
        "camera_train_dlm = camera_dlm"
      ]
    },
    {
      "cell_type": "code",
      "execution_count": null,
      "metadata": {
        "hidden": true,
        "trusted": false,
        "id": "LKSQKxkzPjBU"
      },
      "outputs": [],
      "source": [
        "print(\"X = Independent variable & Y = Target variable\")\n",
        "print(x.shape,y.shape)"
      ]
    },
    {
      "cell_type": "code",
      "execution_count": null,
      "metadata": {
        "hidden": true,
        "trusted": false,
        "id": "B4HP1iKbPjBU"
      },
      "outputs": [],
      "source": [
        "###  Instantiate\n",
        "dlm = LinearRegression()\n",
        "\n",
        "###  Fit a line\n",
        "dlm.fit(x,y)\n"
      ]
    },
    {
      "cell_type": "code",
      "execution_count": null,
      "metadata": {
        "hidden": true,
        "trusted": false,
        "id": "R0ftkdHCPjBV"
      },
      "outputs": [],
      "source": [
        "###  Coefficient values\n",
        "\n",
        "coef = pd.DataFrame(x.columns)\n",
        "coef['Coefficient'] = pd.Series(dlm.coef_)\n",
        "coef\n"
      ]
    },
    {
      "cell_type": "code",
      "execution_count": null,
      "metadata": {
        "hidden": true,
        "trusted": false,
        "id": "cz4-mnF7PjBV"
      },
      "outputs": [],
      "source": [
        "col = x.columns\n",
        "col"
      ]
    },
    {
      "cell_type": "markdown",
      "metadata": {
        "hidden": true,
        "id": "9UdNwU6zPjBV"
      },
      "source": [
        "#### Model Building - Stepwise selection for feature selection"
      ]
    },
    {
      "cell_type": "code",
      "execution_count": null,
      "metadata": {
        "hidden": true,
        "trusted": false,
        "id": "LyZDAZO4PjBW"
      },
      "outputs": [],
      "source": [
        "import statsmodels.api as sm\n",
        "from statsmodels.stats.outliers_influence import variance_inflation_factor\n",
        "from sklearn.model_selection import KFold\n",
        "from sklearn.model_selection import cross_val_score"
      ]
    },
    {
      "cell_type": "code",
      "execution_count": null,
      "metadata": {
        "hidden": true,
        "trusted": false,
        "id": "JAywIjV3PjBW"
      },
      "outputs": [],
      "source": [
        "def stepwise_selection(x, y,\n",
        "                       initial_list=['discount', 'sla','product_procurement_sla', 'order_payment_type',\n",
        "       'online_order_perc', 'TV_ads','Sponsorship_ads', 'Content_marketing_ads', 'Online_marketing_ads',\n",
        "       'NPS', 'Stock_Index', 'Special_sales', 'Payday','heat_deg_days', 'cool_deg_days',\n",
        "       'total_rain_mm', 'total_snow_cm','snow_on_grnd_cm',  'MA4_listed_price',\n",
        "       'MA2_discount_offer', 'lag_1_listed_price','lag_1_discount',\n",
        "       'lag_2_discount','lag_3_discount','lag_2_NPS','lag_3_NPS','lag_1_Stock_Index',\n",
        "       'lag_2_Stock_Index','lag_3_Stock_Index','lag_1_Special_sales','lag_2_Special_sales','lag_3_Special_sales',\n",
        "       'lag_1_Payday','lag_2_Payday','lag_3_Payday'],\n",
        "                     threshold_in=0.01,threshold_out = 0.05, verbose=True):\n",
        "\n",
        "    included = list(initial_list)\n",
        "    while True:\n",
        "        changed=False\n",
        "        ###  forward step\n",
        "        excluded = list(set(x.columns)-set(included))\n",
        "        new_pval = pd.Series(index=excluded)\n",
        "        for new_column in excluded:\n",
        "            model = sm.OLS(y, sm.add_constant(pd.DataFrame(x[included+[new_column]]))).fit()\n",
        "            new_pval[new_column] = model.pvalues[new_column]\n",
        "        best_pval = new_pval.min()\n",
        "        if best_pval < threshold_in:\n",
        "            best_feature = new_pval.argmin()\n",
        "            included.append(best_feature)\n",
        "            changed=True\n",
        "            if verbose:\n",
        "                print('Add  {:30} with p-value {:.6}'.format(best_feature, best_pval))\n",
        "\n",
        "\n",
        "        ###  backward step\n",
        "        model = sm.OLS(y, sm.add_constant(pd.DataFrame(x[included]))).fit()\n",
        "        ###  use all coefs except intercept\n",
        "        pvalues = model.pvalues.iloc[1:]\n",
        "        worst_pval = pvalues.max() ###  null if pvalues is empty\n",
        "        if worst_pval > threshold_out:\n",
        "            changed=True\n",
        "            worst_feature = pvalues.argmax()\n",
        "            included.remove(worst_feature)\n",
        "            if verbose:\n",
        "                print('Drop {:30} with p-value {:.6}'.format(worst_feature, worst_pval))\n",
        "        if not changed:\n",
        "            break\n",
        "    return included\n"
      ]
    },
    {
      "cell_type": "code",
      "execution_count": null,
      "metadata": {
        "hidden": true,
        "scrolled": true,
        "trusted": false,
        "id": "q3R2fLmDPjBX"
      },
      "outputs": [],
      "source": [
        "import statsmodels.api as sm\n",
        "\n",
        "final_features = stepwise_selection(x, y)\n",
        "\n",
        "print(\"\\n\",\"final_selected_features:\",final_features)"
      ]
    },
    {
      "cell_type": "code",
      "execution_count": null,
      "metadata": {
        "hidden": true,
        "trusted": false,
        "id": "cffqacC2PjBX"
      },
      "outputs": [],
      "source": [
        "###  Import statsmodels\n",
        "import statsmodels.api as sm\n",
        "\n",
        "###  Subsetting training data for 15 selected columns\n",
        "x_rfe1 = x[final_features]\n",
        "\n",
        "x_rfe1 = sm.add_constant(x_rfe1)\n",
        "\n",
        "###  Fitting the model with selected variables\n",
        "dlm1 = sm.OLS(y, x_rfe1).fit()\n",
        "\n",
        "print(dlm1.params)"
      ]
    },
    {
      "cell_type": "code",
      "execution_count": null,
      "metadata": {
        "hidden": true,
        "trusted": false,
        "id": "mVYjWLm8PjBY"
      },
      "outputs": [],
      "source": [
        "print(dlm1.summary())"
      ]
    },
    {
      "cell_type": "code",
      "execution_count": null,
      "metadata": {
        "hidden": true,
        "trusted": false,
        "id": "jEi2VEtnPjBY"
      },
      "outputs": [],
      "source": [
        "###  Create a dataframe that will contain the names of all the feature variables and their respective VIFs\n",
        "vif = pd.DataFrame()\n",
        "\n",
        "vif['Features'] = x_rfe1.columns\n",
        "vif['VIF'] = [variance_inflation_factor(x_rfe1.values, i) for i in range(x_rfe1.shape[1])]\n",
        "\n",
        "vif['VIF'] = round(vif['VIF'], 2)\n",
        "vif = vif.sort_values(by = \"VIF\", ascending = False)\n",
        "vif"
      ]
    },
    {
      "cell_type": "code",
      "execution_count": null,
      "metadata": {
        "hidden": true,
        "trusted": false,
        "id": "YtRmqazoPjBZ"
      },
      "outputs": [],
      "source": [
        "x_rfe1.drop('discount', axis = 1, inplace = True)"
      ]
    },
    {
      "cell_type": "code",
      "execution_count": null,
      "metadata": {
        "hidden": true,
        "trusted": false,
        "id": "Tilu23BIPjBZ"
      },
      "outputs": [],
      "source": [
        "### 2"
      ]
    },
    {
      "cell_type": "code",
      "execution_count": null,
      "metadata": {
        "hidden": true,
        "trusted": false,
        "id": "B6CmNTPbPjBb"
      },
      "outputs": [],
      "source": [
        "# Refitting with final selected variables\n",
        "x_rfe1 = sm.add_constant(x_rfe1)\n",
        "\n",
        "# Fitting the model with final selected variables\n",
        "dlm1 = sm.OLS(y, x_rfe1).fit()\n",
        "print(dlm1.summary())"
      ]
    },
    {
      "cell_type": "code",
      "execution_count": null,
      "metadata": {
        "hidden": true,
        "scrolled": true,
        "trusted": false,
        "id": "XqTFXQ3gPjBb"
      },
      "outputs": [],
      "source": [
        "# Create a dataframe that will contain the names of all the feature variables and their respective VIFs\n",
        "vif = pd.DataFrame()\n",
        "\n",
        "vif['Features'] = x_rfe1.columns\n",
        "vif['VIF'] = [variance_inflation_factor(x_rfe1.values, i) for i in range(x_rfe1.shape[1])]\n",
        "\n",
        "vif['VIF'] = round(vif['VIF'], 2)\n",
        "vif = vif.sort_values(by = \"VIF\", ascending = False)\n",
        "vif"
      ]
    },
    {
      "cell_type": "code",
      "execution_count": null,
      "metadata": {
        "hidden": true,
        "trusted": false,
        "id": "ugH61HB-PjBc"
      },
      "outputs": [],
      "source": [
        "x_rfe1.drop('product_procurement_sla', axis = 1, inplace = True)\n"
      ]
    },
    {
      "cell_type": "code",
      "execution_count": null,
      "metadata": {
        "hidden": true,
        "trusted": false,
        "id": "dBvxkGaLPjBc"
      },
      "outputs": [],
      "source": [
        "### 3"
      ]
    },
    {
      "cell_type": "code",
      "execution_count": null,
      "metadata": {
        "hidden": true,
        "trusted": false,
        "id": "8O5rP-FmPjBd"
      },
      "outputs": [],
      "source": [
        "# Refitting with final selected variables\n",
        "x_rfe1 = sm.add_constant(x_rfe1)\n",
        "\n",
        "# Fitting the model with final selected variables\n",
        "dlm1 = sm.OLS(y, x_rfe1).fit()\n",
        "print(dlm1.summary())"
      ]
    },
    {
      "cell_type": "code",
      "execution_count": null,
      "metadata": {
        "hidden": true,
        "scrolled": true,
        "trusted": false,
        "id": "67jnp76cPjBd"
      },
      "outputs": [],
      "source": [
        "# Create a dataframe that will contain the names of all the feature variables and their respective VIFs\n",
        "vif = pd.DataFrame()\n",
        "\n",
        "vif['Features'] = x_rfe1.columns\n",
        "vif['VIF'] = [variance_inflation_factor(x_rfe1.values, i) for i in range(x_rfe1.shape[1])]\n",
        "\n",
        "vif['VIF'] = round(vif['VIF'], 2)\n",
        "vif = vif.sort_values(by = \"VIF\", ascending = False)\n",
        "vif"
      ]
    },
    {
      "cell_type": "code",
      "execution_count": null,
      "metadata": {
        "hidden": true,
        "trusted": false,
        "id": "A7fOhsynPjBe"
      },
      "outputs": [],
      "source": [
        "x_rfe1.drop('lag_1_listed_price', axis = 1, inplace = True)\n"
      ]
    },
    {
      "cell_type": "code",
      "execution_count": null,
      "metadata": {
        "hidden": true,
        "trusted": false,
        "id": "FNJ_8Z3tPjBe"
      },
      "outputs": [],
      "source": [
        "### 4"
      ]
    },
    {
      "cell_type": "code",
      "execution_count": null,
      "metadata": {
        "hidden": true,
        "trusted": false,
        "id": "TMjVK65EPjBf"
      },
      "outputs": [],
      "source": [
        "# Refitting with final selected variables\n",
        "x_rfe1 = sm.add_constant(x_rfe1)\n",
        "\n",
        "# Fitting the model with final selected variables\n",
        "dlm1 = sm.OLS(y, x_rfe1).fit()\n",
        "print(dlm1.summary())"
      ]
    },
    {
      "cell_type": "code",
      "execution_count": null,
      "metadata": {
        "hidden": true,
        "scrolled": true,
        "trusted": false,
        "id": "a8Ws7pvePjBf"
      },
      "outputs": [],
      "source": [
        "# Create a dataframe that will contain the names of all the feature variables and their respective VIFs\n",
        "vif = pd.DataFrame()\n",
        "\n",
        "vif['Features'] = x_rfe1.columns\n",
        "vif['VIF'] = [variance_inflation_factor(x_rfe1.values, i) for i in range(x_rfe1.shape[1])]\n",
        "\n",
        "vif['VIF'] = round(vif['VIF'], 2)\n",
        "vif = vif.sort_values(by = \"VIF\", ascending = False)\n",
        "vif"
      ]
    },
    {
      "cell_type": "code",
      "execution_count": null,
      "metadata": {
        "hidden": true,
        "trusted": false,
        "id": "8MrlPEV1PjBg"
      },
      "outputs": [],
      "source": [
        "features = list(x_rfe1.columns)\n",
        "features.remove('const')\n",
        "features"
      ]
    },
    {
      "cell_type": "code",
      "execution_count": null,
      "metadata": {
        "hidden": true,
        "trusted": false,
        "id": "_OvVJSEEPjBg"
      },
      "outputs": [],
      "source": [
        "###  Model Evaluation on testing data\n",
        "x_2 = x[features]\n",
        "\n",
        "###  Predicition with selected features on the test data\n",
        "y_pred = dlm1.predict(sm.add_constant(x_2))"
      ]
    },
    {
      "cell_type": "code",
      "execution_count": null,
      "metadata": {
        "hidden": true,
        "trusted": false,
        "id": "wVPRR4xiPjBg"
      },
      "outputs": [],
      "source": [
        "###  Mean square error (MSE)\n",
        "mse = np.mean((y_pred - y)**2)\n",
        "mse\n"
      ]
    },
    {
      "cell_type": "code",
      "execution_count": null,
      "metadata": {
        "hidden": true,
        "trusted": false,
        "id": "ZdABMbidPjBh"
      },
      "outputs": [],
      "source": [
        "###  Coefficient values\n",
        "\n",
        "coef = pd.DataFrame(x_rfe1.columns)\n",
        "coef['Coefficient'] = pd.Series(dlm.coef_)\n",
        "coef\n"
      ]
    },
    {
      "cell_type": "code",
      "execution_count": null,
      "metadata": {
        "hidden": true,
        "trusted": false,
        "id": "kB_RkNzFPjBh"
      },
      "outputs": [],
      "source": [
        "###  Using K-Fold Cross validation evaluating on whole dataset\n",
        "\n",
        "# lm = LinearRegression()\n",
        "fold = KFold(10,shuffle = True, random_state = 100)\n",
        "\n",
        "cv_scores = -cross_val_score(dlm,x[features],y,cv=fold,scoring='neg_mean_squared_error')\n",
        "\n",
        "print(\"Neg. of MSE:\",cv_scores,\"\\n\")\n",
        "print(\"Mean of 5 KFold CV - MSE:\",cv_scores.mean())"
      ]
    },
    {
      "cell_type": "code",
      "execution_count": null,
      "metadata": {
        "hidden": true,
        "trusted": false,
        "id": "i-M2xyxUPjBi"
      },
      "outputs": [],
      "source": [
        "def elasticity(model,x):\n",
        "\n",
        "    features_df = pd.DataFrame(model.params)\n",
        "    features_df = features_df.rename(columns={0:'coef'})\n",
        "\n",
        "    features_df['imp_feature'] = model.params.index\n",
        "    features_df = features_df[features_df.imp_feature != 'const'][['imp_feature','coef']]\n",
        "    features_df.index = range(len(features_df))\n",
        "#      features\n",
        "\n",
        "    elasticity_list = list()\n",
        "\n",
        "    for i in range(len(features_df)):\n",
        "        elasticity_list.append(((features_df.coef[i] * np.mean(x[features_df.imp_feature[i]])) / np.mean(x['gmv'])))\n",
        "\n",
        "    features_df['elasticity'] = np.round(elasticity_list,3)\n",
        "\n",
        "    sns.barplot(x='elasticity',y='imp_feature',data=features_df)\n",
        "    plt.show()\n",
        "\n",
        "    return features_df\n",
        ""
      ]
    },
    {
      "cell_type": "code",
      "execution_count": null,
      "metadata": {
        "hidden": true,
        "trusted": false,
        "id": "4Rqm2oUqPjBi"
      },
      "outputs": [],
      "source": [
        "elasticity(dlm1,camera_train_dlm)"
      ]
    },
    {
      "cell_type": "code",
      "execution_count": null,
      "metadata": {
        "hidden": true,
        "trusted": false,
        "id": "sdLNMsajPjBj"
      },
      "outputs": [],
      "source": [
        "# Plotting y and y_pred to understand the spread\n",
        "\n",
        "fig = plt.figure()\n",
        "plt.scatter(y, y_pred)\n",
        "fig.suptitle('y vs y_pred', fontsize = 20)              # Plot heading\n",
        "plt.xlabel('y', fontsize = 18)                          # X-label\n",
        "plt.ylabel('y_pred', fontsize = 16)"
      ]
    },
    {
      "cell_type": "code",
      "execution_count": null,
      "metadata": {
        "hidden": true,
        "trusted": false,
        "id": "VzWGwt7qPjBj"
      },
      "outputs": [],
      "source": [
        "# Figure size\n",
        "plt.figure(figsize=(8,5))\n",
        "\n",
        "# Heatmap\n",
        "sns.heatmap(camera_train_dlm[features].corr(), cmap=\"YlGnBu\", annot=True)\n",
        "plt.show()"
      ]
    },
    {
      "cell_type": "markdown",
      "metadata": {
        "heading_collapsed": true,
        "hidden": true,
        "id": "0rQhkvl2PjBj"
      },
      "source": [
        "### 5. Distributed Lag + Multiplicative Model"
      ]
    },
    {
      "cell_type": "code",
      "execution_count": null,
      "metadata": {
        "hidden": true,
        "trusted": false,
        "id": "b2AXKYMyPjBk"
      },
      "outputs": [],
      "source": [
        "ca_week.columns"
      ]
    },
    {
      "cell_type": "code",
      "execution_count": null,
      "metadata": {
        "hidden": true,
        "trusted": false,
        "id": "SO3eQsP1PjBk"
      },
      "outputs": [],
      "source": [
        "camera_dlmm = ca_week[['gmv', 'discount', 'sla','product_procurement_sla', 'order_payment_type',\n",
        "       'online_order_perc', 'TV_ads','Sponsorship_ads', 'Content_marketing_ads', 'Online_marketing_ads',\n",
        "       'NPS', 'Stock_Index', 'Special_sales', 'Payday','heat_deg_days', 'cool_deg_days',\n",
        "       'total_rain_mm', 'total_snow_cm','snow_on_grnd_cm',  'MA4_listed_price',\n",
        "       'MA2_discount_offer', 'lag_1_listed_price','lag_1_discount',\n",
        "       'lag_2_discount','lag_3_discount','lag_2_NPS','lag_3_NPS','lag_1_Stock_Index',\n",
        "       'lag_2_Stock_Index','lag_3_Stock_Index','lag_1_Special_sales','lag_2_Special_sales','lag_3_Special_sales',\n",
        "       'lag_1_Payday','lag_2_Payday','lag_3_Payday']]\n",
        "\n",
        "\n",
        "camera_dlmm.head()\n"
      ]
    },
    {
      "cell_type": "code",
      "execution_count": null,
      "metadata": {
        "hidden": true,
        "trusted": false,
        "id": "m-km1-h_PjBl"
      },
      "outputs": [],
      "source": [
        "camera_dlmm['lag_1_gmv'] = camera_dlmm['gmv'].shift(-1)\n",
        "camera_dlmm['lag_2_gmv'] = camera_dlmm['gmv'].shift(-2)\n",
        "camera_dlmm['lag_3_gmv'] = camera_dlmm['gmv'].shift(-3)\n"
      ]
    },
    {
      "cell_type": "code",
      "execution_count": null,
      "metadata": {
        "hidden": true,
        "trusted": false,
        "id": "RLaSiu6CPjBm"
      },
      "outputs": [],
      "source": [
        "### Checking NaN\n",
        "\n",
        "camera_dlmm.isnull().sum()"
      ]
    },
    {
      "cell_type": "code",
      "execution_count": null,
      "metadata": {
        "hidden": true,
        "trusted": false,
        "id": "4BGyy_BAPjBm"
      },
      "outputs": [],
      "source": [
        "camera_dlmm = camera_dlmm.fillna(0)"
      ]
    },
    {
      "cell_type": "code",
      "execution_count": null,
      "metadata": {
        "hidden": true,
        "trusted": false,
        "id": "fTmaNktjPjBn"
      },
      "outputs": [],
      "source": [
        "### Applying Log\n",
        "camera_dlmm=np.log(camera_dlmm)\n",
        "\n",
        "camera_dlmm = camera_dlmm.fillna(0)\n",
        "camera_dlmm = camera_dlmm.replace([np.inf, -np.inf], 0)"
      ]
    },
    {
      "cell_type": "code",
      "execution_count": null,
      "metadata": {
        "hidden": true,
        "trusted": false,
        "id": "pksc2rrSPjBo"
      },
      "outputs": [],
      "source": [
        "camera_dlmm.head()"
      ]
    },
    {
      "cell_type": "code",
      "execution_count": null,
      "metadata": {
        "hidden": true,
        "trusted": false,
        "id": "GZB3JBqNPjBt"
      },
      "outputs": [],
      "source": [
        "camera_dlmm.columns"
      ]
    },
    {
      "cell_type": "code",
      "execution_count": null,
      "metadata": {
        "hidden": true,
        "trusted": false,
        "id": "qBmmjiJLPjBx"
      },
      "outputs": [],
      "source": [
        "###  Import the StandardScaler()\n",
        "# from sklearn.preprocessing import StandardScaler\n",
        "from sklearn.preprocessing import MinMaxScaler\n",
        "\n",
        "###  Create a scaling object\n",
        "# scaler = StandardScaler()\n",
        "scaler = MinMaxScaler()\n",
        "\n",
        "\n",
        "###  Create a list of the variables that you need to scale\n",
        "varlist = ['gmv', 'discount', 'sla','product_procurement_sla', 'order_payment_type',\n",
        "       'online_order_perc', 'TV_ads','Sponsorship_ads', 'Content_marketing_ads', 'Online_marketing_ads',\n",
        "       'NPS', 'Stock_Index', 'Special_sales', 'Payday','heat_deg_days', 'cool_deg_days',\n",
        "       'total_rain_mm', 'total_snow_cm','snow_on_grnd_cm',  'MA4_listed_price',\n",
        "       'MA2_discount_offer', 'lag_1_listed_price','lag_1_discount',\n",
        "       'lag_2_discount','lag_3_discount','lag_2_NPS','lag_3_NPS','lag_1_Stock_Index',\n",
        "       'lag_2_Stock_Index','lag_3_Stock_Index','lag_1_Special_sales','lag_2_Special_sales','lag_3_Special_sales',\n",
        "       'lag_1_Payday','lag_2_Payday','lag_3_Payday']\n",
        "\n",
        "\n",
        "###  Scale these variables using 'fit_transform'\n",
        "camera_dlmm[varlist] = scaler.fit_transform(camera_dlmm[varlist])\n"
      ]
    },
    {
      "cell_type": "code",
      "execution_count": null,
      "metadata": {
        "hidden": true,
        "trusted": false,
        "id": "lndX9f0nPjB2"
      },
      "outputs": [],
      "source": [
        "camera_dlmm.head()"
      ]
    },
    {
      "cell_type": "code",
      "execution_count": null,
      "metadata": {
        "hidden": true,
        "trusted": false,
        "id": "9dRE8GhUPjB3"
      },
      "outputs": [],
      "source": [
        "###  Split the train dataset into X and y\n",
        "from sklearn.model_selection import train_test_split\n",
        "x = camera_dlmm.drop('gmv',axis=1)\n",
        "y = camera_dlmm['gmv']\n",
        "\n",
        "camera_train_dlmm = camera_dlmm"
      ]
    },
    {
      "cell_type": "code",
      "execution_count": null,
      "metadata": {
        "hidden": true,
        "trusted": false,
        "id": "J15CzHM7PjB4"
      },
      "outputs": [],
      "source": [
        "print(\"X = Independent variable & Y = Target variable\")\n",
        "print(x.shape,y.shape)"
      ]
    },
    {
      "cell_type": "code",
      "execution_count": null,
      "metadata": {
        "hidden": true,
        "trusted": false,
        "id": "bHpZImz5PjB5"
      },
      "outputs": [],
      "source": [
        "###  Instantiate\n",
        "dlm = LinearRegression()\n",
        "\n",
        "###  Fit a line\n",
        "dlm.fit(x,y)\n"
      ]
    },
    {
      "cell_type": "code",
      "execution_count": null,
      "metadata": {
        "hidden": true,
        "trusted": false,
        "id": "wBpuQ2XZPjB6"
      },
      "outputs": [],
      "source": [
        "###  Coefficient values\n",
        "\n",
        "coef = pd.DataFrame(x.columns)\n",
        "coef['Coefficient'] = pd.Series(dlm.coef_)\n",
        "coef\n"
      ]
    },
    {
      "cell_type": "code",
      "execution_count": null,
      "metadata": {
        "hidden": true,
        "trusted": false,
        "id": "SvBpec6LPjB7"
      },
      "outputs": [],
      "source": [
        "col = x.columns\n",
        "col"
      ]
    },
    {
      "cell_type": "markdown",
      "metadata": {
        "hidden": true,
        "id": "6tkQgrnZPjB9"
      },
      "source": [
        "#### Model Building - Stepwise selection for feature selection"
      ]
    },
    {
      "cell_type": "code",
      "execution_count": null,
      "metadata": {
        "hidden": true,
        "trusted": false,
        "id": "i4BOqTChPjB-"
      },
      "outputs": [],
      "source": [
        "import statsmodels.api as sm\n",
        "from statsmodels.stats.outliers_influence import variance_inflation_factor\n",
        "from sklearn.model_selection import KFold\n",
        "from sklearn.model_selection import cross_val_score"
      ]
    },
    {
      "cell_type": "code",
      "execution_count": null,
      "metadata": {
        "hidden": true,
        "trusted": false,
        "id": "CCpufpwMPjCA"
      },
      "outputs": [],
      "source": [
        "def stepwise_selection(x, y,\n",
        "                       initial_list=['discount', 'sla','product_procurement_sla', 'order_payment_type',\n",
        "       'online_order_perc', 'TV_ads','Sponsorship_ads', 'Content_marketing_ads', 'Online_marketing_ads',\n",
        "       'NPS', 'Stock_Index', 'Special_sales', 'Payday','heat_deg_days', 'cool_deg_days',\n",
        "       'total_rain_mm', 'total_snow_cm','snow_on_grnd_cm',  'MA4_listed_price',\n",
        "       'MA2_discount_offer', 'lag_1_listed_price','lag_1_discount',\n",
        "       'lag_2_discount','lag_3_discount','lag_2_NPS','lag_3_NPS','lag_1_Stock_Index',\n",
        "       'lag_2_Stock_Index','lag_3_Stock_Index','lag_1_Special_sales','lag_2_Special_sales','lag_3_Special_sales',\n",
        "       'lag_1_Payday','lag_2_Payday','lag_3_Payday'],\n",
        "                     threshold_in=0.01,threshold_out = 0.05, verbose=True):\n",
        "\n",
        "    included = list(initial_list)\n",
        "    while True:\n",
        "        changed=False\n",
        "        ###  forward step\n",
        "        excluded = list(set(x.columns)-set(included))\n",
        "        new_pval = pd.Series(index=excluded)\n",
        "        for new_column in excluded:\n",
        "            model = sm.OLS(y, sm.add_constant(pd.DataFrame(x[included+[new_column]]))).fit()\n",
        "            new_pval[new_column] = model.pvalues[new_column]\n",
        "        best_pval = new_pval.min()\n",
        "        if best_pval < threshold_in:\n",
        "            best_feature = new_pval.argmin()\n",
        "            included.append(best_feature)\n",
        "            changed=True\n",
        "            if verbose:\n",
        "                print('Add  {:30} with p-value {:.6}'.format(best_feature, best_pval))\n",
        "\n",
        "\n",
        "        ###  backward step\n",
        "        model = sm.OLS(y, sm.add_constant(pd.DataFrame(x[included]))).fit()\n",
        "        ###  use all coefs except intercept\n",
        "        pvalues = model.pvalues.iloc[1:]\n",
        "        worst_pval = pvalues.max() ###  null if pvalues is empty\n",
        "        if worst_pval > threshold_out:\n",
        "            changed=True\n",
        "            worst_feature = pvalues.argmax()\n",
        "            included.remove(worst_feature)\n",
        "            if verbose:\n",
        "                print('Drop {:30} with p-value {:.6}'.format(worst_feature, worst_pval))\n",
        "        if not changed:\n",
        "            break\n",
        "    return included\n"
      ]
    },
    {
      "cell_type": "code",
      "execution_count": null,
      "metadata": {
        "hidden": true,
        "scrolled": true,
        "trusted": false,
        "id": "8KVcxYNRPjCC"
      },
      "outputs": [],
      "source": [
        "import statsmodels.api as sm\n",
        "\n",
        "final_features = stepwise_selection(x, y)\n",
        "\n",
        "print(\"\\n\",\"final_selected_features:\",final_features)"
      ]
    },
    {
      "cell_type": "code",
      "execution_count": null,
      "metadata": {
        "hidden": true,
        "trusted": false,
        "id": "91sTGrDqPjCE"
      },
      "outputs": [],
      "source": [
        "###  Import statsmodels\n",
        "import statsmodels.api as sm\n",
        "\n",
        "###  Subsetting training data for 15 selected columns\n",
        "x_rfe1 = x[final_features]\n",
        "\n",
        "x_rfe1 = sm.add_constant(x_rfe1)\n",
        "\n",
        "###  Fitting the model with selected variables\n",
        "dlm1 = sm.OLS(y, x_rfe1).fit()\n",
        "\n",
        "print(dlm1.params)"
      ]
    },
    {
      "cell_type": "code",
      "execution_count": null,
      "metadata": {
        "hidden": true,
        "trusted": false,
        "id": "VEW7tv1mPjCF"
      },
      "outputs": [],
      "source": [
        "print(dlm1.summary())"
      ]
    },
    {
      "cell_type": "code",
      "execution_count": null,
      "metadata": {
        "hidden": true,
        "trusted": false,
        "id": "kO4Kty3GPjCG"
      },
      "outputs": [],
      "source": [
        "###  Create a dataframe that will contain the names of all the feature variables and their respective VIFs\n",
        "vif = pd.DataFrame()\n",
        "\n",
        "vif['Features'] = x_rfe1.columns\n",
        "vif['VIF'] = [variance_inflation_factor(x_rfe1.values, i) for i in range(x_rfe1.shape[1])]\n",
        "\n",
        "vif['VIF'] = round(vif['VIF'], 2)\n",
        "vif = vif.sort_values(by = \"VIF\", ascending = False)\n",
        "vif"
      ]
    },
    {
      "cell_type": "code",
      "execution_count": null,
      "metadata": {
        "hidden": true,
        "trusted": false,
        "id": "d1on5vTBPjCH"
      },
      "outputs": [],
      "source": [
        "x_rfe1.drop('lag_1_gmv', axis = 1, inplace = True)"
      ]
    },
    {
      "cell_type": "code",
      "execution_count": null,
      "metadata": {
        "hidden": true,
        "trusted": false,
        "id": "jPBjb7wfPjCI"
      },
      "outputs": [],
      "source": [
        "### 2"
      ]
    },
    {
      "cell_type": "code",
      "execution_count": null,
      "metadata": {
        "hidden": true,
        "trusted": false,
        "id": "tADHkuNyPjCJ"
      },
      "outputs": [],
      "source": [
        "# Refitting with final selected variables\n",
        "x_rfe1 = sm.add_constant(x_rfe1)\n",
        "\n",
        "# Fitting the model with final selected variables\n",
        "dlm1 = sm.OLS(y, x_rfe1).fit()\n",
        "print(dlm1.summary())"
      ]
    },
    {
      "cell_type": "code",
      "execution_count": null,
      "metadata": {
        "hidden": true,
        "scrolled": true,
        "trusted": false,
        "id": "R8oWeUUqPjCK"
      },
      "outputs": [],
      "source": [
        "# Create a dataframe that will contain the names of all the feature variables and their respective VIFs\n",
        "vif = pd.DataFrame()\n",
        "\n",
        "vif['Features'] = x_rfe1.columns\n",
        "vif['VIF'] = [variance_inflation_factor(x_rfe1.values, i) for i in range(x_rfe1.shape[1])]\n",
        "\n",
        "vif['VIF'] = round(vif['VIF'], 2)\n",
        "vif = vif.sort_values(by = \"VIF\", ascending = False)\n",
        "vif"
      ]
    },
    {
      "cell_type": "code",
      "execution_count": null,
      "metadata": {
        "hidden": true,
        "trusted": false,
        "id": "DwNDS27cPjCM"
      },
      "outputs": [],
      "source": [
        "x_rfe1.drop('lag_2_discount', axis = 1, inplace = True)\n"
      ]
    },
    {
      "cell_type": "code",
      "execution_count": null,
      "metadata": {
        "hidden": true,
        "trusted": false,
        "id": "2noDpAATPjCP"
      },
      "outputs": [],
      "source": [
        "### 3"
      ]
    },
    {
      "cell_type": "code",
      "execution_count": null,
      "metadata": {
        "hidden": true,
        "trusted": false,
        "id": "Trx-7ilaPjCQ"
      },
      "outputs": [],
      "source": [
        "# Refitting with final selected variables\n",
        "x_rfe1 = sm.add_constant(x_rfe1)\n",
        "\n",
        "# Fitting the model with final selected variables\n",
        "dlm1 = sm.OLS(y, x_rfe1).fit()\n",
        "print(dlm1.summary())"
      ]
    },
    {
      "cell_type": "code",
      "execution_count": null,
      "metadata": {
        "hidden": true,
        "scrolled": true,
        "trusted": false,
        "id": "rJavVTpHPjCR"
      },
      "outputs": [],
      "source": [
        "# Create a dataframe that will contain the names of all the feature variables and their respective VIFs\n",
        "vif = pd.DataFrame()\n",
        "\n",
        "vif['Features'] = x_rfe1.columns\n",
        "vif['VIF'] = [variance_inflation_factor(x_rfe1.values, i) for i in range(x_rfe1.shape[1])]\n",
        "\n",
        "vif['VIF'] = round(vif['VIF'], 2)\n",
        "vif = vif.sort_values(by = \"VIF\", ascending = False)\n",
        "vif"
      ]
    },
    {
      "cell_type": "code",
      "execution_count": null,
      "metadata": {
        "hidden": true,
        "trusted": false,
        "id": "IkAbmK_VPjCS"
      },
      "outputs": [],
      "source": [
        "x_rfe1.drop('Special_sales', axis = 1, inplace = True)\n"
      ]
    },
    {
      "cell_type": "code",
      "execution_count": null,
      "metadata": {
        "hidden": true,
        "trusted": false,
        "id": "hUV-DmOzPjCS"
      },
      "outputs": [],
      "source": [
        "### 4"
      ]
    },
    {
      "cell_type": "code",
      "execution_count": null,
      "metadata": {
        "hidden": true,
        "trusted": false,
        "id": "p3jOt1cLPjCT"
      },
      "outputs": [],
      "source": [
        "# Refitting with final selected variables\n",
        "x_rfe1 = sm.add_constant(x_rfe1)\n",
        "\n",
        "# Fitting the model with final selected variables\n",
        "dlm1 = sm.OLS(y, x_rfe1).fit()\n",
        "print(dlm1.summary())"
      ]
    },
    {
      "cell_type": "code",
      "execution_count": null,
      "metadata": {
        "hidden": true,
        "scrolled": true,
        "trusted": false,
        "id": "esAERb4JPjCV"
      },
      "outputs": [],
      "source": [
        "# Create a dataframe that will contain the names of all the feature variables and their respective VIFs\n",
        "vif = pd.DataFrame()\n",
        "\n",
        "vif['Features'] = x_rfe1.columns\n",
        "vif['VIF'] = [variance_inflation_factor(x_rfe1.values, i) for i in range(x_rfe1.shape[1])]\n",
        "\n",
        "vif['VIF'] = round(vif['VIF'], 2)\n",
        "vif = vif.sort_values(by = \"VIF\", ascending = False)\n",
        "vif"
      ]
    },
    {
      "cell_type": "code",
      "execution_count": null,
      "metadata": {
        "hidden": true,
        "trusted": false,
        "id": "VlnlrvTcPjCW"
      },
      "outputs": [],
      "source": [
        "x_rfe1.drop('lag_1_listed_price', axis = 1, inplace = True)\n"
      ]
    },
    {
      "cell_type": "code",
      "execution_count": null,
      "metadata": {
        "hidden": true,
        "trusted": false,
        "id": "wMrG5loqPjCX"
      },
      "outputs": [],
      "source": [
        "### 5"
      ]
    },
    {
      "cell_type": "code",
      "execution_count": null,
      "metadata": {
        "hidden": true,
        "trusted": false,
        "id": "U92CT5C5PjCX"
      },
      "outputs": [],
      "source": [
        "# Refitting with final selected variables\n",
        "x_rfe1 = sm.add_constant(x_rfe1)\n",
        "\n",
        "# Fitting the model with final selected variables\n",
        "dlm1 = sm.OLS(y, x_rfe1).fit()\n",
        "print(dlm1.summary())"
      ]
    },
    {
      "cell_type": "code",
      "execution_count": null,
      "metadata": {
        "hidden": true,
        "scrolled": true,
        "trusted": false,
        "id": "WnRqfmnGPjCY"
      },
      "outputs": [],
      "source": [
        "# Create a dataframe that will contain the names of all the feature variables and their respective VIFs\n",
        "vif = pd.DataFrame()\n",
        "\n",
        "vif['Features'] = x_rfe1.columns\n",
        "vif['VIF'] = [variance_inflation_factor(x_rfe1.values, i) for i in range(x_rfe1.shape[1])]\n",
        "\n",
        "vif['VIF'] = round(vif['VIF'], 2)\n",
        "vif = vif.sort_values(by = \"VIF\", ascending = False)\n",
        "vif"
      ]
    },
    {
      "cell_type": "code",
      "execution_count": null,
      "metadata": {
        "hidden": true,
        "trusted": false,
        "id": "l6aWu-SDPjCZ"
      },
      "outputs": [],
      "source": [
        "x_rfe1.drop('lag_1_discount', axis = 1, inplace = True)\n"
      ]
    },
    {
      "cell_type": "code",
      "execution_count": null,
      "metadata": {
        "hidden": true,
        "trusted": false,
        "id": "nyH-plwJPjCa"
      },
      "outputs": [],
      "source": [
        "### 6"
      ]
    },
    {
      "cell_type": "code",
      "execution_count": null,
      "metadata": {
        "hidden": true,
        "trusted": false,
        "id": "ViiseocHPjCb"
      },
      "outputs": [],
      "source": [
        "# Refitting with final selected variables\n",
        "x_rfe1 = sm.add_constant(x_rfe1)\n",
        "\n",
        "# Fitting the model with final selected variables\n",
        "dlm1 = sm.OLS(y, x_rfe1).fit()\n",
        "print(dlm1.summary())"
      ]
    },
    {
      "cell_type": "code",
      "execution_count": null,
      "metadata": {
        "hidden": true,
        "scrolled": true,
        "trusted": false,
        "id": "3SIIHLujPjCd"
      },
      "outputs": [],
      "source": [
        "# Create a dataframe that will contain the names of all the feature variables and their respective VIFs\n",
        "vif = pd.DataFrame()\n",
        "\n",
        "vif['Features'] = x_rfe1.columns\n",
        "vif['VIF'] = [variance_inflation_factor(x_rfe1.values, i) for i in range(x_rfe1.shape[1])]\n",
        "\n",
        "vif['VIF'] = round(vif['VIF'], 2)\n",
        "vif = vif.sort_values(by = \"VIF\", ascending = False)\n",
        "vif"
      ]
    },
    {
      "cell_type": "code",
      "execution_count": null,
      "metadata": {
        "hidden": true,
        "trusted": false,
        "id": "tKASU8x4PjCe"
      },
      "outputs": [],
      "source": [
        "x_rfe1.drop('lag_2_gmv', axis = 1, inplace = True)\n"
      ]
    },
    {
      "cell_type": "code",
      "execution_count": null,
      "metadata": {
        "hidden": true,
        "trusted": false,
        "id": "4XbYU9r8PjCf"
      },
      "outputs": [],
      "source": [
        "### 7"
      ]
    },
    {
      "cell_type": "code",
      "execution_count": null,
      "metadata": {
        "hidden": true,
        "trusted": false,
        "id": "CK7PdO_bPjCg"
      },
      "outputs": [],
      "source": [
        "# Refitting with final selected variables\n",
        "x_rfe1 = sm.add_constant(x_rfe1)\n",
        "\n",
        "# Fitting the model with final selected variables\n",
        "dlm1 = sm.OLS(y, x_rfe1).fit()\n",
        "print(dlm1.summary())"
      ]
    },
    {
      "cell_type": "code",
      "execution_count": null,
      "metadata": {
        "hidden": true,
        "scrolled": true,
        "trusted": false,
        "id": "piCCD6J6PjCg"
      },
      "outputs": [],
      "source": [
        "# Create a dataframe that will contain the names of all the feature variables and their respective VIFs\n",
        "vif = pd.DataFrame()\n",
        "\n",
        "vif['Features'] = x_rfe1.columns\n",
        "vif['VIF'] = [variance_inflation_factor(x_rfe1.values, i) for i in range(x_rfe1.shape[1])]\n",
        "\n",
        "vif['VIF'] = round(vif['VIF'], 2)\n",
        "vif = vif.sort_values(by = \"VIF\", ascending = False)\n",
        "vif"
      ]
    },
    {
      "cell_type": "code",
      "execution_count": null,
      "metadata": {
        "hidden": true,
        "trusted": false,
        "id": "zuoxKtcHPjCh"
      },
      "outputs": [],
      "source": [
        "x_rfe1.drop('lag_2_NPS', axis = 1, inplace = True)\n"
      ]
    },
    {
      "cell_type": "code",
      "execution_count": null,
      "metadata": {
        "hidden": true,
        "trusted": false,
        "id": "DiLjkzCdPjCi"
      },
      "outputs": [],
      "source": [
        "### 8"
      ]
    },
    {
      "cell_type": "code",
      "execution_count": null,
      "metadata": {
        "hidden": true,
        "trusted": false,
        "id": "chuisShRPjCi"
      },
      "outputs": [],
      "source": [
        "# Refitting with final selected variables\n",
        "x_rfe1 = sm.add_constant(x_rfe1)\n",
        "\n",
        "# Fitting the model with final selected variables\n",
        "dlm1 = sm.OLS(y, x_rfe1).fit()\n",
        "print(dlm1.summary())"
      ]
    },
    {
      "cell_type": "code",
      "execution_count": null,
      "metadata": {
        "hidden": true,
        "scrolled": true,
        "trusted": false,
        "id": "NK3EkAR7PjCj"
      },
      "outputs": [],
      "source": [
        "# Create a dataframe that will contain the names of all the feature variables and their respective VIFs\n",
        "vif = pd.DataFrame()\n",
        "\n",
        "vif['Features'] = x_rfe1.columns\n",
        "vif['VIF'] = [variance_inflation_factor(x_rfe1.values, i) for i in range(x_rfe1.shape[1])]\n",
        "\n",
        "vif['VIF'] = round(vif['VIF'], 2)\n",
        "vif = vif.sort_values(by = \"VIF\", ascending = False)\n",
        "vif"
      ]
    },
    {
      "cell_type": "code",
      "execution_count": null,
      "metadata": {
        "hidden": true,
        "trusted": false,
        "id": "e4guWZYxPjCj"
      },
      "outputs": [],
      "source": [
        "x_rfe1.drop('sla', axis = 1, inplace = True)\n"
      ]
    },
    {
      "cell_type": "code",
      "execution_count": null,
      "metadata": {
        "hidden": true,
        "trusted": false,
        "id": "YqP27kHqPjCk"
      },
      "outputs": [],
      "source": [
        "### 9"
      ]
    },
    {
      "cell_type": "code",
      "execution_count": null,
      "metadata": {
        "hidden": true,
        "trusted": false,
        "id": "AlLFHBwPPjCl"
      },
      "outputs": [],
      "source": [
        "# Refitting with final selected variables\n",
        "x_rfe1 = sm.add_constant(x_rfe1)\n",
        "\n",
        "# Fitting the model with final selected variables\n",
        "dlm1 = sm.OLS(y, x_rfe1).fit()\n",
        "print(dlm1.summary())"
      ]
    },
    {
      "cell_type": "code",
      "execution_count": null,
      "metadata": {
        "hidden": true,
        "scrolled": true,
        "trusted": false,
        "id": "v2a0K63bPjCl"
      },
      "outputs": [],
      "source": [
        "# Create a dataframe that will contain the names of all the feature variables and their respective VIFs\n",
        "vif = pd.DataFrame()\n",
        "\n",
        "vif['Features'] = x_rfe1.columns\n",
        "vif['VIF'] = [variance_inflation_factor(x_rfe1.values, i) for i in range(x_rfe1.shape[1])]\n",
        "\n",
        "vif['VIF'] = round(vif['VIF'], 2)\n",
        "vif = vif.sort_values(by = \"VIF\", ascending = False)\n",
        "vif"
      ]
    },
    {
      "cell_type": "code",
      "execution_count": null,
      "metadata": {
        "hidden": true,
        "trusted": false,
        "id": "ve_YuiLaPjCm"
      },
      "outputs": [],
      "source": [
        "features = list(x_rfe1.columns)\n",
        "features.remove('const')\n",
        "features"
      ]
    },
    {
      "cell_type": "code",
      "execution_count": null,
      "metadata": {
        "hidden": true,
        "trusted": false,
        "id": "QPJJ6TlMPjCm"
      },
      "outputs": [],
      "source": [
        "###  Model Evaluation on testing data\n",
        "x_2 = x[features]\n",
        "\n",
        "###  Predicition with selected features on the test data\n",
        "y_pred = dlm1.predict(sm.add_constant(x_2))"
      ]
    },
    {
      "cell_type": "code",
      "execution_count": null,
      "metadata": {
        "hidden": true,
        "trusted": false,
        "id": "owOO0bjDPjCm"
      },
      "outputs": [],
      "source": [
        "###  Mean square error (MSE)\n",
        "mse = np.mean((y_pred - y)**2)\n",
        "mse\n"
      ]
    },
    {
      "cell_type": "code",
      "execution_count": null,
      "metadata": {
        "hidden": true,
        "trusted": false,
        "id": "funemqn4PjCn"
      },
      "outputs": [],
      "source": [
        "###  Coefficient values\n",
        "\n",
        "coef = pd.DataFrame(x_rfe1.columns)\n",
        "coef['Coefficient'] = pd.Series(dlm.coef_)\n",
        "coef\n"
      ]
    },
    {
      "cell_type": "code",
      "execution_count": null,
      "metadata": {
        "hidden": true,
        "trusted": false,
        "id": "SQj-q4aSPjCn"
      },
      "outputs": [],
      "source": [
        "###  Using K-Fold Cross validation evaluating on whole dataset\n",
        "\n",
        "# lm = LinearRegression()\n",
        "fold = KFold(10,shuffle = True, random_state = 100)\n",
        "\n",
        "cv_scores = -cross_val_score(dlm,x[features],y,cv=fold,scoring='neg_mean_squared_error')\n",
        "\n",
        "print(\"Neg. of MSE:\",cv_scores,\"\\n\")\n",
        "print(\"Mean of 5 KFold CV - MSE:\",cv_scores.mean())"
      ]
    },
    {
      "cell_type": "code",
      "execution_count": null,
      "metadata": {
        "hidden": true,
        "trusted": false,
        "id": "G4BI64OiPjCo"
      },
      "outputs": [],
      "source": [
        "def elasticity(model,x):\n",
        "\n",
        "    features_df = pd.DataFrame(model.params)\n",
        "    features_df = features_df.rename(columns={0:'coef'})\n",
        "\n",
        "    features_df['imp_feature'] = model.params.index\n",
        "    features_df = features_df[features_df.imp_feature != 'const'][['imp_feature','coef']]\n",
        "    features_df.index = range(len(features_df))\n",
        "#      features\n",
        "\n",
        "    elasticity_list = list()\n",
        "\n",
        "    for i in range(len(features_df)):\n",
        "        elasticity_list.append(((features_df.coef[i] * np.mean(x[features_df.imp_feature[i]])) / np.mean(x['gmv'])))\n",
        "\n",
        "    features_df['elasticity'] = np.round(elasticity_list,3)\n",
        "\n",
        "    sns.barplot(x='elasticity',y='imp_feature',data=features_df)\n",
        "    plt.show()\n",
        "\n",
        "    return features_df\n",
        ""
      ]
    },
    {
      "cell_type": "code",
      "execution_count": null,
      "metadata": {
        "hidden": true,
        "trusted": false,
        "id": "9mNoB_VQPjCp"
      },
      "outputs": [],
      "source": [
        "elasticity(dlm1,camera_train_dlm)"
      ]
    },
    {
      "cell_type": "code",
      "execution_count": null,
      "metadata": {
        "hidden": true,
        "trusted": false,
        "id": "V6uJk3cbPjCp"
      },
      "outputs": [],
      "source": [
        "# Plotting y and y_pred to understand the spread\n",
        "\n",
        "fig = plt.figure()\n",
        "plt.scatter(y, y_pred)\n",
        "fig.suptitle('y vs y_pred', fontsize = 20)              # Plot heading\n",
        "plt.xlabel('y', fontsize = 18)                          # X-label\n",
        "plt.ylabel('y_pred', fontsize = 16)"
      ]
    },
    {
      "cell_type": "code",
      "execution_count": null,
      "metadata": {
        "hidden": true,
        "trusted": false,
        "id": "mCdMju14PjCq"
      },
      "outputs": [],
      "source": [
        "# Figure size\n",
        "plt.figure(figsize=(8,5))\n",
        "\n",
        "# Heatmap\n",
        "sns.heatmap(camera_train_dlm[features].corr(), cmap=\"YlGnBu\", annot=True)\n",
        "plt.show()"
      ]
    },
    {
      "cell_type": "markdown",
      "metadata": {
        "heading_collapsed": true,
        "id": "mBhceuRUPjCr"
      },
      "source": [
        "# 6. Modeling - Gaming Accessory"
      ]
    },
    {
      "cell_type": "markdown",
      "metadata": {
        "heading_collapsed": true,
        "hidden": true,
        "id": "hHz4BPFOPjCs"
      },
      "source": [
        "### Linear Model"
      ]
    },
    {
      "cell_type": "code",
      "execution_count": null,
      "metadata": {
        "hidden": true,
        "trusted": false,
        "id": "5-c9gIuMPjCu"
      },
      "outputs": [],
      "source": [
        "###  Importing RFE and LinearRegression\n",
        "from sklearn.feature_selection import RFE\n",
        "from sklearn.linear_model import LinearRegression"
      ]
    },
    {
      "cell_type": "code",
      "execution_count": null,
      "metadata": {
        "hidden": true,
        "scrolled": true,
        "trusted": false,
        "id": "m-zBC4f6PjCv"
      },
      "outputs": [],
      "source": [
        "ga_week.columns"
      ]
    },
    {
      "cell_type": "code",
      "execution_count": null,
      "metadata": {
        "hidden": true,
        "scrolled": true,
        "trusted": false,
        "id": "UQdFoZaaPjCv"
      },
      "outputs": [],
      "source": [
        "gaming_lm = ga_week[['gmv', 'discount', 'sla','product_procurement_sla', 'order_payment_type',\n",
        "       'online_order_perc', 'TV_ads','Sponsorship_ads', 'Content_marketing_ads', 'Online_marketing_ads',\n",
        "       'NPS', 'Stock_Index', 'Special_sales', 'Payday', 'heat_deg_days', 'cool_deg_days',\n",
        "       'total_rain_mm', 'total_snow_cm','snow_on_grnd_cm', 'MA2_listed_price']]\n",
        "\n",
        "\n",
        "gaming_lm.head()"
      ]
    },
    {
      "cell_type": "code",
      "execution_count": null,
      "metadata": {
        "hidden": true,
        "trusted": false,
        "id": "yQETayEIPjCw"
      },
      "outputs": [],
      "source": [
        "### Checking NaN\n",
        "gaming_lm.isnull().sum()"
      ]
    },
    {
      "cell_type": "code",
      "execution_count": null,
      "metadata": {
        "hidden": true,
        "trusted": false,
        "id": "WDlSvH1TPjCw"
      },
      "outputs": [],
      "source": [
        "gaming_lm.fillna(0, inplace = True)"
      ]
    },
    {
      "cell_type": "code",
      "execution_count": null,
      "metadata": {
        "hidden": true,
        "trusted": false,
        "id": "hTGX_jb_PjCx"
      },
      "outputs": [],
      "source": [
        "### Import the StandardScaler()\n",
        "# from sklearn.preprocessing import StandardScaler\n",
        "from sklearn.preprocessing import MinMaxScaler\n",
        "\n",
        "### Create a scaling object\n",
        "# scaler = StandardScaler()\n",
        "scaler = MinMaxScaler()\n",
        "\n",
        "\n",
        "### Create a list of the variables that you need to scale\n",
        "varlist = ['gmv', 'discount', 'sla','product_procurement_sla', 'order_payment_type',\n",
        "       'online_order_perc', 'TV_ads','Sponsorship_ads', 'Content_marketing_ads', 'Online_marketing_ads',\n",
        "       'NPS', 'Stock_Index', 'Special_sales', 'Payday', 'heat_deg_days', 'cool_deg_days',\n",
        "       'total_rain_mm', 'total_snow_cm','snow_on_grnd_cm', 'MA2_listed_price']\n",
        "\n",
        "\n",
        "### Scale these variables using 'fit_transform'\n",
        "gaming_lm[varlist] = scaler.fit_transform(gaming_lm[varlist])"
      ]
    },
    {
      "cell_type": "code",
      "execution_count": null,
      "metadata": {
        "hidden": true,
        "scrolled": true,
        "trusted": false,
        "id": "gCwn2FDwPjCx"
      },
      "outputs": [],
      "source": [
        "gaming_lm.head()"
      ]
    },
    {
      "cell_type": "code",
      "execution_count": null,
      "metadata": {
        "hidden": true,
        "trusted": false,
        "id": "PNSq4zUgPjCy"
      },
      "outputs": [],
      "source": [
        "### Split the train dataset into X and y\n",
        "from sklearn.model_selection import train_test_split\n",
        "x = gaming_lm.drop('gmv',axis=1)\n",
        "y = gaming_lm['gmv']\n",
        "\n",
        "gaming_train_lm = gaming_lm"
      ]
    },
    {
      "cell_type": "code",
      "execution_count": null,
      "metadata": {
        "hidden": true,
        "trusted": false,
        "id": "2X4LhGEKPjCz"
      },
      "outputs": [],
      "source": [
        "print(\"x dataset: \",x.shape)\n",
        "print(\"y dataset: \",y.shape)"
      ]
    },
    {
      "cell_type": "code",
      "execution_count": null,
      "metadata": {
        "hidden": true,
        "trusted": false,
        "id": "FMPRcrxjPjCz"
      },
      "outputs": [],
      "source": [
        "###  Instantiate\n",
        "lm = LinearRegression()\n",
        "\n",
        "###  Fit a line\n",
        "lm.fit(x,y)\n"
      ]
    },
    {
      "cell_type": "code",
      "execution_count": null,
      "metadata": {
        "hidden": true,
        "trusted": false,
        "id": "fKAt_-tyPjC0"
      },
      "outputs": [],
      "source": [
        "###  Coefficient values\n",
        "\n",
        "coef = pd.DataFrame(x.columns)\n",
        "coef['Coefficient'] = pd.Series(lm.coef_)\n",
        "coef\n"
      ]
    },
    {
      "cell_type": "code",
      "execution_count": null,
      "metadata": {
        "hidden": true,
        "trusted": false,
        "id": "l0xbpkTOPjC0"
      },
      "outputs": [],
      "source": [
        "col = x.columns\n",
        "col"
      ]
    },
    {
      "cell_type": "markdown",
      "metadata": {
        "hidden": true,
        "id": "83nfYju6PjC1"
      },
      "source": [
        "#### Model Building - Stepwise selection for feature selection"
      ]
    },
    {
      "cell_type": "code",
      "execution_count": null,
      "metadata": {
        "hidden": true,
        "trusted": false,
        "id": "ck0eFFuYPjC1"
      },
      "outputs": [],
      "source": [
        "import statsmodels.api as sm\n",
        "from statsmodels.stats.outliers_influence import variance_inflation_factor\n",
        "from sklearn.model_selection import KFold\n",
        "from sklearn.model_selection import cross_val_score"
      ]
    },
    {
      "cell_type": "code",
      "execution_count": null,
      "metadata": {
        "hidden": true,
        "trusted": false,
        "id": "mte5fGcfPjC2"
      },
      "outputs": [],
      "source": [
        "def stepwise_selection(x, y,\n",
        "                       initial_list=['discount', 'sla','product_procurement_sla', 'order_payment_type',\n",
        "       'online_order_perc', 'TV_ads','Sponsorship_ads', 'Content_marketing_ads', 'Online_marketing_ads',\n",
        "       'NPS', 'Stock_Index', 'Special_sales', 'Payday', 'heat_deg_days', 'cool_deg_days',\n",
        "       'total_rain_mm', 'total_snow_cm','snow_on_grnd_cm', 'MA2_listed_price'],\n",
        "                       threshold_in=0.01,threshold_out = 0.05, verbose=True):\n",
        "\n",
        "    included = list(initial_list)\n",
        "    while True:\n",
        "        changed=False\n",
        "        ###forward step\n",
        "        excluded = list(set(x.columns)-set(included))\n",
        "        new_pval = pd.Series(index=excluded)\n",
        "        for new_column in excluded:\n",
        "            model = sm.OLS(y, sm.add_constant(pd.DataFrame(x[included+[new_column]]))).fit()\n",
        "            new_pval[new_column] = model.pvalues[new_column]\n",
        "        best_pval = new_pval.min()\n",
        "        if best_pval < threshold_in:\n",
        "            best_feature = new_pval.argmin()\n",
        "            included.append(best_feature)\n",
        "            changed=True\n",
        "            if verbose:\n",
        "                print('Add  {:30} with p-value {:.6}'.format(best_feature, best_pval))\n",
        "\n",
        "\n",
        "        ###backward step\n",
        "        model = sm.OLS(y, sm.add_constant(pd.DataFrame(x[included]))).fit()\n",
        "        ###use all coefs except intercept\n",
        "        pvalues = model.pvalues.iloc[1:]\n",
        "        worst_pval = pvalues.max() ###null if pvalues is empty\n",
        "        if worst_pval > threshold_out:\n",
        "            changed=True\n",
        "            worst_feature = pvalues.argmax()\n",
        "            included.remove(worst_feature)\n",
        "            if verbose:\n",
        "                print('Drop {:30} with p-value {:.6}'.format(worst_feature, worst_pval))\n",
        "        if not changed:\n",
        "            break\n",
        "    return included\n"
      ]
    },
    {
      "cell_type": "code",
      "execution_count": null,
      "metadata": {
        "hidden": true,
        "trusted": false,
        "id": "6UIOiGRRPjC3"
      },
      "outputs": [],
      "source": [
        "import statsmodels.api as sm\n",
        "\n",
        "final_features = stepwise_selection(x, y)\n",
        "\n",
        "print(\"\\n\",\"final_selected_features:\",final_features)"
      ]
    },
    {
      "cell_type": "code",
      "execution_count": null,
      "metadata": {
        "hidden": true,
        "trusted": false,
        "id": "02USb17iPjC3"
      },
      "outputs": [],
      "source": [
        "###  Import statsmodels\n",
        "import statsmodels.api as sm\n",
        "\n",
        "###  Subsetting training data for 15 selected columns\n",
        "x_rfe1 = x[final_features]\n",
        "\n",
        "x_rfe1 = sm.add_constant(x_rfe1)\n",
        "\n",
        "###  Fitting the model with selected variables\n",
        "lm1 = sm.OLS(y, x_rfe1).fit()\n",
        "\n",
        "print(lm1.params)"
      ]
    },
    {
      "cell_type": "code",
      "execution_count": null,
      "metadata": {
        "hidden": true,
        "trusted": false,
        "id": "yaK8qA34PjC4"
      },
      "outputs": [],
      "source": [
        "print(lm1.summary())"
      ]
    },
    {
      "cell_type": "code",
      "execution_count": null,
      "metadata": {
        "hidden": true,
        "trusted": false,
        "id": "vPVOqv1rPjC4"
      },
      "outputs": [],
      "source": [
        "###  Create a dataframe that will contain the names of all the feature variables and their respective VIFs\n",
        "vif = pd.DataFrame()\n",
        "\n",
        "vif['Features'] = x_rfe1.columns\n",
        "vif['VIF'] = [variance_inflation_factor(x_rfe1.values, i) for i in range(x_rfe1.shape[1])]\n",
        "\n",
        "vif['VIF'] = round(vif['VIF'], 2)\n",
        "vif = vif.sort_values(by = \"VIF\", ascending = False)\n",
        "vif"
      ]
    },
    {
      "cell_type": "code",
      "execution_count": null,
      "metadata": {
        "hidden": true,
        "trusted": false,
        "id": "ZN4HbM-5PjC4"
      },
      "outputs": [],
      "source": [
        "features = list(x_rfe1.columns)\n",
        "features.remove('const')\n",
        "features"
      ]
    },
    {
      "cell_type": "code",
      "execution_count": null,
      "metadata": {
        "hidden": true,
        "trusted": false,
        "id": "nKXUKuuIPjC5"
      },
      "outputs": [],
      "source": [
        "###  Model Evaluation on testing data\n",
        "x_2 = x[features]\n",
        "\n",
        "\n",
        "###  Predicition with selected features on the test data\n",
        "y_pred = lm1.predict(sm.add_constant(x_2))\n"
      ]
    },
    {
      "cell_type": "code",
      "execution_count": null,
      "metadata": {
        "hidden": true,
        "trusted": false,
        "id": "NZQxU0EoPjC5"
      },
      "outputs": [],
      "source": [
        "###  Mean square error (MSE)\n",
        "\n",
        "mse = np.mean((y_pred - y)**2)\n",
        "mse"
      ]
    },
    {
      "cell_type": "code",
      "execution_count": null,
      "metadata": {
        "hidden": true,
        "trusted": false,
        "id": "Rl2Ep2jcPjC6"
      },
      "outputs": [],
      "source": [
        "###  Coefficient values\n",
        "\n",
        "coef = pd.DataFrame(x_rfe1.columns)\n",
        "coef['Coefficient'] = pd.Series(lm.coef_)\n",
        "coef\n"
      ]
    },
    {
      "cell_type": "code",
      "execution_count": null,
      "metadata": {
        "hidden": true,
        "trusted": false,
        "id": "UF6IGvVvPjC6"
      },
      "outputs": [],
      "source": [
        "### Mean Square Error\n",
        "###  Using K-Fold Cross validation evaluating on selected dataset\n",
        "\n",
        "# lm = LinearRegression()\n",
        "fold = KFold(10,shuffle = True, random_state = 100)\n",
        "\n",
        "cv_scores = -cross_val_score(lm,x[features],y,cv=fold,scoring='neg_mean_squared_error')\n",
        "\n",
        "print(\"Neg. of MSE:\",cv_scores,\"\\n\")\n",
        "print(\"Mean of 5 KFold CV - MSE:\",cv_scores.mean())"
      ]
    },
    {
      "cell_type": "code",
      "execution_count": null,
      "metadata": {
        "hidden": true,
        "trusted": false,
        "id": "oQ_VyCz5PjC7"
      },
      "outputs": [],
      "source": [
        "def elasticity(model,x):\n",
        "\n",
        "    features_df = pd.DataFrame(model.params)\n",
        "    features_df = features_df.rename(columns={0:'coef'})\n",
        "\n",
        "    features_df['imp_feature'] = model.params.index\n",
        "    features_df = features_df[features_df.imp_feature != 'const'][['imp_feature','coef']]\n",
        "    features_df.index = range(len(features_df))\n",
        "#    features\n",
        "\n",
        "    elasticity_list = list()\n",
        "\n",
        "    for i in range(len(features_df)):\n",
        "        elasticity_list.append(((features_df.coef[i] * np.mean(x[features_df.imp_feature[i]])) / np.mean(x['gmv'])))\n",
        "\n",
        "    features_df['elasticity'] = np.round(elasticity_list,3)\n",
        "\n",
        "    sns.barplot(x='elasticity',y='imp_feature',data=features_df)\n",
        "    plt.show()\n",
        "\n",
        "    return features_df\n",
        ""
      ]
    },
    {
      "cell_type": "code",
      "execution_count": null,
      "metadata": {
        "hidden": true,
        "trusted": false,
        "id": "tHLN4A0BPjC7"
      },
      "outputs": [],
      "source": [
        "elasticity(lm1,gaming_train_lm)"
      ]
    },
    {
      "cell_type": "code",
      "execution_count": null,
      "metadata": {
        "hidden": true,
        "trusted": false,
        "id": "iInehhDjPjC8"
      },
      "outputs": [],
      "source": [
        "# Plotting y and y_pred to understand the spread\n",
        "\n",
        "fig = plt.figure()\n",
        "plt.scatter(y, y_pred)\n",
        "fig.suptitle('y vs y_pred', fontsize = 20)              # Plot heading\n",
        "plt.xlabel('y', fontsize = 18)                          # X-label\n",
        "plt.ylabel('y_pred', fontsize = 16)"
      ]
    },
    {
      "cell_type": "code",
      "execution_count": null,
      "metadata": {
        "hidden": true,
        "trusted": false,
        "id": "qmDnUeZiPjC8"
      },
      "outputs": [],
      "source": [
        "# Figure size\n",
        "plt.figure(figsize=(8,5))\n",
        "\n",
        "# Heatmap\n",
        "sns.heatmap(gaming_train_lm[features].corr(), cmap=\"YlGnBu\", annot=True)\n",
        "plt.show()"
      ]
    },
    {
      "cell_type": "markdown",
      "metadata": {
        "heading_collapsed": true,
        "hidden": true,
        "id": "Md-eSPOtPjC8"
      },
      "source": [
        "### Multiplicative Model"
      ]
    },
    {
      "cell_type": "code",
      "execution_count": null,
      "metadata": {
        "hidden": true,
        "trusted": false,
        "id": "enLq5IUjPjC9"
      },
      "outputs": [],
      "source": [
        "ga_week.columns"
      ]
    },
    {
      "cell_type": "code",
      "execution_count": null,
      "metadata": {
        "hidden": true,
        "trusted": false,
        "id": "cVT71rQoPjC-"
      },
      "outputs": [],
      "source": [
        "gaming_mm = ga_week[['gmv', 'discount', 'sla','product_procurement_sla', 'order_payment_type',\n",
        "       'online_order_perc', 'TV_ads','Sponsorship_ads', 'Content_marketing_ads', 'Online_marketing_ads',\n",
        "       'NPS', 'Stock_Index', 'Special_sales', 'Payday', 'heat_deg_days', 'cool_deg_days',\n",
        "       'total_rain_mm', 'total_snow_cm','snow_on_grnd_cm', 'MA2_listed_price']]\n",
        "\n",
        "gaming_mm.head()\n"
      ]
    },
    {
      "cell_type": "code",
      "execution_count": null,
      "metadata": {
        "hidden": true,
        "trusted": false,
        "id": "Kf23T7NFPjC-"
      },
      "outputs": [],
      "source": [
        "### Applying Log\n",
        "gaming_mm=np.log(gaming_mm)\n",
        "\n",
        "gaming_mm = gaming_mm.fillna(0)\n",
        "gaming_mm = gaming_mm.replace([np.inf, -np.inf], 0)"
      ]
    },
    {
      "cell_type": "code",
      "execution_count": null,
      "metadata": {
        "hidden": true,
        "trusted": false,
        "id": "XafW4JSnPjC_"
      },
      "outputs": [],
      "source": [
        "gaming_mm.head()"
      ]
    },
    {
      "cell_type": "code",
      "execution_count": null,
      "metadata": {
        "hidden": true,
        "trusted": false,
        "id": "GDkjRc1NPjDA"
      },
      "outputs": [],
      "source": [
        "###  Import the StandardScaler()\n",
        "# from sklearn.preprocessing import StandardScaler\n",
        "from sklearn.preprocessing import MinMaxScaler\n",
        "\n",
        "###  Create a scaling object\n",
        "# scaler = StandardScaler()\n",
        "scaler = MinMaxScaler()\n",
        "\n",
        "###  Create a list of the variables that you need to scale\n",
        "varlist = ['gmv', 'discount', 'sla','product_procurement_sla', 'order_payment_type',\n",
        "       'online_order_perc', 'TV_ads','Sponsorship_ads', 'Content_marketing_ads', 'Online_marketing_ads',\n",
        "       'NPS', 'Stock_Index', 'Special_sales', 'Payday', 'heat_deg_days', 'cool_deg_days',\n",
        "       'total_rain_mm', 'total_snow_cm','snow_on_grnd_cm', 'MA2_listed_price']\n",
        "\n",
        "\n",
        "\n",
        "### Scale these variables using 'fit_transform'\n",
        "gaming_mm[varlist] = scaler.fit_transform(gaming_mm[varlist])"
      ]
    },
    {
      "cell_type": "code",
      "execution_count": null,
      "metadata": {
        "hidden": true,
        "scrolled": true,
        "trusted": false,
        "id": "YI3P3e1cPjDB"
      },
      "outputs": [],
      "source": [
        "gaming_mm.head()"
      ]
    },
    {
      "cell_type": "code",
      "execution_count": null,
      "metadata": {
        "hidden": true,
        "trusted": false,
        "id": "ub5RSmZUPjDC"
      },
      "outputs": [],
      "source": [
        "### Split the train dataset into X and y\n",
        "from sklearn.model_selection import train_test_split\n",
        "\n",
        "x = gaming_mm.drop('gmv',axis=1)\n",
        "y = gaming_mm['gmv']\n",
        "\n",
        "gaming_train_mm = gaming_mm"
      ]
    },
    {
      "cell_type": "code",
      "execution_count": null,
      "metadata": {
        "hidden": true,
        "trusted": false,
        "id": "GAcpK6LoPjDD"
      },
      "outputs": [],
      "source": [
        "print(\"X = Independent variable & Y = Target variable\")\n",
        "print(x.shape,y.shape)\n"
      ]
    },
    {
      "cell_type": "code",
      "execution_count": null,
      "metadata": {
        "hidden": true,
        "trusted": false,
        "id": "dV6iOsGtPjDD"
      },
      "outputs": [],
      "source": [
        "### Instantiate\n",
        "mm = LinearRegression()\n",
        "\n",
        "### Fit a line\n",
        "mm.fit(x,y)\n"
      ]
    },
    {
      "cell_type": "code",
      "execution_count": null,
      "metadata": {
        "hidden": true,
        "trusted": false,
        "id": "q9eOUnoFPjDE"
      },
      "outputs": [],
      "source": [
        "### Coefficient values\n",
        "\n",
        "coef = pd.DataFrame(x.columns)\n",
        "coef['Coefficient'] = pd.Series(mm.coef_)\n",
        "coef\n"
      ]
    },
    {
      "cell_type": "code",
      "execution_count": null,
      "metadata": {
        "hidden": true,
        "trusted": false,
        "id": "atmi9ZTvPjDE"
      },
      "outputs": [],
      "source": [
        "col = x.columns\n",
        "col"
      ]
    },
    {
      "cell_type": "markdown",
      "metadata": {
        "hidden": true,
        "id": "bAdlQ2KrPjDF"
      },
      "source": [
        "#### Model Building - Stepwise selection for feature selection"
      ]
    },
    {
      "cell_type": "code",
      "execution_count": null,
      "metadata": {
        "hidden": true,
        "trusted": false,
        "id": "2qrzZOu7PjDF"
      },
      "outputs": [],
      "source": [
        "import statsmodels.api as sm\n",
        "from statsmodels.stats.outliers_influence import variance_inflation_factor\n",
        "from sklearn.model_selection import KFold\n",
        "from sklearn.model_selection import cross_val_score"
      ]
    },
    {
      "cell_type": "code",
      "execution_count": null,
      "metadata": {
        "hidden": true,
        "trusted": false,
        "id": "yRksXDHtPjDG"
      },
      "outputs": [],
      "source": [
        "def stepwise_selection(x, y,\n",
        "                       initial_list=['discount', 'sla','product_procurement_sla', 'order_payment_type',\n",
        "       'online_order_perc', 'TV_ads','Sponsorship_ads', 'Content_marketing_ads', 'Online_marketing_ads',\n",
        "       'NPS', 'Stock_Index', 'Special_sales', 'Payday', 'heat_deg_days', 'cool_deg_days',\n",
        "       'total_rain_mm', 'total_snow_cm','snow_on_grnd_cm', 'MA2_listed_price'],\n",
        "                       threshold_in=0.01,threshold_out = 0.05, verbose=True):\n",
        "\n",
        "    included = list(initial_list)\n",
        "    while True:\n",
        "        changed=False\n",
        "        ###forward step\n",
        "        excluded = list(set(x.columns)-set(included))\n",
        "        new_pval = pd.Series(index=excluded)\n",
        "        for new_column in excluded:\n",
        "            model = sm.OLS(y, sm.add_constant(pd.DataFrame(x[included+[new_column]]))).fit()\n",
        "            new_pval[new_column] = model.pvalues[new_column]\n",
        "        best_pval = new_pval.min()\n",
        "        if best_pval < threshold_in:\n",
        "            best_feature = new_pval.argmin()\n",
        "            included.append(best_feature)\n",
        "            changed=True\n",
        "            if verbose:\n",
        "                print('Add  {:30} with p-value {:.6}'.format(best_feature, best_pval))\n",
        "\n",
        "\n",
        "        ###backward step\n",
        "        model = sm.OLS(y, sm.add_constant(pd.DataFrame(x[included]))).fit()\n",
        "        ###use all coefs except intercept\n",
        "        pvalues = model.pvalues.iloc[1:]\n",
        "        worst_pval = pvalues.max() ###null if pvalues is empty\n",
        "        if worst_pval > threshold_out:\n",
        "            changed=True\n",
        "            worst_feature = pvalues.argmax()\n",
        "            included.remove(worst_feature)\n",
        "            if verbose:\n",
        "                print('Drop {:30} with p-value {:.6}'.format(worst_feature, worst_pval))\n",
        "        if not changed:\n",
        "            break\n",
        "    return included\n"
      ]
    },
    {
      "cell_type": "code",
      "execution_count": null,
      "metadata": {
        "hidden": true,
        "trusted": false,
        "id": "cjLnEejPPjDG"
      },
      "outputs": [],
      "source": [
        "import statsmodels.api as sm\n",
        "\n",
        "final_features = stepwise_selection(x, y)\n",
        "\n",
        "print(\"\\n\",\"final_selected_features:\",final_features)"
      ]
    },
    {
      "cell_type": "code",
      "execution_count": null,
      "metadata": {
        "hidden": true,
        "trusted": false,
        "id": "8YWd3E31PjDH"
      },
      "outputs": [],
      "source": [
        "### Import statsmodels\n",
        "import statsmodels.api as sm\n",
        "\n",
        "### Subsetting training data for 15 selected columns\n",
        "x_rfe1 = x[final_features]\n",
        "\n",
        "x_rfe1 = sm.add_constant(x_rfe1)\n",
        "\n",
        "\n",
        "### Fitting the model with selected variables\n",
        "mm1 = sm.OLS(y, x_rfe1).fit()\n",
        "\n",
        "print(mm1.params)"
      ]
    },
    {
      "cell_type": "code",
      "execution_count": null,
      "metadata": {
        "hidden": true,
        "trusted": false,
        "id": "khPcm7RjPjDH"
      },
      "outputs": [],
      "source": [
        "print(mm1.summary())"
      ]
    },
    {
      "cell_type": "code",
      "execution_count": null,
      "metadata": {
        "hidden": true,
        "trusted": false,
        "id": "xMMATlTzPjDI"
      },
      "outputs": [],
      "source": [
        "### Create a dataframe that will contain the names of all the feature variables and their respective VIFs\n",
        "vif = pd.DataFrame()\n",
        "\n",
        "vif['Features'] = x_rfe1.columns\n",
        "vif['VIF'] = [variance_inflation_factor(x_rfe1.values, i) for i in range(x_rfe1.shape[1])]\n",
        "\n",
        "vif['VIF'] = round(vif['VIF'], 2)\n",
        "vif = vif.sort_values(by = \"VIF\", ascending = False)\n",
        "vif"
      ]
    },
    {
      "cell_type": "code",
      "execution_count": null,
      "metadata": {
        "hidden": true,
        "trusted": false,
        "id": "DVEy3TM9PjDI"
      },
      "outputs": [],
      "source": [
        "x_rfe1.drop('order_payment_type', axis = 1, inplace = True)"
      ]
    },
    {
      "cell_type": "code",
      "execution_count": null,
      "metadata": {
        "hidden": true,
        "trusted": false,
        "id": "qj-AocxoPjDI"
      },
      "outputs": [],
      "source": [
        "### 2"
      ]
    },
    {
      "cell_type": "code",
      "execution_count": null,
      "metadata": {
        "hidden": true,
        "trusted": false,
        "id": "wljuD_y4PjDJ"
      },
      "outputs": [],
      "source": [
        "# Refitting with final selected variables\n",
        "x_rfe1 = sm.add_constant(x_rfe1)\n",
        "\n",
        "# Fitting the model with final selected variables\n",
        "mm1 = sm.OLS(y, x_rfe1).fit()\n",
        "print(mm1.summary())"
      ]
    },
    {
      "cell_type": "code",
      "execution_count": null,
      "metadata": {
        "hidden": true,
        "scrolled": true,
        "trusted": false,
        "id": "Fdn2Z0hPPjDJ"
      },
      "outputs": [],
      "source": [
        "# Create a dataframe that will contain the names of all the feature variables and their respective VIFs\n",
        "vif = pd.DataFrame()\n",
        "\n",
        "vif['Features'] = x_rfe1.columns\n",
        "vif['VIF'] = [variance_inflation_factor(x_rfe1.values, i) for i in range(x_rfe1.shape[1])]\n",
        "\n",
        "vif['VIF'] = round(vif['VIF'], 2)\n",
        "vif = vif.sort_values(by = \"VIF\", ascending = False)\n",
        "vif"
      ]
    },
    {
      "cell_type": "code",
      "execution_count": null,
      "metadata": {
        "hidden": true,
        "trusted": false,
        "id": "jPh6kRiUPjDK"
      },
      "outputs": [],
      "source": [
        "x_rfe1.drop('snow_on_grnd_cm', axis = 1, inplace = True)\n"
      ]
    },
    {
      "cell_type": "code",
      "execution_count": null,
      "metadata": {
        "hidden": true,
        "trusted": false,
        "id": "xjsj0ycYPjDL"
      },
      "outputs": [],
      "source": [
        "### 3"
      ]
    },
    {
      "cell_type": "code",
      "execution_count": null,
      "metadata": {
        "hidden": true,
        "trusted": false,
        "id": "AJfn_pHjPjDM"
      },
      "outputs": [],
      "source": [
        "# Refitting with final selected variables\n",
        "x_rfe1 = sm.add_constant(x_rfe1)\n",
        "\n",
        "# Fitting the model with final selected variables\n",
        "mm1 = sm.OLS(y, x_rfe1).fit()\n",
        "print(mm1.summary())"
      ]
    },
    {
      "cell_type": "code",
      "execution_count": null,
      "metadata": {
        "hidden": true,
        "scrolled": true,
        "trusted": false,
        "id": "KV6bXSbrPjDN"
      },
      "outputs": [],
      "source": [
        "# Create a dataframe that will contain the names of all the feature variables and their respective VIFs\n",
        "vif = pd.DataFrame()\n",
        "\n",
        "vif['Features'] = x_rfe1.columns\n",
        "vif['VIF'] = [variance_inflation_factor(x_rfe1.values, i) for i in range(x_rfe1.shape[1])]\n",
        "\n",
        "vif['VIF'] = round(vif['VIF'], 2)\n",
        "vif = vif.sort_values(by = \"VIF\", ascending = False)\n",
        "vif"
      ]
    },
    {
      "cell_type": "code",
      "execution_count": null,
      "metadata": {
        "hidden": true,
        "trusted": false,
        "id": "WqG6jiFlPjDP"
      },
      "outputs": [],
      "source": [
        "features = list(x_rfe1.columns)\n",
        "features.remove('const')\n",
        "features"
      ]
    },
    {
      "cell_type": "code",
      "execution_count": null,
      "metadata": {
        "hidden": true,
        "trusted": false,
        "id": "dVqSsQ2vPjDQ"
      },
      "outputs": [],
      "source": [
        "### Model Evaluation on testing data\n",
        "x_2 = x[features]\n",
        "\n",
        "\n",
        "### Predicition with selected features on the test data\n",
        "y_pred = mm1.predict(sm.add_constant(x_2))\n"
      ]
    },
    {
      "cell_type": "code",
      "execution_count": null,
      "metadata": {
        "hidden": true,
        "trusted": false,
        "id": "nlLrzsXmPjDS"
      },
      "outputs": [],
      "source": [
        "### Mean square error (MSE)\n",
        "mse = np.mean((y_pred - y)**2)\n",
        "mse"
      ]
    },
    {
      "cell_type": "code",
      "execution_count": null,
      "metadata": {
        "hidden": true,
        "trusted": false,
        "id": "SdBfrOQWPjDS"
      },
      "outputs": [],
      "source": [
        "### Coefficient values\n",
        "\n",
        "coef = pd.DataFrame(x_rfe1.columns)\n",
        "coef['Coefficient'] = pd.Series(mm.coef_)\n",
        "coef\n"
      ]
    },
    {
      "cell_type": "code",
      "execution_count": null,
      "metadata": {
        "hidden": true,
        "trusted": false,
        "id": "ltiLT9YXPjDT"
      },
      "outputs": [],
      "source": [
        "### Mean Square Error\n",
        "###  Using K-Fold Cross validation evaluating on selected dataset\n",
        "\n",
        "# lm = LinearRegression()\n",
        "fold = KFold(10,shuffle = True, random_state = 100)\n",
        "\n",
        "cv_scores = -cross_val_score(mm,x[features],y,cv=fold,scoring='neg_mean_squared_error')\n",
        "\n",
        "print(\"Neg. of MSE:\",cv_scores,\"\\n\")\n",
        "print(\"Mean of 5 KFold CV - MSE:\",cv_scores.mean())"
      ]
    },
    {
      "cell_type": "code",
      "execution_count": null,
      "metadata": {
        "hidden": true,
        "trusted": false,
        "id": "Sr_FRqD2PjDU"
      },
      "outputs": [],
      "source": [
        "def elasticity(model,x):\n",
        "\n",
        "    features_df = pd.DataFrame(model.params)\n",
        "    features_df = features_df.rename(columns={0:'coef'})\n",
        "\n",
        "    features_df['imp_feature'] = model.params.index\n",
        "    features_df = features_df[features_df.imp_feature != 'const'][['imp_feature','coef']]\n",
        "    features_df.index = range(len(features_df))\n",
        "#     features\n",
        "\n",
        "    elasticity_list = list()\n",
        "\n",
        "    for i in range(len(features_df)):\n",
        "        elasticity_list.append(((features_df.coef[i] * np.mean(x[features_df.imp_feature[i]])) / np.mean(x['gmv'])))\n",
        "\n",
        "    features_df['elasticity'] = np.round(elasticity_list,3)\n",
        "\n",
        "    sns.barplot(x='elasticity',y='imp_feature',data=features_df)\n",
        "    plt.show()\n",
        "\n",
        "    return features_df\n",
        ""
      ]
    },
    {
      "cell_type": "code",
      "execution_count": null,
      "metadata": {
        "hidden": true,
        "trusted": false,
        "id": "-kaXOLYoPjDU"
      },
      "outputs": [],
      "source": [
        "elasticity(mm1,gaming_train_mm)"
      ]
    },
    {
      "cell_type": "code",
      "execution_count": null,
      "metadata": {
        "hidden": true,
        "trusted": false,
        "id": "n-gFTFnaPjDV"
      },
      "outputs": [],
      "source": [
        "# Plotting y and y_pred to understand the spread\n",
        "\n",
        "fig = plt.figure()\n",
        "plt.scatter(y, y_pred)\n",
        "fig.suptitle('y vs y_pred', fontsize = 20)              # Plot heading\n",
        "plt.xlabel('y', fontsize = 18)                          # X-label\n",
        "plt.ylabel('y_pred', fontsize = 16)"
      ]
    },
    {
      "cell_type": "code",
      "execution_count": null,
      "metadata": {
        "hidden": true,
        "trusted": false,
        "id": "hkKz5cqLPjDW"
      },
      "outputs": [],
      "source": [
        "# Figure size\n",
        "plt.figure(figsize=(8,5))\n",
        "\n",
        "# Heatmap\n",
        "sns.heatmap(gaming_train_mm[features].corr(), cmap=\"YlGnBu\", annot=True)\n",
        "plt.show()"
      ]
    },
    {
      "cell_type": "markdown",
      "metadata": {
        "heading_collapsed": true,
        "hidden": true,
        "id": "JoQOegNiPjDX"
      },
      "source": [
        "### Kyock Model"
      ]
    },
    {
      "cell_type": "code",
      "execution_count": null,
      "metadata": {
        "hidden": true,
        "trusted": false,
        "id": "NVP08vVrPjDX"
      },
      "outputs": [],
      "source": [
        "ga_week.columns"
      ]
    },
    {
      "cell_type": "code",
      "execution_count": null,
      "metadata": {
        "hidden": true,
        "trusted": false,
        "id": "Gue69kXXPjDY"
      },
      "outputs": [],
      "source": [
        "gaming_km = ga_week[['gmv', 'discount', 'sla','product_procurement_sla', 'order_payment_type',\n",
        "       'online_order_perc', 'TV_ads','Sponsorship_ads', 'Content_marketing_ads', 'Online_marketing_ads',\n",
        "       'NPS', 'Stock_Index', 'Special_sales', 'Payday', 'heat_deg_days', 'cool_deg_days',\n",
        "       'total_rain_mm', 'total_snow_cm','snow_on_grnd_cm', 'MA2_listed_price']]\n",
        "\n",
        "\n",
        "gaming_km.head()\n"
      ]
    },
    {
      "cell_type": "code",
      "execution_count": null,
      "metadata": {
        "hidden": true,
        "trusted": false,
        "id": "kYyiOygtPjDY"
      },
      "outputs": [],
      "source": [
        "gaming_km['lag_1_gmv'] = gaming_km['gmv'].shift(-1)"
      ]
    },
    {
      "cell_type": "code",
      "execution_count": null,
      "metadata": {
        "hidden": true,
        "trusted": false,
        "id": "GjdcLAXePjDZ"
      },
      "outputs": [],
      "source": [
        "### Checking NaN\n",
        "\n",
        "gaming_km.isnull().sum()"
      ]
    },
    {
      "cell_type": "code",
      "execution_count": null,
      "metadata": {
        "hidden": true,
        "trusted": false,
        "id": "SqoDovKLPjDZ"
      },
      "outputs": [],
      "source": [
        "gaming_km = gaming_km.fillna(0)"
      ]
    },
    {
      "cell_type": "code",
      "execution_count": null,
      "metadata": {
        "hidden": true,
        "trusted": false,
        "id": "Col_0qHBPjDa"
      },
      "outputs": [],
      "source": [
        "gaming_km.head()"
      ]
    },
    {
      "cell_type": "code",
      "execution_count": null,
      "metadata": {
        "hidden": true,
        "trusted": false,
        "id": "47E8tnbmPjDa"
      },
      "outputs": [],
      "source": [
        "###  Import the StandardScaler()\n",
        "# from sklearn.preprocessing import StandardScaler\n",
        "from sklearn.preprocessing import MinMaxScaler\n",
        "\n",
        "### Create a scaling object\n",
        "# scaler = StandardScaler()\n",
        "scaler = MinMaxScaler()\n",
        "\n",
        "### Create a list of the variables that you need to scale\n",
        "varlist = ['gmv', 'discount', 'sla','product_procurement_sla', 'order_payment_type',\n",
        "       'online_order_perc', 'TV_ads','Sponsorship_ads', 'Content_marketing_ads', 'Online_marketing_ads',\n",
        "       'NPS', 'Stock_Index', 'Special_sales', 'Payday', 'heat_deg_days', 'cool_deg_days',\n",
        "       'total_rain_mm', 'total_snow_cm','snow_on_grnd_cm', 'MA2_listed_price','lag_1_gmv']\n",
        "\n",
        "### Scale these variables using 'fit_transform'\n",
        "gaming_km[varlist] = scaler.fit_transform(gaming_km[varlist])"
      ]
    },
    {
      "cell_type": "code",
      "execution_count": null,
      "metadata": {
        "hidden": true,
        "scrolled": true,
        "trusted": false,
        "id": "9KbmTdTAPjDb"
      },
      "outputs": [],
      "source": [
        "gaming_km.head()"
      ]
    },
    {
      "cell_type": "code",
      "execution_count": null,
      "metadata": {
        "hidden": true,
        "trusted": false,
        "id": "FH7se4wEPjDb"
      },
      "outputs": [],
      "source": [
        "### Split the train dataset into X and y\n",
        "from sklearn.model_selection import train_test_split\n",
        "x = gaming_km.drop('gmv',axis=1)\n",
        "y = gaming_km['gmv']\n",
        "\n",
        "gaming_train_km = gaming_km"
      ]
    },
    {
      "cell_type": "code",
      "execution_count": null,
      "metadata": {
        "hidden": true,
        "trusted": false,
        "id": "HkW6dk-sPjDc"
      },
      "outputs": [],
      "source": [
        "print(\"X = Independent variable & Y = Target variable\")\n",
        "print(x.shape,y.shape)"
      ]
    },
    {
      "cell_type": "code",
      "execution_count": null,
      "metadata": {
        "hidden": true,
        "trusted": false,
        "id": "GZ9JzZe9PjDd"
      },
      "outputs": [],
      "source": [
        "###  Instantiate\n",
        "km = LinearRegression()\n",
        "\n",
        "###  Fit a line\n",
        "km.fit(x,y)\n"
      ]
    },
    {
      "cell_type": "code",
      "execution_count": null,
      "metadata": {
        "hidden": true,
        "trusted": false,
        "id": "ibsvAQBBPjDd"
      },
      "outputs": [],
      "source": [
        "###  Coefficient values\n",
        "\n",
        "coef = pd.DataFrame(x.columns)\n",
        "coef['Coefficient'] = pd.Series(km.coef_)\n",
        "coef\n"
      ]
    },
    {
      "cell_type": "code",
      "execution_count": null,
      "metadata": {
        "hidden": true,
        "trusted": false,
        "id": "uZ9hOAjyPjDe"
      },
      "outputs": [],
      "source": [
        "col = x.columns\n",
        "col"
      ]
    },
    {
      "cell_type": "markdown",
      "metadata": {
        "hidden": true,
        "id": "K2VXvPfIPjDf"
      },
      "source": [
        "#### Model Building - Stepwise selection for feature selection"
      ]
    },
    {
      "cell_type": "code",
      "execution_count": null,
      "metadata": {
        "hidden": true,
        "trusted": false,
        "id": "O0GjjfzdPjDg"
      },
      "outputs": [],
      "source": [
        "import statsmodels.api as sm\n",
        "from statsmodels.stats.outliers_influence import variance_inflation_factor\n",
        "from sklearn.model_selection import KFold\n",
        "from sklearn.model_selection import cross_val_score"
      ]
    },
    {
      "cell_type": "code",
      "execution_count": null,
      "metadata": {
        "hidden": true,
        "trusted": false,
        "id": "fLqY2RT9PjDg"
      },
      "outputs": [],
      "source": [
        "def stepwise_selection(x, y,\n",
        "                       initial_list=['discount', 'sla','product_procurement_sla', 'order_payment_type',\n",
        "       'online_order_perc', 'TV_ads','Sponsorship_ads', 'Content_marketing_ads', 'Online_marketing_ads',\n",
        "       'NPS', 'Stock_Index', 'Special_sales', 'Payday', 'heat_deg_days', 'cool_deg_days',\n",
        "       'total_rain_mm', 'total_snow_cm','snow_on_grnd_cm', 'MA2_listed_price', 'lag_1_gmv'],\n",
        "                       threshold_in=0.01,threshold_out = 0.05, verbose=True):\n",
        "\n",
        "    included = list(initial_list)\n",
        "    while True:\n",
        "        changed=False\n",
        "        ### forward step\n",
        "        excluded = list(set(x.columns)-set(included))\n",
        "        new_pval = pd.Series(index=excluded)\n",
        "        for new_column in excluded:\n",
        "            model = sm.OLS(y, sm.add_constant(pd.DataFrame(x[included+[new_column]]))).fit()\n",
        "            new_pval[new_column] = model.pvalues[new_column]\n",
        "        best_pval = new_pval.min()\n",
        "        if best_pval < threshold_in:\n",
        "            best_feature = new_pval.argmin()\n",
        "            included.append(best_feature)\n",
        "            changed=True\n",
        "            if verbose:\n",
        "                print('Add  {:30} with p-value {:.6}'.format(best_feature, best_pval))\n",
        "\n",
        "\n",
        "        ###backward step\n",
        "        model = sm.OLS(y, sm.add_constant(pd.DataFrame(x[included]))).fit()\n",
        "        ###use all coefs except intercept\n",
        "        pvalues = model.pvalues.iloc[1:]\n",
        "        worst_pval = pvalues.max() ###null if pvalues is empty\n",
        "        if worst_pval > threshold_out:\n",
        "            changed=True\n",
        "            worst_feature = pvalues.argmax()\n",
        "            included.remove(worst_feature)\n",
        "            if verbose:\n",
        "                print('Drop {:30} with p-value {:.6}'.format(worst_feature, worst_pval))\n",
        "        if not changed:\n",
        "            break\n",
        "    return included\n"
      ]
    },
    {
      "cell_type": "code",
      "execution_count": null,
      "metadata": {
        "hidden": true,
        "trusted": false,
        "id": "ibLzw__qPjDh"
      },
      "outputs": [],
      "source": [
        "import statsmodels.api as sm\n",
        "\n",
        "final_features = stepwise_selection(x, y)\n",
        "\n",
        "print(\"\\n\",\"final_selected_features:\",final_features)"
      ]
    },
    {
      "cell_type": "code",
      "execution_count": null,
      "metadata": {
        "hidden": true,
        "trusted": false,
        "id": "NtTqGwqgPjDh"
      },
      "outputs": [],
      "source": [
        "### Import statsmodels\n",
        "import statsmodels.api as sm\n",
        "\n",
        "### Subsetting training data for 15 selected columns\n",
        "x_rfe1 = x[final_features]\n",
        "\n",
        "x_rfe1 = sm.add_constant(x_rfe1)\n",
        "\n",
        "### Fitting the model with selected variables\n",
        "km1 = sm.OLS(y, x_rfe1).fit()\n",
        "\n",
        "print(km1.params)"
      ]
    },
    {
      "cell_type": "code",
      "execution_count": null,
      "metadata": {
        "hidden": true,
        "trusted": false,
        "id": "fFhGSL5NPjDi"
      },
      "outputs": [],
      "source": [
        "print(km1.summary())"
      ]
    },
    {
      "cell_type": "code",
      "execution_count": null,
      "metadata": {
        "hidden": true,
        "trusted": false,
        "id": "FdPIsH6uPjDi"
      },
      "outputs": [],
      "source": [
        "### Create a dataframe that will contain the names of all the feature variables and their respective VIFs\n",
        "vif = pd.DataFrame()\n",
        "\n",
        "vif['Features'] = x_rfe1.columns\n",
        "vif['VIF'] = [variance_inflation_factor(x_rfe1.values, i) for i in range(x_rfe1.shape[1])]\n",
        "\n",
        "vif['VIF'] = round(vif['VIF'], 2)\n",
        "vif = vif.sort_values(by = \"VIF\", ascending = False)\n",
        "vif"
      ]
    },
    {
      "cell_type": "code",
      "execution_count": null,
      "metadata": {
        "hidden": true,
        "trusted": false,
        "id": "LAjS8t8gPjDj"
      },
      "outputs": [],
      "source": [
        "features = list(x_rfe1.columns)\n",
        "features.remove('const')\n",
        "features"
      ]
    },
    {
      "cell_type": "code",
      "execution_count": null,
      "metadata": {
        "hidden": true,
        "trusted": false,
        "id": "M8C9BcOKPjDj"
      },
      "outputs": [],
      "source": [
        "### Model Evaluation on testing data\n",
        "x_2 = x[features]\n",
        "\n",
        "\n",
        "### Predicition with selected features on the test data\n",
        "y_pred = km1.predict(sm.add_constant(x_2))\n"
      ]
    },
    {
      "cell_type": "code",
      "execution_count": null,
      "metadata": {
        "hidden": true,
        "trusted": false,
        "id": "rer7jIL2PjDk"
      },
      "outputs": [],
      "source": [
        "### Mean square error (MSE)\n",
        "mse = np.mean((y_pred - y)**2)\n",
        "mse"
      ]
    },
    {
      "cell_type": "code",
      "execution_count": null,
      "metadata": {
        "hidden": true,
        "trusted": false,
        "id": "KAQNhBV_PjDk"
      },
      "outputs": [],
      "source": [
        "### Coefficient values\n",
        "\n",
        "coef = pd.DataFrame(x_rfe1.columns)\n",
        "coef['Coefficient'] = pd.Series(km.coef_)\n",
        "coef\n"
      ]
    },
    {
      "cell_type": "code",
      "execution_count": null,
      "metadata": {
        "hidden": true,
        "trusted": false,
        "id": "FMzBPU-4PjDk"
      },
      "outputs": [],
      "source": [
        "### Using K-Fold Cross validation evaluating on whole dataset\n",
        "\n",
        "# lm = LinearRegression()\n",
        "fold = KFold(10,shuffle = True, random_state = 100)\n",
        "\n",
        "cv_scores = -cross_val_score(km,x[features],y,cv=fold,scoring='neg_mean_squared_error')\n",
        "\n",
        "print(\"Neg. of MSE:\",cv_scores,\"\\n\")\n",
        "print(\"Mean of 5 KFold CV - MSE:\",cv_scores.mean())"
      ]
    },
    {
      "cell_type": "code",
      "execution_count": null,
      "metadata": {
        "hidden": true,
        "trusted": false,
        "id": "mu6s75nfPjDl"
      },
      "outputs": [],
      "source": [
        "def elasticity(model,x):\n",
        "\n",
        "    features_df = pd.DataFrame(model.params)\n",
        "    features_df = features_df.rename(columns={0:'coef'})\n",
        "\n",
        "    features_df['imp_feature'] = model.params.index\n",
        "    features_df = features_df[features_df.imp_feature != 'const'][['imp_feature','coef']]\n",
        "    features_df.index = range(len(features_df))\n",
        "#      features\n",
        "\n",
        "    elasticity_list = list()\n",
        "\n",
        "    for i in range(len(features_df)):\n",
        "        elasticity_list.append(((features_df.coef[i] * np.mean(x[features_df.imp_feature[i]])) / np.mean(x['gmv'])))\n",
        "\n",
        "    features_df['elasticity'] = np.round(elasticity_list,3)\n",
        "\n",
        "    sns.barplot(x='elasticity',y='imp_feature',data=features_df)\n",
        "    plt.show()\n",
        "\n",
        "    return features_df\n",
        ""
      ]
    },
    {
      "cell_type": "code",
      "execution_count": null,
      "metadata": {
        "hidden": true,
        "trusted": false,
        "id": "5elqFj0VPjDl"
      },
      "outputs": [],
      "source": [
        "elasticity(km1,gaming_train_km)"
      ]
    },
    {
      "cell_type": "code",
      "execution_count": null,
      "metadata": {
        "hidden": true,
        "trusted": false,
        "id": "-wZ5fiKNPjDm"
      },
      "outputs": [],
      "source": [
        "# Plotting y and y_pred to understand the spread\n",
        "\n",
        "fig = plt.figure()\n",
        "plt.scatter(y, y_pred)\n",
        "fig.suptitle('y vs y_pred', fontsize = 20)              # Plot heading\n",
        "plt.xlabel('y', fontsize = 18)                          # X-label\n",
        "plt.ylabel('y_pred', fontsize = 16)"
      ]
    },
    {
      "cell_type": "code",
      "execution_count": null,
      "metadata": {
        "hidden": true,
        "trusted": false,
        "id": "TNS0m7mfPjDm"
      },
      "outputs": [],
      "source": [
        "# Figure size\n",
        "plt.figure(figsize=(8,5))\n",
        "\n",
        "# Heatmap\n",
        "sns.heatmap(gaming_train_km[features].corr(), cmap=\"YlGnBu\", annot=True)\n",
        "plt.show()"
      ]
    },
    {
      "cell_type": "markdown",
      "metadata": {
        "heading_collapsed": true,
        "hidden": true,
        "id": "Do5zVEiCPjDn"
      },
      "source": [
        "### Distributed Lag Model"
      ]
    },
    {
      "cell_type": "code",
      "execution_count": null,
      "metadata": {
        "hidden": true,
        "trusted": false,
        "id": "BhjoWv51PjDo"
      },
      "outputs": [],
      "source": [
        "gaming_dlm = ga_week[['gmv', 'discount', 'sla','product_procurement_sla', 'order_payment_type',\n",
        "       'online_order_perc', 'TV_ads','Sponsorship_ads', 'Content_marketing_ads', 'Online_marketing_ads',\n",
        "       'NPS', 'Stock_Index', 'Special_sales', 'Payday', 'heat_deg_days', 'cool_deg_days',\n",
        "       'total_rain_mm', 'total_snow_cm','snow_on_grnd_cm', 'MA2_listed_price','lag_1_listed_price','lag_1_discount_offer',\n",
        "       'lag_2_discount_offer','lag_3_discount_offer','lag_2_NPS','lag_3_NPS','lag_1_Stock_Index',\n",
        "       'lag_2_Stock_Index','lag_3_Stock_Index','lag_1_Special_sales','lag_2_Special_sales','lag_3_Special_sales',\n",
        "       'lag_1_Payday','lag_2_Payday','lag_3_Payday']]\n",
        "\n",
        "\n",
        "gaming_dlm.head()\n"
      ]
    },
    {
      "cell_type": "code",
      "execution_count": null,
      "metadata": {
        "hidden": true,
        "trusted": false,
        "id": "04_D6TbgPjDp"
      },
      "outputs": [],
      "source": [
        "gaming_dlm['lag_1_gmv'] = gaming_dlm['gmv'].shift(-1)\n",
        "gaming_dlm['lag_2_gmv'] = gaming_dlm['gmv'].shift(-2)\n",
        "gaming_dlm['lag_3_gmv'] = gaming_dlm['gmv'].shift(-3)\n"
      ]
    },
    {
      "cell_type": "code",
      "execution_count": null,
      "metadata": {
        "hidden": true,
        "trusted": false,
        "id": "GzHs6Q4fPjDp"
      },
      "outputs": [],
      "source": [
        "### Checking NaN\n",
        "\n",
        "# gaming_dlm.isnull().sum()"
      ]
    },
    {
      "cell_type": "code",
      "execution_count": null,
      "metadata": {
        "hidden": true,
        "trusted": false,
        "id": "DQzkKz_UPjDq"
      },
      "outputs": [],
      "source": [
        "gaming_dlm = gaming_dlm.fillna(0)"
      ]
    },
    {
      "cell_type": "code",
      "execution_count": null,
      "metadata": {
        "hidden": true,
        "trusted": false,
        "id": "iSL1t3NDPjDq"
      },
      "outputs": [],
      "source": [
        "gaming_dlm.head()"
      ]
    },
    {
      "cell_type": "code",
      "execution_count": null,
      "metadata": {
        "hidden": true,
        "trusted": false,
        "id": "rWMindX2PjDr"
      },
      "outputs": [],
      "source": [
        "gaming_dlm.columns"
      ]
    },
    {
      "cell_type": "code",
      "execution_count": null,
      "metadata": {
        "hidden": true,
        "trusted": false,
        "id": "_dmhBx-YPjDr"
      },
      "outputs": [],
      "source": [
        "###  Import the StandardScaler()\n",
        "# from sklearn.preprocessing import StandardScaler\n",
        "from sklearn.preprocessing import MinMaxScaler\n",
        "\n",
        "###  Create a scaling object\n",
        "# scaler = StandardScaler()\n",
        "scaler = MinMaxScaler()\n",
        "\n",
        "\n",
        "###  Create a list of the variables that you need to scale\n",
        "varlist = ['gmv', 'discount', 'sla','product_procurement_sla', 'order_payment_type',\n",
        "       'online_order_perc', 'TV_ads','Sponsorship_ads', 'Content_marketing_ads', 'Online_marketing_ads',\n",
        "       'NPS', 'Stock_Index', 'Special_sales', 'Payday', 'heat_deg_days', 'cool_deg_days',\n",
        "       'total_rain_mm', 'total_snow_cm','snow_on_grnd_cm', 'MA2_listed_price','lag_1_listed_price','lag_1_discount_offer',\n",
        "       'lag_2_discount_offer','lag_3_discount_offer','lag_2_NPS','lag_3_NPS','lag_1_Stock_Index',\n",
        "       'lag_2_Stock_Index','lag_3_Stock_Index','lag_1_Special_sales','lag_2_Special_sales','lag_3_Special_sales',\n",
        "       'lag_1_Payday','lag_2_Payday','lag_3_Payday']\n",
        "\n",
        "\n",
        "###  Scale these variables using 'fit_transform'\n",
        "gaming_dlm[varlist] = scaler.fit_transform(gaming_dlm[varlist])"
      ]
    },
    {
      "cell_type": "code",
      "execution_count": null,
      "metadata": {
        "hidden": true,
        "trusted": false,
        "id": "1pCfPVMnPjDs"
      },
      "outputs": [],
      "source": [
        "gaming_dlm.head()"
      ]
    },
    {
      "cell_type": "code",
      "execution_count": null,
      "metadata": {
        "hidden": true,
        "trusted": false,
        "id": "nD2F0IlyPjDt"
      },
      "outputs": [],
      "source": [
        "###  Split the train dataset into X and y\n",
        "from sklearn.model_selection import train_test_split\n",
        "x = gaming_dlm.drop('gmv',axis=1)\n",
        "y = gaming_dlm['gmv']\n",
        "\n",
        "gaming_train_dlm = gaming_dlm"
      ]
    },
    {
      "cell_type": "code",
      "execution_count": null,
      "metadata": {
        "hidden": true,
        "trusted": false,
        "id": "Cw3Tuv9TPjDt"
      },
      "outputs": [],
      "source": [
        "print(\"X = Independent variable & Y = Target variable\")\n",
        "print(x.shape,y.shape)"
      ]
    },
    {
      "cell_type": "code",
      "execution_count": null,
      "metadata": {
        "hidden": true,
        "trusted": false,
        "id": "vMqbndRtPjDu"
      },
      "outputs": [],
      "source": [
        "###  Instantiate\n",
        "dlm = LinearRegression()\n",
        "\n",
        "###  Fit a line\n",
        "dlm.fit(x,y)\n"
      ]
    },
    {
      "cell_type": "code",
      "execution_count": null,
      "metadata": {
        "hidden": true,
        "trusted": false,
        "id": "VM8tiBXVPjDu"
      },
      "outputs": [],
      "source": [
        "###  Coefficient values\n",
        "\n",
        "coef = pd.DataFrame(x.columns)\n",
        "coef['Coefficient'] = pd.Series(dlm.coef_)\n",
        "coef\n"
      ]
    },
    {
      "cell_type": "code",
      "execution_count": null,
      "metadata": {
        "hidden": true,
        "trusted": false,
        "id": "1pWw_IogPjDv"
      },
      "outputs": [],
      "source": [
        "col = x.columns\n",
        "col"
      ]
    },
    {
      "cell_type": "markdown",
      "metadata": {
        "hidden": true,
        "id": "OzElXjpkPjDw"
      },
      "source": [
        "#### Model Building - Stepwise selection for feature selection"
      ]
    },
    {
      "cell_type": "code",
      "execution_count": null,
      "metadata": {
        "hidden": true,
        "trusted": false,
        "id": "lsfgcEOdPjDx"
      },
      "outputs": [],
      "source": [
        "import statsmodels.api as sm\n",
        "from statsmodels.stats.outliers_influence import variance_inflation_factor\n",
        "from sklearn.model_selection import KFold\n",
        "from sklearn.model_selection import cross_val_score"
      ]
    },
    {
      "cell_type": "code",
      "execution_count": null,
      "metadata": {
        "hidden": true,
        "trusted": false,
        "id": "SCvzAgtPPjDx"
      },
      "outputs": [],
      "source": [
        "def stepwise_selection(x, y,\n",
        "                       initial_list=['discount', 'sla','product_procurement_sla', 'order_payment_type',\n",
        "       'online_order_perc', 'TV_ads','Sponsorship_ads', 'Content_marketing_ads', 'Online_marketing_ads',\n",
        "       'NPS', 'Stock_Index', 'Special_sales', 'Payday', 'heat_deg_days', 'cool_deg_days',\n",
        "       'total_rain_mm', 'total_snow_cm','snow_on_grnd_cm', 'MA2_listed_price','lag_1_listed_price','lag_1_discount_offer',\n",
        "       'lag_2_discount_offer','lag_3_discount_offer','lag_2_NPS','lag_3_NPS','lag_1_Stock_Index',\n",
        "       'lag_2_Stock_Index','lag_3_Stock_Index','lag_1_Special_sales','lag_2_Special_sales','lag_3_Special_sales',\n",
        "       'lag_1_Payday','lag_2_Payday','lag_3_Payday'],\n",
        "                     threshold_in=0.01,threshold_out = 0.05, verbose=True):\n",
        "\n",
        "    included = list(initial_list)\n",
        "    while True:\n",
        "        changed=False\n",
        "        ###  forward step\n",
        "        excluded = list(set(x.columns)-set(included))\n",
        "        new_pval = pd.Series(index=excluded)\n",
        "        for new_column in excluded:\n",
        "            model = sm.OLS(y, sm.add_constant(pd.DataFrame(x[included+[new_column]]))).fit()\n",
        "            new_pval[new_column] = model.pvalues[new_column]\n",
        "        best_pval = new_pval.min()\n",
        "        if best_pval < threshold_in:\n",
        "            best_feature = new_pval.argmin()\n",
        "            included.append(best_feature)\n",
        "            changed=True\n",
        "            if verbose:\n",
        "                print('Add  {:30} with p-value {:.6}'.format(best_feature, best_pval))\n",
        "\n",
        "\n",
        "        ###  backward step\n",
        "        model = sm.OLS(y, sm.add_constant(pd.DataFrame(x[included]))).fit()\n",
        "        ###  use all coefs except intercept\n",
        "        pvalues = model.pvalues.iloc[1:]\n",
        "        worst_pval = pvalues.max() ###  null if pvalues is empty\n",
        "        if worst_pval > threshold_out:\n",
        "            changed=True\n",
        "            worst_feature = pvalues.argmax()\n",
        "            included.remove(worst_feature)\n",
        "            if verbose:\n",
        "                print('Drop {:30} with p-value {:.6}'.format(worst_feature, worst_pval))\n",
        "        if not changed:\n",
        "            break\n",
        "    return included\n"
      ]
    },
    {
      "cell_type": "code",
      "execution_count": null,
      "metadata": {
        "hidden": true,
        "scrolled": true,
        "trusted": false,
        "id": "_GUHlK9nPjDx"
      },
      "outputs": [],
      "source": [
        "import statsmodels.api as sm\n",
        "\n",
        "final_features = stepwise_selection(x, y)\n",
        "\n",
        "print(\"\\n\",\"final_selected_features:\",final_features)"
      ]
    },
    {
      "cell_type": "code",
      "execution_count": null,
      "metadata": {
        "hidden": true,
        "trusted": false,
        "id": "mCKgNntXPjDy"
      },
      "outputs": [],
      "source": [
        "###  Import statsmodels\n",
        "import statsmodels.api as sm\n",
        "\n",
        "###  Subsetting training data for 15 selected columns\n",
        "x_rfe1 = x[final_features]\n",
        "\n",
        "x_rfe1 = sm.add_constant(x_rfe1)\n",
        "\n",
        "###  Fitting the model with selected variables\n",
        "dlm1 = sm.OLS(y, x_rfe1).fit()\n",
        "\n",
        "print(dlm1.params)"
      ]
    },
    {
      "cell_type": "code",
      "execution_count": null,
      "metadata": {
        "hidden": true,
        "trusted": false,
        "id": "egtBQx7aPjDy"
      },
      "outputs": [],
      "source": [
        "print(dlm1.summary())"
      ]
    },
    {
      "cell_type": "code",
      "execution_count": null,
      "metadata": {
        "hidden": true,
        "trusted": false,
        "id": "TGW1tB4aPjDy"
      },
      "outputs": [],
      "source": [
        "###  Create a dataframe that will contain the names of all the feature variables and their respective VIFs\n",
        "vif = pd.DataFrame()\n",
        "\n",
        "vif['Features'] = x_rfe1.columns\n",
        "vif['VIF'] = [variance_inflation_factor(x_rfe1.values, i) for i in range(x_rfe1.shape[1])]\n",
        "\n",
        "vif['VIF'] = round(vif['VIF'], 2)\n",
        "vif = vif.sort_values(by = \"VIF\", ascending = False)\n",
        "vif"
      ]
    },
    {
      "cell_type": "code",
      "execution_count": null,
      "metadata": {
        "hidden": true,
        "trusted": false,
        "id": "3ubmcbv4PjDz"
      },
      "outputs": [],
      "source": [
        "x_rfe1.drop('lag_3_Stock_Index', axis = 1, inplace = True)"
      ]
    },
    {
      "cell_type": "code",
      "execution_count": null,
      "metadata": {
        "hidden": true,
        "trusted": false,
        "id": "2bdklnhzPjDz"
      },
      "outputs": [],
      "source": [
        "### 2"
      ]
    },
    {
      "cell_type": "code",
      "execution_count": null,
      "metadata": {
        "hidden": true,
        "trusted": false,
        "id": "vEOyQdnWPjDz"
      },
      "outputs": [],
      "source": [
        "# Refitting with final selected variables\n",
        "x_rfe1 = sm.add_constant(x_rfe1)\n",
        "\n",
        "# Fitting the model with final selected variables\n",
        "dlm1 = sm.OLS(y, x_rfe1).fit()\n",
        "print(dlm1.summary())"
      ]
    },
    {
      "cell_type": "code",
      "execution_count": null,
      "metadata": {
        "hidden": true,
        "scrolled": true,
        "trusted": false,
        "id": "mx78yvYYPjD0"
      },
      "outputs": [],
      "source": [
        "# Create a dataframe that will contain the names of all the feature variables and their respective VIFs\n",
        "vif = pd.DataFrame()\n",
        "\n",
        "vif['Features'] = x_rfe1.columns\n",
        "vif['VIF'] = [variance_inflation_factor(x_rfe1.values, i) for i in range(x_rfe1.shape[1])]\n",
        "\n",
        "vif['VIF'] = round(vif['VIF'], 2)\n",
        "vif = vif.sort_values(by = \"VIF\", ascending = False)\n",
        "vif"
      ]
    },
    {
      "cell_type": "code",
      "execution_count": null,
      "metadata": {
        "hidden": true,
        "trusted": false,
        "id": "jBMfTCcFPjD0"
      },
      "outputs": [],
      "source": [
        "x_rfe1.drop('lag_3_NPS', axis = 1, inplace = True)\n"
      ]
    },
    {
      "cell_type": "code",
      "execution_count": null,
      "metadata": {
        "hidden": true,
        "trusted": false,
        "id": "qLGET9PMPjD1"
      },
      "outputs": [],
      "source": [
        "### 3"
      ]
    },
    {
      "cell_type": "code",
      "execution_count": null,
      "metadata": {
        "hidden": true,
        "trusted": false,
        "id": "W7hZfvwfPjD1"
      },
      "outputs": [],
      "source": [
        "# Refitting with final selected variables\n",
        "x_rfe1 = sm.add_constant(x_rfe1)\n",
        "\n",
        "# Fitting the model with final selected variables\n",
        "dlm1 = sm.OLS(y, x_rfe1).fit()\n",
        "print(dlm1.summary())"
      ]
    },
    {
      "cell_type": "code",
      "execution_count": null,
      "metadata": {
        "hidden": true,
        "scrolled": true,
        "trusted": false,
        "id": "XQ1tPWZyPjD1"
      },
      "outputs": [],
      "source": [
        "# Create a dataframe that will contain the names of all the feature variables and their respective VIFs\n",
        "vif = pd.DataFrame()\n",
        "\n",
        "vif['Features'] = x_rfe1.columns\n",
        "vif['VIF'] = [variance_inflation_factor(x_rfe1.values, i) for i in range(x_rfe1.shape[1])]\n",
        "\n",
        "vif['VIF'] = round(vif['VIF'], 2)\n",
        "vif = vif.sort_values(by = \"VIF\", ascending = False)\n",
        "vif"
      ]
    },
    {
      "cell_type": "code",
      "execution_count": null,
      "metadata": {
        "hidden": true,
        "trusted": false,
        "id": "cV_YlNl1PjD1"
      },
      "outputs": [],
      "source": [
        "x_rfe1.drop('sla', axis = 1, inplace = True)\n"
      ]
    },
    {
      "cell_type": "code",
      "execution_count": null,
      "metadata": {
        "hidden": true,
        "trusted": false,
        "id": "v6EUzPbVPjD2"
      },
      "outputs": [],
      "source": [
        "### 4"
      ]
    },
    {
      "cell_type": "code",
      "execution_count": null,
      "metadata": {
        "hidden": true,
        "trusted": false,
        "id": "lupJ33EcPjD2"
      },
      "outputs": [],
      "source": [
        "# Refitting with final selected variables\n",
        "x_rfe1 = sm.add_constant(x_rfe1)\n",
        "\n",
        "# Fitting the model with final selected variables\n",
        "dlm1 = sm.OLS(y, x_rfe1).fit()\n",
        "print(dlm1.summary())"
      ]
    },
    {
      "cell_type": "code",
      "execution_count": null,
      "metadata": {
        "hidden": true,
        "scrolled": true,
        "trusted": false,
        "id": "7YAHuYBfPjD3"
      },
      "outputs": [],
      "source": [
        "# Create a dataframe that will contain the names of all the feature variables and their respective VIFs\n",
        "vif = pd.DataFrame()\n",
        "\n",
        "vif['Features'] = x_rfe1.columns\n",
        "vif['VIF'] = [variance_inflation_factor(x_rfe1.values, i) for i in range(x_rfe1.shape[1])]\n",
        "\n",
        "vif['VIF'] = round(vif['VIF'], 2)\n",
        "vif = vif.sort_values(by = \"VIF\", ascending = False)\n",
        "vif"
      ]
    },
    {
      "cell_type": "code",
      "execution_count": null,
      "metadata": {
        "hidden": true,
        "trusted": false,
        "id": "pIsfAdqJPjD3"
      },
      "outputs": [],
      "source": [
        "features = list(x_rfe1.columns)\n",
        "features.remove('const')\n",
        "features"
      ]
    },
    {
      "cell_type": "code",
      "execution_count": null,
      "metadata": {
        "hidden": true,
        "trusted": false,
        "id": "Eq3fFHO2PjD3"
      },
      "outputs": [],
      "source": [
        "###  Model Evaluation on testing data\n",
        "x_2 = x[features]\n",
        "\n",
        "###  Predicition with selected features on the test data\n",
        "y_pred = dlm1.predict(sm.add_constant(x_2))"
      ]
    },
    {
      "cell_type": "code",
      "execution_count": null,
      "metadata": {
        "hidden": true,
        "trusted": false,
        "id": "KlqCRdkTPjD4"
      },
      "outputs": [],
      "source": [
        "###  Mean square error (MSE)\n",
        "mse = np.mean((y_pred - y)**2)\n",
        "mse\n"
      ]
    },
    {
      "cell_type": "code",
      "execution_count": null,
      "metadata": {
        "hidden": true,
        "trusted": false,
        "id": "YgV7xlQfPjD4"
      },
      "outputs": [],
      "source": [
        "###  Coefficient values\n",
        "\n",
        "coef = pd.DataFrame(x_rfe1.columns)\n",
        "coef['Coefficient'] = pd.Series(dlm.coef_)\n",
        "coef\n"
      ]
    },
    {
      "cell_type": "code",
      "execution_count": null,
      "metadata": {
        "hidden": true,
        "trusted": false,
        "id": "55EJ1vjTPjD5"
      },
      "outputs": [],
      "source": [
        "###  Using K-Fold Cross validation evaluating on whole dataset\n",
        "\n",
        "# lm = LinearRegression()\n",
        "fold = KFold(10,shuffle = True, random_state = 100)\n",
        "\n",
        "cv_scores = -cross_val_score(dlm,x[features],y,cv=fold,scoring='neg_mean_squared_error')\n",
        "\n",
        "print(\"Neg. of MSE:\",cv_scores,\"\\n\")\n",
        "print(\"Mean of 5 KFold CV - MSE:\",cv_scores.mean())"
      ]
    },
    {
      "cell_type": "code",
      "execution_count": null,
      "metadata": {
        "hidden": true,
        "trusted": false,
        "id": "Fs6u1aiXPjD5"
      },
      "outputs": [],
      "source": [
        "def elasticity(model,x):\n",
        "\n",
        "    features_df = pd.DataFrame(model.params)\n",
        "    features_df = features_df.rename(columns={0:'coef'})\n",
        "\n",
        "    features_df['imp_feature'] = model.params.index\n",
        "    features_df = features_df[features_df.imp_feature != 'const'][['imp_feature','coef']]\n",
        "    features_df.index = range(len(features_df))\n",
        "#      features\n",
        "\n",
        "    elasticity_list = list()\n",
        "\n",
        "    for i in range(len(features_df)):\n",
        "        elasticity_list.append(((features_df.coef[i] * np.mean(x[features_df.imp_feature[i]])) / np.mean(x['gmv'])))\n",
        "\n",
        "    features_df['elasticity'] = np.round(elasticity_list,3)\n",
        "\n",
        "    sns.barplot(x='elasticity',y='imp_feature',data=features_df)\n",
        "    plt.show()\n",
        "\n",
        "    return features_df\n",
        ""
      ]
    },
    {
      "cell_type": "code",
      "execution_count": null,
      "metadata": {
        "hidden": true,
        "trusted": false,
        "id": "gVi4FgzxPjD6"
      },
      "outputs": [],
      "source": [
        "elasticity(dlm1,gaming_train_dlm)"
      ]
    },
    {
      "cell_type": "code",
      "execution_count": null,
      "metadata": {
        "hidden": true,
        "trusted": false,
        "id": "2h-IQH1bPjD6"
      },
      "outputs": [],
      "source": [
        "# Plotting y and y_pred to understand the spread\n",
        "\n",
        "fig = plt.figure()\n",
        "plt.scatter(y, y_pred)\n",
        "fig.suptitle('y vs y_pred', fontsize = 20)              # Plot heading\n",
        "plt.xlabel('y', fontsize = 18)                          # X-label\n",
        "plt.ylabel('y_pred', fontsize = 16)"
      ]
    },
    {
      "cell_type": "code",
      "execution_count": null,
      "metadata": {
        "hidden": true,
        "trusted": false,
        "id": "U-t48D_wPjD7"
      },
      "outputs": [],
      "source": [
        "# Figure size\n",
        "plt.figure(figsize=(8,5))\n",
        "\n",
        "# Heatmap\n",
        "sns.heatmap(gaming_train_dlm[features].corr(), cmap=\"YlGnBu\", annot=True)\n",
        "plt.show()"
      ]
    },
    {
      "cell_type": "markdown",
      "metadata": {
        "heading_collapsed": true,
        "hidden": true,
        "id": "-KRLUuSLPjD7"
      },
      "source": [
        "### Distributed + Multiplicative Lag Model"
      ]
    },
    {
      "cell_type": "code",
      "execution_count": null,
      "metadata": {
        "hidden": true,
        "trusted": false,
        "id": "PXcPUj4BPjD7"
      },
      "outputs": [],
      "source": [
        "gaming_dlmm = ga_week[['gmv', 'discount', 'sla','product_procurement_sla', 'order_payment_type',\n",
        "       'online_order_perc', 'TV_ads','Sponsorship_ads', 'Content_marketing_ads', 'Online_marketing_ads',\n",
        "       'NPS', 'Stock_Index', 'Special_sales', 'Payday', 'heat_deg_days', 'cool_deg_days',\n",
        "       'total_rain_mm', 'total_snow_cm','snow_on_grnd_cm', 'MA2_listed_price','lag_1_listed_price','lag_1_discount_offer',\n",
        "       'lag_2_discount_offer','lag_3_discount_offer','lag_2_NPS','lag_3_NPS','lag_1_Stock_Index',\n",
        "       'lag_2_Stock_Index','lag_3_Stock_Index','lag_1_Special_sales','lag_2_Special_sales','lag_3_Special_sales',\n",
        "       'lag_1_Payday','lag_2_Payday','lag_3_Payday']]\n",
        "\n",
        "\n",
        "gaming_dlmm.head()\n"
      ]
    },
    {
      "cell_type": "code",
      "execution_count": null,
      "metadata": {
        "hidden": true,
        "trusted": false,
        "id": "hnsfvFpbPjD8"
      },
      "outputs": [],
      "source": [
        "gaming_dlmm['lag_1_gmv'] = gaming_dlmm['gmv'].shift(-1)\n",
        "gaming_dlmm['lag_2_gmv'] = gaming_dlmm['gmv'].shift(-2)\n",
        "gaming_dlmm['lag_3_gmv'] = gaming_dlmm['gmv'].shift(-3)\n"
      ]
    },
    {
      "cell_type": "code",
      "execution_count": null,
      "metadata": {
        "hidden": true,
        "trusted": false,
        "id": "8sUDkVSEPjD8"
      },
      "outputs": [],
      "source": [
        "### Checking NaN\n",
        "\n",
        "gaming_dlmm.isnull().sum()"
      ]
    },
    {
      "cell_type": "code",
      "execution_count": null,
      "metadata": {
        "hidden": true,
        "trusted": false,
        "id": "ttIEqmKnPjD8"
      },
      "outputs": [],
      "source": [
        "gaming_dlmm = gaming_dlmm.fillna(0)"
      ]
    },
    {
      "cell_type": "code",
      "execution_count": null,
      "metadata": {
        "hidden": true,
        "trusted": false,
        "id": "BS_znaJJPjD9"
      },
      "outputs": [],
      "source": [
        "### Applying Log\n",
        "gaming_dlmm=np.log(gaming_dlmm)\n",
        "\n",
        "gaming_dlmm = gaming_dlmm.fillna(0)\n",
        "gaming_dlmm = gaming_dlmm.replace([np.inf, -np.inf], 0)"
      ]
    },
    {
      "cell_type": "code",
      "execution_count": null,
      "metadata": {
        "hidden": true,
        "trusted": false,
        "id": "fVVNjwfdPjD9"
      },
      "outputs": [],
      "source": [
        "gaming_dlmm.head()"
      ]
    },
    {
      "cell_type": "code",
      "execution_count": null,
      "metadata": {
        "hidden": true,
        "trusted": false,
        "id": "j8mlaRyEPjD9"
      },
      "outputs": [],
      "source": [
        "gaming_dlmm.columns"
      ]
    },
    {
      "cell_type": "code",
      "execution_count": null,
      "metadata": {
        "hidden": true,
        "trusted": false,
        "id": "Rg4JPqF4PjD-"
      },
      "outputs": [],
      "source": [
        "###  Import the StandardScaler()\n",
        "# from sklearn.preprocessing import StandardScaler\n",
        "from sklearn.preprocessing import MinMaxScaler\n",
        "\n",
        "###  Create a scaling object\n",
        "# scaler = StandardScaler()\n",
        "scaler = MinMaxScaler()\n",
        "\n",
        "\n",
        "###  Create a list of the variables that you need to scale\n",
        "varlist = ['gmv', 'discount', 'sla','product_procurement_sla', 'order_payment_type',\n",
        "       'online_order_perc', 'TV_ads','Sponsorship_ads', 'Content_marketing_ads', 'Online_marketing_ads',\n",
        "       'NPS', 'Stock_Index', 'Special_sales', 'Payday', 'heat_deg_days', 'cool_deg_days',\n",
        "       'total_rain_mm', 'total_snow_cm','snow_on_grnd_cm', 'MA2_listed_price','lag_1_listed_price','lag_1_discount_offer',\n",
        "       'lag_2_discount_offer','lag_3_discount_offer','lag_2_NPS','lag_3_NPS','lag_1_Stock_Index',\n",
        "       'lag_2_Stock_Index','lag_3_Stock_Index','lag_1_Special_sales','lag_2_Special_sales','lag_3_Special_sales',\n",
        "       'lag_1_Payday','lag_2_Payday','lag_3_Payday']\n",
        "\n",
        "\n",
        "###  Scale these variables using 'fit_transform'\n",
        "gaming_dlmm[varlist] = scaler.fit_transform(gaming_dlmm[varlist])\n"
      ]
    },
    {
      "cell_type": "code",
      "execution_count": null,
      "metadata": {
        "hidden": true,
        "trusted": false,
        "id": "h8rMdDoxPjD-"
      },
      "outputs": [],
      "source": [
        "gaming_dlmm.head()"
      ]
    },
    {
      "cell_type": "code",
      "execution_count": null,
      "metadata": {
        "hidden": true,
        "trusted": false,
        "id": "7VSwM5T8PjD_"
      },
      "outputs": [],
      "source": [
        "###  Split the train dataset into X and y\n",
        "from sklearn.model_selection import train_test_split\n",
        "x = gaming_dlmm.drop('gmv',axis=1)\n",
        "y = gaming_dlmm['gmv']\n",
        "\n",
        "gaming_train_dlmm = gaming_dlmm"
      ]
    },
    {
      "cell_type": "code",
      "execution_count": null,
      "metadata": {
        "hidden": true,
        "trusted": false,
        "id": "x6qlILPEPjD_"
      },
      "outputs": [],
      "source": [
        "print(\"X = Independent variable & Y = Target variable\")\n",
        "print(x.shape,y.shape)"
      ]
    },
    {
      "cell_type": "code",
      "execution_count": null,
      "metadata": {
        "hidden": true,
        "trusted": false,
        "id": "vBc0L_ztPjD_"
      },
      "outputs": [],
      "source": [
        "###  Instantiate\n",
        "dlm = LinearRegression()\n",
        "\n",
        "###  Fit a line\n",
        "dlm.fit(x,y)\n"
      ]
    },
    {
      "cell_type": "code",
      "execution_count": null,
      "metadata": {
        "hidden": true,
        "trusted": false,
        "id": "VSKlXS0yPjEA"
      },
      "outputs": [],
      "source": [
        "###  Coefficient values\n",
        "\n",
        "coef = pd.DataFrame(x.columns)\n",
        "coef['Coefficient'] = pd.Series(dlm.coef_)\n",
        "coef\n"
      ]
    },
    {
      "cell_type": "code",
      "execution_count": null,
      "metadata": {
        "hidden": true,
        "trusted": false,
        "id": "r1T0iiMKPjEB"
      },
      "outputs": [],
      "source": [
        "col = x.columns\n",
        "col"
      ]
    },
    {
      "cell_type": "markdown",
      "metadata": {
        "hidden": true,
        "id": "fA9XrysEPjEC"
      },
      "source": [
        "#### Model Building - Stepwise selection for feature selection"
      ]
    },
    {
      "cell_type": "code",
      "execution_count": null,
      "metadata": {
        "hidden": true,
        "trusted": false,
        "id": "1DUFNq57PjED"
      },
      "outputs": [],
      "source": [
        "import statsmodels.api as sm\n",
        "from statsmodels.stats.outliers_influence import variance_inflation_factor\n",
        "from sklearn.model_selection import KFold\n",
        "from sklearn.model_selection import cross_val_score"
      ]
    },
    {
      "cell_type": "code",
      "execution_count": null,
      "metadata": {
        "hidden": true,
        "trusted": false,
        "id": "Z6OIwVGdPjED"
      },
      "outputs": [],
      "source": [
        "def stepwise_selection(x, y,\n",
        "                       initial_list=['discount', 'sla','product_procurement_sla', 'order_payment_type',\n",
        "       'online_order_perc', 'TV_ads','Sponsorship_ads', 'Content_marketing_ads', 'Online_marketing_ads',\n",
        "       'NPS', 'Stock_Index', 'Special_sales', 'Payday', 'heat_deg_days', 'cool_deg_days',\n",
        "       'total_rain_mm', 'total_snow_cm','snow_on_grnd_cm', 'MA2_listed_price','lag_1_listed_price','lag_1_discount_offer',\n",
        "       'lag_2_discount_offer','lag_3_discount_offer','lag_2_NPS','lag_3_NPS','lag_1_Stock_Index',\n",
        "       'lag_2_Stock_Index','lag_3_Stock_Index','lag_1_Special_sales','lag_2_Special_sales','lag_3_Special_sales',\n",
        "       'lag_1_Payday','lag_2_Payday','lag_3_Payday'],\n",
        "                     threshold_in=0.01,threshold_out = 0.05, verbose=True):\n",
        "\n",
        "    included = list(initial_list)\n",
        "    while True:\n",
        "        changed=False\n",
        "        ###  forward step\n",
        "        excluded = list(set(x.columns)-set(included))\n",
        "        new_pval = pd.Series(index=excluded)\n",
        "        for new_column in excluded:\n",
        "            model = sm.OLS(y, sm.add_constant(pd.DataFrame(x[included+[new_column]]))).fit()\n",
        "            new_pval[new_column] = model.pvalues[new_column]\n",
        "        best_pval = new_pval.min()\n",
        "        if best_pval < threshold_in:\n",
        "            best_feature = new_pval.argmin()\n",
        "            included.append(best_feature)\n",
        "            changed=True\n",
        "            if verbose:\n",
        "                print('Add  {:30} with p-value {:.6}'.format(best_feature, best_pval))\n",
        "\n",
        "\n",
        "        ###  backward step\n",
        "        model = sm.OLS(y, sm.add_constant(pd.DataFrame(x[included]))).fit()\n",
        "        ###  use all coefs except intercept\n",
        "        pvalues = model.pvalues.iloc[1:]\n",
        "        worst_pval = pvalues.max() ###  null if pvalues is empty\n",
        "        if worst_pval > threshold_out:\n",
        "            changed=True\n",
        "            worst_feature = pvalues.argmax()\n",
        "            included.remove(worst_feature)\n",
        "            if verbose:\n",
        "                print('Drop {:30} with p-value {:.6}'.format(worst_feature, worst_pval))\n",
        "        if not changed:\n",
        "            break\n",
        "    return included\n"
      ]
    },
    {
      "cell_type": "code",
      "execution_count": null,
      "metadata": {
        "hidden": true,
        "scrolled": true,
        "trusted": false,
        "id": "_ZtwnfIDPjEE"
      },
      "outputs": [],
      "source": [
        "import statsmodels.api as sm\n",
        "\n",
        "final_features = stepwise_selection(x, y)\n",
        "\n",
        "print(\"\\n\",\"final_selected_features:\",final_features)"
      ]
    },
    {
      "cell_type": "code",
      "execution_count": null,
      "metadata": {
        "hidden": true,
        "trusted": false,
        "id": "qlFTsk3FPjEF"
      },
      "outputs": [],
      "source": [
        "###  Import statsmodels\n",
        "import statsmodels.api as sm\n",
        "\n",
        "###  Subsetting training data for 15 selected columns\n",
        "x_rfe1 = x[final_features]\n",
        "\n",
        "x_rfe1 = sm.add_constant(x_rfe1)\n",
        "\n",
        "###  Fitting the model with selected variables\n",
        "dlm1 = sm.OLS(y, x_rfe1).fit()\n",
        "\n",
        "print(dlm1.params)"
      ]
    },
    {
      "cell_type": "code",
      "execution_count": null,
      "metadata": {
        "hidden": true,
        "trusted": false,
        "id": "5kLKTjU9PjEF"
      },
      "outputs": [],
      "source": [
        "print(dlm1.summary())"
      ]
    },
    {
      "cell_type": "code",
      "execution_count": null,
      "metadata": {
        "hidden": true,
        "trusted": false,
        "id": "sboodnV7PjEG"
      },
      "outputs": [],
      "source": [
        "###  Create a dataframe that will contain the names of all the feature variables and their respective VIFs\n",
        "vif = pd.DataFrame()\n",
        "\n",
        "vif['Features'] = x_rfe1.columns\n",
        "vif['VIF'] = [variance_inflation_factor(x_rfe1.values, i) for i in range(x_rfe1.shape[1])]\n",
        "\n",
        "vif['VIF'] = round(vif['VIF'], 2)\n",
        "vif = vif.sort_values(by = \"VIF\", ascending = False)\n",
        "vif"
      ]
    },
    {
      "cell_type": "code",
      "execution_count": null,
      "metadata": {
        "hidden": true,
        "trusted": false,
        "id": "qDkZ6TNiPjEG"
      },
      "outputs": [],
      "source": [
        "x_rfe1.drop('lag_3_Stock_Index', axis = 1, inplace = True)"
      ]
    },
    {
      "cell_type": "code",
      "execution_count": null,
      "metadata": {
        "hidden": true,
        "trusted": false,
        "id": "jtG6_1K0PjEH"
      },
      "outputs": [],
      "source": [
        "### 2"
      ]
    },
    {
      "cell_type": "code",
      "execution_count": null,
      "metadata": {
        "hidden": true,
        "trusted": false,
        "id": "zVCeTOZiPjEH"
      },
      "outputs": [],
      "source": [
        "# Refitting with final selected variables\n",
        "x_rfe1 = sm.add_constant(x_rfe1)\n",
        "\n",
        "# Fitting the model with final selected variables\n",
        "dlm1 = sm.OLS(y, x_rfe1).fit()\n",
        "print(dlm1.summary())"
      ]
    },
    {
      "cell_type": "code",
      "execution_count": null,
      "metadata": {
        "hidden": true,
        "scrolled": true,
        "trusted": false,
        "id": "apXdAeeWPjEI"
      },
      "outputs": [],
      "source": [
        "# Create a dataframe that will contain the names of all the feature variables and their respective VIFs\n",
        "vif = pd.DataFrame()\n",
        "\n",
        "vif['Features'] = x_rfe1.columns\n",
        "vif['VIF'] = [variance_inflation_factor(x_rfe1.values, i) for i in range(x_rfe1.shape[1])]\n",
        "\n",
        "vif['VIF'] = round(vif['VIF'], 2)\n",
        "vif = vif.sort_values(by = \"VIF\", ascending = False)\n",
        "vif"
      ]
    },
    {
      "cell_type": "code",
      "execution_count": null,
      "metadata": {
        "hidden": true,
        "trusted": false,
        "id": "6XTr8ZoPPjEI"
      },
      "outputs": [],
      "source": [
        "x_rfe1.drop('lag_3_discount_offer', axis = 1, inplace = True)\n"
      ]
    },
    {
      "cell_type": "code",
      "execution_count": null,
      "metadata": {
        "hidden": true,
        "trusted": false,
        "id": "7zpO7ls1PjEJ"
      },
      "outputs": [],
      "source": [
        "### 3"
      ]
    },
    {
      "cell_type": "code",
      "execution_count": null,
      "metadata": {
        "hidden": true,
        "trusted": false,
        "id": "DIaKLZu-PjEK"
      },
      "outputs": [],
      "source": [
        "# Refitting with final selected variables\n",
        "x_rfe1 = sm.add_constant(x_rfe1)\n",
        "\n",
        "# Fitting the model with final selected variables\n",
        "dlm1 = sm.OLS(y, x_rfe1).fit()\n",
        "print(dlm1.summary())"
      ]
    },
    {
      "cell_type": "code",
      "execution_count": null,
      "metadata": {
        "hidden": true,
        "scrolled": true,
        "trusted": false,
        "id": "f0fKKI2yPjEK"
      },
      "outputs": [],
      "source": [
        "# Create a dataframe that will contain the names of all the feature variables and their respective VIFs\n",
        "vif = pd.DataFrame()\n",
        "\n",
        "vif['Features'] = x_rfe1.columns\n",
        "vif['VIF'] = [variance_inflation_factor(x_rfe1.values, i) for i in range(x_rfe1.shape[1])]\n",
        "\n",
        "vif['VIF'] = round(vif['VIF'], 2)\n",
        "vif = vif.sort_values(by = \"VIF\", ascending = False)\n",
        "vif"
      ]
    },
    {
      "cell_type": "code",
      "execution_count": null,
      "metadata": {
        "hidden": true,
        "trusted": false,
        "id": "_-ei-gKsPjEL"
      },
      "outputs": [],
      "source": [
        "x_rfe1.drop('lag_2_NPS', axis = 1, inplace = True)\n"
      ]
    },
    {
      "cell_type": "code",
      "execution_count": null,
      "metadata": {
        "code_folding": [],
        "hidden": true,
        "trusted": false,
        "id": "U4C40Bo3PjEM"
      },
      "outputs": [],
      "source": [
        "### 4"
      ]
    },
    {
      "cell_type": "code",
      "execution_count": null,
      "metadata": {
        "hidden": true,
        "trusted": false,
        "id": "ON0z9oUGPjEM"
      },
      "outputs": [],
      "source": [
        "# Refitting with final selected variables\n",
        "x_rfe1 = sm.add_constant(x_rfe1)\n",
        "\n",
        "# Fitting the model with final selected variables\n",
        "dlm1 = sm.OLS(y, x_rfe1).fit()\n",
        "print(dlm1.summary())"
      ]
    },
    {
      "cell_type": "code",
      "execution_count": null,
      "metadata": {
        "hidden": true,
        "scrolled": true,
        "trusted": false,
        "id": "gzDKgzpZPjEN"
      },
      "outputs": [],
      "source": [
        "# Create a dataframe that will contain the names of all the feature variables and their respective VIFs\n",
        "vif = pd.DataFrame()\n",
        "\n",
        "vif['Features'] = x_rfe1.columns\n",
        "vif['VIF'] = [variance_inflation_factor(x_rfe1.values, i) for i in range(x_rfe1.shape[1])]\n",
        "\n",
        "vif['VIF'] = round(vif['VIF'], 2)\n",
        "vif = vif.sort_values(by = \"VIF\", ascending = False)\n",
        "vif"
      ]
    },
    {
      "cell_type": "code",
      "execution_count": null,
      "metadata": {
        "hidden": true,
        "trusted": false,
        "id": "fzJ-nr7APjEN"
      },
      "outputs": [],
      "source": [
        "x_rfe1.drop('lag_2_discount_offer', axis = 1, inplace = True)\n"
      ]
    },
    {
      "cell_type": "code",
      "execution_count": null,
      "metadata": {
        "code_folding": [],
        "hidden": true,
        "trusted": false,
        "id": "wU61OWz5PjEO"
      },
      "outputs": [],
      "source": [
        "### 5"
      ]
    },
    {
      "cell_type": "code",
      "execution_count": null,
      "metadata": {
        "hidden": true,
        "trusted": false,
        "id": "wqrbzMsmPjEO"
      },
      "outputs": [],
      "source": [
        "# Refitting with final selected variables\n",
        "x_rfe1 = sm.add_constant(x_rfe1)\n",
        "\n",
        "# Fitting the model with final selected variables\n",
        "dlm1 = sm.OLS(y, x_rfe1).fit()\n",
        "print(dlm1.summary())"
      ]
    },
    {
      "cell_type": "code",
      "execution_count": null,
      "metadata": {
        "hidden": true,
        "trusted": false,
        "id": "eQLYWsewPjEO"
      },
      "outputs": [],
      "source": [
        "# Create a dataframe that will contain the names of all the feature variables and their respective VIFs\n",
        "vif = pd.DataFrame()\n",
        "\n",
        "vif['Features'] = x_rfe1.columns\n",
        "vif['VIF'] = [variance_inflation_factor(x_rfe1.values, i) for i in range(x_rfe1.shape[1])]\n",
        "\n",
        "vif['VIF'] = round(vif['VIF'], 2)\n",
        "vif = vif.sort_values(by = \"VIF\", ascending = False)\n",
        "vif"
      ]
    },
    {
      "cell_type": "code",
      "execution_count": null,
      "metadata": {
        "hidden": true,
        "trusted": false,
        "id": "kEaTvgbqPjEP"
      },
      "outputs": [],
      "source": [
        "x_rfe1.drop('Online_marketing_ads', axis = 1, inplace = True)\n"
      ]
    },
    {
      "cell_type": "code",
      "execution_count": null,
      "metadata": {
        "code_folding": [],
        "hidden": true,
        "trusted": false,
        "id": "h-PI_T5HPjEP"
      },
      "outputs": [],
      "source": [
        "### 6"
      ]
    },
    {
      "cell_type": "code",
      "execution_count": null,
      "metadata": {
        "hidden": true,
        "trusted": false,
        "id": "y5G9iGIZPjEP"
      },
      "outputs": [],
      "source": [
        "# Refitting with final selected variables\n",
        "x_rfe1 = sm.add_constant(x_rfe1)\n",
        "\n",
        "# Fitting the model with final selected variables\n",
        "dlm1 = sm.OLS(y, x_rfe1).fit()\n",
        "print(dlm1.summary())"
      ]
    },
    {
      "cell_type": "code",
      "execution_count": null,
      "metadata": {
        "hidden": true,
        "trusted": false,
        "id": "9JX-qEF1PjEQ"
      },
      "outputs": [],
      "source": [
        "# Create a dataframe that will contain the names of all the feature variables and their respective VIFs\n",
        "vif = pd.DataFrame()\n",
        "\n",
        "vif['Features'] = x_rfe1.columns\n",
        "vif['VIF'] = [variance_inflation_factor(x_rfe1.values, i) for i in range(x_rfe1.shape[1])]\n",
        "\n",
        "vif['VIF'] = round(vif['VIF'], 2)\n",
        "vif = vif.sort_values(by = \"VIF\", ascending = False)\n",
        "vif"
      ]
    },
    {
      "cell_type": "code",
      "execution_count": null,
      "metadata": {
        "hidden": true,
        "trusted": false,
        "id": "C4SoMA5mPjER"
      },
      "outputs": [],
      "source": [
        "x_rfe1.drop('lag_1_listed_price', axis = 1, inplace = True)\n"
      ]
    },
    {
      "cell_type": "code",
      "execution_count": null,
      "metadata": {
        "code_folding": [],
        "hidden": true,
        "trusted": false,
        "id": "2I8-9NZWPjER"
      },
      "outputs": [],
      "source": [
        "### 7"
      ]
    },
    {
      "cell_type": "code",
      "execution_count": null,
      "metadata": {
        "hidden": true,
        "trusted": false,
        "id": "HG-weRYtPjES"
      },
      "outputs": [],
      "source": [
        "# Refitting with final selected variables\n",
        "x_rfe1 = sm.add_constant(x_rfe1)\n",
        "\n",
        "# Fitting the model with final selected variables\n",
        "dlm1 = sm.OLS(y, x_rfe1).fit()\n",
        "print(dlm1.summary())"
      ]
    },
    {
      "cell_type": "code",
      "execution_count": null,
      "metadata": {
        "hidden": true,
        "scrolled": true,
        "trusted": false,
        "id": "42OXZRVvPjEU"
      },
      "outputs": [],
      "source": [
        "# Create a dataframe that will contain the names of all the feature variables and their respective VIFs\n",
        "vif = pd.DataFrame()\n",
        "\n",
        "vif['Features'] = x_rfe1.columns\n",
        "vif['VIF'] = [variance_inflation_factor(x_rfe1.values, i) for i in range(x_rfe1.shape[1])]\n",
        "\n",
        "vif['VIF'] = round(vif['VIF'], 2)\n",
        "vif = vif.sort_values(by = \"VIF\", ascending = False)\n",
        "vif"
      ]
    },
    {
      "cell_type": "code",
      "execution_count": null,
      "metadata": {
        "hidden": true,
        "trusted": false,
        "id": "Sarq-9iNPjEU"
      },
      "outputs": [],
      "source": [
        "x_rfe1.drop('lag_1_discount_offer', axis = 1, inplace = True)\n"
      ]
    },
    {
      "cell_type": "code",
      "execution_count": null,
      "metadata": {
        "code_folding": [],
        "hidden": true,
        "trusted": false,
        "id": "c6smXIwaPjEV"
      },
      "outputs": [],
      "source": [
        "### 8"
      ]
    },
    {
      "cell_type": "code",
      "execution_count": null,
      "metadata": {
        "hidden": true,
        "trusted": false,
        "id": "0OxvyV6ePjEW"
      },
      "outputs": [],
      "source": [
        "# Refitting with final selected variables\n",
        "x_rfe1 = sm.add_constant(x_rfe1)\n",
        "\n",
        "# Fitting the model with final selected variables\n",
        "dlm1 = sm.OLS(y, x_rfe1).fit()\n",
        "print(dlm1.summary())"
      ]
    },
    {
      "cell_type": "code",
      "execution_count": null,
      "metadata": {
        "hidden": true,
        "scrolled": true,
        "trusted": false,
        "id": "W9w9uhbyPjEW"
      },
      "outputs": [],
      "source": [
        "# Create a dataframe that will contain the names of all the feature variables and their respective VIFs\n",
        "vif = pd.DataFrame()\n",
        "\n",
        "vif['Features'] = x_rfe1.columns\n",
        "vif['VIF'] = [variance_inflation_factor(x_rfe1.values, i) for i in range(x_rfe1.shape[1])]\n",
        "\n",
        "vif['VIF'] = round(vif['VIF'], 2)\n",
        "vif = vif.sort_values(by = \"VIF\", ascending = False)\n",
        "vif"
      ]
    },
    {
      "cell_type": "code",
      "execution_count": null,
      "metadata": {
        "hidden": true,
        "trusted": false,
        "id": "8vT_r0IzPjEX"
      },
      "outputs": [],
      "source": [
        "x_rfe1.drop('lag_3_NPS', axis = 1, inplace = True)\n"
      ]
    },
    {
      "cell_type": "code",
      "execution_count": null,
      "metadata": {
        "code_folding": [],
        "hidden": true,
        "trusted": false,
        "id": "qSTpUAhAPjEX"
      },
      "outputs": [],
      "source": [
        "### 9"
      ]
    },
    {
      "cell_type": "code",
      "execution_count": null,
      "metadata": {
        "hidden": true,
        "trusted": false,
        "id": "JBNWt7JhPjEY"
      },
      "outputs": [],
      "source": [
        "# Refitting with final selected variables\n",
        "x_rfe1 = sm.add_constant(x_rfe1)\n",
        "\n",
        "# Fitting the model with final selected variables\n",
        "dlm1 = sm.OLS(y, x_rfe1).fit()\n",
        "print(dlm1.summary())"
      ]
    },
    {
      "cell_type": "code",
      "execution_count": null,
      "metadata": {
        "hidden": true,
        "scrolled": true,
        "trusted": false,
        "id": "pD1PHWQBPjEY"
      },
      "outputs": [],
      "source": [
        "# Create a dataframe that will contain the names of all the feature variables and their respective VIFs\n",
        "vif = pd.DataFrame()\n",
        "\n",
        "vif['Features'] = x_rfe1.columns\n",
        "vif['VIF'] = [variance_inflation_factor(x_rfe1.values, i) for i in range(x_rfe1.shape[1])]\n",
        "\n",
        "vif['VIF'] = round(vif['VIF'], 2)\n",
        "vif = vif.sort_values(by = \"VIF\", ascending = False)\n",
        "vif"
      ]
    },
    {
      "cell_type": "code",
      "execution_count": null,
      "metadata": {
        "hidden": true,
        "trusted": false,
        "id": "eniiXWdsPjEY"
      },
      "outputs": [],
      "source": [
        "x_rfe1.drop('Stock_Index', axis = 1, inplace = True)\n"
      ]
    },
    {
      "cell_type": "code",
      "execution_count": null,
      "metadata": {
        "code_folding": [],
        "hidden": true,
        "trusted": false,
        "id": "i11i7QckPjEZ"
      },
      "outputs": [],
      "source": [
        "### 10"
      ]
    },
    {
      "cell_type": "code",
      "execution_count": null,
      "metadata": {
        "hidden": true,
        "trusted": false,
        "id": "fn8W9fvuPjEa"
      },
      "outputs": [],
      "source": [
        "# Refitting with final selected variables\n",
        "x_rfe1 = sm.add_constant(x_rfe1)\n",
        "\n",
        "# Fitting the model with final selected variables\n",
        "dlm1 = sm.OLS(y, x_rfe1).fit()\n",
        "print(dlm1.summary())"
      ]
    },
    {
      "cell_type": "code",
      "execution_count": null,
      "metadata": {
        "hidden": true,
        "scrolled": true,
        "trusted": false,
        "id": "i8Hpru6vPjEa"
      },
      "outputs": [],
      "source": [
        "# Create a dataframe that will contain the names of all the feature variables and their respective VIFs\n",
        "vif = pd.DataFrame()\n",
        "\n",
        "vif['Features'] = x_rfe1.columns\n",
        "vif['VIF'] = [variance_inflation_factor(x_rfe1.values, i) for i in range(x_rfe1.shape[1])]\n",
        "\n",
        "vif['VIF'] = round(vif['VIF'], 2)\n",
        "vif = vif.sort_values(by = \"VIF\", ascending = False)\n",
        "vif"
      ]
    },
    {
      "cell_type": "code",
      "execution_count": null,
      "metadata": {
        "hidden": true,
        "trusted": false,
        "id": "vwjBJk2KPjEb"
      },
      "outputs": [],
      "source": [
        "x_rfe1.drop('order_payment_type', axis = 1, inplace = True)\n"
      ]
    },
    {
      "cell_type": "code",
      "execution_count": null,
      "metadata": {
        "code_folding": [],
        "hidden": true,
        "trusted": false,
        "id": "ytJMygmAPjEc"
      },
      "outputs": [],
      "source": [
        "### 11"
      ]
    },
    {
      "cell_type": "code",
      "execution_count": null,
      "metadata": {
        "hidden": true,
        "trusted": false,
        "id": "P7HuUHESPjEc"
      },
      "outputs": [],
      "source": [
        "# Refitting with final selected variables\n",
        "x_rfe1 = sm.add_constant(x_rfe1)\n",
        "\n",
        "# Fitting the model with final selected variables\n",
        "dlm1 = sm.OLS(y, x_rfe1).fit()\n",
        "print(dlm1.summary())"
      ]
    },
    {
      "cell_type": "code",
      "execution_count": null,
      "metadata": {
        "hidden": true,
        "trusted": false,
        "id": "Y3ptrdFDPjEd"
      },
      "outputs": [],
      "source": [
        "# Create a dataframe that will contain the names of all the feature variables and their respective VIFs\n",
        "vif = pd.DataFrame()\n",
        "\n",
        "vif['Features'] = x_rfe1.columns\n",
        "vif['VIF'] = [variance_inflation_factor(x_rfe1.values, i) for i in range(x_rfe1.shape[1])]\n",
        "\n",
        "vif['VIF'] = round(vif['VIF'], 2)\n",
        "vif = vif.sort_values(by = \"VIF\", ascending = False)\n",
        "vif"
      ]
    },
    {
      "cell_type": "code",
      "execution_count": null,
      "metadata": {
        "hidden": true,
        "trusted": false,
        "id": "CBQg_VXZPjEd"
      },
      "outputs": [],
      "source": [
        "x_rfe1.drop('lag_1_gmv', axis = 1, inplace = True)\n"
      ]
    },
    {
      "cell_type": "code",
      "execution_count": null,
      "metadata": {
        "code_folding": [],
        "hidden": true,
        "trusted": false,
        "id": "6Ue5s7oEPjEd"
      },
      "outputs": [],
      "source": [
        "### 12"
      ]
    },
    {
      "cell_type": "code",
      "execution_count": null,
      "metadata": {
        "hidden": true,
        "trusted": false,
        "id": "vLxxW6WkPjEe"
      },
      "outputs": [],
      "source": [
        "# Refitting with final selected variables\n",
        "x_rfe1 = sm.add_constant(x_rfe1)\n",
        "\n",
        "# Fitting the model with final selected variables\n",
        "dlm1 = sm.OLS(y, x_rfe1).fit()\n",
        "print(dlm1.summary())"
      ]
    },
    {
      "cell_type": "code",
      "execution_count": null,
      "metadata": {
        "hidden": true,
        "trusted": false,
        "id": "iAr3XTrSPjEe"
      },
      "outputs": [],
      "source": [
        "# Create a dataframe that will contain the names of all the feature variables and their respective VIFs\n",
        "vif = pd.DataFrame()\n",
        "\n",
        "vif['Features'] = x_rfe1.columns\n",
        "vif['VIF'] = [variance_inflation_factor(x_rfe1.values, i) for i in range(x_rfe1.shape[1])]\n",
        "\n",
        "vif['VIF'] = round(vif['VIF'], 2)\n",
        "vif = vif.sort_values(by = \"VIF\", ascending = False)\n",
        "vif"
      ]
    },
    {
      "cell_type": "code",
      "execution_count": null,
      "metadata": {
        "hidden": true,
        "trusted": false,
        "id": "k3qoH8gxPjEf"
      },
      "outputs": [],
      "source": [
        "x_rfe1.drop('lag_1_Stock_Index', axis = 1, inplace = True)\n"
      ]
    },
    {
      "cell_type": "code",
      "execution_count": null,
      "metadata": {
        "code_folding": [],
        "hidden": true,
        "trusted": false,
        "id": "33wb7lRxPjEf"
      },
      "outputs": [],
      "source": [
        "### 13"
      ]
    },
    {
      "cell_type": "code",
      "execution_count": null,
      "metadata": {
        "hidden": true,
        "trusted": false,
        "id": "Tyjao2AAPjEf"
      },
      "outputs": [],
      "source": [
        "# Refitting with final selected variables\n",
        "x_rfe1 = sm.add_constant(x_rfe1)\n",
        "\n",
        "# Fitting the model with final selected variables\n",
        "dlm1 = sm.OLS(y, x_rfe1).fit()\n",
        "print(dlm1.summary())"
      ]
    },
    {
      "cell_type": "code",
      "execution_count": null,
      "metadata": {
        "hidden": true,
        "trusted": false,
        "id": "qMR3OmVXPjEg"
      },
      "outputs": [],
      "source": [
        "# Create a dataframe that will contain the names of all the feature variables and their respective VIFs\n",
        "vif = pd.DataFrame()\n",
        "\n",
        "vif['Features'] = x_rfe1.columns\n",
        "vif['VIF'] = [variance_inflation_factor(x_rfe1.values, i) for i in range(x_rfe1.shape[1])]\n",
        "\n",
        "vif['VIF'] = round(vif['VIF'], 2)\n",
        "vif = vif.sort_values(by = \"VIF\", ascending = False)\n",
        "vif"
      ]
    },
    {
      "cell_type": "code",
      "execution_count": null,
      "metadata": {
        "hidden": true,
        "trusted": false,
        "id": "ByEnF_7MPjEg"
      },
      "outputs": [],
      "source": [
        "x_rfe1.drop('TV_ads', axis = 1, inplace = True)\n"
      ]
    },
    {
      "cell_type": "code",
      "execution_count": null,
      "metadata": {
        "code_folding": [],
        "hidden": true,
        "trusted": false,
        "id": "Dyin8mntPjEg"
      },
      "outputs": [],
      "source": [
        "### 14"
      ]
    },
    {
      "cell_type": "code",
      "execution_count": null,
      "metadata": {
        "hidden": true,
        "trusted": false,
        "id": "9dJr4y72PjEh"
      },
      "outputs": [],
      "source": [
        "# Refitting with final selected variables\n",
        "x_rfe1 = sm.add_constant(x_rfe1)\n",
        "\n",
        "# Fitting the model with final selected variables\n",
        "dlm1 = sm.OLS(y, x_rfe1).fit()\n",
        "print(dlm1.summary())"
      ]
    },
    {
      "cell_type": "code",
      "execution_count": null,
      "metadata": {
        "hidden": true,
        "trusted": false,
        "id": "T9MaslpRPjEi"
      },
      "outputs": [],
      "source": [
        "# Create a dataframe that will contain the names of all the feature variables and their respective VIFs\n",
        "vif = pd.DataFrame()\n",
        "\n",
        "vif['Features'] = x_rfe1.columns\n",
        "vif['VIF'] = [variance_inflation_factor(x_rfe1.values, i) for i in range(x_rfe1.shape[1])]\n",
        "\n",
        "vif['VIF'] = round(vif['VIF'], 2)\n",
        "vif = vif.sort_values(by = \"VIF\", ascending = False)\n",
        "vif"
      ]
    },
    {
      "cell_type": "code",
      "execution_count": null,
      "metadata": {
        "hidden": true,
        "trusted": false,
        "id": "jCDaBwmwPjEi"
      },
      "outputs": [],
      "source": [
        "features = list(x_rfe1.columns)\n",
        "features.remove('const')\n",
        "features"
      ]
    },
    {
      "cell_type": "code",
      "execution_count": null,
      "metadata": {
        "hidden": true,
        "trusted": false,
        "id": "lbQekUIaPjEj"
      },
      "outputs": [],
      "source": [
        "###  Model Evaluation on testing data\n",
        "x_2 = x[features]\n",
        "\n",
        "###  Predicition with selected features on the test data\n",
        "y_pred = dlm1.predict(sm.add_constant(x_2))"
      ]
    },
    {
      "cell_type": "code",
      "execution_count": null,
      "metadata": {
        "hidden": true,
        "trusted": false,
        "id": "gbswKf9qPjEj"
      },
      "outputs": [],
      "source": [
        "###  Mean square error (MSE)\n",
        "mse = np.mean((y_pred - y)**2)\n",
        "mse\n"
      ]
    },
    {
      "cell_type": "code",
      "execution_count": null,
      "metadata": {
        "hidden": true,
        "trusted": false,
        "id": "MFrdnucXPjEj"
      },
      "outputs": [],
      "source": [
        "###  Coefficient values\n",
        "\n",
        "coef = pd.DataFrame(x_rfe1.columns)\n",
        "coef['Coefficient'] = pd.Series(dlm.coef_)\n",
        "coef\n"
      ]
    },
    {
      "cell_type": "code",
      "execution_count": null,
      "metadata": {
        "hidden": true,
        "trusted": false,
        "id": "UH-N2LLJPjEk"
      },
      "outputs": [],
      "source": [
        "###  Using K-Fold Cross validation evaluating on whole dataset\n",
        "\n",
        "# lm = LinearRegression()\n",
        "fold = KFold(10,shuffle = True, random_state = 100)\n",
        "\n",
        "cv_scores = -cross_val_score(dlm,x[features],y,cv=fold,scoring='neg_mean_squared_error')\n",
        "\n",
        "print(\"Neg. of MSE:\",cv_scores,\"\\n\")\n",
        "print(\"Mean of 5 KFold CV - MSE:\",cv_scores.mean())"
      ]
    },
    {
      "cell_type": "code",
      "execution_count": null,
      "metadata": {
        "hidden": true,
        "trusted": false,
        "id": "3Vu5GyXcPjEk"
      },
      "outputs": [],
      "source": [
        "def elasticity(model,x):\n",
        "\n",
        "    features_df = pd.DataFrame(model.params)\n",
        "    features_df = features_df.rename(columns={0:'coef'})\n",
        "\n",
        "    features_df['imp_feature'] = model.params.index\n",
        "    features_df = features_df[features_df.imp_feature != 'const'][['imp_feature','coef']]\n",
        "    features_df.index = range(len(features_df))\n",
        "#      features\n",
        "\n",
        "    elasticity_list = list()\n",
        "\n",
        "    for i in range(len(features_df)):\n",
        "        elasticity_list.append(((features_df.coef[i] * np.mean(x[features_df.imp_feature[i]])) / np.mean(x['gmv'])))\n",
        "\n",
        "    features_df['elasticity'] = np.round(elasticity_list,3)\n",
        "\n",
        "    sns.barplot(x='elasticity',y='imp_feature',data=features_df)\n",
        "    plt.show()\n",
        "\n",
        "    return features_df\n",
        ""
      ]
    },
    {
      "cell_type": "code",
      "execution_count": null,
      "metadata": {
        "hidden": true,
        "trusted": false,
        "id": "KP36qvC8PjEl"
      },
      "outputs": [],
      "source": [
        "elasticity(dlm1,gaming_train_dlm)"
      ]
    },
    {
      "cell_type": "code",
      "execution_count": null,
      "metadata": {
        "hidden": true,
        "trusted": false,
        "id": "3CjYfrvqPjEl"
      },
      "outputs": [],
      "source": [
        "# Plotting y and y_pred to understand the spread\n",
        "\n",
        "fig = plt.figure()\n",
        "plt.scatter(y, y_pred)\n",
        "fig.suptitle('y vs y_pred', fontsize = 20)              # Plot heading\n",
        "plt.xlabel('y', fontsize = 18)                          # X-label\n",
        "plt.ylabel('y_pred', fontsize = 16)"
      ]
    },
    {
      "cell_type": "code",
      "execution_count": null,
      "metadata": {
        "hidden": true,
        "trusted": false,
        "id": "bu1SHS4SPjEl"
      },
      "outputs": [],
      "source": [
        "# Figure size\n",
        "plt.figure(figsize=(8,5))\n",
        "\n",
        "# Heatmap\n",
        "sns.heatmap(gaming_train_dlm[features].corr(), cmap=\"YlGnBu\", annot=True)\n",
        "plt.show()"
      ]
    },
    {
      "cell_type": "markdown",
      "metadata": {
        "heading_collapsed": true,
        "id": "WUL71qdXPjEl"
      },
      "source": [
        "# 7. Modeling - Home Audio"
      ]
    },
    {
      "cell_type": "markdown",
      "metadata": {
        "heading_collapsed": true,
        "hidden": true,
        "id": "iQ093AhyPjEm"
      },
      "source": [
        "### Linear Model"
      ]
    },
    {
      "cell_type": "code",
      "execution_count": null,
      "metadata": {
        "hidden": true,
        "trusted": false,
        "id": "7heePmZwPjEm"
      },
      "outputs": [],
      "source": [
        "###  Importing RFE and LinearRegression\n",
        "from sklearn.feature_selection import RFE\n",
        "from sklearn.linear_model import LinearRegression"
      ]
    },
    {
      "cell_type": "code",
      "execution_count": null,
      "metadata": {
        "hidden": true,
        "scrolled": true,
        "trusted": false,
        "id": "p3K_fkajPjEn"
      },
      "outputs": [],
      "source": [
        "ha_week.columns"
      ]
    },
    {
      "cell_type": "code",
      "execution_count": null,
      "metadata": {
        "hidden": true,
        "scrolled": true,
        "trusted": false,
        "id": "_Frl-DG9PjEn"
      },
      "outputs": [],
      "source": [
        "home_lm = ha_week[['gmv', 'discount', 'sla','product_procurement_sla', 'order_payment_type',\n",
        "       'online_order_perc', 'TV_ads','Sponsorship_ads', 'Content_marketing_ads', 'Online_marketing_ads',\n",
        "       'NPS', 'Stock_Index', 'Special_sales', 'Payday', 'heat_deg_days', 'cool_deg_days',\n",
        "       'total_rain_mm', 'total_snow_cm','snow_on_grnd_cm', 'MA2_listed_price', 'MA4_listed_price']]\n",
        "\n",
        "\n",
        "home_lm.head()"
      ]
    },
    {
      "cell_type": "code",
      "execution_count": null,
      "metadata": {
        "hidden": true,
        "trusted": false,
        "id": "PZ6NeMxiPjEn"
      },
      "outputs": [],
      "source": [
        "### Checking NaN\n",
        "\n",
        "home_lm.isnull().sum()"
      ]
    },
    {
      "cell_type": "code",
      "execution_count": null,
      "metadata": {
        "hidden": true,
        "trusted": false,
        "id": "TWKBYwczPjEo"
      },
      "outputs": [],
      "source": [
        "home_lm.fillna(0, inplace = True)"
      ]
    },
    {
      "cell_type": "code",
      "execution_count": null,
      "metadata": {
        "hidden": true,
        "trusted": false,
        "id": "AjGcCZhSPjEo"
      },
      "outputs": [],
      "source": [
        "### Import the StandardScaler()\n",
        "# from sklearn.preprocessing import StandardScaler\n",
        "from sklearn.preprocessing import MinMaxScaler\n",
        "\n",
        "### Create a scaling object\n",
        "# scaler = StandardScaler()\n",
        "scaler = MinMaxScaler()\n",
        "\n",
        "\n",
        "### Create a list of the variables that you need to scale\n",
        "varlist = ['gmv', 'discount', 'sla','product_procurement_sla', 'order_payment_type',\n",
        "       'online_order_perc', 'TV_ads','Sponsorship_ads', 'Content_marketing_ads', 'Online_marketing_ads',\n",
        "       'NPS', 'Stock_Index', 'Special_sales', 'Payday', 'heat_deg_days', 'cool_deg_days',\n",
        "       'total_rain_mm', 'total_snow_cm','snow_on_grnd_cm', 'MA2_listed_price', 'MA4_listed_price']\n",
        "\n",
        "\n",
        "### Scale these variables using 'fit_transform'\n",
        "home_lm[varlist] = scaler.fit_transform(home_lm[varlist])"
      ]
    },
    {
      "cell_type": "code",
      "execution_count": null,
      "metadata": {
        "hidden": true,
        "scrolled": true,
        "trusted": false,
        "id": "zpdZmC4FPjEp"
      },
      "outputs": [],
      "source": [
        "home_lm.head()"
      ]
    },
    {
      "cell_type": "code",
      "execution_count": null,
      "metadata": {
        "hidden": true,
        "trusted": false,
        "id": "3X_l2EztPjEp"
      },
      "outputs": [],
      "source": [
        "### Split the train dataset into X and y\n",
        "from sklearn.model_selection import train_test_split\n",
        "x = home_lm.drop('gmv',axis=1)\n",
        "y = home_lm['gmv']\n",
        "\n",
        "home_train_lm = home_lm"
      ]
    },
    {
      "cell_type": "code",
      "execution_count": null,
      "metadata": {
        "hidden": true,
        "trusted": false,
        "id": "gOO6X-pMPjEp"
      },
      "outputs": [],
      "source": [
        "print(\"x dataset: \",x.shape)\n",
        "print(\"y dataset: \",y.shape)"
      ]
    },
    {
      "cell_type": "code",
      "execution_count": null,
      "metadata": {
        "hidden": true,
        "trusted": false,
        "id": "PrfD7FZLPjEq"
      },
      "outputs": [],
      "source": [
        "###  Instantiate\n",
        "lm = LinearRegression()\n",
        "\n",
        "###  Fit a line\n",
        "lm.fit(x,y)\n"
      ]
    },
    {
      "cell_type": "code",
      "execution_count": null,
      "metadata": {
        "hidden": true,
        "trusted": false,
        "id": "fksYGkMxPjEq"
      },
      "outputs": [],
      "source": [
        "###  Coefficient values\n",
        "\n",
        "coef = pd.DataFrame(x.columns)\n",
        "coef['Coefficient'] = pd.Series(lm.coef_)\n",
        "coef\n"
      ]
    },
    {
      "cell_type": "code",
      "execution_count": null,
      "metadata": {
        "hidden": true,
        "trusted": false,
        "id": "fwIfXeyBPjEr"
      },
      "outputs": [],
      "source": [
        "col = x.columns\n",
        "col"
      ]
    },
    {
      "cell_type": "markdown",
      "metadata": {
        "hidden": true,
        "id": "Zluy3ytdPjEr"
      },
      "source": [
        "#### Model Building - Stepwise selection for feature selection"
      ]
    },
    {
      "cell_type": "code",
      "execution_count": null,
      "metadata": {
        "hidden": true,
        "trusted": false,
        "id": "d0SdI_B0PjEr"
      },
      "outputs": [],
      "source": [
        "import statsmodels.api as sm\n",
        "from statsmodels.stats.outliers_influence import variance_inflation_factor\n",
        "from sklearn.model_selection import KFold\n",
        "from sklearn.model_selection import cross_val_score"
      ]
    },
    {
      "cell_type": "code",
      "execution_count": null,
      "metadata": {
        "hidden": true,
        "trusted": false,
        "id": "0O5lfohyPjEs"
      },
      "outputs": [],
      "source": [
        "def stepwise_selection(x, y,\n",
        "                       initial_list=['discount', 'sla','product_procurement_sla', 'order_payment_type',\n",
        "       'online_order_perc', 'TV_ads','Sponsorship_ads', 'Content_marketing_ads', 'Online_marketing_ads',\n",
        "       'NPS', 'Stock_Index', 'Special_sales', 'Payday', 'heat_deg_days', 'cool_deg_days',\n",
        "       'total_rain_mm', 'total_snow_cm','snow_on_grnd_cm', 'MA2_listed_price', 'MA4_listed_price'],\n",
        "                       threshold_in=0.01,threshold_out = 0.05, verbose=True):\n",
        "\n",
        "    included = list(initial_list)\n",
        "    while True:\n",
        "        changed=False\n",
        "        ###forward step\n",
        "        excluded = list(set(x.columns)-set(included))\n",
        "        new_pval = pd.Series(index=excluded)\n",
        "        for new_column in excluded:\n",
        "            model = sm.OLS(y, sm.add_constant(pd.DataFrame(x[included+[new_column]]))).fit()\n",
        "            new_pval[new_column] = model.pvalues[new_column]\n",
        "        best_pval = new_pval.min()\n",
        "        if best_pval < threshold_in:\n",
        "            best_feature = new_pval.argmin()\n",
        "            included.append(best_feature)\n",
        "            changed=True\n",
        "            if verbose:\n",
        "                print('Add  {:30} with p-value {:.6}'.format(best_feature, best_pval))\n",
        "\n",
        "\n",
        "        ###backward step\n",
        "        model = sm.OLS(y, sm.add_constant(pd.DataFrame(x[included]))).fit()\n",
        "        ###use all coefs except intercept\n",
        "        pvalues = model.pvalues.iloc[1:]\n",
        "        worst_pval = pvalues.max() ###null if pvalues is empty\n",
        "        if worst_pval > threshold_out:\n",
        "            changed=True\n",
        "            worst_feature = pvalues.argmax()\n",
        "            included.remove(worst_feature)\n",
        "            if verbose:\n",
        "                print('Drop {:30} with p-value {:.6}'.format(worst_feature, worst_pval))\n",
        "        if not changed:\n",
        "            break\n",
        "    return included\n"
      ]
    },
    {
      "cell_type": "code",
      "execution_count": null,
      "metadata": {
        "hidden": true,
        "trusted": false,
        "id": "ftG-DfJPPjEs"
      },
      "outputs": [],
      "source": [
        "import statsmodels.api as sm\n",
        "\n",
        "final_features = stepwise_selection(x, y)\n",
        "\n",
        "print(\"\\n\",\"final_selected_features:\",final_features)"
      ]
    },
    {
      "cell_type": "code",
      "execution_count": null,
      "metadata": {
        "hidden": true,
        "trusted": false,
        "id": "AegI4xhFPjEs"
      },
      "outputs": [],
      "source": [
        "### Import statsmodels\n",
        "import statsmodels.api as sm\n",
        "\n",
        "### Subsetting training data for 15 selected columns\n",
        "x_rfe1 = x[final_features]\n",
        "\n",
        "x_rfe1 = sm.add_constant(x_rfe1)\n",
        "\n",
        "### Fitting the model with selected variables\n",
        "lm1 = sm.OLS(y, x_rfe1).fit()\n",
        "\n",
        "print(lm1.params)"
      ]
    },
    {
      "cell_type": "code",
      "execution_count": null,
      "metadata": {
        "hidden": true,
        "trusted": false,
        "id": "epa1RbdsPjEt"
      },
      "outputs": [],
      "source": [
        "print(lm1.summary())"
      ]
    },
    {
      "cell_type": "code",
      "execution_count": null,
      "metadata": {
        "hidden": true,
        "trusted": false,
        "id": "qPXG2XPKPjEt"
      },
      "outputs": [],
      "source": [
        "###  Create a dataframe that will contain the names of all the feature variables and their respective VIFs\n",
        "vif = pd.DataFrame()\n",
        "\n",
        "vif['Features'] = x_rfe1.columns\n",
        "vif['VIF'] = [variance_inflation_factor(x_rfe1.values, i) for i in range(x_rfe1.shape[1])]\n",
        "\n",
        "vif['VIF'] = round(vif['VIF'], 2)\n",
        "vif = vif.sort_values(by = \"VIF\", ascending = False)\n",
        "vif"
      ]
    },
    {
      "cell_type": "code",
      "execution_count": null,
      "metadata": {
        "hidden": true,
        "trusted": false,
        "id": "ZtBQ4eRzPjEu"
      },
      "outputs": [],
      "source": [
        "features = list(x_rfe1.columns)\n",
        "features.remove('const')\n",
        "features"
      ]
    },
    {
      "cell_type": "code",
      "execution_count": null,
      "metadata": {
        "hidden": true,
        "trusted": false,
        "id": "qH2uMEKnPjEu"
      },
      "outputs": [],
      "source": [
        "###  Model Evaluation on testing data\n",
        "x_2 = x[features]\n",
        "\n",
        "###  Predicition with selected features on the test data\n",
        "y_pred = lm1.predict(sm.add_constant(x_2))\n"
      ]
    },
    {
      "cell_type": "code",
      "execution_count": null,
      "metadata": {
        "hidden": true,
        "trusted": false,
        "id": "7F9wdN5jPjEu"
      },
      "outputs": [],
      "source": [
        "###  Mean square error (MSE)\n",
        "\n",
        "mse = np.mean((y_pred - y)**2)\n",
        "mse"
      ]
    },
    {
      "cell_type": "code",
      "execution_count": null,
      "metadata": {
        "hidden": true,
        "trusted": false,
        "id": "yA0RXKzLPjEv"
      },
      "outputs": [],
      "source": [
        "###  Coefficient values\n",
        "\n",
        "coef = pd.DataFrame(x_rfe1.columns)\n",
        "coef['Coefficient'] = pd.Series(lm.coef_)\n",
        "coef"
      ]
    },
    {
      "cell_type": "code",
      "execution_count": null,
      "metadata": {
        "hidden": true,
        "trusted": false,
        "id": "UbSeNu49PjEv"
      },
      "outputs": [],
      "source": [
        "### Mean Square Error\n",
        "###  Using K-Fold Cross validation evaluating on selected dataset\n",
        "\n",
        "# lm = LinearRegression()\n",
        "fold = KFold(10,shuffle = True, random_state = 100)\n",
        "\n",
        "cv_scores = -cross_val_score(lm,x[features],y,cv=fold,scoring='neg_mean_squared_error')\n",
        "\n",
        "print(\"Neg. of MSE:\",cv_scores,\"\\n\")\n",
        "print(\"Mean of 5 KFold CV - MSE:\",cv_scores.mean())"
      ]
    },
    {
      "cell_type": "code",
      "execution_count": null,
      "metadata": {
        "hidden": true,
        "trusted": false,
        "id": "agoMuN_dPjEv"
      },
      "outputs": [],
      "source": [
        "def elasticity(model,x):\n",
        "\n",
        "    features_df = pd.DataFrame(model.params)\n",
        "    features_df = features_df.rename(columns={0:'coef'})\n",
        "\n",
        "    features_df['imp_feature'] = model.params.index\n",
        "    features_df = features_df[features_df.imp_feature != 'const'][['imp_feature','coef']]\n",
        "    features_df.index = range(len(features_df))\n",
        "#    features\n",
        "\n",
        "    elasticity_list = list()\n",
        "\n",
        "    for i in range(len(features_df)):\n",
        "        elasticity_list.append(((features_df.coef[i] * np.mean(x[features_df.imp_feature[i]])) / np.mean(x['gmv'])))\n",
        "\n",
        "    features_df['elasticity'] = np.round(elasticity_list,3)\n",
        "\n",
        "    sns.barplot(x='elasticity',y='imp_feature',data=features_df)\n",
        "    plt.show()\n",
        "\n",
        "    return features_df\n",
        ""
      ]
    },
    {
      "cell_type": "code",
      "execution_count": null,
      "metadata": {
        "hidden": true,
        "trusted": false,
        "id": "li3enYX5PjEw"
      },
      "outputs": [],
      "source": [
        "elasticity(lm1,home_train_lm)"
      ]
    },
    {
      "cell_type": "code",
      "execution_count": null,
      "metadata": {
        "hidden": true,
        "trusted": false,
        "id": "WOWtD2D5PjEw"
      },
      "outputs": [],
      "source": [
        "# Plotting y and y_pred to understand the spread\n",
        "\n",
        "fig = plt.figure()\n",
        "plt.scatter(y, y_pred)\n",
        "fig.suptitle('y vs y_pred', fontsize = 20)              # Plot heading\n",
        "plt.xlabel('y', fontsize = 18)                          # X-label\n",
        "plt.ylabel('y_pred', fontsize = 16)"
      ]
    },
    {
      "cell_type": "code",
      "execution_count": null,
      "metadata": {
        "hidden": true,
        "trusted": false,
        "id": "TvrO9An6PjEx"
      },
      "outputs": [],
      "source": [
        "# Figure size\n",
        "plt.figure(figsize=(8,5))\n",
        "\n",
        "# Heatmap\n",
        "sns.heatmap(home_train_lm[features].corr(), cmap=\"YlGnBu\", annot=True)\n",
        "plt.show()"
      ]
    },
    {
      "cell_type": "markdown",
      "metadata": {
        "heading_collapsed": true,
        "hidden": true,
        "id": "u-VaaIUlPjEx"
      },
      "source": [
        "### Multiplicative Model"
      ]
    },
    {
      "cell_type": "code",
      "execution_count": null,
      "metadata": {
        "hidden": true,
        "trusted": false,
        "id": "FzGu9CPTPjEy"
      },
      "outputs": [],
      "source": [
        "ha_week.columns"
      ]
    },
    {
      "cell_type": "code",
      "execution_count": null,
      "metadata": {
        "hidden": true,
        "trusted": false,
        "id": "MRr1CTE-PjEz"
      },
      "outputs": [],
      "source": [
        "home_mm = ha_week[['gmv', 'discount', 'sla','product_procurement_sla', 'order_payment_type',\n",
        "       'online_order_perc', 'TV_ads','Sponsorship_ads', 'Content_marketing_ads', 'Online_marketing_ads',\n",
        "       'NPS', 'Stock_Index', 'Special_sales', 'Payday', 'heat_deg_days', 'cool_deg_days',\n",
        "       'total_rain_mm', 'total_snow_cm','snow_on_grnd_cm', 'MA2_listed_price', 'MA4_listed_price']]\n",
        "\n",
        "home_mm.head()\n"
      ]
    },
    {
      "cell_type": "code",
      "execution_count": null,
      "metadata": {
        "hidden": true,
        "trusted": false,
        "id": "H-El2-y7PjEz"
      },
      "outputs": [],
      "source": [
        "### Applying Log\n",
        "home_mm=np.log(home_mm)\n",
        "\n",
        "home_mm = home_mm.fillna(0)\n",
        "home_mm = home_mm.replace([np.inf, -np.inf], 0)"
      ]
    },
    {
      "cell_type": "code",
      "execution_count": null,
      "metadata": {
        "hidden": true,
        "trusted": false,
        "id": "dwHXGeUkPjE0"
      },
      "outputs": [],
      "source": [
        "home_mm.head()"
      ]
    },
    {
      "cell_type": "code",
      "execution_count": null,
      "metadata": {
        "hidden": true,
        "trusted": false,
        "id": "RnzrsJ02PjE0"
      },
      "outputs": [],
      "source": [
        "###  Import the StandardScaler()\n",
        "# from sklearn.preprocessing import StandardScaler\n",
        "from sklearn.preprocessing import MinMaxScaler\n",
        "\n",
        "###  Create a scaling object\n",
        "# scaler = StandardScaler()\n",
        "scaler = MinMaxScaler()\n",
        "\n",
        "###  Create a list of the variables that you need to scale\n",
        "varlist = ['gmv', 'discount', 'sla','product_procurement_sla', 'order_payment_type',\n",
        "       'online_order_perc', 'TV_ads','Sponsorship_ads', 'Content_marketing_ads', 'Online_marketing_ads',\n",
        "       'NPS', 'Stock_Index', 'Special_sales', 'Payday', 'heat_deg_days', 'cool_deg_days',\n",
        "       'total_rain_mm', 'total_snow_cm','snow_on_grnd_cm', 'MA2_listed_price', 'MA4_listed_price']\n",
        "\n",
        "\n",
        "\n",
        "### Scale these variables using 'fit_transform'\n",
        "home_mm[varlist] = scaler.fit_transform(home_mm[varlist])"
      ]
    },
    {
      "cell_type": "code",
      "execution_count": null,
      "metadata": {
        "hidden": true,
        "scrolled": true,
        "trusted": false,
        "id": "yyDQaWaAPjE0"
      },
      "outputs": [],
      "source": [
        "home_mm.head()"
      ]
    },
    {
      "cell_type": "code",
      "execution_count": null,
      "metadata": {
        "hidden": true,
        "trusted": false,
        "id": "XgLjKGbuPjE1"
      },
      "outputs": [],
      "source": [
        "### Split the train dataset into X and y\n",
        "from sklearn.model_selection import train_test_split\n",
        "\n",
        "x = home_mm.drop('gmv',axis=1)\n",
        "y = home_mm['gmv']\n",
        "\n",
        "home_train_mm = home_mm"
      ]
    },
    {
      "cell_type": "code",
      "execution_count": null,
      "metadata": {
        "hidden": true,
        "trusted": false,
        "id": "sNFiYHAkPjE1"
      },
      "outputs": [],
      "source": [
        "print(\"X = Independent variable & Y = Target variable\")\n",
        "print(x.shape,y.shape)\n"
      ]
    },
    {
      "cell_type": "code",
      "execution_count": null,
      "metadata": {
        "hidden": true,
        "trusted": false,
        "id": "joC_Z6YlPjE2"
      },
      "outputs": [],
      "source": [
        "### Instantiate\n",
        "mm = LinearRegression()\n",
        "\n",
        "### Fit a line\n",
        "mm.fit(x,y)\n"
      ]
    },
    {
      "cell_type": "code",
      "execution_count": null,
      "metadata": {
        "hidden": true,
        "trusted": false,
        "id": "-8TiSkSsPjE2"
      },
      "outputs": [],
      "source": [
        "### Coefficient values\n",
        "\n",
        "coef = pd.DataFrame(x.columns)\n",
        "coef['Coefficient'] = pd.Series(mm.coef_)\n",
        "coef\n"
      ]
    },
    {
      "cell_type": "code",
      "execution_count": null,
      "metadata": {
        "hidden": true,
        "trusted": false,
        "id": "SgXsrxlKPjE2"
      },
      "outputs": [],
      "source": [
        "col = x.columns\n",
        "col"
      ]
    },
    {
      "cell_type": "markdown",
      "metadata": {
        "hidden": true,
        "id": "bZUaMt0qPjE3"
      },
      "source": [
        "#### Model Building - Stepwise selection for feature selection"
      ]
    },
    {
      "cell_type": "code",
      "execution_count": null,
      "metadata": {
        "hidden": true,
        "trusted": false,
        "id": "sJ8QMm7dPjE3"
      },
      "outputs": [],
      "source": [
        "import statsmodels.api as sm\n",
        "from statsmodels.stats.outliers_influence import variance_inflation_factor\n",
        "from sklearn.model_selection import KFold\n",
        "from sklearn.model_selection import cross_val_score"
      ]
    },
    {
      "cell_type": "code",
      "execution_count": null,
      "metadata": {
        "hidden": true,
        "trusted": false,
        "id": "Hiav25JcPjE3"
      },
      "outputs": [],
      "source": [
        "def stepwise_selection(x, y,\n",
        "                       initial_list=['discount', 'sla','product_procurement_sla', 'order_payment_type',\n",
        "       'online_order_perc', 'TV_ads','Sponsorship_ads', 'Content_marketing_ads', 'Online_marketing_ads',\n",
        "       'NPS', 'Stock_Index', 'Special_sales', 'Payday', 'heat_deg_days', 'cool_deg_days',\n",
        "       'total_rain_mm', 'total_snow_cm','snow_on_grnd_cm', 'MA2_listed_price', 'MA4_listed_price'],\n",
        "                       threshold_in=0.01,threshold_out = 0.05, verbose=True):\n",
        "\n",
        "    included = list(initial_list)\n",
        "    while True:\n",
        "        changed=False\n",
        "        ###forward step\n",
        "        excluded = list(set(x.columns)-set(included))\n",
        "        new_pval = pd.Series(index=excluded)\n",
        "        for new_column in excluded:\n",
        "            model = sm.OLS(y, sm.add_constant(pd.DataFrame(x[included+[new_column]]))).fit()\n",
        "            new_pval[new_column] = model.pvalues[new_column]\n",
        "        best_pval = new_pval.min()\n",
        "        if best_pval < threshold_in:\n",
        "            best_feature = new_pval.argmin()\n",
        "            included.append(best_feature)\n",
        "            changed=True\n",
        "            if verbose:\n",
        "                print('Add  {:30} with p-value {:.6}'.format(best_feature, best_pval))\n",
        "\n",
        "\n",
        "        ###backward step\n",
        "        model = sm.OLS(y, sm.add_constant(pd.DataFrame(x[included]))).fit()\n",
        "        ###use all coefs except intercept\n",
        "        pvalues = model.pvalues.iloc[1:]\n",
        "        worst_pval = pvalues.max() ###null if pvalues is empty\n",
        "        if worst_pval > threshold_out:\n",
        "            changed=True\n",
        "            worst_feature = pvalues.argmax()\n",
        "            included.remove(worst_feature)\n",
        "            if verbose:\n",
        "                print('Drop {:30} with p-value {:.6}'.format(worst_feature, worst_pval))\n",
        "        if not changed:\n",
        "            break\n",
        "    return included\n"
      ]
    },
    {
      "cell_type": "code",
      "execution_count": null,
      "metadata": {
        "hidden": true,
        "trusted": false,
        "id": "3XxeYvO3PjE4"
      },
      "outputs": [],
      "source": [
        "import statsmodels.api as sm\n",
        "\n",
        "final_features = stepwise_selection(x, y)\n",
        "\n",
        "print(\"\\n\",\"final_selected_features:\",final_features)"
      ]
    },
    {
      "cell_type": "code",
      "execution_count": null,
      "metadata": {
        "hidden": true,
        "trusted": false,
        "id": "i5ovocnSPjE4"
      },
      "outputs": [],
      "source": [
        "### Import statsmodels\n",
        "import statsmodels.api as sm\n",
        "\n",
        "### Subsetting training data for 15 selected columns\n",
        "x_rfe1 = x[final_features]\n",
        "\n",
        "x_rfe1 = sm.add_constant(x_rfe1)\n",
        "\n",
        "\n",
        "### Fitting the model with selected variables\n",
        "mm1 = sm.OLS(y, x_rfe1).fit()\n",
        "\n",
        "print(mm1.params)"
      ]
    },
    {
      "cell_type": "code",
      "execution_count": null,
      "metadata": {
        "hidden": true,
        "trusted": false,
        "id": "PMN56JC4PjE5"
      },
      "outputs": [],
      "source": [
        "print(mm1.summary())"
      ]
    },
    {
      "cell_type": "code",
      "execution_count": null,
      "metadata": {
        "hidden": true,
        "trusted": false,
        "id": "CB5VBjMAPjE5"
      },
      "outputs": [],
      "source": [
        "### Create a dataframe that will contain the names of all the feature variables and their respective VIFs\n",
        "vif = pd.DataFrame()\n",
        "\n",
        "vif['Features'] = x_rfe1.columns\n",
        "vif['VIF'] = [variance_inflation_factor(x_rfe1.values, i) for i in range(x_rfe1.shape[1])]\n",
        "\n",
        "vif['VIF'] = round(vif['VIF'], 2)\n",
        "vif = vif.sort_values(by = \"VIF\", ascending = False)\n",
        "vif"
      ]
    },
    {
      "cell_type": "code",
      "execution_count": null,
      "metadata": {
        "hidden": true,
        "trusted": false,
        "id": "gBaZm_D4PjE5"
      },
      "outputs": [],
      "source": [
        "features = list(x_rfe1.columns)\n",
        "features.remove('const')\n",
        "features"
      ]
    },
    {
      "cell_type": "code",
      "execution_count": null,
      "metadata": {
        "hidden": true,
        "trusted": false,
        "id": "BjnFF8T4PjE6"
      },
      "outputs": [],
      "source": [
        "### Model Evaluation on testing data\n",
        "x_2 = x[features]\n",
        "\n",
        "\n",
        "### Predicition with selected features on the test data\n",
        "y_pred = mm1.predict(sm.add_constant(x_2))\n"
      ]
    },
    {
      "cell_type": "code",
      "execution_count": null,
      "metadata": {
        "hidden": true,
        "trusted": false,
        "id": "TBbpRGyfPjE6"
      },
      "outputs": [],
      "source": [
        "### Mean square error (MSE)\n",
        "mse = np.mean((y_pred - y)**2)\n",
        "mse"
      ]
    },
    {
      "cell_type": "code",
      "execution_count": null,
      "metadata": {
        "hidden": true,
        "trusted": false,
        "id": "EUlE259lPjE6"
      },
      "outputs": [],
      "source": [
        "### Coefficient values\n",
        "\n",
        "coef = pd.DataFrame(x_rfe1.columns)\n",
        "coef['Coefficient'] = pd.Series(mm.coef_)\n",
        "coef\n"
      ]
    },
    {
      "cell_type": "code",
      "execution_count": null,
      "metadata": {
        "hidden": true,
        "trusted": false,
        "id": "I3Ds5RGuPjE7"
      },
      "outputs": [],
      "source": [
        "### Mean Square Error\n",
        "###  Using K-Fold Cross validation evaluating on selected dataset\n",
        "\n",
        "# lm = LinearRegression()\n",
        "fold = KFold(10,shuffle = True, random_state = 100)\n",
        "\n",
        "cv_scores = -cross_val_score(mm,x[features],y,cv=fold,scoring='neg_mean_squared_error')\n",
        "\n",
        "print(\"Neg. of MSE:\",cv_scores,\"\\n\")\n",
        "print(\"Mean of 5 KFold CV - MSE:\",cv_scores.mean())"
      ]
    },
    {
      "cell_type": "code",
      "execution_count": null,
      "metadata": {
        "hidden": true,
        "trusted": false,
        "id": "TgzoYZQKPjE7"
      },
      "outputs": [],
      "source": [
        "def elasticity(model,x):\n",
        "\n",
        "    features_df = pd.DataFrame(model.params)\n",
        "    features_df = features_df.rename(columns={0:'coef'})\n",
        "\n",
        "    features_df['imp_feature'] = model.params.index\n",
        "    features_df = features_df[features_df.imp_feature != 'const'][['imp_feature','coef']]\n",
        "    features_df.index = range(len(features_df))\n",
        "#     features\n",
        "\n",
        "    elasticity_list = list()\n",
        "\n",
        "    for i in range(len(features_df)):\n",
        "        elasticity_list.append(((features_df.coef[i] * np.mean(x[features_df.imp_feature[i]])) / np.mean(x['gmv'])))\n",
        "\n",
        "    features_df['elasticity'] = np.round(elasticity_list,3)\n",
        "\n",
        "    sns.barplot(x='elasticity',y='imp_feature',data=features_df)\n",
        "    plt.show()\n",
        "\n",
        "    return features_df\n",
        ""
      ]
    },
    {
      "cell_type": "code",
      "execution_count": null,
      "metadata": {
        "hidden": true,
        "trusted": false,
        "id": "On5HU6_BPjE7"
      },
      "outputs": [],
      "source": [
        "elasticity(mm1,home_train_mm)"
      ]
    },
    {
      "cell_type": "code",
      "execution_count": null,
      "metadata": {
        "hidden": true,
        "trusted": false,
        "id": "LZueIZWgPjE8"
      },
      "outputs": [],
      "source": [
        "# Plotting y and y_pred to understand the spread\n",
        "\n",
        "fig = plt.figure()\n",
        "plt.scatter(y, y_pred)\n",
        "fig.suptitle('y vs y_pred', fontsize = 20)              # Plot heading\n",
        "plt.xlabel('y', fontsize = 18)                          # X-label\n",
        "plt.ylabel('y_pred', fontsize = 16)"
      ]
    },
    {
      "cell_type": "code",
      "execution_count": null,
      "metadata": {
        "hidden": true,
        "trusted": false,
        "id": "KLcD1LZ_PjE8"
      },
      "outputs": [],
      "source": [
        "# Figure size\n",
        "plt.figure(figsize=(8,5))\n",
        "\n",
        "# Heatmap\n",
        "sns.heatmap(home_train_mm[features].corr(), cmap=\"YlGnBu\", annot=True)\n",
        "plt.show()"
      ]
    },
    {
      "cell_type": "markdown",
      "metadata": {
        "heading_collapsed": true,
        "hidden": true,
        "id": "zipg19rAPjE9"
      },
      "source": [
        "### Kyock Model"
      ]
    },
    {
      "cell_type": "code",
      "execution_count": null,
      "metadata": {
        "hidden": true,
        "trusted": false,
        "id": "JFHfOEpNPjE9"
      },
      "outputs": [],
      "source": [
        "ha_week.columns"
      ]
    },
    {
      "cell_type": "code",
      "execution_count": null,
      "metadata": {
        "hidden": true,
        "trusted": false,
        "id": "aPNf2Zs5PjE-"
      },
      "outputs": [],
      "source": [
        "home_km = ha_week[['gmv', 'discount', 'sla','product_procurement_sla', 'order_payment_type',\n",
        "       'online_order_perc', 'TV_ads','Sponsorship_ads', 'Content_marketing_ads', 'Online_marketing_ads',\n",
        "       'NPS', 'Stock_Index', 'Special_sales', 'Payday', 'heat_deg_days', 'cool_deg_days',\n",
        "       'total_rain_mm', 'total_snow_cm','snow_on_grnd_cm', 'MA2_listed_price', 'MA4_listed_price']]\n",
        "\n",
        "\n",
        "home_km.head()\n"
      ]
    },
    {
      "cell_type": "code",
      "execution_count": null,
      "metadata": {
        "hidden": true,
        "trusted": false,
        "id": "f1j0mxKuPjE-"
      },
      "outputs": [],
      "source": [
        "home_km['lag_1_gmv'] = home_km['gmv'].shift(-1)"
      ]
    },
    {
      "cell_type": "code",
      "execution_count": null,
      "metadata": {
        "hidden": true,
        "trusted": false,
        "id": "NNge6HFzPjE_"
      },
      "outputs": [],
      "source": [
        "### Checking NaN\n",
        "\n",
        "home_km.isnull().sum()"
      ]
    },
    {
      "cell_type": "code",
      "execution_count": null,
      "metadata": {
        "hidden": true,
        "trusted": false,
        "id": "S5PUthXWPjE_"
      },
      "outputs": [],
      "source": [
        "home_km = home_km.fillna(0)"
      ]
    },
    {
      "cell_type": "code",
      "execution_count": null,
      "metadata": {
        "hidden": true,
        "trusted": false,
        "id": "uBQ87VO5PjFA"
      },
      "outputs": [],
      "source": [
        "home_km.head()"
      ]
    },
    {
      "cell_type": "code",
      "execution_count": null,
      "metadata": {
        "hidden": true,
        "trusted": false,
        "id": "JH3PTZtrPjFA"
      },
      "outputs": [],
      "source": [
        "###  Import the StandardScaler()\n",
        "# from sklearn.preprocessing import StandardScaler\n",
        "from sklearn.preprocessing import MinMaxScaler\n",
        "\n",
        "### Create a scaling object\n",
        "# scaler = StandardScaler()\n",
        "scaler = MinMaxScaler()\n",
        "\n",
        "### Create a list of the variables that you need to scale\n",
        "varlist = ['gmv', 'discount', 'sla','product_procurement_sla', 'order_payment_type',\n",
        "       'online_order_perc', 'TV_ads','Sponsorship_ads', 'Content_marketing_ads', 'Online_marketing_ads',\n",
        "       'NPS', 'Stock_Index', 'Special_sales', 'Payday', 'heat_deg_days', 'cool_deg_days',\n",
        "       'total_rain_mm', 'total_snow_cm','snow_on_grnd_cm', 'MA2_listed_price', 'MA4_listed_price','lag_1_gmv']\n",
        "\n",
        "### Scale these variables using 'fit_transform'\n",
        "home_km[varlist] = scaler.fit_transform(home_km[varlist])"
      ]
    },
    {
      "cell_type": "code",
      "execution_count": null,
      "metadata": {
        "hidden": true,
        "scrolled": true,
        "trusted": false,
        "id": "V-eNP4XTPjFB"
      },
      "outputs": [],
      "source": [
        "home_km.head()"
      ]
    },
    {
      "cell_type": "code",
      "execution_count": null,
      "metadata": {
        "hidden": true,
        "trusted": false,
        "id": "pbE6pkYAPjFB"
      },
      "outputs": [],
      "source": [
        "### Split the train dataset into X and y\n",
        "from sklearn.model_selection import train_test_split\n",
        "x = home_km.drop('gmv',axis=1)\n",
        "y = home_km['gmv']\n",
        "\n",
        "home_train_km = home_km"
      ]
    },
    {
      "cell_type": "code",
      "execution_count": null,
      "metadata": {
        "hidden": true,
        "trusted": false,
        "id": "Tei6cxcvPjFC"
      },
      "outputs": [],
      "source": [
        "print(\"X = Independent variable & Y = Target variable\")\n",
        "print(x.shape,y.shape)"
      ]
    },
    {
      "cell_type": "code",
      "execution_count": null,
      "metadata": {
        "hidden": true,
        "trusted": false,
        "id": "03_sYnIqPjFD"
      },
      "outputs": [],
      "source": [
        "###  Instantiate\n",
        "km = LinearRegression()\n",
        "\n",
        "###  Fit a line\n",
        "km.fit(x,y)\n"
      ]
    },
    {
      "cell_type": "code",
      "execution_count": null,
      "metadata": {
        "hidden": true,
        "trusted": false,
        "id": "wRnOxKROPjFD"
      },
      "outputs": [],
      "source": [
        "###  Coefficient values\n",
        "\n",
        "coef = pd.DataFrame(x.columns)\n",
        "coef['Coefficient'] = pd.Series(km.coef_)\n",
        "coef\n"
      ]
    },
    {
      "cell_type": "code",
      "execution_count": null,
      "metadata": {
        "hidden": true,
        "trusted": false,
        "id": "IuObKiGOPjFE"
      },
      "outputs": [],
      "source": [
        "col = x.columns\n",
        "col"
      ]
    },
    {
      "cell_type": "markdown",
      "metadata": {
        "hidden": true,
        "id": "fqDqeppIPjFF"
      },
      "source": [
        "#### Model Building - Stepwise selection for feature selection"
      ]
    },
    {
      "cell_type": "code",
      "execution_count": null,
      "metadata": {
        "hidden": true,
        "trusted": false,
        "id": "5cv75pIePjFG"
      },
      "outputs": [],
      "source": [
        "import statsmodels.api as sm\n",
        "from statsmodels.stats.outliers_influence import variance_inflation_factor\n",
        "from sklearn.model_selection import KFold\n",
        "from sklearn.model_selection import cross_val_score"
      ]
    },
    {
      "cell_type": "code",
      "execution_count": null,
      "metadata": {
        "hidden": true,
        "trusted": false,
        "id": "gKiYTZD6PjFH"
      },
      "outputs": [],
      "source": [
        "def stepwise_selection(x, y,\n",
        "                       initial_list=['discount', 'sla','product_procurement_sla', 'order_payment_type',\n",
        "       'online_order_perc', 'TV_ads','Sponsorship_ads', 'Content_marketing_ads', 'Online_marketing_ads',\n",
        "       'NPS', 'Stock_Index', 'Special_sales', 'Payday', 'heat_deg_days', 'cool_deg_days',\n",
        "       'total_rain_mm', 'total_snow_cm','snow_on_grnd_cm', 'MA2_listed_price', 'MA4_listed_price', 'lag_1_gmv'],\n",
        "                       threshold_in=0.01,threshold_out = 0.05, verbose=True):\n",
        "\n",
        "    included = list(initial_list)\n",
        "    while True:\n",
        "        changed=False\n",
        "        ### forward step\n",
        "        excluded = list(set(x.columns)-set(included))\n",
        "        new_pval = pd.Series(index=excluded)\n",
        "        for new_column in excluded:\n",
        "            model = sm.OLS(y, sm.add_constant(pd.DataFrame(x[included+[new_column]]))).fit()\n",
        "            new_pval[new_column] = model.pvalues[new_column]\n",
        "        best_pval = new_pval.min()\n",
        "        if best_pval < threshold_in:\n",
        "            best_feature = new_pval.argmin()\n",
        "            included.append(best_feature)\n",
        "            changed=True\n",
        "            if verbose:\n",
        "                print('Add  {:30} with p-value {:.6}'.format(best_feature, best_pval))\n",
        "\n",
        "\n",
        "        ###backward step\n",
        "        model = sm.OLS(y, sm.add_constant(pd.DataFrame(x[included]))).fit()\n",
        "        ###use all coefs except intercept\n",
        "        pvalues = model.pvalues.iloc[1:]\n",
        "        worst_pval = pvalues.max() ###null if pvalues is empty\n",
        "        if worst_pval > threshold_out:\n",
        "            changed=True\n",
        "            worst_feature = pvalues.argmax()\n",
        "            included.remove(worst_feature)\n",
        "            if verbose:\n",
        "                print('Drop {:30} with p-value {:.6}'.format(worst_feature, worst_pval))\n",
        "        if not changed:\n",
        "            break\n",
        "    return included\n"
      ]
    },
    {
      "cell_type": "code",
      "execution_count": null,
      "metadata": {
        "hidden": true,
        "trusted": false,
        "id": "iM-71hWkPjFI"
      },
      "outputs": [],
      "source": [
        "import statsmodels.api as sm\n",
        "\n",
        "final_features = stepwise_selection(x, y)\n",
        "\n",
        "print(\"\\n\",\"final_selected_features:\",final_features)"
      ]
    },
    {
      "cell_type": "code",
      "execution_count": null,
      "metadata": {
        "hidden": true,
        "trusted": false,
        "id": "DyUhjYbPPjFJ"
      },
      "outputs": [],
      "source": [
        "### Import statsmodels\n",
        "import statsmodels.api as sm\n",
        "\n",
        "### Subsetting training data for 15 selected columns\n",
        "x_rfe1 = x[final_features]\n",
        "\n",
        "x_rfe1 = sm.add_constant(x_rfe1)\n",
        "\n",
        "### Fitting the model with selected variables\n",
        "km1 = sm.OLS(y, x_rfe1).fit()\n",
        "\n",
        "print(km1.params)"
      ]
    },
    {
      "cell_type": "code",
      "execution_count": null,
      "metadata": {
        "hidden": true,
        "trusted": false,
        "id": "0S7vjgS8PjFJ"
      },
      "outputs": [],
      "source": [
        "print(km1.summary())"
      ]
    },
    {
      "cell_type": "code",
      "execution_count": null,
      "metadata": {
        "hidden": true,
        "trusted": false,
        "id": "DlaFXhI9PjFJ"
      },
      "outputs": [],
      "source": [
        "### Create a dataframe that will contain the names of all the feature variables and their respective VIFs\n",
        "vif = pd.DataFrame()\n",
        "\n",
        "vif['Features'] = x_rfe1.columns\n",
        "vif['VIF'] = [variance_inflation_factor(x_rfe1.values, i) for i in range(x_rfe1.shape[1])]\n",
        "\n",
        "vif['VIF'] = round(vif['VIF'], 2)\n",
        "vif = vif.sort_values(by = \"VIF\", ascending = False)\n",
        "vif"
      ]
    },
    {
      "cell_type": "code",
      "execution_count": null,
      "metadata": {
        "hidden": true,
        "trusted": false,
        "id": "vAXZJBBUPjFK"
      },
      "outputs": [],
      "source": [
        "features = list(x_rfe1.columns)\n",
        "features.remove('const')\n",
        "features"
      ]
    },
    {
      "cell_type": "code",
      "execution_count": null,
      "metadata": {
        "hidden": true,
        "trusted": false,
        "id": "9Alk6GvfPjFK"
      },
      "outputs": [],
      "source": [
        "### Model Evaluation on testing data\n",
        "x_2 = x[features]\n",
        "\n",
        "\n",
        "### Predicition with selected features on the test data\n",
        "y_pred = km1.predict(sm.add_constant(x_2))\n"
      ]
    },
    {
      "cell_type": "code",
      "execution_count": null,
      "metadata": {
        "hidden": true,
        "trusted": false,
        "id": "oxdQch0HPjFK"
      },
      "outputs": [],
      "source": [
        "### Mean square error (MSE)\n",
        "mse = np.mean((y_pred - y)**2)\n",
        "mse"
      ]
    },
    {
      "cell_type": "code",
      "execution_count": null,
      "metadata": {
        "hidden": true,
        "trusted": false,
        "id": "y4vOpc9kPjFL"
      },
      "outputs": [],
      "source": [
        "### Coefficient values\n",
        "\n",
        "coef = pd.DataFrame(x_rfe1.columns)\n",
        "coef['Coefficient'] = pd.Series(km.coef_)\n",
        "coef\n"
      ]
    },
    {
      "cell_type": "code",
      "execution_count": null,
      "metadata": {
        "hidden": true,
        "trusted": false,
        "id": "0CbggYayPjFL"
      },
      "outputs": [],
      "source": [
        "### Using K-Fold Cross validation evaluating on whole dataset\n",
        "\n",
        "# lm = LinearRegression()\n",
        "fold = KFold(10,shuffle = True, random_state = 100)\n",
        "\n",
        "cv_scores = -cross_val_score(km,x[features],y,cv=fold,scoring='neg_mean_squared_error')\n",
        "\n",
        "print(\"Neg. of MSE:\",cv_scores,\"\\n\")\n",
        "print(\"Mean of 5 KFold CV - MSE:\",cv_scores.mean())"
      ]
    },
    {
      "cell_type": "code",
      "execution_count": null,
      "metadata": {
        "hidden": true,
        "trusted": false,
        "id": "Y4wqbpzyPjFM"
      },
      "outputs": [],
      "source": [
        "def elasticity(model,x):\n",
        "\n",
        "    features_df = pd.DataFrame(model.params)\n",
        "    features_df = features_df.rename(columns={0:'coef'})\n",
        "\n",
        "    features_df['imp_feature'] = model.params.index\n",
        "    features_df = features_df[features_df.imp_feature != 'const'][['imp_feature','coef']]\n",
        "    features_df.index = range(len(features_df))\n",
        "#      features\n",
        "\n",
        "    elasticity_list = list()\n",
        "\n",
        "    for i in range(len(features_df)):\n",
        "        elasticity_list.append(((features_df.coef[i] * np.mean(x[features_df.imp_feature[i]])) / np.mean(x['gmv'])))\n",
        "\n",
        "    features_df['elasticity'] = np.round(elasticity_list,3)\n",
        "\n",
        "    sns.barplot(x='elasticity',y='imp_feature',data=features_df)\n",
        "    plt.show()\n",
        "\n",
        "    return features_df\n",
        ""
      ]
    },
    {
      "cell_type": "code",
      "execution_count": null,
      "metadata": {
        "hidden": true,
        "trusted": false,
        "id": "kLzFnCxdPjFM"
      },
      "outputs": [],
      "source": [
        "elasticity(km1,home_train_km)"
      ]
    },
    {
      "cell_type": "code",
      "execution_count": null,
      "metadata": {
        "hidden": true,
        "trusted": false,
        "id": "LbsP52PLPjFM"
      },
      "outputs": [],
      "source": [
        "# Plotting y and y_pred to understand the spread\n",
        "\n",
        "fig = plt.figure()\n",
        "plt.scatter(y, y_pred)\n",
        "fig.suptitle('y vs y_pred', fontsize = 20)              # Plot heading\n",
        "plt.xlabel('y', fontsize = 18)                          # X-label\n",
        "plt.ylabel('y_pred', fontsize = 16)"
      ]
    },
    {
      "cell_type": "code",
      "execution_count": null,
      "metadata": {
        "hidden": true,
        "trusted": false,
        "id": "F4HQ2cf6PjFN"
      },
      "outputs": [],
      "source": [
        "# Figure size\n",
        "plt.figure(figsize=(8,5))\n",
        "\n",
        "# Heatmap\n",
        "sns.heatmap(home_train_km[features].corr(), cmap=\"YlGnBu\", annot=True)\n",
        "plt.show()"
      ]
    },
    {
      "cell_type": "markdown",
      "metadata": {
        "heading_collapsed": true,
        "hidden": true,
        "id": "z2aSQdEIPjFN"
      },
      "source": [
        "### Distributed Lag Model"
      ]
    },
    {
      "cell_type": "code",
      "execution_count": null,
      "metadata": {
        "hidden": true,
        "trusted": false,
        "id": "ishkOy_APjFO"
      },
      "outputs": [],
      "source": [
        "home_dlm = ha_week[['gmv', 'discount', 'sla','product_procurement_sla', 'order_payment_type',\n",
        "       'online_order_perc', 'TV_ads','Sponsorship_ads', 'Content_marketing_ads', 'Online_marketing_ads',\n",
        "       'NPS', 'Stock_Index', 'Special_sales', 'Payday', 'heat_deg_days', 'cool_deg_days',\n",
        "       'total_rain_mm', 'total_snow_cm','snow_on_grnd_cm', 'MA2_listed_price', 'MA4_listed_price','lag_1_listed_price','lag_1_discount_offer',\n",
        "       'lag_2_discount_offer','lag_3_discount_offer','lag_2_NPS','lag_3_NPS','lag_1_Stock_Index',\n",
        "       'lag_2_Stock_Index','lag_3_Stock_Index','lag_1_Special_sales','lag_2_Special_sales','lag_3_Special_sales',\n",
        "       'lag_1_Payday','lag_2_Payday','lag_3_Payday']]\n",
        "\n",
        "\n",
        "home_dlm.head()\n"
      ]
    },
    {
      "cell_type": "code",
      "execution_count": null,
      "metadata": {
        "hidden": true,
        "trusted": false,
        "id": "PSlqeULRPjFO"
      },
      "outputs": [],
      "source": [
        "home_dlm['lag_1_gmv'] = home_dlm['gmv'].shift(-1)\n",
        "home_dlm['lag_2_gmv'] = home_dlm['gmv'].shift(-2)\n",
        "home_dlm['lag_3_gmv'] = home_dlm['gmv'].shift(-3)\n"
      ]
    },
    {
      "cell_type": "code",
      "execution_count": null,
      "metadata": {
        "hidden": true,
        "trusted": false,
        "id": "JzCcqfqVPjFP"
      },
      "outputs": [],
      "source": [
        "### Checking NaN\n",
        "\n",
        "home_dlm.isnull().sum()"
      ]
    },
    {
      "cell_type": "code",
      "execution_count": null,
      "metadata": {
        "hidden": true,
        "trusted": false,
        "id": "fM063-7zPjFP"
      },
      "outputs": [],
      "source": [
        "home_dlm = home_dlm.fillna(0)"
      ]
    },
    {
      "cell_type": "code",
      "execution_count": null,
      "metadata": {
        "hidden": true,
        "trusted": false,
        "id": "U7TAc4h9PjFQ"
      },
      "outputs": [],
      "source": [
        "home_dlm.head()"
      ]
    },
    {
      "cell_type": "code",
      "execution_count": null,
      "metadata": {
        "hidden": true,
        "trusted": false,
        "id": "y8QK9AvbPjFQ"
      },
      "outputs": [],
      "source": [
        "###  Import the StandardScaler()\n",
        "# from sklearn.preprocessing import StandardScaler\n",
        "from sklearn.preprocessing import MinMaxScaler\n",
        "\n",
        "###  Create a scaling object\n",
        "# scaler = StandardScaler()\n",
        "scaler = MinMaxScaler()\n",
        "\n",
        "\n",
        "###  Create a list of the variables that you need to scale\n",
        "varlist = ['gmv', 'discount', 'sla','product_procurement_sla', 'order_payment_type',\n",
        "       'online_order_perc', 'TV_ads','Sponsorship_ads', 'Content_marketing_ads', 'Online_marketing_ads',\n",
        "       'NPS', 'Stock_Index', 'Special_sales', 'Payday', 'heat_deg_days', 'cool_deg_days',\n",
        "       'total_rain_mm', 'total_snow_cm','snow_on_grnd_cm', 'MA2_listed_price', 'MA4_listed_price','lag_1_listed_price','lag_1_discount_offer',\n",
        "       'lag_2_discount_offer','lag_3_discount_offer','lag_2_NPS','lag_3_NPS','lag_1_Stock_Index',\n",
        "       'lag_2_Stock_Index','lag_3_Stock_Index','lag_1_Special_sales','lag_2_Special_sales','lag_3_Special_sales',\n",
        "       'lag_1_Payday','lag_2_Payday','lag_3_Payday']\n",
        "\n",
        "\n",
        "###  Scale these variables using 'fit_transform'\n",
        "home_dlm[varlist] = scaler.fit_transform(home_dlm[varlist])"
      ]
    },
    {
      "cell_type": "code",
      "execution_count": null,
      "metadata": {
        "hidden": true,
        "trusted": false,
        "id": "6ssTEStBPjFR"
      },
      "outputs": [],
      "source": [
        "home_dlm.head()"
      ]
    },
    {
      "cell_type": "code",
      "execution_count": null,
      "metadata": {
        "hidden": true,
        "trusted": false,
        "id": "fMF76mvBPjFS"
      },
      "outputs": [],
      "source": [
        "###  Split the train dataset into X and y\n",
        "from sklearn.model_selection import train_test_split\n",
        "x = home_dlm.drop('gmv',axis=1)\n",
        "y = home_dlm['gmv']\n",
        "\n",
        "home_train_dlm = home_dlm"
      ]
    },
    {
      "cell_type": "code",
      "execution_count": null,
      "metadata": {
        "hidden": true,
        "trusted": false,
        "id": "1HooQ9xQPjFS"
      },
      "outputs": [],
      "source": [
        "print(\"X = Independent variable & Y = Target variable\")\n",
        "print(x.shape,y.shape)"
      ]
    },
    {
      "cell_type": "code",
      "execution_count": null,
      "metadata": {
        "hidden": true,
        "trusted": false,
        "id": "GMcZShNzPjFU"
      },
      "outputs": [],
      "source": [
        "###  Instantiate\n",
        "dlm = LinearRegression()\n",
        "\n",
        "###  Fit a line\n",
        "dlm.fit(x,y)\n"
      ]
    },
    {
      "cell_type": "code",
      "execution_count": null,
      "metadata": {
        "hidden": true,
        "trusted": false,
        "id": "6SFKTqyKPjFV"
      },
      "outputs": [],
      "source": [
        "###  Coefficient values\n",
        "\n",
        "coef = pd.DataFrame(x.columns)\n",
        "coef['Coefficient'] = pd.Series(dlm.coef_)\n",
        "coef\n"
      ]
    },
    {
      "cell_type": "code",
      "execution_count": null,
      "metadata": {
        "hidden": true,
        "trusted": false,
        "id": "GhqPhbQDPjFW"
      },
      "outputs": [],
      "source": [
        "col = x.columns\n",
        "col"
      ]
    },
    {
      "cell_type": "markdown",
      "metadata": {
        "hidden": true,
        "id": "L0JmTj5TPjFX"
      },
      "source": [
        "#### Model Building - Stepwise selection for feature selection"
      ]
    },
    {
      "cell_type": "code",
      "execution_count": null,
      "metadata": {
        "hidden": true,
        "trusted": false,
        "id": "HpUE1HeQPjFY"
      },
      "outputs": [],
      "source": [
        "import statsmodels.api as sm\n",
        "from statsmodels.stats.outliers_influence import variance_inflation_factor\n",
        "from sklearn.model_selection import KFold\n",
        "from sklearn.model_selection import cross_val_score"
      ]
    },
    {
      "cell_type": "code",
      "execution_count": null,
      "metadata": {
        "hidden": true,
        "trusted": false,
        "id": "Yo8hxJIqPjFZ"
      },
      "outputs": [],
      "source": [
        "def stepwise_selection(x, y,\n",
        "                       initial_list=['discount', 'sla','product_procurement_sla', 'order_payment_type',\n",
        "       'online_order_perc', 'TV_ads','Sponsorship_ads', 'Content_marketing_ads', 'Online_marketing_ads',\n",
        "       'NPS', 'Stock_Index', 'Special_sales', 'Payday', 'heat_deg_days', 'cool_deg_days',\n",
        "       'total_rain_mm', 'total_snow_cm','snow_on_grnd_cm', 'MA2_listed_price', 'MA4_listed_price','lag_1_listed_price','lag_1_discount_offer',\n",
        "       'lag_2_discount_offer','lag_3_discount_offer','lag_2_NPS','lag_3_NPS','lag_1_Stock_Index',\n",
        "       'lag_2_Stock_Index','lag_3_Stock_Index','lag_1_Special_sales','lag_2_Special_sales','lag_3_Special_sales',\n",
        "       'lag_1_Payday','lag_2_Payday','lag_3_Payday'],\n",
        "                     threshold_in=0.01,threshold_out = 0.05, verbose=True):\n",
        "\n",
        "    included = list(initial_list)\n",
        "    while True:\n",
        "        changed=False\n",
        "        ###  forward step\n",
        "        excluded = list(set(x.columns)-set(included))\n",
        "        new_pval = pd.Series(index=excluded)\n",
        "        for new_column in excluded:\n",
        "            model = sm.OLS(y, sm.add_constant(pd.DataFrame(x[included+[new_column]]))).fit()\n",
        "            new_pval[new_column] = model.pvalues[new_column]\n",
        "        best_pval = new_pval.min()\n",
        "        if best_pval < threshold_in:\n",
        "            best_feature = new_pval.argmin()\n",
        "            included.append(best_feature)\n",
        "            changed=True\n",
        "            if verbose:\n",
        "                print('Add  {:30} with p-value {:.6}'.format(best_feature, best_pval))\n",
        "\n",
        "\n",
        "        ###  backward step\n",
        "        model = sm.OLS(y, sm.add_constant(pd.DataFrame(x[included]))).fit()\n",
        "        ###  use all coefs except intercept\n",
        "        pvalues = model.pvalues.iloc[1:]\n",
        "        worst_pval = pvalues.max() ###  null if pvalues is empty\n",
        "        if worst_pval > threshold_out:\n",
        "            changed=True\n",
        "            worst_feature = pvalues.argmax()\n",
        "            included.remove(worst_feature)\n",
        "            if verbose:\n",
        "                print('Drop {:30} with p-value {:.6}'.format(worst_feature, worst_pval))\n",
        "        if not changed:\n",
        "            break\n",
        "    return included\n"
      ]
    },
    {
      "cell_type": "code",
      "execution_count": null,
      "metadata": {
        "hidden": true,
        "scrolled": true,
        "trusted": false,
        "id": "vgo99csvPjFZ"
      },
      "outputs": [],
      "source": [
        "import statsmodels.api as sm\n",
        "\n",
        "final_features = stepwise_selection(x, y)\n",
        "\n",
        "print(\"\\n\",\"final_selected_features:\",final_features)"
      ]
    },
    {
      "cell_type": "code",
      "execution_count": null,
      "metadata": {
        "hidden": true,
        "trusted": false,
        "id": "xcwhVtZ1PjFa"
      },
      "outputs": [],
      "source": [
        "###  Import statsmodels\n",
        "import statsmodels.api as sm\n",
        "\n",
        "###  Subsetting training data for 15 selected columns\n",
        "x_rfe1 = x[final_features]\n",
        "\n",
        "x_rfe1 = sm.add_constant(x_rfe1)\n",
        "\n",
        "###  Fitting the model with selected variables\n",
        "dlm1 = sm.OLS(y, x_rfe1).fit()\n",
        "\n",
        "print(dlm1.params)"
      ]
    },
    {
      "cell_type": "code",
      "execution_count": null,
      "metadata": {
        "hidden": true,
        "trusted": false,
        "id": "_xVmesZkPjFa"
      },
      "outputs": [],
      "source": [
        "print(dlm1.summary())"
      ]
    },
    {
      "cell_type": "code",
      "execution_count": null,
      "metadata": {
        "hidden": true,
        "trusted": false,
        "id": "-8qTFUW0PjFb"
      },
      "outputs": [],
      "source": [
        "###  Create a dataframe that will contain the names of all the feature variables and their respective VIFs\n",
        "vif = pd.DataFrame()\n",
        "\n",
        "vif['Features'] = x_rfe1.columns\n",
        "vif['VIF'] = [variance_inflation_factor(x_rfe1.values, i) for i in range(x_rfe1.shape[1])]\n",
        "\n",
        "vif['VIF'] = round(vif['VIF'], 2)\n",
        "vif = vif.sort_values(by = \"VIF\", ascending = False)\n",
        "vif"
      ]
    },
    {
      "cell_type": "code",
      "execution_count": null,
      "metadata": {
        "hidden": true,
        "trusted": false,
        "id": "DJo4oCpWPjFb"
      },
      "outputs": [],
      "source": [
        "x_rfe1.drop('sla', axis = 1, inplace = True)\n"
      ]
    },
    {
      "cell_type": "code",
      "execution_count": null,
      "metadata": {
        "hidden": true,
        "trusted": false,
        "id": "Un_zNWKRPjFb"
      },
      "outputs": [],
      "source": [
        "# Refitting with final selected variables\n",
        "x_rfe1 = sm.add_constant(x_rfe1)\n",
        "\n",
        "# Fitting the model with final selected variables\n",
        "dlm1 = sm.OLS(y, x_rfe1).fit()\n",
        "print(dlm1.summary())"
      ]
    },
    {
      "cell_type": "code",
      "execution_count": null,
      "metadata": {
        "hidden": true,
        "trusted": false,
        "id": "yCoHsDkEPjFc"
      },
      "outputs": [],
      "source": [
        "x_rfe1.drop('lag_1_discount_offer', axis = 1, inplace = True)"
      ]
    },
    {
      "cell_type": "code",
      "execution_count": null,
      "metadata": {
        "hidden": true,
        "trusted": false,
        "id": "2BG-j2YUPjFc"
      },
      "outputs": [],
      "source": [
        "# Refitting with final selected variables\n",
        "x_rfe1 = sm.add_constant(x_rfe1)\n",
        "\n",
        "# Fitting the model with final selected variables\n",
        "dlm1 = sm.OLS(y, x_rfe1).fit()\n",
        "print(dlm1.summary())"
      ]
    },
    {
      "cell_type": "code",
      "execution_count": null,
      "metadata": {
        "hidden": true,
        "trusted": false,
        "id": "WJi5KJz8PjFd"
      },
      "outputs": [],
      "source": [
        "x_rfe1.drop('product_procurement_sla', axis = 1, inplace = True)"
      ]
    },
    {
      "cell_type": "code",
      "execution_count": null,
      "metadata": {
        "hidden": true,
        "trusted": false,
        "id": "c0e_o0VoPjFd"
      },
      "outputs": [],
      "source": [
        "# Refitting with final selected variables\n",
        "x_rfe1 = sm.add_constant(x_rfe1)\n",
        "\n",
        "# Fitting the model with final selected variables\n",
        "dlm1 = sm.OLS(y, x_rfe1).fit()\n",
        "print(dlm1.summary())"
      ]
    },
    {
      "cell_type": "code",
      "execution_count": null,
      "metadata": {
        "hidden": true,
        "scrolled": true,
        "trusted": false,
        "id": "VU-qzVVrPjFe"
      },
      "outputs": [],
      "source": [
        "# Create a dataframe that will contain the names of all the feature variables and their respective VIFs\n",
        "vif = pd.DataFrame()\n",
        "\n",
        "vif['Features'] = x_rfe1.columns\n",
        "vif['VIF'] = [variance_inflation_factor(x_rfe1.values, i) for i in range(x_rfe1.shape[1])]\n",
        "\n",
        "vif['VIF'] = round(vif['VIF'], 2)\n",
        "vif = vif.sort_values(by = \"VIF\", ascending = False)\n",
        "vif"
      ]
    },
    {
      "cell_type": "code",
      "execution_count": null,
      "metadata": {
        "hidden": true,
        "trusted": false,
        "id": "v0hnhkmBPjFe"
      },
      "outputs": [],
      "source": [
        "features = list(x_rfe1.columns)\n",
        "features.remove('const')\n",
        "features"
      ]
    },
    {
      "cell_type": "code",
      "execution_count": null,
      "metadata": {
        "hidden": true,
        "trusted": false,
        "id": "d_dih9MHPjFf"
      },
      "outputs": [],
      "source": [
        "###  Model Evaluation on testing data\n",
        "x_2 = x[features]\n",
        "\n",
        "###  Predicition with selected features on the test data\n",
        "y_pred = dlm1.predict(sm.add_constant(x_2))"
      ]
    },
    {
      "cell_type": "code",
      "execution_count": null,
      "metadata": {
        "hidden": true,
        "trusted": false,
        "id": "y2nvWbm7PjFf"
      },
      "outputs": [],
      "source": [
        "###  Mean square error (MSE)\n",
        "mse = np.mean((y_pred - y)**2)\n",
        "mse\n"
      ]
    },
    {
      "cell_type": "code",
      "execution_count": null,
      "metadata": {
        "hidden": true,
        "trusted": false,
        "id": "NPn2TfB4PjFf"
      },
      "outputs": [],
      "source": [
        "###  Coefficient values\n",
        "\n",
        "coef = pd.DataFrame(x_rfe1.columns)\n",
        "coef['Coefficient'] = pd.Series(dlm.coef_)\n",
        "coef\n"
      ]
    },
    {
      "cell_type": "code",
      "execution_count": null,
      "metadata": {
        "hidden": true,
        "trusted": false,
        "id": "o2_ACkX6PjFg"
      },
      "outputs": [],
      "source": [
        "###  Using K-Fold Cross validation evaluating on whole dataset\n",
        "\n",
        "# lm = LinearRegression()\n",
        "fold = KFold(10,shuffle = True, random_state = 100)\n",
        "\n",
        "cv_scores = -cross_val_score(dlm,x[features],y,cv=fold,scoring='neg_mean_squared_error')\n",
        "\n",
        "print(\"Neg. of MSE:\",cv_scores,\"\\n\")\n",
        "print(\"Mean of 5 KFold CV - MSE:\",cv_scores.mean())"
      ]
    },
    {
      "cell_type": "code",
      "execution_count": null,
      "metadata": {
        "hidden": true,
        "trusted": false,
        "id": "7PgV1unSPjFh"
      },
      "outputs": [],
      "source": [
        "def elasticity(model,x):\n",
        "\n",
        "    features_df = pd.DataFrame(model.params)\n",
        "    features_df = features_df.rename(columns={0:'coef'})\n",
        "\n",
        "    features_df['imp_feature'] = model.params.index\n",
        "    features_df = features_df[features_df.imp_feature != 'const'][['imp_feature','coef']]\n",
        "    features_df.index = range(len(features_df))\n",
        "#      features\n",
        "\n",
        "    elasticity_list = list()\n",
        "\n",
        "    for i in range(len(features_df)):\n",
        "        elasticity_list.append(((features_df.coef[i] * np.mean(x[features_df.imp_feature[i]])) / np.mean(x['gmv'])))\n",
        "\n",
        "    features_df['elasticity'] = np.round(elasticity_list,3)\n",
        "\n",
        "    sns.barplot(x='elasticity',y='imp_feature',data=features_df)\n",
        "    plt.show()\n",
        "\n",
        "    return features_df\n",
        ""
      ]
    },
    {
      "cell_type": "code",
      "execution_count": null,
      "metadata": {
        "hidden": true,
        "trusted": false,
        "id": "0IRUGsh9PjFh"
      },
      "outputs": [],
      "source": [
        "elasticity(dlm1,home_train_dlm)"
      ]
    },
    {
      "cell_type": "code",
      "execution_count": null,
      "metadata": {
        "hidden": true,
        "trusted": false,
        "id": "DJl6jhqsPjFi"
      },
      "outputs": [],
      "source": [
        "# Plotting y and y_pred to understand the spread\n",
        "\n",
        "fig = plt.figure()\n",
        "plt.scatter(y, y_pred)\n",
        "fig.suptitle('y vs y_pred', fontsize = 20)              # Plot heading\n",
        "plt.xlabel('y', fontsize = 18)                          # X-label\n",
        "plt.ylabel('y_pred', fontsize = 16)"
      ]
    },
    {
      "cell_type": "code",
      "execution_count": null,
      "metadata": {
        "hidden": true,
        "trusted": false,
        "id": "6MbQWO0HPjFj"
      },
      "outputs": [],
      "source": [
        "# Figure size\n",
        "plt.figure(figsize=(8,5))\n",
        "\n",
        "# Heatmap\n",
        "sns.heatmap(home_train_dlm[features].corr(), cmap=\"YlGnBu\", annot=True)\n",
        "plt.show()"
      ]
    },
    {
      "cell_type": "markdown",
      "metadata": {
        "hidden": true,
        "id": "-pbVE_v1PjFl"
      },
      "source": [
        "### Distributed + Multiplicated Model"
      ]
    },
    {
      "cell_type": "code",
      "execution_count": null,
      "metadata": {
        "hidden": true,
        "trusted": false,
        "id": "BedwkbrxPjFm"
      },
      "outputs": [],
      "source": [
        "home_dlmm = ha_week[['gmv', 'discount', 'sla','product_procurement_sla', 'order_payment_type',\n",
        "       'online_order_perc', 'TV_ads','Sponsorship_ads', 'Content_marketing_ads', 'Online_marketing_ads',\n",
        "       'NPS', 'Stock_Index', 'Special_sales', 'Payday', 'heat_deg_days', 'cool_deg_days',\n",
        "       'total_rain_mm', 'total_snow_cm','snow_on_grnd_cm', 'MA2_listed_price', 'MA4_listed_price','lag_1_listed_price','lag_1_discount_offer',\n",
        "       'lag_2_discount_offer','lag_3_discount_offer','lag_2_NPS','lag_3_NPS','lag_1_Stock_Index',\n",
        "       'lag_2_Stock_Index','lag_3_Stock_Index','lag_1_Special_sales','lag_2_Special_sales','lag_3_Special_sales',\n",
        "       'lag_1_Payday','lag_2_Payday','lag_3_Payday']]\n",
        "\n",
        "\n",
        "home_dlmm.head()\n"
      ]
    },
    {
      "cell_type": "code",
      "execution_count": null,
      "metadata": {
        "hidden": true,
        "trusted": false,
        "id": "eo5GkW-iPjFn"
      },
      "outputs": [],
      "source": [
        "home_dlmm['lag_1_gmv'] = home_dlmm['gmv'].shift(-1)\n",
        "home_dlmm['lag_2_gmv'] = home_dlmm['gmv'].shift(-2)\n",
        "home_dlmm['lag_3_gmv'] = home_dlmm['gmv'].shift(-3)\n"
      ]
    },
    {
      "cell_type": "code",
      "execution_count": null,
      "metadata": {
        "hidden": true,
        "trusted": false,
        "id": "QW36Xx9bPjFn"
      },
      "outputs": [],
      "source": [
        "### Checking NaN\n",
        "\n",
        "home_dlmm.isnull().sum()"
      ]
    },
    {
      "cell_type": "code",
      "execution_count": null,
      "metadata": {
        "hidden": true,
        "trusted": false,
        "id": "ta0hd07qPjFo"
      },
      "outputs": [],
      "source": [
        "home_dlmm = home_dlmm.fillna(0)"
      ]
    },
    {
      "cell_type": "code",
      "execution_count": null,
      "metadata": {
        "hidden": true,
        "trusted": false,
        "id": "Fw-Qs2MLPjFo"
      },
      "outputs": [],
      "source": [
        "### Applying Log\n",
        "home_dlmm=np.log(home_dlmm)\n",
        "\n",
        "home_dlmm = home_dlmm.fillna(0)\n",
        "home_dlmm = home_dlmm.replace([np.inf, -np.inf], 0)"
      ]
    },
    {
      "cell_type": "code",
      "execution_count": null,
      "metadata": {
        "hidden": true,
        "trusted": false,
        "id": "IC7DsAL2PjFp"
      },
      "outputs": [],
      "source": [
        "home_dlmm.head()"
      ]
    },
    {
      "cell_type": "code",
      "execution_count": null,
      "metadata": {
        "hidden": true,
        "trusted": false,
        "id": "wvxhQiKNPjFp"
      },
      "outputs": [],
      "source": [
        "###  Import the StandardScaler()\n",
        "# from sklearn.preprocessing import StandardScaler\n",
        "from sklearn.preprocessing import MinMaxScaler\n",
        "\n",
        "###  Create a scaling object\n",
        "# scaler = StandardScaler()\n",
        "scaler = MinMaxScaler()\n",
        "\n",
        "\n",
        "###  Create a list of the variables that you need to scale\n",
        "varlist = ['gmv', 'discount', 'sla','product_procurement_sla', 'order_payment_type',\n",
        "       'online_order_perc', 'TV_ads','Sponsorship_ads', 'Content_marketing_ads', 'Online_marketing_ads',\n",
        "       'NPS', 'Stock_Index', 'Special_sales', 'Payday', 'heat_deg_days', 'cool_deg_days',\n",
        "       'total_rain_mm', 'total_snow_cm','snow_on_grnd_cm', 'MA2_listed_price', 'MA4_listed_price','lag_1_listed_price','lag_1_discount_offer',\n",
        "       'lag_2_discount_offer','lag_3_discount_offer','lag_2_NPS','lag_3_NPS','lag_1_Stock_Index',\n",
        "       'lag_2_Stock_Index','lag_3_Stock_Index','lag_1_Special_sales','lag_2_Special_sales','lag_3_Special_sales',\n",
        "       'lag_1_Payday','lag_2_Payday','lag_3_Payday']\n",
        "\n",
        "\n",
        "###  Scale these variables using 'fit_transform'\n",
        "home_dlmm[varlist] = scaler.fit_transform(home_dlmm[varlist])"
      ]
    },
    {
      "cell_type": "code",
      "execution_count": null,
      "metadata": {
        "hidden": true,
        "trusted": false,
        "id": "30446qMGPjFq"
      },
      "outputs": [],
      "source": [
        "home_dlmm.head()"
      ]
    },
    {
      "cell_type": "code",
      "execution_count": null,
      "metadata": {
        "hidden": true,
        "trusted": false,
        "id": "QnguL1-xPjFq"
      },
      "outputs": [],
      "source": [
        "###  Split the train dataset into X and y\n",
        "from sklearn.model_selection import train_test_split\n",
        "x = home_dlmm.drop('gmv',axis=1)\n",
        "y = home_dlmm['gmv']\n",
        "\n",
        "home_train_dlmm = home_dlmm"
      ]
    },
    {
      "cell_type": "code",
      "execution_count": null,
      "metadata": {
        "hidden": true,
        "trusted": false,
        "id": "QlOVB1pbPjFq"
      },
      "outputs": [],
      "source": [
        "print(\"X = Independent variable & Y = Target variable\")\n",
        "print(x.shape,y.shape)"
      ]
    },
    {
      "cell_type": "code",
      "execution_count": null,
      "metadata": {
        "hidden": true,
        "trusted": false,
        "id": "tUfLKJPyPjFr"
      },
      "outputs": [],
      "source": [
        "###  Instantiate\n",
        "dlmm = LinearRegression()\n",
        "\n",
        "###  Fit a line\n",
        "dlmm.fit(x,y)\n"
      ]
    },
    {
      "cell_type": "code",
      "execution_count": null,
      "metadata": {
        "hidden": true,
        "trusted": false,
        "id": "YGn57db-PjFr"
      },
      "outputs": [],
      "source": [
        "###  Coefficient values\n",
        "\n",
        "coef = pd.DataFrame(x.columns)\n",
        "coef['Coefficient'] = pd.Series(dlmm.coef_)\n",
        "coef\n"
      ]
    },
    {
      "cell_type": "code",
      "execution_count": null,
      "metadata": {
        "hidden": true,
        "trusted": false,
        "id": "mv3aHWwZPjFs"
      },
      "outputs": [],
      "source": [
        "col = x.columns\n",
        "col"
      ]
    },
    {
      "cell_type": "markdown",
      "metadata": {
        "hidden": true,
        "id": "Wcm2BeUoPjFs"
      },
      "source": [
        "#### Model Building - Stepwise selection for feature selection"
      ]
    },
    {
      "cell_type": "code",
      "execution_count": null,
      "metadata": {
        "hidden": true,
        "trusted": false,
        "id": "tcwzhGqiPjFt"
      },
      "outputs": [],
      "source": [
        "import statsmodels.api as sm\n",
        "from statsmodels.stats.outliers_influence import variance_inflation_factor\n",
        "from sklearn.model_selection import KFold\n",
        "from sklearn.model_selection import cross_val_score"
      ]
    },
    {
      "cell_type": "code",
      "execution_count": null,
      "metadata": {
        "hidden": true,
        "trusted": false,
        "id": "6NHeIxDsPjFt"
      },
      "outputs": [],
      "source": [
        "def stepwise_selection(x, y,\n",
        "                       initial_list=['discount', 'sla','product_procurement_sla', 'order_payment_type',\n",
        "       'online_order_perc', 'TV_ads','Sponsorship_ads', 'Content_marketing_ads', 'Online_marketing_ads',\n",
        "       'NPS', 'Stock_Index', 'Special_sales', 'Payday', 'heat_deg_days', 'cool_deg_days',\n",
        "       'total_rain_mm', 'total_snow_cm','snow_on_grnd_cm', 'MA2_listed_price', 'MA4_listed_price','lag_1_listed_price','lag_1_discount_offer',\n",
        "       'lag_2_discount_offer','lag_3_discount_offer','lag_2_NPS','lag_3_NPS','lag_1_Stock_Index',\n",
        "       'lag_2_Stock_Index','lag_3_Stock_Index','lag_1_Special_sales','lag_2_Special_sales','lag_3_Special_sales',\n",
        "       'lag_1_Payday','lag_2_Payday','lag_3_Payday'],\n",
        "                     threshold_in=0.01,threshold_out = 0.05, verbose=True):\n",
        "\n",
        "    included = list(initial_list)\n",
        "    while True:\n",
        "        changed=False\n",
        "        ###  forward step\n",
        "        excluded = list(set(x.columns)-set(included))\n",
        "        new_pval = pd.Series(index=excluded)\n",
        "        for new_column in excluded:\n",
        "            model = sm.OLS(y, sm.add_constant(pd.DataFrame(x[included+[new_column]]))).fit()\n",
        "            new_pval[new_column] = model.pvalues[new_column]\n",
        "        best_pval = new_pval.min()\n",
        "        if best_pval < threshold_in:\n",
        "            best_feature = new_pval.argmin()\n",
        "            included.append(best_feature)\n",
        "            changed=True\n",
        "            if verbose:\n",
        "                print('Add  {:30} with p-value {:.6}'.format(best_feature, best_pval))\n",
        "\n",
        "\n",
        "        ###  backward step\n",
        "        model = sm.OLS(y, sm.add_constant(pd.DataFrame(x[included]))).fit()\n",
        "        ###  use all coefs except intercept\n",
        "        pvalues = model.pvalues.iloc[1:]\n",
        "        worst_pval = pvalues.max() ###  null if pvalues is empty\n",
        "        if worst_pval > threshold_out:\n",
        "            changed=True\n",
        "            worst_feature = pvalues.argmax()\n",
        "            included.remove(worst_feature)\n",
        "            if verbose:\n",
        "                print('Drop {:30} with p-value {:.6}'.format(worst_feature, worst_pval))\n",
        "        if not changed:\n",
        "            break\n",
        "    return included\n"
      ]
    },
    {
      "cell_type": "code",
      "execution_count": null,
      "metadata": {
        "hidden": true,
        "scrolled": true,
        "trusted": false,
        "id": "AjCRarUvPjFu"
      },
      "outputs": [],
      "source": [
        "import statsmodels.api as sm\n",
        "\n",
        "final_features = stepwise_selection(x, y)\n",
        "\n",
        "print(\"\\n\",\"final_selected_features:\",final_features)"
      ]
    },
    {
      "cell_type": "code",
      "execution_count": null,
      "metadata": {
        "hidden": true,
        "trusted": false,
        "id": "59wRJN5ePjFu"
      },
      "outputs": [],
      "source": [
        "###  Import statsmodels\n",
        "import statsmodels.api as sm\n",
        "\n",
        "###  Subsetting training data for 15 selected columns\n",
        "x_rfe1 = x[final_features]\n",
        "\n",
        "x_rfe1 = sm.add_constant(x_rfe1)\n",
        "\n",
        "###  Fitting the model with selected variables\n",
        "dlmm1 = sm.OLS(y, x_rfe1).fit()\n",
        "\n",
        "print(dlmm1.params)"
      ]
    },
    {
      "cell_type": "code",
      "execution_count": null,
      "metadata": {
        "hidden": true,
        "trusted": false,
        "id": "pOeH4xtVPjFu"
      },
      "outputs": [],
      "source": [
        "print(dlmm1.summary())"
      ]
    },
    {
      "cell_type": "code",
      "execution_count": null,
      "metadata": {
        "hidden": true,
        "trusted": false,
        "id": "vU-Wz3bRPjFv"
      },
      "outputs": [],
      "source": [
        "###  Create a dataframe that will contain the names of all the feature variables and their respective VIFs\n",
        "vif = pd.DataFrame()\n",
        "\n",
        "vif['Features'] = x_rfe1.columns\n",
        "vif['VIF'] = [variance_inflation_factor(x_rfe1.values, i) for i in range(x_rfe1.shape[1])]\n",
        "\n",
        "vif['VIF'] = round(vif['VIF'], 2)\n",
        "vif = vif.sort_values(by = \"VIF\", ascending = False)\n",
        "vif"
      ]
    },
    {
      "cell_type": "code",
      "execution_count": null,
      "metadata": {
        "hidden": true,
        "trusted": false,
        "id": "Rnk4qFGyPjFv"
      },
      "outputs": [],
      "source": [
        "x_rfe1.drop('lag_2_Stock_Index', axis = 1, inplace = True)\n"
      ]
    },
    {
      "cell_type": "code",
      "execution_count": null,
      "metadata": {
        "hidden": true,
        "trusted": false,
        "id": "XLyQzxiKPjFw"
      },
      "outputs": [],
      "source": [
        "# Refitting with final selected variables\n",
        "x_rfe1 = sm.add_constant(x_rfe1)\n",
        "\n",
        "# Fitting the model with final selected variables\n",
        "dlmm1 = sm.OLS(y, x_rfe1).fit()\n",
        "print(dlmm1.summary())"
      ]
    },
    {
      "cell_type": "code",
      "execution_count": null,
      "metadata": {
        "hidden": true,
        "trusted": false,
        "id": "l6x4La2NPjFw"
      },
      "outputs": [],
      "source": [
        "x_rfe1.drop('lag_2_NPS', axis = 1, inplace = True)"
      ]
    },
    {
      "cell_type": "code",
      "execution_count": null,
      "metadata": {
        "hidden": true,
        "trusted": false,
        "id": "FM7AbriqPjFx"
      },
      "outputs": [],
      "source": [
        "# Refitting with final selected variables\n",
        "x_rfe1 = sm.add_constant(x_rfe1)\n",
        "\n",
        "# Fitting the model with final selected variables\n",
        "dlmm1 = sm.OLS(y, x_rfe1).fit()\n",
        "print(dlmm1.summary())"
      ]
    },
    {
      "cell_type": "code",
      "execution_count": null,
      "metadata": {
        "hidden": true,
        "trusted": false,
        "id": "PlUzJpF6PjFx"
      },
      "outputs": [],
      "source": [
        "###  Create a dataframe that will contain the names of all the feature variables and their respective VIFs\n",
        "vif = pd.DataFrame()\n",
        "\n",
        "vif['Features'] = x_rfe1.columns\n",
        "vif['VIF'] = [variance_inflation_factor(x_rfe1.values, i) for i in range(x_rfe1.shape[1])]\n",
        "\n",
        "vif['VIF'] = round(vif['VIF'], 2)\n",
        "vif = vif.sort_values(by = \"VIF\", ascending = False)\n",
        "vif"
      ]
    },
    {
      "cell_type": "code",
      "execution_count": null,
      "metadata": {
        "hidden": true,
        "trusted": false,
        "id": "drFX8iiMPjFy"
      },
      "outputs": [],
      "source": [
        "features = list(x_rfe1.columns)\n",
        "features.remove('const')\n",
        "features"
      ]
    },
    {
      "cell_type": "code",
      "execution_count": null,
      "metadata": {
        "hidden": true,
        "trusted": false,
        "id": "w4JeksY1PjFz"
      },
      "outputs": [],
      "source": [
        "###  Model Evaluation on testing data\n",
        "x_2 = x[features]\n",
        "\n",
        "###  Predicition with selected features on the test data\n",
        "y_pred = dlmm1.predict(sm.add_constant(x_2))"
      ]
    },
    {
      "cell_type": "code",
      "execution_count": null,
      "metadata": {
        "hidden": true,
        "trusted": false,
        "id": "apwO4efqPjFz"
      },
      "outputs": [],
      "source": [
        "###  Mean square error (MSE)\n",
        "mse = np.mean((y_pred - y)**2)\n",
        "mse\n"
      ]
    },
    {
      "cell_type": "code",
      "execution_count": null,
      "metadata": {
        "hidden": true,
        "trusted": false,
        "id": "I8WRsKx-PjF0"
      },
      "outputs": [],
      "source": [
        "###  Coefficient values\n",
        "\n",
        "coef = pd.DataFrame(x_rfe1.columns)\n",
        "coef['Coefficient'] = pd.Series(dlmm.coef_)\n",
        "coef\n"
      ]
    },
    {
      "cell_type": "code",
      "execution_count": null,
      "metadata": {
        "hidden": true,
        "scrolled": true,
        "trusted": false,
        "id": "vTc1Mm5BPjF1"
      },
      "outputs": [],
      "source": [
        "###  Using K-Fold Cross validation evaluating on whole dataset\n",
        "\n",
        "# lm = LinearRegression()\n",
        "fold = KFold(10,shuffle = True, random_state = 100)\n",
        "\n",
        "cv_scores = -cross_val_score(dlm,x[features],y,cv=fold,scoring='neg_mean_squared_error')\n",
        "\n",
        "print(\"Neg. of MSE:\",cv_scores,\"\\n\")\n",
        "print(\"Mean of 5 KFold CV - MSE:\",cv_scores.mean())"
      ]
    },
    {
      "cell_type": "code",
      "execution_count": null,
      "metadata": {
        "hidden": true,
        "trusted": false,
        "id": "H_fU6SGbPjF2"
      },
      "outputs": [],
      "source": [
        "def elasticity(model,x):\n",
        "\n",
        "    features_df = pd.DataFrame(model.params)\n",
        "    features_df = features_df.rename(columns={0:'coef'})\n",
        "\n",
        "    features_df['imp_feature'] = model.params.index\n",
        "    features_df = features_df[features_df.imp_feature != 'const'][['imp_feature','coef']]\n",
        "    features_df.index = range(len(features_df))\n",
        "#      features\n",
        "\n",
        "    elasticity_list = list()\n",
        "\n",
        "    for i in range(len(features_df)):\n",
        "        elasticity_list.append(((features_df.coef[i] * np.mean(x[features_df.imp_feature[i]])) / np.mean(x['gmv'])))\n",
        "\n",
        "    features_df['elasticity'] = np.round(elasticity_list,3)\n",
        "\n",
        "    sns.barplot(x='elasticity',y='imp_feature',data=features_df)\n",
        "    plt.show()\n",
        "\n",
        "    return features_df\n",
        ""
      ]
    },
    {
      "cell_type": "code",
      "execution_count": null,
      "metadata": {
        "hidden": true,
        "trusted": false,
        "id": "P9KjqbSuPjF3"
      },
      "outputs": [],
      "source": [
        "elasticity(dlmm1,home_train_dlm)"
      ]
    },
    {
      "cell_type": "code",
      "execution_count": null,
      "metadata": {
        "hidden": true,
        "trusted": false,
        "id": "Wd6O_-ZVPjF4"
      },
      "outputs": [],
      "source": [
        "# Plotting y and y_pred to understand the spread\n",
        "\n",
        "fig = plt.figure()\n",
        "plt.scatter(y, y_pred)\n",
        "fig.suptitle('y vs y_pred', fontsize = 20)              # Plot heading\n",
        "plt.xlabel('y', fontsize = 18)                          # X-label\n",
        "plt.ylabel('y_pred', fontsize = 16)"
      ]
    },
    {
      "cell_type": "code",
      "execution_count": null,
      "metadata": {
        "hidden": true,
        "trusted": false,
        "id": "7G4ZXTZ_PjF4"
      },
      "outputs": [],
      "source": [
        "# Figure size\n",
        "plt.figure(figsize=(8,5))\n",
        "\n",
        "# Heatmap\n",
        "sns.heatmap(home_train_dlm[features].corr(), cmap=\"YlGnBu\", annot=True)\n",
        "plt.show()"
      ]
    }
  ],
  "metadata": {
    "kaggle": {
      "accelerator": "none",
      "dataSources": [
        {
          "datasetId": 468808,
          "sourceId": 879399,
          "sourceType": "datasetVersion"
        }
      ],
      "dockerImageVersionId": 29844,
      "isGpuEnabled": false,
      "isInternetEnabled": false,
      "language": "python",
      "sourceType": "notebook"
    },
    "kernelspec": {
      "display_name": "Python 3",
      "language": "python",
      "name": "python3"
    },
    "language_info": {
      "codemirror_mode": {
        "name": "ipython",
        "version": 3
      },
      "file_extension": ".py",
      "mimetype": "text/x-python",
      "name": "python",
      "nbconvert_exporter": "python",
      "pygments_lexer": "ipython3",
      "version": "3.7.4"
    },
    "colab": {
      "provenance": [],
      "include_colab_link": true
    }
  },
  "nbformat": 4,
  "nbformat_minor": 0
}